{
 "cells": [
  {
   "cell_type": "markdown",
   "metadata": {},
   "source": [
    "<img align=\"left\" src=\"https://lever-client-logos.s3.amazonaws.com/864372b1-534c-480e-acd5-9711f850815c-1524247202159.png\" width=200>\n",
    "<br></br>\n",
    "<br></br>\n",
    "\n",
    "# Sprint Challenge\n",
    "## *Data Science Unit 4 Sprint 1*\n",
    "\n",
    "After a week of Natural Language Processing, you've learned some cool new stuff: how to process text, how turn text into vectors, and how to model topics from documents. Apply your newly acquired skills to one of the most famous NLP datasets out there: [Yelp](https://www.yelp.com/dataset/challenge). As part of the job selection process, some of my friends have been asked to create analysis of this dataset, so I want to empower you to have a head start.  \n",
    "\n",
    "The real dataset is massive (almost 8 gigs uncompressed). I've sampled the data for you to something more managable for the Sprint Challenge. You can analyze the full dataset as a stretch goal or after the sprint challenge. As you work on the challenge, I suggest adding notes about your findings and things you want to analyze in the future.\n",
    "\n",
    "## Challenge Objectives\n",
    "*Successfully complete these all these objectives to earn a 2. There are more details on each objective further down in the notebook.*\n",
    "* <a href=\"#p1\">Part 1</a>: Write a function to tokenize the yelp reviews\n",
    "* <a href=\"#p2\">Part 2</a>: Create a vector representation of those tokens\n",
    "* <a href=\"#p3\">Part 3</a>: Use your tokens in a classification model on yelp rating\n",
    "* <a href=\"#p4\">Part 4</a>: Estimate & Interpret a topic model of the Yelp reviews"
   ]
  },
  {
   "cell_type": "code",
   "execution_count": 1,
   "metadata": {},
   "outputs": [],
   "source": [
    "import pandas as pd\n",
    "import spacy\n",
    "import re"
   ]
  },
  {
   "cell_type": "code",
   "execution_count": 2,
   "metadata": {},
   "outputs": [
    {
     "data": {
      "text/html": [
       "<div>\n",
       "<style scoped>\n",
       "    .dataframe tbody tr th:only-of-type {\n",
       "        vertical-align: middle;\n",
       "    }\n",
       "\n",
       "    .dataframe tbody tr th {\n",
       "        vertical-align: top;\n",
       "    }\n",
       "\n",
       "    .dataframe thead th {\n",
       "        text-align: right;\n",
       "    }\n",
       "</style>\n",
       "<table border=\"1\" class=\"dataframe\">\n",
       "  <thead>\n",
       "    <tr style=\"text-align: right;\">\n",
       "      <th></th>\n",
       "      <th>business_id</th>\n",
       "      <th>cool</th>\n",
       "      <th>date</th>\n",
       "      <th>funny</th>\n",
       "      <th>review_id</th>\n",
       "      <th>stars</th>\n",
       "      <th>text</th>\n",
       "      <th>useful</th>\n",
       "      <th>user_id</th>\n",
       "    </tr>\n",
       "  </thead>\n",
       "  <tbody>\n",
       "    <tr>\n",
       "      <th>0</th>\n",
       "      <td>nDuEqIyRc8YKS1q1fX0CZg</td>\n",
       "      <td>1</td>\n",
       "      <td>2015-03-31 16:50:30</td>\n",
       "      <td>0</td>\n",
       "      <td>eZs2tpEJtXPwawvHnHZIgQ</td>\n",
       "      <td>1</td>\n",
       "      <td>BEWARE!!! FAKE, FAKE, FAKE....We also own a sm...</td>\n",
       "      <td>10</td>\n",
       "      <td>n1LM36qNg4rqGXIcvVXv8w</td>\n",
       "    </tr>\n",
       "    <tr>\n",
       "      <th>1</th>\n",
       "      <td>eMYeEapscbKNqUDCx705hg</td>\n",
       "      <td>0</td>\n",
       "      <td>2015-12-16 05:31:03</td>\n",
       "      <td>0</td>\n",
       "      <td>DoQDWJsNbU0KL1O29l_Xug</td>\n",
       "      <td>4</td>\n",
       "      <td>Came here for lunch Togo. Service was quick. S...</td>\n",
       "      <td>0</td>\n",
       "      <td>5CgjjDAic2-FAvCtiHpytA</td>\n",
       "    </tr>\n",
       "    <tr>\n",
       "      <th>2</th>\n",
       "      <td>6Q7-wkCPc1KF75jZLOTcMw</td>\n",
       "      <td>1</td>\n",
       "      <td>2010-06-20 19:14:48</td>\n",
       "      <td>1</td>\n",
       "      <td>DDOdGU7zh56yQHmUnL1idQ</td>\n",
       "      <td>3</td>\n",
       "      <td>I've been to Vegas dozens of times and had nev...</td>\n",
       "      <td>2</td>\n",
       "      <td>BdV-cf3LScmb8kZ7iiBcMA</td>\n",
       "    </tr>\n",
       "    <tr>\n",
       "      <th>3</th>\n",
       "      <td>k3zrItO4l9hwfLRwHBDc9w</td>\n",
       "      <td>3</td>\n",
       "      <td>2010-07-13 00:33:45</td>\n",
       "      <td>4</td>\n",
       "      <td>LfTMUWnfGFMOfOIyJcwLVA</td>\n",
       "      <td>1</td>\n",
       "      <td>We went here on a night where they closed off ...</td>\n",
       "      <td>5</td>\n",
       "      <td>cZZnBqh4gAEy4CdNvJailQ</td>\n",
       "    </tr>\n",
       "    <tr>\n",
       "      <th>4</th>\n",
       "      <td>6hpfRwGlOzbNv7k5eP9rsQ</td>\n",
       "      <td>1</td>\n",
       "      <td>2018-06-30 02:30:01</td>\n",
       "      <td>0</td>\n",
       "      <td>zJSUdI7bJ8PNJAg4lnl_Gg</td>\n",
       "      <td>4</td>\n",
       "      <td>3.5 to 4 stars\\n\\nNot bad for the price, $12.9...</td>\n",
       "      <td>5</td>\n",
       "      <td>n9QO4ClYAS7h9fpQwa5bhA</td>\n",
       "    </tr>\n",
       "  </tbody>\n",
       "</table>\n",
       "</div>"
      ],
      "text/plain": [
       "              business_id  cool                date  funny  \\\n",
       "0  nDuEqIyRc8YKS1q1fX0CZg     1 2015-03-31 16:50:30      0   \n",
       "1  eMYeEapscbKNqUDCx705hg     0 2015-12-16 05:31:03      0   \n",
       "2  6Q7-wkCPc1KF75jZLOTcMw     1 2010-06-20 19:14:48      1   \n",
       "3  k3zrItO4l9hwfLRwHBDc9w     3 2010-07-13 00:33:45      4   \n",
       "4  6hpfRwGlOzbNv7k5eP9rsQ     1 2018-06-30 02:30:01      0   \n",
       "\n",
       "                review_id  stars  \\\n",
       "0  eZs2tpEJtXPwawvHnHZIgQ      1   \n",
       "1  DoQDWJsNbU0KL1O29l_Xug      4   \n",
       "2  DDOdGU7zh56yQHmUnL1idQ      3   \n",
       "3  LfTMUWnfGFMOfOIyJcwLVA      1   \n",
       "4  zJSUdI7bJ8PNJAg4lnl_Gg      4   \n",
       "\n",
       "                                                text  useful  \\\n",
       "0  BEWARE!!! FAKE, FAKE, FAKE....We also own a sm...      10   \n",
       "1  Came here for lunch Togo. Service was quick. S...       0   \n",
       "2  I've been to Vegas dozens of times and had nev...       2   \n",
       "3  We went here on a night where they closed off ...       5   \n",
       "4  3.5 to 4 stars\\n\\nNot bad for the price, $12.9...       5   \n",
       "\n",
       "                  user_id  \n",
       "0  n1LM36qNg4rqGXIcvVXv8w  \n",
       "1  5CgjjDAic2-FAvCtiHpytA  \n",
       "2  BdV-cf3LScmb8kZ7iiBcMA  \n",
       "3  cZZnBqh4gAEy4CdNvJailQ  \n",
       "4  n9QO4ClYAS7h9fpQwa5bhA  "
      ]
     },
     "execution_count": 2,
     "metadata": {},
     "output_type": "execute_result"
    }
   ],
   "source": [
    "yelp = pd.read_json('./data/review_sample.json', lines=True)\n",
    "yelp.head()"
   ]
  },
  {
   "cell_type": "markdown",
   "metadata": {},
   "source": [
    "## Part 1: Tokenize Function\n",
    "<a id=\"#p1\"></a>\n",
    "\n",
    "Complete the function `tokenize`. Your function should\n",
    "- accept one document at a time\n",
    "- return a list of tokens\n",
    "\n",
    "You are free to use any method you have learned this week."
   ]
  },
  {
   "cell_type": "code",
   "execution_count": 3,
   "metadata": {},
   "outputs": [],
   "source": [
    "nlp = spacy.load('en_core_web_lg')\n",
    "STOPWORDS = nlp.Defaults.stop_words.union({' ', ''})"
   ]
  },
  {
   "cell_type": "code",
   "execution_count": 4,
   "metadata": {},
   "outputs": [],
   "source": [
    "def tokenize(doc):\n",
    "    '''\n",
    "    function to tokenize, remove stop words, and return list of tokens from an input doc\n",
    "    '''\n",
    "    text = re.sub(r'[^a-zA-Z ]', '', doc)\n",
    "    text = text.lower()\n",
    "    tokenizer = spacy.tokenizer.Tokenizer(nlp.vocab)\n",
    "    tokens = tokenizer(text)\n",
    "    list_of_tokens = [t for t in tokens if (str(t) not in STOPWORDS) and (t.is_punct == False)]\n",
    "    return (list_of_tokens)"
   ]
  },
  {
   "cell_type": "code",
   "execution_count": 5,
   "metadata": {},
   "outputs": [
    {
     "data": {
      "text/plain": [
       "[hi, test, string, check, tokenize, function, works]"
      ]
     },
     "execution_count": 5,
     "metadata": {},
     "output_type": "execute_result"
    }
   ],
   "source": [
    "# test to make sure common stop words are removed and input is correct format\n",
    "a_str = 'hi, this is a TEST string to check if## the toKenize function! @#$@#works $@//'\n",
    "tokenize(a_str)"
   ]
  },
  {
   "cell_type": "markdown",
   "metadata": {},
   "source": [
    "## Part 2: Vector Representation\n",
    "<a id=\"#p2\"></a>\n",
    "1. Create a vector representation of the reviews\n",
    "2. Write a fake review and query for the 10 most similiar reviews, print the text of the reviews. Do you notice any patterns?\n",
    "    - Given the size of the dataset, it will probably be best to use a `NearestNeighbors` model for this. "
   ]
  },
  {
   "cell_type": "code",
   "execution_count": 6,
   "metadata": {},
   "outputs": [],
   "source": [
    "from sklearn.feature_extraction.text import TfidfVectorizer\n",
    "from sklearn.neighbors import NearestNeighbors"
   ]
  },
  {
   "cell_type": "code",
   "execution_count": 7,
   "metadata": {},
   "outputs": [
    {
     "data": {
      "text/html": [
       "<div>\n",
       "<style scoped>\n",
       "    .dataframe tbody tr th:only-of-type {\n",
       "        vertical-align: middle;\n",
       "    }\n",
       "\n",
       "    .dataframe tbody tr th {\n",
       "        vertical-align: top;\n",
       "    }\n",
       "\n",
       "    .dataframe thead th {\n",
       "        text-align: right;\n",
       "    }\n",
       "</style>\n",
       "<table border=\"1\" class=\"dataframe\">\n",
       "  <thead>\n",
       "    <tr style=\"text-align: right;\">\n",
       "      <th></th>\n",
       "      <th>business_id</th>\n",
       "      <th>cool</th>\n",
       "      <th>date</th>\n",
       "      <th>funny</th>\n",
       "      <th>review_id</th>\n",
       "      <th>stars</th>\n",
       "      <th>text</th>\n",
       "      <th>useful</th>\n",
       "      <th>user_id</th>\n",
       "    </tr>\n",
       "  </thead>\n",
       "  <tbody>\n",
       "    <tr>\n",
       "      <th>0</th>\n",
       "      <td>nDuEqIyRc8YKS1q1fX0CZg</td>\n",
       "      <td>1</td>\n",
       "      <td>2015-03-31 16:50:30</td>\n",
       "      <td>0</td>\n",
       "      <td>eZs2tpEJtXPwawvHnHZIgQ</td>\n",
       "      <td>1</td>\n",
       "      <td>BEWARE!!! FAKE, FAKE, FAKE....We also own a sm...</td>\n",
       "      <td>10</td>\n",
       "      <td>n1LM36qNg4rqGXIcvVXv8w</td>\n",
       "    </tr>\n",
       "  </tbody>\n",
       "</table>\n",
       "</div>"
      ],
      "text/plain": [
       "              business_id  cool                date  funny  \\\n",
       "0  nDuEqIyRc8YKS1q1fX0CZg     1 2015-03-31 16:50:30      0   \n",
       "\n",
       "                review_id  stars  \\\n",
       "0  eZs2tpEJtXPwawvHnHZIgQ      1   \n",
       "\n",
       "                                                text  useful  \\\n",
       "0  BEWARE!!! FAKE, FAKE, FAKE....We also own a sm...      10   \n",
       "\n",
       "                  user_id  \n",
       "0  n1LM36qNg4rqGXIcvVXv8w  "
      ]
     },
     "execution_count": 7,
     "metadata": {},
     "output_type": "execute_result"
    }
   ],
   "source": [
    "df = yelp.copy()\n",
    "df.head(1)"
   ]
  },
  {
   "cell_type": "code",
   "execution_count": 8,
   "metadata": {},
   "outputs": [
    {
     "data": {
      "text/plain": [
       "0    [beware, fake, fake, fakewe, small, business, ...\n",
       "1    [came, lunch, togo, service, quick, staff, fri...\n",
       "2    [ive, vegas, dozens, times, stepped, foot, cir...\n",
       "3    [went, night, closed, street, party, best, act...\n",
       "4    [starsnot, bad, price, lunch, seniors, pay, ea...\n",
       "Name: tokens, dtype: object"
      ]
     },
     "execution_count": 8,
     "metadata": {},
     "output_type": "execute_result"
    }
   ],
   "source": [
    "# creates a token feature\n",
    "df['tokens'] = df['text'].apply(tokenize)\n",
    "df['tokens'].head()"
   ]
  },
  {
   "cell_type": "code",
   "execution_count": 9,
   "metadata": {},
   "outputs": [],
   "source": [
    "tfidf = TfidfVectorizer(stop_words=STOPWORDS, min_df = 0.01, max_df=0.95, lowercase=True)\n",
    "sparse_dtm = tfidf.fit_transform(df['text'])"
   ]
  },
  {
   "cell_type": "code",
   "execution_count": 10,
   "metadata": {},
   "outputs": [
    {
     "data": {
      "text/html": [
       "<div>\n",
       "<style scoped>\n",
       "    .dataframe tbody tr th:only-of-type {\n",
       "        vertical-align: middle;\n",
       "    }\n",
       "\n",
       "    .dataframe tbody tr th {\n",
       "        vertical-align: top;\n",
       "    }\n",
       "\n",
       "    .dataframe thead th {\n",
       "        text-align: right;\n",
       "    }\n",
       "</style>\n",
       "<table border=\"1\" class=\"dataframe\">\n",
       "  <thead>\n",
       "    <tr style=\"text-align: right;\">\n",
       "      <th></th>\n",
       "      <th>00</th>\n",
       "      <th>10</th>\n",
       "      <th>100</th>\n",
       "      <th>11</th>\n",
       "      <th>12</th>\n",
       "      <th>15</th>\n",
       "      <th>20</th>\n",
       "      <th>25</th>\n",
       "      <th>30</th>\n",
       "      <th>40</th>\n",
       "      <th>...</th>\n",
       "      <th>wouldn</th>\n",
       "      <th>wow</th>\n",
       "      <th>wrong</th>\n",
       "      <th>year</th>\n",
       "      <th>years</th>\n",
       "      <th>yelp</th>\n",
       "      <th>yes</th>\n",
       "      <th>young</th>\n",
       "      <th>yum</th>\n",
       "      <th>yummy</th>\n",
       "    </tr>\n",
       "  </thead>\n",
       "  <tbody>\n",
       "    <tr>\n",
       "      <th>0</th>\n",
       "      <td>0.0</td>\n",
       "      <td>0.0</td>\n",
       "      <td>0.0</td>\n",
       "      <td>0.0</td>\n",
       "      <td>0.000000</td>\n",
       "      <td>0.000000</td>\n",
       "      <td>0.166455</td>\n",
       "      <td>0.000000</td>\n",
       "      <td>0.0</td>\n",
       "      <td>0.0</td>\n",
       "      <td>...</td>\n",
       "      <td>0.0</td>\n",
       "      <td>0.0</td>\n",
       "      <td>0.0</td>\n",
       "      <td>0.000000</td>\n",
       "      <td>0.0</td>\n",
       "      <td>0.0</td>\n",
       "      <td>0.0</td>\n",
       "      <td>0.000000</td>\n",
       "      <td>0.0</td>\n",
       "      <td>0.0</td>\n",
       "    </tr>\n",
       "    <tr>\n",
       "      <th>1</th>\n",
       "      <td>0.0</td>\n",
       "      <td>0.0</td>\n",
       "      <td>0.0</td>\n",
       "      <td>0.0</td>\n",
       "      <td>0.000000</td>\n",
       "      <td>0.000000</td>\n",
       "      <td>0.000000</td>\n",
       "      <td>0.000000</td>\n",
       "      <td>0.0</td>\n",
       "      <td>0.0</td>\n",
       "      <td>...</td>\n",
       "      <td>0.0</td>\n",
       "      <td>0.0</td>\n",
       "      <td>0.0</td>\n",
       "      <td>0.000000</td>\n",
       "      <td>0.0</td>\n",
       "      <td>0.0</td>\n",
       "      <td>0.0</td>\n",
       "      <td>0.000000</td>\n",
       "      <td>0.0</td>\n",
       "      <td>0.0</td>\n",
       "    </tr>\n",
       "    <tr>\n",
       "      <th>2</th>\n",
       "      <td>0.0</td>\n",
       "      <td>0.0</td>\n",
       "      <td>0.0</td>\n",
       "      <td>0.0</td>\n",
       "      <td>0.000000</td>\n",
       "      <td>0.000000</td>\n",
       "      <td>0.000000</td>\n",
       "      <td>0.146159</td>\n",
       "      <td>0.0</td>\n",
       "      <td>0.0</td>\n",
       "      <td>...</td>\n",
       "      <td>0.0</td>\n",
       "      <td>0.0</td>\n",
       "      <td>0.0</td>\n",
       "      <td>0.124542</td>\n",
       "      <td>0.0</td>\n",
       "      <td>0.0</td>\n",
       "      <td>0.0</td>\n",
       "      <td>0.156979</td>\n",
       "      <td>0.0</td>\n",
       "      <td>0.0</td>\n",
       "    </tr>\n",
       "    <tr>\n",
       "      <th>3</th>\n",
       "      <td>0.0</td>\n",
       "      <td>0.0</td>\n",
       "      <td>0.0</td>\n",
       "      <td>0.0</td>\n",
       "      <td>0.000000</td>\n",
       "      <td>0.000000</td>\n",
       "      <td>0.000000</td>\n",
       "      <td>0.000000</td>\n",
       "      <td>0.0</td>\n",
       "      <td>0.0</td>\n",
       "      <td>...</td>\n",
       "      <td>0.0</td>\n",
       "      <td>0.0</td>\n",
       "      <td>0.0</td>\n",
       "      <td>0.000000</td>\n",
       "      <td>0.0</td>\n",
       "      <td>0.0</td>\n",
       "      <td>0.0</td>\n",
       "      <td>0.000000</td>\n",
       "      <td>0.0</td>\n",
       "      <td>0.0</td>\n",
       "    </tr>\n",
       "    <tr>\n",
       "      <th>4</th>\n",
       "      <td>0.0</td>\n",
       "      <td>0.0</td>\n",
       "      <td>0.0</td>\n",
       "      <td>0.0</td>\n",
       "      <td>0.205986</td>\n",
       "      <td>0.184545</td>\n",
       "      <td>0.000000</td>\n",
       "      <td>0.000000</td>\n",
       "      <td>0.0</td>\n",
       "      <td>0.0</td>\n",
       "      <td>...</td>\n",
       "      <td>0.0</td>\n",
       "      <td>0.0</td>\n",
       "      <td>0.0</td>\n",
       "      <td>0.000000</td>\n",
       "      <td>0.0</td>\n",
       "      <td>0.0</td>\n",
       "      <td>0.0</td>\n",
       "      <td>0.000000</td>\n",
       "      <td>0.0</td>\n",
       "      <td>0.0</td>\n",
       "    </tr>\n",
       "  </tbody>\n",
       "</table>\n",
       "<p>5 rows × 800 columns</p>\n",
       "</div>"
      ],
      "text/plain": [
       "    00   10  100   11        12        15        20        25   30   40  ...  \\\n",
       "0  0.0  0.0  0.0  0.0  0.000000  0.000000  0.166455  0.000000  0.0  0.0  ...   \n",
       "1  0.0  0.0  0.0  0.0  0.000000  0.000000  0.000000  0.000000  0.0  0.0  ...   \n",
       "2  0.0  0.0  0.0  0.0  0.000000  0.000000  0.000000  0.146159  0.0  0.0  ...   \n",
       "3  0.0  0.0  0.0  0.0  0.000000  0.000000  0.000000  0.000000  0.0  0.0  ...   \n",
       "4  0.0  0.0  0.0  0.0  0.205986  0.184545  0.000000  0.000000  0.0  0.0  ...   \n",
       "\n",
       "   wouldn  wow  wrong      year  years  yelp  yes     young  yum  yummy  \n",
       "0     0.0  0.0    0.0  0.000000    0.0   0.0  0.0  0.000000  0.0    0.0  \n",
       "1     0.0  0.0    0.0  0.000000    0.0   0.0  0.0  0.000000  0.0    0.0  \n",
       "2     0.0  0.0    0.0  0.124542    0.0   0.0  0.0  0.156979  0.0    0.0  \n",
       "3     0.0  0.0    0.0  0.000000    0.0   0.0  0.0  0.000000  0.0    0.0  \n",
       "4     0.0  0.0    0.0  0.000000    0.0   0.0  0.0  0.000000  0.0    0.0  \n",
       "\n",
       "[5 rows x 800 columns]"
      ]
     },
     "execution_count": 10,
     "metadata": {},
     "output_type": "execute_result"
    }
   ],
   "source": [
    "dtm = pd.DataFrame(sparse_dtm.todense(), columns=tfidf.get_feature_names())\n",
    "dtm.head()"
   ]
  },
  {
   "cell_type": "code",
   "execution_count": 11,
   "metadata": {},
   "outputs": [
    {
     "data": {
      "text/plain": [
       "NearestNeighbors(algorithm='ball_tree', leaf_size=30, metric='minkowski',\n",
       "         metric_params=None, n_jobs=None, n_neighbors=10, p=2, radius=1.0)"
      ]
     },
     "execution_count": 11,
     "metadata": {},
     "output_type": "execute_result"
    }
   ],
   "source": [
    "nn = NearestNeighbors(n_neighbors=10, algorithm='ball_tree')\n",
    "nn.fit(dtm)"
   ]
  },
  {
   "cell_type": "code",
   "execution_count": 12,
   "metadata": {},
   "outputs": [],
   "source": [
    "fake_review = 'never go here, food bad, service bad, staff bad, I had to order more than once, please just save yourself the time'\n",
    "fake_vec = tfidf.transform([fake_review])"
   ]
  },
  {
   "cell_type": "code",
   "execution_count": 13,
   "metadata": {},
   "outputs": [],
   "source": [
    "sim_reviews = nn.kneighbors(fake_vec.todense())"
   ]
  },
  {
   "cell_type": "code",
   "execution_count": 14,
   "metadata": {},
   "outputs": [
    {
     "name": "stdout",
     "output_type": "stream",
     "text": [
      "only 1 word describes this place............. yuck!\n",
      "bad food, bad beer, bad service, bad atmosphere...............\n",
      "\n",
      "Don't waste your money. Bad management!!!  Bad service. Food over priced!!!\n",
      "\n",
      "O  o  thenk 6nnn  .b  cgv  xx TV cvg  9 nvehxcfvvv3c nb b  c  y4  nb and the vghvhridd h 0d  c       v   3,  vv  4  ruddy\n",
      "\n",
      "天氣很熱吃不下東西，今天我點了一個韓國冷面湯、餐後點了甜點，冰沙系列不會太甜膩，覺得店家很用心製作，包含擺盤精緻、佐料衛生，夏日想開胃，這是一個不錯的選擇，服務人員也很敬業，以後會常常來\n",
      "\n",
      "Bon massage.  Spa propre organisé manque juste le stationnement prix abordable en promotion personnels respectueux\n",
      "\n",
      "旅行でラスベガスに来ましたがネイルがはげてるのが気になり、探したお店でした。\n",
      "質問にも丁寧に答えてくれましたし、日本人の方も日本語が話せる方も居て、とても綺麗で居心地のいいお店でした。 \n",
      "ネイルはちはるさんと言う綺麗な方が丁寧にしてくれとても気に入りました。\n",
      "予定になかったまつ毛エクステもお願いし、日本ではまだあまりないブラウンカラーのエクステをしてもらい、とても気に入りました。\n",
      "また是非マッサージなどで伺いたいと思います。\n",
      "\n",
      "Been eating here since they opened and I give it 5 stars because of consistency. I have never went there and got bad service or bad food. Everything on the menu is good and if you are in a hurry they have a drive thru. Do yourself a favor and try this place!\n",
      "\n",
      "Since the whoopers are made to order, I wonder how the two served to me we're both cold, dryed out and. Just plain bad.\n",
      "\n",
      "Worst food in Tempe and Phoenix. Every dish has bad oil, bad taste and every thing is bad. No idea how this got 4 star review. Also they charged $27 for two people for this junk food. We didn't eat at all. Staff is obviously rude and weird.\n",
      "\n",
      "Had the Bell Pepper Philly with onions and provolone.  Wasn't bad at all for $10.80.\n",
      "\n"
     ]
    }
   ],
   "source": [
    "# all reviews are complaining about how bad the place was except for one that is saying that it was never bad but uses the same sort of words as a bad review\n",
    "for review in sim_reviews[1][0]:\n",
    "    print(df['text'][review])\n",
    "    print('')"
   ]
  },
  {
   "cell_type": "markdown",
   "metadata": {},
   "source": [
    "## Part 3: Classification\n",
    "<a id=\"#p3\"></a>\n",
    "Your goal in this section will be to predict `stars` from the review dataset. \n",
    "\n",
    "1. Create a piepline object with a sklearn `CountVectorizer` or `TfidfVector` and any sklearn classifier. Use that pipeline to estimate a model to predict `stars`. Use the Pipeline to predict a star rating for your fake review from Part 2. \n",
    "2. Tune the entire pipeline with a GridSearch"
   ]
  },
  {
   "cell_type": "code",
   "execution_count": 15,
   "metadata": {},
   "outputs": [],
   "source": [
    "from sklearn.ensemble import GradientBoostingClassifier\n",
    "from sklearn.pipeline import Pipeline\n",
    "from sklearn.model_selection import GridSearchCV\n",
    "from sklearn.decomposition import TruncatedSVD"
   ]
  },
  {
   "cell_type": "code",
   "execution_count": 16,
   "metadata": {},
   "outputs": [],
   "source": [
    "vectorizor = TfidfVectorizer(stop_words='english', lowercase=True, min_df=0.1, max_df=0.90)\n",
    "\n",
    "classifier = GradientBoostingClassifier(n_estimators=100)\n",
    "\n",
    "svd = TruncatedSVD(n_iter=100, algorithm='randomized')"
   ]
  },
  {
   "cell_type": "code",
   "execution_count": 17,
   "metadata": {},
   "outputs": [],
   "source": [
    "lsi = Pipeline([('vect', vectorizor), ('svd', svd)])\n",
    "pipe = Pipeline([('lsi', lsi), ('clf', classifier)])\n",
    "\n",
    "params = {'lsi__svd__n_components': (10,15,20),\n",
    "          'lsi__vect__max_features': ( 500, 650, 800)\n",
    "}"
   ]
  },
  {
   "cell_type": "code",
   "execution_count": 18,
   "metadata": {},
   "outputs": [
    {
     "name": "stdout",
     "output_type": "stream",
     "text": [
      "best Score:  0.5057\n"
     ]
    },
    {
     "data": {
      "text/plain": [
       "{'lsi__svd__n_components': 20, 'lsi__vect__max_features': 650}"
      ]
     },
     "execution_count": 18,
     "metadata": {},
     "output_type": "execute_result"
    }
   ],
   "source": [
    "grid_search = GridSearchCV(pipe, params, cv=5, n_jobs=-1)\n",
    "grid_search.fit(df['text'], df['stars'])\n",
    "print('best Score: ', grid_search.best_score_)\n",
    "grid_search.best_params_"
   ]
  },
  {
   "cell_type": "code",
   "execution_count": 19,
   "metadata": {},
   "outputs": [
    {
     "name": "stdout",
     "output_type": "stream",
     "text": [
      "My fake review was predicted to give a 1 star rating.\n"
     ]
    }
   ],
   "source": [
    "mod = grid_search.best_estimator_\n",
    "prediction_rating = mod.predict([fake_review])[0]\n",
    "print(f'My fake review was predicted to give a {prediction_rating} star rating.')"
   ]
  },
  {
   "cell_type": "markdown",
   "metadata": {},
   "source": [
    "## Part 4: Topic Modeling\n",
    "\n",
    "Let's find out what those yelp reviews are saying! :D\n",
    "\n",
    "1. Estimate a LDA topic model of the review text\n",
    "    - Keep the `iterations` parameter at or below 5 to reduce run time\n",
    "    - The `workers` parameter should match the number of physical cores on your machine.\n",
    "2. Create 1-2 visualizations of the results\n",
    "    - You can use the most important 3 words of a topic in relevant visualizations. Refer to yesterday's notebook to extract. \n",
    "3. In markdown, write 1-2 paragraphs of analysis on the results of your topic model\n",
    "\n",
    "__*Note*__: You can pass the DataFrame column of text reviews to gensim. You do not have to use a generator."
   ]
  },
  {
   "cell_type": "code",
   "execution_count": 20,
   "metadata": {
    "collapsed": false,
    "inputHidden": false,
    "outputHidden": false
   },
   "outputs": [],
   "source": [
    "from gensim.models import LdaMulticore\n",
    "from gensim.corpora import Dictionary\n",
    "from gensim.utils import simple_preprocess"
   ]
  },
  {
   "cell_type": "code",
   "execution_count": 21,
   "metadata": {},
   "outputs": [],
   "source": [
    "def gensim_tokenize(text):\n",
    "    '''\n",
    "    error when using dictionary on spacy tokens, using this function instead for this section\n",
    "    '''\n",
    "    return [token for token in simple_preprocess(text) if token not in STOPWORDS]\n",
    "\n",
    "df['gen_tokens'] = df['text'].apply(gensim_tokenize)"
   ]
  },
  {
   "cell_type": "markdown",
   "metadata": {},
   "source": [
    "Learn the vocubalary of the yelp data:"
   ]
  },
  {
   "cell_type": "code",
   "execution_count": 22,
   "metadata": {},
   "outputs": [],
   "source": [
    "id2word = Dictionary(df['gen_tokens'])"
   ]
  },
  {
   "cell_type": "markdown",
   "metadata": {},
   "source": [
    "Create a bag of words representation of the entire corpus"
   ]
  },
  {
   "cell_type": "code",
   "execution_count": 23,
   "metadata": {
    "collapsed": false,
    "inputHidden": false,
    "outputHidden": false
   },
   "outputs": [],
   "source": [
    "corpus = [id2word.doc2bow(tok) for tok in df['gen_tokens']]"
   ]
  },
  {
   "cell_type": "markdown",
   "metadata": {},
   "source": [
    "Your LDA model should be ready for estimation: "
   ]
  },
  {
   "cell_type": "code",
   "execution_count": 24,
   "metadata": {
    "collapsed": false,
    "inputHidden": false,
    "outputHidden": false
   },
   "outputs": [],
   "source": [
    "lda = LdaMulticore(corpus=corpus,\n",
    "                   id2word=id2word,\n",
    "                   iterations=5,\n",
    "                   workers=4,\n",
    "                   num_topics = 6\n",
    "                  )"
   ]
  },
  {
   "cell_type": "markdown",
   "metadata": {},
   "source": [
    "Create 1-2 visualizations of the results"
   ]
  },
  {
   "cell_type": "code",
   "execution_count": 40,
   "metadata": {},
   "outputs": [
    {
     "data": {
      "text/html": [
       "<div>\n",
       "<style scoped>\n",
       "    .dataframe tbody tr th:only-of-type {\n",
       "        vertical-align: middle;\n",
       "    }\n",
       "\n",
       "    .dataframe tbody tr th {\n",
       "        vertical-align: top;\n",
       "    }\n",
       "\n",
       "    .dataframe thead th {\n",
       "        text-align: right;\n",
       "    }\n",
       "</style>\n",
       "<table border=\"1\" class=\"dataframe\">\n",
       "  <thead>\n",
       "    <tr style=\"text-align: right;\">\n",
       "      <th></th>\n",
       "      <th>food good place</th>\n",
       "      <th>great good place</th>\n",
       "      <th>place food like</th>\n",
       "      <th>service food great</th>\n",
       "      <th>good food place</th>\n",
       "      <th>food great place</th>\n",
       "    </tr>\n",
       "  </thead>\n",
       "  <tbody>\n",
       "    <tr>\n",
       "      <th>0</th>\n",
       "      <td>0.127980</td>\n",
       "      <td>0.143970</td>\n",
       "      <td>0.206559</td>\n",
       "      <td>0.264756</td>\n",
       "      <td>0.148257</td>\n",
       "      <td>0.108478</td>\n",
       "    </tr>\n",
       "    <tr>\n",
       "      <th>1</th>\n",
       "      <td>0.213047</td>\n",
       "      <td>0.099833</td>\n",
       "      <td>0.070011</td>\n",
       "      <td>0.103509</td>\n",
       "      <td>0.254689</td>\n",
       "      <td>0.258911</td>\n",
       "    </tr>\n",
       "    <tr>\n",
       "      <th>2</th>\n",
       "      <td>0.131975</td>\n",
       "      <td>0.203868</td>\n",
       "      <td>0.110107</td>\n",
       "      <td>0.137670</td>\n",
       "      <td>0.186483</td>\n",
       "      <td>0.229896</td>\n",
       "    </tr>\n",
       "    <tr>\n",
       "      <th>3</th>\n",
       "      <td>0.129162</td>\n",
       "      <td>0.150615</td>\n",
       "      <td>0.251733</td>\n",
       "      <td>0.186775</td>\n",
       "      <td>0.198023</td>\n",
       "      <td>0.083692</td>\n",
       "    </tr>\n",
       "    <tr>\n",
       "      <th>4</th>\n",
       "      <td>0.289318</td>\n",
       "      <td>0.195200</td>\n",
       "      <td>0.081343</td>\n",
       "      <td>0.158406</td>\n",
       "      <td>0.193659</td>\n",
       "      <td>0.082073</td>\n",
       "    </tr>\n",
       "  </tbody>\n",
       "</table>\n",
       "</div>"
      ],
      "text/plain": [
       "   food good place  great good place  place food like  service food great  \\\n",
       "0         0.127980          0.143970         0.206559            0.264756   \n",
       "1         0.213047          0.099833         0.070011            0.103509   \n",
       "2         0.131975          0.203868         0.110107            0.137670   \n",
       "3         0.129162          0.150615         0.251733            0.186775   \n",
       "4         0.289318          0.195200         0.081343            0.158406   \n",
       "\n",
       "   good food place  food great place  \n",
       "0         0.148257          0.108478  \n",
       "1         0.254689          0.258911  \n",
       "2         0.186483          0.229896  \n",
       "3         0.198023          0.083692  \n",
       "4         0.193659          0.082073  "
      ]
     },
     "execution_count": 40,
     "metadata": {},
     "output_type": "execute_result"
    }
   ],
   "source": [
    "lda_values = [lda[x] for x in corpus]\n",
    "\n",
    "word_list = [re.findall(r'\"([^\"]*)\"',t[1])[:3] for t in lda.print_topics()]\n",
    "\n",
    "topics = []\n",
    "for words in word_list:\n",
    "    topic = ' '.join(words)\n",
    "    topics.append(topic)   \n",
    "\n",
    "def update(doc):\n",
    "        d_dist = {k:0 for k in range(0,6)}\n",
    "        for t in doc:\n",
    "            d_dist[t[0]] = t[1]\n",
    "        return d_dist\n",
    "    \n",
    "new_distro = [update(d) for d in lda_values]\n",
    "\n",
    "DF2 = pd.DataFrame(new_distro)\n",
    "DF2.columns = topics\n",
    "DF2.head()"
   ]
  },
  {
   "cell_type": "code",
   "execution_count": 41,
   "metadata": {
    "collapsed": false,
    "inputHidden": false,
    "outputHidden": false
   },
   "outputs": [
    {
     "data": {
      "text/html": [
       "\n",
       "<link rel=\"stylesheet\" type=\"text/css\" href=\"https://cdn.rawgit.com/bmabey/pyLDAvis/files/ldavis.v1.0.0.css\">\n",
       "\n",
       "\n",
       "<div id=\"ldavis_el62411402572962705846215548231\"></div>\n",
       "<script type=\"text/javascript\">\n",
       "\n",
       "var ldavis_el62411402572962705846215548231_data = {\"mdsDat\": {\"x\": [0.0016376747077951636, 0.0017743975909440695, 0.003937526271362326, -0.004494913346032611, -0.0006355521972678732, -0.0022191330268010725], \"y\": [-0.003891718937889404, 0.0028063399673449725, -0.0010158263987267784, -0.0027171478820259697, 0.0024456424412253467, 0.0023727108100718352], \"topics\": [1, 2, 3, 4, 5, 6], \"cluster\": [1, 1, 1, 1, 1, 1], \"Freq\": [17.104204177856445, 16.950990676879883, 16.792339324951172, 16.516380310058594, 16.404605865478516, 16.231475830078125]}, \"tinfo\": {\"Category\": [\"Default\", \"Default\", \"Default\", \"Default\", \"Default\", \"Default\", \"Default\", \"Default\", \"Default\", \"Default\", \"Default\", \"Default\", \"Default\", \"Default\", \"Default\", \"Default\", \"Default\", \"Default\", \"Default\", \"Default\", \"Default\", \"Default\", \"Default\", \"Default\", \"Default\", \"Default\", \"Default\", \"Default\", \"Default\", \"Default\", \"Topic1\", \"Topic1\", \"Topic1\", \"Topic1\", \"Topic1\", \"Topic1\", \"Topic1\", \"Topic1\", \"Topic1\", \"Topic1\", \"Topic1\", \"Topic1\", \"Topic1\", \"Topic1\", \"Topic1\", \"Topic1\", \"Topic1\", \"Topic1\", \"Topic1\", \"Topic1\", \"Topic1\", \"Topic1\", \"Topic1\", \"Topic1\", \"Topic1\", \"Topic1\", \"Topic1\", \"Topic1\", \"Topic1\", \"Topic1\", \"Topic1\", \"Topic1\", \"Topic1\", \"Topic1\", \"Topic1\", \"Topic1\", \"Topic1\", \"Topic1\", \"Topic1\", \"Topic1\", \"Topic1\", \"Topic1\", \"Topic1\", \"Topic1\", \"Topic1\", \"Topic1\", \"Topic1\", \"Topic1\", \"Topic1\", \"Topic1\", \"Topic1\", \"Topic1\", \"Topic1\", \"Topic1\", \"Topic1\", \"Topic1\", \"Topic1\", \"Topic1\", \"Topic1\", \"Topic1\", \"Topic1\", \"Topic1\", \"Topic1\", \"Topic1\", \"Topic1\", \"Topic1\", \"Topic1\", \"Topic1\", \"Topic1\", \"Topic1\", \"Topic1\", \"Topic1\", \"Topic1\", \"Topic1\", \"Topic1\", \"Topic1\", \"Topic1\", \"Topic1\", \"Topic1\", \"Topic1\", \"Topic1\", \"Topic1\", \"Topic1\", \"Topic1\", \"Topic1\", \"Topic1\", \"Topic1\", \"Topic1\", \"Topic1\", \"Topic1\", \"Topic1\", \"Topic2\", \"Topic2\", \"Topic2\", \"Topic2\", \"Topic2\", \"Topic2\", \"Topic2\", \"Topic2\", \"Topic2\", \"Topic2\", \"Topic2\", \"Topic2\", \"Topic2\", \"Topic2\", \"Topic2\", \"Topic2\", \"Topic2\", \"Topic2\", \"Topic2\", \"Topic2\", \"Topic2\", \"Topic2\", \"Topic2\", \"Topic2\", \"Topic2\", \"Topic2\", \"Topic2\", \"Topic2\", \"Topic2\", \"Topic2\", \"Topic2\", \"Topic2\", \"Topic2\", \"Topic2\", \"Topic2\", \"Topic2\", \"Topic2\", \"Topic2\", \"Topic2\", \"Topic2\", \"Topic2\", \"Topic2\", \"Topic2\", \"Topic2\", \"Topic2\", \"Topic2\", \"Topic2\", \"Topic2\", \"Topic2\", \"Topic2\", \"Topic2\", \"Topic2\", \"Topic2\", \"Topic2\", \"Topic2\", \"Topic2\", \"Topic2\", \"Topic2\", \"Topic2\", \"Topic2\", \"Topic2\", \"Topic2\", \"Topic2\", \"Topic2\", \"Topic2\", \"Topic2\", \"Topic2\", \"Topic2\", \"Topic2\", \"Topic2\", \"Topic2\", \"Topic2\", \"Topic2\", \"Topic2\", \"Topic2\", \"Topic2\", \"Topic2\", \"Topic2\", \"Topic2\", \"Topic2\", \"Topic2\", \"Topic2\", \"Topic3\", \"Topic3\", \"Topic3\", \"Topic3\", \"Topic3\", \"Topic3\", \"Topic3\", \"Topic3\", \"Topic3\", \"Topic3\", \"Topic3\", \"Topic3\", \"Topic3\", \"Topic3\", \"Topic3\", \"Topic3\", \"Topic3\", \"Topic3\", \"Topic3\", \"Topic3\", \"Topic3\", \"Topic3\", \"Topic3\", \"Topic3\", \"Topic3\", \"Topic3\", \"Topic3\", \"Topic3\", \"Topic3\", \"Topic3\", \"Topic3\", \"Topic3\", \"Topic3\", \"Topic3\", \"Topic3\", \"Topic3\", \"Topic3\", \"Topic3\", \"Topic3\", \"Topic3\", \"Topic3\", \"Topic3\", \"Topic3\", \"Topic3\", \"Topic3\", \"Topic3\", \"Topic3\", \"Topic3\", \"Topic3\", \"Topic3\", \"Topic3\", \"Topic3\", \"Topic3\", \"Topic3\", \"Topic3\", \"Topic3\", \"Topic3\", \"Topic3\", \"Topic3\", \"Topic3\", \"Topic3\", \"Topic3\", \"Topic3\", \"Topic3\", \"Topic3\", \"Topic3\", \"Topic3\", \"Topic3\", \"Topic3\", \"Topic3\", \"Topic3\", \"Topic3\", \"Topic3\", \"Topic3\", \"Topic3\", \"Topic3\", \"Topic3\", \"Topic3\", \"Topic3\", \"Topic3\", \"Topic3\", \"Topic3\", \"Topic3\", \"Topic3\", \"Topic4\", \"Topic4\", \"Topic4\", \"Topic4\", \"Topic4\", \"Topic4\", \"Topic4\", \"Topic4\", \"Topic4\", \"Topic4\", \"Topic4\", \"Topic4\", \"Topic4\", \"Topic4\", \"Topic4\", \"Topic4\", \"Topic4\", \"Topic4\", \"Topic4\", \"Topic4\", \"Topic4\", \"Topic4\", \"Topic4\", \"Topic4\", \"Topic4\", \"Topic4\", \"Topic4\", \"Topic4\", \"Topic4\", \"Topic4\", \"Topic4\", \"Topic4\", \"Topic4\", \"Topic4\", \"Topic4\", \"Topic4\", \"Topic4\", \"Topic4\", \"Topic4\", \"Topic4\", \"Topic4\", \"Topic4\", \"Topic4\", \"Topic4\", \"Topic4\", \"Topic4\", \"Topic4\", \"Topic4\", \"Topic4\", \"Topic4\", \"Topic4\", \"Topic4\", \"Topic4\", \"Topic4\", \"Topic4\", \"Topic4\", \"Topic4\", \"Topic4\", \"Topic4\", \"Topic4\", \"Topic4\", \"Topic4\", \"Topic4\", \"Topic4\", \"Topic4\", \"Topic4\", \"Topic4\", \"Topic4\", \"Topic4\", \"Topic4\", \"Topic4\", \"Topic4\", \"Topic4\", \"Topic4\", \"Topic4\", \"Topic4\", \"Topic4\", \"Topic4\", \"Topic4\", \"Topic4\", \"Topic4\", \"Topic4\", \"Topic4\", \"Topic4\", \"Topic4\", \"Topic4\", \"Topic4\", \"Topic4\", \"Topic4\", \"Topic4\", \"Topic4\", \"Topic5\", \"Topic5\", \"Topic5\", \"Topic5\", \"Topic5\", \"Topic5\", \"Topic5\", \"Topic5\", \"Topic5\", \"Topic5\", \"Topic5\", \"Topic5\", \"Topic5\", \"Topic5\", \"Topic5\", \"Topic5\", \"Topic5\", \"Topic5\", \"Topic5\", \"Topic5\", \"Topic5\", \"Topic5\", \"Topic5\", \"Topic5\", \"Topic5\", \"Topic5\", \"Topic5\", \"Topic5\", \"Topic5\", \"Topic5\", \"Topic5\", \"Topic5\", \"Topic5\", \"Topic5\", \"Topic5\", \"Topic5\", \"Topic5\", \"Topic5\", \"Topic5\", \"Topic5\", \"Topic5\", \"Topic5\", \"Topic5\", \"Topic5\", \"Topic5\", \"Topic5\", \"Topic5\", \"Topic5\", \"Topic5\", \"Topic5\", \"Topic5\", \"Topic5\", \"Topic5\", \"Topic5\", \"Topic5\", \"Topic5\", \"Topic5\", \"Topic5\", \"Topic5\", \"Topic5\", \"Topic5\", \"Topic5\", \"Topic5\", \"Topic5\", \"Topic5\", \"Topic5\", \"Topic5\", \"Topic5\", \"Topic5\", \"Topic5\", \"Topic5\", \"Topic5\", \"Topic5\", \"Topic5\", \"Topic5\", \"Topic5\", \"Topic5\", \"Topic5\", \"Topic5\", \"Topic5\", \"Topic5\", \"Topic5\", \"Topic5\", \"Topic5\", \"Topic5\", \"Topic5\", \"Topic5\", \"Topic5\", \"Topic5\", \"Topic5\", \"Topic5\", \"Topic5\", \"Topic5\", \"Topic6\", \"Topic6\", \"Topic6\", \"Topic6\", \"Topic6\", \"Topic6\", \"Topic6\", \"Topic6\", \"Topic6\", \"Topic6\", \"Topic6\", \"Topic6\", \"Topic6\", \"Topic6\", \"Topic6\", \"Topic6\", \"Topic6\", \"Topic6\", \"Topic6\", \"Topic6\", \"Topic6\", \"Topic6\", \"Topic6\", \"Topic6\", \"Topic6\", \"Topic6\", \"Topic6\", \"Topic6\", \"Topic6\", \"Topic6\", \"Topic6\", \"Topic6\", \"Topic6\", \"Topic6\", \"Topic6\", \"Topic6\", \"Topic6\", \"Topic6\", \"Topic6\", \"Topic6\", \"Topic6\", \"Topic6\", \"Topic6\", \"Topic6\", \"Topic6\", \"Topic6\", \"Topic6\", \"Topic6\", \"Topic6\", \"Topic6\", \"Topic6\", \"Topic6\", \"Topic6\", \"Topic6\", \"Topic6\", \"Topic6\", \"Topic6\", \"Topic6\", \"Topic6\", \"Topic6\", \"Topic6\", \"Topic6\", \"Topic6\", \"Topic6\", \"Topic6\", \"Topic6\", \"Topic6\", \"Topic6\", \"Topic6\", \"Topic6\", \"Topic6\", \"Topic6\", \"Topic6\", \"Topic6\", \"Topic6\", \"Topic6\", \"Topic6\", \"Topic6\", \"Topic6\", \"Topic6\", \"Topic6\", \"Topic6\", \"Topic6\", \"Topic6\", \"Topic6\", \"Topic6\"], \"Freq\": [3499.0, 4132.0, 4459.0, 1316.0, 1398.0, 1689.0, 4755.0, 699.0, 826.0, 1169.0, 1432.0, 1592.0, 1752.0, 1450.0, 873.0, 1123.0, 1119.0, 804.0, 1445.0, 3304.0, 909.0, 1163.0, 392.0, 1508.0, 908.0, 883.0, 357.0, 1251.0, 1403.0, 922.0, 0.6659706234931946, 0.5616782307624817, 1.2499008178710938, 1.0179868936538696, 0.9427400231361389, 3.0715866088867188, 7.580798149108887, 1.826467752456665, 0.885904848575592, 0.9316805005073547, 0.926300585269928, 1.8382209539413452, 0.8622322082519531, 0.4725382626056671, 0.903774082660675, 0.8960438370704651, 0.6596210598945618, 0.893650472164154, 0.8906238675117493, 0.6558067798614502, 0.8867750763893127, 1.0711504220962524, 1.7793328762054443, 0.8817182779312134, 2.6040544509887695, 66.58084869384766, 0.8678631782531738, 0.45349040627479553, 0.8633573055267334, 6.772766590118408, 17.5268497467041, 3.4946229457855225, 27.17068099975586, 9.418351173400879, 836.9107055664062, 15.523500442504883, 17.69989013671875, 29.265350341796875, 133.30279541015625, 63.91495132446289, 40.520530700683594, 994.451416015625, 32.36549758911133, 15.461969375610352, 118.41800689697266, 92.02006530761719, 33.10337829589844, 199.03482055664062, 100.8437728881836, 111.7691421508789, 104.64149475097656, 364.3647155761719, 73.40232849121094, 134.1561279296875, 859.3123168945312, 95.4738998413086, 101.39013671875, 213.2904815673828, 862.7156982421875, 165.6971893310547, 387.8695983886719, 169.76129150390625, 605.5618286132812, 105.04234313964844, 124.5665512084961, 264.14337158203125, 104.97867584228516, 270.3714294433594, 218.53880310058594, 267.8896179199219, 185.23495483398438, 216.83978271484375, 272.127685546875, 180.68960571289062, 284.9438781738281, 209.06298828125, 488.8633117675781, 285.75347900390625, 547.7547607421875, 179.66799926757812, 292.2763977050781, 240.8673095703125, 233.7728729248047, 205.8741912841797, 269.5138244628906, 227.94964599609375, 215.48878479003906, 216.37290954589844, 218.84002685546875, 204.7804718017578, 206.09640502929688, 1.3226062059402466, 1.2716929912567139, 1.0590139627456665, 1.0235058069229126, 3.7909510135650635, 1.004866123199463, 1.0001031160354614, 0.9849973320960999, 1.8446933031082153, 18.06584358215332, 0.959921658039093, 0.9402392506599426, 1.5702446699142456, 2.194190263748169, 2.6829802989959717, 0.9013633728027344, 13.700040817260742, 1.499276876449585, 0.8849610686302185, 1.6818598508834839, 1.0691193342208862, 28.23934555053711, 0.45700159668922424, 0.8686301112174988, 0.8602628707885742, 3.1973328590393066, 0.8491296768188477, 0.8495214581489563, 39.9561767578125, 3.944084882736206, 14.626985549926758, 5.8074164390563965, 211.83251953125, 56.58244705200195, 29.195663452148438, 74.25179290771484, 28.328821182250977, 324.04437255859375, 872.4341430664062, 57.96604537963867, 10.946343421936035, 123.05088806152344, 50.60401916503906, 139.74462890625, 145.2574920654297, 938.5099487304688, 84.73616790771484, 260.43878173828125, 854.2262573242188, 125.00119018554688, 156.01284790039062, 76.21809387207031, 302.9100341796875, 270.0992126464844, 290.7499694824219, 605.6685791015625, 623.362548828125, 142.89109802246094, 269.8708190917969, 585.3236083984375, 232.22183227539062, 164.9332733154297, 281.6375427246094, 218.4689178466797, 357.3314208984375, 307.8296813964844, 223.0457305908203, 183.60565185546875, 256.7049255371094, 651.6676025390625, 307.5259704589844, 236.60595703125, 238.09060668945312, 197.33644104003906, 208.20831298828125, 194.6133575439453, 245.0479736328125, 183.39205932617188, 237.2088623046875, 204.3743133544922, 204.9285888671875, 198.67774963378906, 2.7240946292877197, 1.7185139656066895, 0.98289954662323, 0.9819763898849487, 0.5112869739532471, 0.7055715918540955, 0.9425286650657654, 0.9344711899757385, 1.1255089044570923, 0.9139295220375061, 0.4813215136528015, 0.9109382629394531, 0.9091241955757141, 6.027904987335205, 3.895714521408081, 0.8559861779212952, 0.8985887169837952, 0.8945849537849426, 0.889797031879425, 0.8854823112487793, 1.0718884468078613, 1.4035232067108154, 10.214322090148926, 2.5604352951049805, 42.48210906982422, 8.469114303588867, 1.80655038356781, 22.108850479125977, 1.2446238994598389, 3.2320287227630615, 28.956880569458008, 40.84808349609375, 36.48815155029297, 278.6192626953125, 45.41676712036133, 98.10183715820312, 165.44052124023438, 81.64742279052734, 181.867919921875, 123.18406677246094, 77.41924285888672, 92.55390167236328, 261.8609313964844, 302.8474426269531, 94.63656616210938, 70.4825439453125, 191.33425903320312, 56.12250900268555, 180.02349853515625, 94.98126220703125, 904.4986572265625, 341.04034423828125, 299.8436584472656, 828.1181030273438, 368.1871337890625, 129.3240203857422, 154.81748962402344, 110.86144256591797, 338.21856689453125, 292.9497375488281, 238.66160583496094, 159.94281005859375, 581.87939453125, 692.8582763671875, 244.969970703125, 258.72802734375, 728.2247924804688, 325.5498962402344, 564.8765258789062, 206.5983123779297, 148.96534729003906, 251.60316467285156, 317.0567932128906, 242.13101196289062, 156.25027465820312, 435.1355285644531, 225.9137725830078, 225.44187927246094, 225.5013885498047, 239.7263641357422, 218.9922637939453, 224.1194610595703, 218.98362731933594, 207.19190979003906, 0.7447254061698914, 0.7442066669464111, 1.9074677228927612, 0.5846939086914062, 1.075219750404358, 1.6121495962142944, 0.9705647826194763, 0.9591308236122131, 1.1337716579437256, 2.346898317337036, 2.117410898208618, 5.305981636047363, 382.48199462890625, 0.4687538146972656, 0.8969941139221191, 0.8952596783638, 1.8404650688171387, 0.465580016374588, 0.46606048941612244, 0.8432214856147766, 1.2117784023284912, 5.303032875061035, 4.033565998077393, 0.6400432586669922, 0.45429563522338867, 0.8684849143028259, 1.5573844909667969, 0.8587049245834351, 1.4134595394134521, 0.8589388728141785, 2.2363829612731934, 3.457500696182251, 3.260998249053955, 5.628843784332275, 19.537755966186523, 16.747982025146484, 14.581018447875977, 12.6357421875, 7.563878059387207, 86.21012115478516, 40.05955505371094, 116.48855590820312, 18.79391860961914, 36.04825973510742, 8.114863395690918, 373.80010986328125, 53.295631408691406, 205.31019592285156, 33.32708740234375, 20.368785858154297, 82.7373046875, 333.1646728515625, 143.05307006835938, 173.60049438476562, 83.00543212890625, 78.55131530761719, 287.1041259765625, 105.24607849121094, 171.430908203125, 239.04605102539062, 365.7282409667969, 184.9271697998047, 192.18312072753906, 90.00431060791016, 102.54328155517578, 278.7030944824219, 779.5704956054688, 189.0120849609375, 334.9308776855469, 326.0646057128906, 261.8144226074219, 767.0890502929688, 272.9261169433594, 536.9736328125, 505.8968811035156, 250.1385498046875, 213.95913696289062, 160.51173400878906, 227.6872100830078, 197.40155029296875, 532.6464233398438, 202.5292205810547, 428.8840026855469, 234.50094604492188, 451.6885070800781, 262.40875244140625, 217.97691345214844, 213.98411560058594, 220.8005828857422, 204.28109741210938, 201.73631286621094, 1.678260326385498, 1.0433859825134277, 1.0178989171981812, 1.013323187828064, 1.9284271001815796, 1.0042544603347778, 0.99781733751297, 2.3139426708221436, 1.1689767837524414, 1.8085768222808838, 2.8722853660583496, 2.9699108600616455, 1.8991528749465942, 0.9352194666862488, 3.4727578163146973, 0.929310142993927, 1.1263805627822876, 0.4752858579158783, 11.708208084106445, 1.0863009691238403, 0.46696555614471436, 0.46502241492271423, 0.46244874596595764, 0.8840073943138123, 3.0889461040496826, 1.0245813131332397, 0.8785731196403503, 1.818849802017212, 0.8791280388832092, 2.0763754844665527, 192.30970764160156, 5.4455766677856445, 103.2134780883789, 39.631465911865234, 7.002740383148193, 13.747661590576172, 9.828848838806152, 16.75318145751953, 899.776611328125, 255.6790313720703, 101.89387512207031, 63.660335540771484, 24.27443504333496, 19.661643981933594, 865.36279296875, 117.34354400634766, 59.587650299072266, 44.694332122802734, 54.89397048950195, 61.397483825683594, 33.83539962768555, 79.1404037475586, 128.00808715820312, 275.177001953125, 98.43954467773438, 192.4491729736328, 173.45306396484375, 62.88980484008789, 597.0941772460938, 285.6476745605469, 273.1899108886719, 63.72895050048828, 97.87452697753906, 168.70291137695312, 155.58216857910156, 129.56329345703125, 569.2719116210938, 269.10064697265625, 733.21044921875, 100.22786712646484, 242.58750915527344, 244.0634002685547, 130.40036010742188, 326.3842468261719, 172.96083068847656, 165.81268310546875, 123.39109802246094, 293.1902160644531, 196.63787841796875, 247.46461486816406, 594.89990234375, 280.36572265625, 243.4375762939453, 227.7349853515625, 218.49339294433594, 237.97019958496094, 195.0513153076172, 341.5941162109375, 211.55551147460938, 190.98179626464844, 196.46775817871094, 208.3447723388672, 194.44215393066406, 1.2789415121078491, 1.2177391052246094, 1.466535210609436, 1.3693493604660034, 0.519374430179596, 0.9923496842384338, 0.9875714182853699, 2.2794878482818604, 2.404900312423706, 0.5030528903007507, 0.9477460980415344, 1.597058892250061, 0.9395522475242615, 0.9395263195037842, 0.9324283003807068, 0.48407819867134094, 1.3070353269577026, 0.9140718579292297, 0.9117370843887329, 9.00377368927002, 3.8729898929595947, 2.699859619140625, 0.6640457510948181, 3.294879198074341, 1.873859167098999, 0.8797672986984253, 0.4567490816116333, 1.202954649925232, 0.6405823230743408, 0.8645201325416565, 2.8776981830596924, 1.9979033470153809, 1.9099701642990112, 90.068603515625, 65.53290557861328, 337.0367126464844, 19.070842742919922, 10.384188652038574, 207.6324462890625, 50.16508865356445, 30.00819206237793, 91.325439453125, 99.8776626586914, 27.297269821166992, 704.1114501953125, 67.48355102539062, 306.3050842285156, 85.11176300048828, 118.33807373046875, 95.80126953125, 222.7722625732422, 104.25935363769531, 226.09536743164062, 71.42481231689453, 165.40499877929688, 190.02755737304688, 272.2187194824219, 134.9039764404297, 143.74649047851562, 297.7920227050781, 572.4308471679688, 325.3498229980469, 554.8652954101562, 668.3150024414062, 267.0700988769531, 93.3686752319336, 187.08863830566406, 227.8533477783203, 336.625732421875, 687.5512084960938, 178.75828552246094, 209.2763671875, 605.624755859375, 587.6620483398438, 201.2658233642578, 248.83767700195312, 235.6294403076172, 242.97991943359375, 270.8326416015625, 219.29051208496094, 257.6372375488281, 211.8920135498047, 213.40762329101562, 195.61764526367188, 201.304443359375, 199.54566955566406], \"Term\": [\"service\", \"great\", \"good\", \"amazing\", \"definitely\", \"nice\", \"food\", \"happy\", \"times\", \"day\", \"went\", \"love\", \"best\", \"order\", \"price\", \"recommend\", \"new\", \"bit\", \"came\", \"time\", \"work\", \"said\", \"fantastic\", \"staff\", \"fresh\", \"took\", \"thank\", \"experience\", \"come\", \"sure\", \"everrrrr\", \"outbacks\", \"ev\", \"krung\", \"stacy\", \"carpaccio\", \"backyard\", \"pavers\", \"insides\", \"walkthrough\", \"dolci\", \"frys\", \"curried\", \"serval\", \"m\\u00f6tley\", \"inconvience\", \"helpless\", \"suxs\", \"huffy\", \"samoan\", \"lumi\\u00e8res\", \"fuego\", \"eyelash\", \"butterflies\", \"chronic\", \"life\", \"bingham\", \"characterize\", \"br\\u00fbl\\u00e9\", \"freezing\", \"cheesecake\", \"berry\", \"usual\", \"chile\", \"service\", \"manicure\", \"garden\", \"scottsdale\", \"things\", \"reasonable\", \"seafood\", \"good\", \"head\", \"wifi\", \"busy\", \"won\", \"owners\", \"price\", \"dish\", \"old\", \"atmosphere\", \"best\", \"eating\", \"check\", \"place\", \"quick\", \"special\", \"pretty\", \"food\", \"table\", \"got\", \"bit\", \"time\", \"ok\", \"hour\", \"chicken\", \"beer\", \"come\", \"going\", \"try\", \"sure\", \"recommend\", \"ordered\", \"work\", \"love\", \"better\", \"like\", \"nice\", \"great\", \"told\", \"don\", \"people\", \"restaurant\", \"know\", \"ve\", \"came\", \"friendly\", \"little\", \"didn\", \"amazing\", \"order\", \"roomtastic\", \"bb\", \"imcomplete\", \"coffe\", \"coca\", \"angelica\", \"puzzlemaster\", \"translucide\", \"reef\", \"buffalo\", \"shipper\", \"poms\", \"ceux\", \"commonwealth\", \"halo\", \"chapli\", \"eggplant\", \"certificates\", \"lieras\", \"bracelets\", \"axle\", \"avoid\", \"alternator\", \"finie\", \"servis\", \"ming\", \"papier\", \"fluttering\", \"desk\", \"resume\", \"gentleman\", \"male\", \"times\", \"available\", \"multiple\", \"lots\", \"clear\", \"went\", \"great\", \"pool\", \"starts\", \"visit\", \"salsa\", \"years\", \"found\", \"food\", \"couldn\", \"experience\", \"place\", \"free\", \"area\", \"restaurants\", \"staff\", \"friendly\", \"order\", \"time\", \"service\", \"store\", \"people\", \"like\", \"know\", \"customer\", \"ordered\", \"new\", \"got\", \"nice\", \"said\", \"room\", \"definitely\", \"good\", \"ve\", \"restaurant\", \"come\", \"way\", \"delicious\", \"going\", \"best\", \"want\", \"don\", \"little\", \"didn\", \"love\", \"newcomers\", \"caliente\", \"saddest\", \"colleen\", \"neil\", \"coffeeshop\", \"brookline\", \"conchas\", \"demonic\", \"bb\", \"efrain\", \"sly\", \"miniatures\", \"frosting\", \"arrowhead\", \"naptime\", \"gagging\", \"palmas\", \"sb\", \"intelligently\", \"cubs\", \"impressions\", \"buns\", \"specialize\", \"charged\", \"que\", \"reduce\", \"et\", \"yu\", \"nan\", \"sad\", \"de\", \"eaten\", \"day\", \"servers\", \"husband\", \"meal\", \"shrimp\", \"cheese\", \"sushi\", \"rude\", \"cooked\", \"menu\", \"come\", \"half\", \"working\", \"price\", \"buy\", \"eat\", \"town\", \"food\", \"nice\", \"didn\", \"good\", \"ve\", \"car\", \"area\", \"friend\", \"best\", \"staff\", \"delicious\", \"wasn\", \"like\", \"great\", \"experience\", \"friendly\", \"place\", \"don\", \"service\", \"right\", \"long\", \"order\", \"got\", \"went\", \"home\", \"time\", \"chicken\", \"people\", \"try\", \"love\", \"restaurant\", \"came\", \"little\", \"ordered\", \"\\u3068\\u3066\\u3082\\u6c17\\u306b\\u5165\\u308a\\u307e\\u3057\\u305f\", \"\\u63a2\\u3057\\u305f\\u304a\\u5e97\\u3067\\u3057\\u305f\", \"squishies\", \"vein\", \"clinical\", \"pediatric\", \"pototes\", \"merest\", \"pediatrics\", \"sophia\", \"swedish\", \"bump\", \"amazing\", \"footwork\", \"calabash\", \"shimp\", \"chore\", \"disciplines\", \"solomon\", \"combines\", \"aloo\", \"proud\", \"jumbo\", \"slab\", \"reese\", \"lomax\", \"zumba\", \"browbeaten\", \"screamed\", \"sone\", \"samantha\", \"intended\", \"clock\", \"artists\", \"cookies\", \"meh\", \"constantly\", \"beware\", \"wrote\", \"days\", \"phoenix\", \"huge\", \"banana\", \"hands\", \"yuk\", \"nice\", \"salon\", \"work\", \"changed\", \"ladies\", \"guy\", \"love\", \"feel\", \"bad\", \"kids\", \"stay\", \"definitely\", \"getting\", \"asked\", \"said\", \"ve\", \"took\", \"sure\", \"steak\", \"job\", \"came\", \"place\", \"wait\", \"don\", \"best\", \"little\", \"food\", \"staff\", \"like\", \"time\", \"try\", \"day\", \"think\", \"restaurant\", \"new\", \"good\", \"menu\", \"service\", \"ordered\", \"great\", \"got\", \"come\", \"chicken\", \"didn\", \"order\", \"people\", \"chauffeured\", \"momma\", \"radiance\", \"truvyjones\", \"donair\", \"hairstylist\", \"posoleshawwty\", \"jjanga\", \"crews\", \"linda\", \"aldi\", \"carries\", \"buzz\", \"decorator\", \"fucking\", \"yeahhhhhhh\", \"calculate\", \"luxuriously\", \"teas\", \"puzzle\", \"brewski\", \"lamborghini\", \"jeannette\", \"deptartment\", \"afterward\", \"brewers\", \"gutters\", \"vig\", \"conchas\", \"pk\", \"happy\", \"songs\", \"fantastic\", \"cash\", \"cart\", \"chefs\", \"omelette\", \"test\", \"great\", \"recommend\", \"inside\", \"dog\", \"sashimi\", \"screen\", \"good\", \"favorite\", \"expect\", \"ordering\", \"glad\", \"roll\", \"piece\", \"close\", \"stars\", \"little\", \"ice\", \"night\", \"location\", \"variety\", \"time\", \"didn\", \"went\", \"green\", \"selection\", \"think\", \"lot\", \"big\", \"like\", \"came\", \"place\", \"loved\", \"amazing\", \"chicken\", \"found\", \"got\", \"sure\", \"vegas\", \"coffee\", \"ve\", \"new\", \"staff\", \"food\", \"don\", \"ordered\", \"try\", \"friendly\", \"love\", \"delicious\", \"service\", \"come\", \"said\", \"restaurant\", \"best\", \"definitely\", \"talia\", \"romper\", \"matthew\", \"bathing\", \"ctring\", \"beause\", \"kendel\", \"woot\", \"bail\", \"unexplainable\", \"picante\", \"jdt\", \"erika\", \"shrek\", \"phong\", \"weeknite\", \"prefers\", \"ricketts\", \"anitas\", \"yuk\", \"flew\", \"worthwhile\", \"definitly\", \"ian\", \"martial\", \"waayyy\", \"leguizamo\", \"wrinkles\", \"academy\", \"packin\", \"florida\", \"taffy\", \"camp\", \"thank\", \"easy\", \"definitely\", \"spring\", \"contacted\", \"fresh\", \"average\", \"tomato\", \"pm\", \"waiting\", \"cook\", \"service\", \"oh\", \"order\", \"parking\", \"cream\", \"hotel\", \"way\", \"beer\", \"new\", \"point\", \"customer\", \"told\", \"people\", \"excellent\", \"clean\", \"love\", \"like\", \"don\", \"time\", \"great\", \"came\", \"having\", \"bar\", \"experience\", \"got\", \"food\", \"wait\", \"said\", \"place\", \"good\", \"better\", \"ordered\", \"try\", \"didn\", \"best\", \"restaurant\", \"ve\", \"chicken\", \"went\", \"know\", \"friendly\", \"little\"], \"Total\": [3499.0, 4132.0, 4459.0, 1316.0, 1398.0, 1689.0, 4755.0, 699.0, 826.0, 1169.0, 1432.0, 1592.0, 1752.0, 1450.0, 873.0, 1123.0, 1119.0, 804.0, 1445.0, 3304.0, 909.0, 1163.0, 392.0, 1508.0, 908.0, 883.0, 357.0, 1251.0, 1403.0, 922.0, 1.607275366783142, 1.6089035272598267, 3.746105194091797, 3.0731148719787598, 2.92830753326416, 9.655192375183105, 24.25274658203125, 5.853903293609619, 2.930673360824585, 3.0884695053100586, 3.0867059230804443, 6.222054481506348, 2.9278624057769775, 1.6120473146438599, 3.0846428871154785, 3.0775530338287354, 2.268944025039673, 3.079237222671509, 3.083101749420166, 2.2722222805023193, 3.0862834453582764, 3.7442800998687744, 6.225400924682617, 3.0908098220825195, 9.191665649414062, 235.83360290527344, 3.0860912799835205, 1.6131346225738525, 3.0869362354278564, 24.26401138305664, 63.541290283203125, 12.638405799865723, 101.44580078125, 34.68849182128906, 3499.7392578125, 57.97245788574219, 66.68517303466797, 112.28447723388672, 538.528076171875, 253.54319763183594, 158.63418579101562, 4459.908203125, 126.57331848144531, 58.70974349975586, 493.02838134765625, 381.70513916015625, 131.30776977539062, 873.6548461914062, 429.8139343261719, 479.8741149902344, 450.2611083984375, 1752.873291015625, 314.1700744628906, 600.9859619140625, 4560.1689453125, 421.3002014160156, 455.11090087890625, 1021.573974609375, 4755.26416015625, 777.7587280273438, 1987.676513671875, 804.2076416015625, 3304.222412109375, 474.2867126464844, 575.0473022460938, 1346.2117919921875, 474.8126220703125, 1403.225341796875, 1107.5772705078125, 1403.19140625, 922.3826904296875, 1123.695556640625, 1487.7333984375, 909.0274658203125, 1592.27490234375, 1117.91455078125, 3334.742919921875, 1689.9920654296875, 4132.82763671875, 930.3265380859375, 1795.681640625, 1382.8924560546875, 1332.8165283203125, 1175.182861328125, 1861.7825927734375, 1445.427490234375, 1337.4139404296875, 1376.2679443359375, 1473.04052734375, 1316.97021484375, 1450.769775390625, 3.0719106197357178, 3.073274612426758, 3.0717010498046875, 3.0784003734588623, 11.43549633026123, 3.0776588916778564, 3.0814971923828125, 3.076559066772461, 5.869336128234863, 58.02433776855469, 3.0839858055114746, 3.07802677154541, 5.203822612762451, 7.330809116363525, 9.000051498413086, 3.083892583847046, 47.531700134277344, 5.211169242858887, 3.0817654132843018, 5.876684665679932, 3.740959644317627, 99.11288452148438, 1.6103190183639526, 3.0793802738189697, 3.079282522201538, 11.444855690002441, 3.080428123474121, 3.0847158432006836, 145.48793029785156, 14.384485244750977, 53.66545104980469, 21.343719482421875, 826.0275268554688, 214.99903869628906, 109.6343994140625, 291.4540100097656, 111.48828125, 1432.89208984375, 4132.82763671875, 240.1902618408203, 41.82335662841797, 540.15234375, 210.6009521484375, 623.5042724609375, 652.9495239257812, 4755.26416015625, 368.39447021484375, 1251.177001953125, 4560.1689453125, 567.9547119140625, 727.8904418945312, 334.1656188964844, 1508.5302734375, 1337.4139404296875, 1450.769775390625, 3304.222412109375, 3499.7392578125, 676.0988159179688, 1382.8924560546875, 3334.742919921875, 1175.182861328125, 799.19970703125, 1487.7333984375, 1119.93701171875, 1987.676513671875, 1689.9920654296875, 1163.2745361328125, 923.3421630859375, 1398.0406494140625, 4459.908203125, 1861.7825927734375, 1332.8165283203125, 1403.225341796875, 1073.012939453125, 1196.740966796875, 1107.5772705078125, 1752.873291015625, 996.9616088867188, 1795.681640625, 1376.2679443359375, 1473.04052734375, 1592.27490234375, 6.5650553703308105, 5.220206260681152, 3.093034267425537, 3.0980942249298096, 1.6208356618881226, 2.2791547775268555, 3.10201358795166, 3.1058859825134277, 3.7601914405822754, 3.073274612426758, 1.619664192199707, 3.0972447395324707, 3.102675676345825, 20.625587463378906, 13.342964172363281, 2.9411611557006836, 3.0980613231658936, 3.103485107421875, 3.095543622970581, 3.0943808555603027, 3.757049560546875, 4.922112464904785, 36.0185546875, 9.044465065002441, 150.39637756347656, 30.006568908691406, 6.403329372406006, 78.41542053222656, 4.425726413726807, 11.499934196472168, 107.70307922363281, 155.38653564453125, 140.48190307617188, 1169.4761962890625, 183.68544006347656, 410.51678466796875, 710.6771850585938, 341.92926025390625, 797.8938598632812, 529.7885131835938, 324.92791748046875, 392.3228454589844, 1195.88720703125, 1403.225341796875, 407.44305419921875, 301.1636962890625, 873.6548461914062, 237.09921264648438, 831.9931640625, 421.26837158203125, 4755.26416015625, 1689.9920654296875, 1473.04052734375, 4459.908203125, 1861.7825927734375, 596.054931640625, 727.8904418945312, 503.35211181640625, 1752.873291015625, 1508.5302734375, 1196.740966796875, 759.682373046875, 3334.742919921875, 4132.82763671875, 1251.177001953125, 1337.4139404296875, 4560.1689453125, 1795.681640625, 3499.7392578125, 1058.372802734375, 726.2705078125, 1450.769775390625, 1987.676513671875, 1432.89208984375, 776.5424194335938, 3304.222412109375, 1346.2117919921875, 1382.8924560546875, 1403.19140625, 1592.27490234375, 1332.8165283203125, 1445.427490234375, 1376.2679443359375, 1487.7333984375, 1.622146725654602, 1.6220742464065552, 5.24688196182251, 1.6193374395370483, 3.096405267715454, 5.082966327667236, 3.0931954383850098, 3.1014111042022705, 3.765237808227539, 7.877847671508789, 7.215359687805176, 18.26834487915039, 1316.97021484375, 1.6175789833068848, 3.1012206077575684, 3.098356008529663, 6.394925117492676, 1.6179038286209106, 1.6200907230377197, 2.939502477645874, 4.260061264038086, 18.73172950744629, 14.32692813873291, 2.2774546146392822, 1.6198663711547852, 3.1002213954925537, 5.581948757171631, 3.0893311500549316, 5.088144302368164, 3.097367525100708, 8.06510066986084, 12.530476570129395, 11.840814590454102, 20.60573387145996, 74.00053405761719, 63.259056091308594, 55.18132400512695, 48.26983642578125, 28.46261215209961, 355.5988464355469, 160.10540771484375, 487.22576904296875, 73.07772827148438, 144.4406280517578, 30.650062561035156, 1689.9920654296875, 217.73683166503906, 909.0274658203125, 134.2930450439453, 80.052978515625, 351.0625915527344, 1592.27490234375, 644.2261962890625, 802.392822265625, 364.8708801269531, 346.2886047363281, 1398.0406494140625, 476.5425720214844, 810.0818481445312, 1163.2745361328125, 1861.7825927734375, 883.7219848632812, 922.3826904296875, 405.69769287109375, 474.7364501953125, 1445.427490234375, 4560.1689453125, 942.685302734375, 1795.681640625, 1752.873291015625, 1376.2679443359375, 4755.26416015625, 1508.5302734375, 3334.742919921875, 3304.222412109375, 1403.19140625, 1169.4761962890625, 846.7030029296875, 1332.8165283203125, 1119.93701171875, 4459.908203125, 1195.88720703125, 3499.7392578125, 1487.7333984375, 4132.82763671875, 1987.676513671875, 1403.225341796875, 1346.2117919921875, 1473.04052734375, 1450.769775390625, 1382.8924560546875, 3.1098148822784424, 3.1055262088775635, 3.0949342250823975, 3.0942723751068115, 5.89927864074707, 3.0983188152313232, 3.10579514503479, 7.374661445617676, 3.762960195541382, 5.894110679626465, 9.382832527160645, 9.713661193847656, 6.251813888549805, 3.100429058074951, 11.526613235473633, 3.0960030555725098, 3.7617580890655518, 1.6219102144241333, 40.35197830200195, 3.7562339305877686, 1.6190277338027954, 1.6178861856460571, 1.6175864934921265, 3.1014790534973145, 10.839259147644043, 3.600013256072998, 3.0915238857269287, 6.408604621887207, 3.1058859825134277, 7.376063346862793, 699.2302856445312, 19.453550338745117, 392.3749694824219, 148.49404907226562, 25.687442779541016, 52.121307373046875, 36.93218231201172, 64.28932189941406, 4132.82763671875, 1123.695556640625, 433.6766662597656, 268.7810363769531, 97.754150390625, 78.41532897949219, 4459.908203125, 525.7192993164062, 255.84664916992188, 188.1222686767578, 237.63723754882812, 268.5302429199219, 140.6208953857422, 354.1945495605469, 598.6454467773438, 1376.2679443359375, 450.2988586425781, 942.6875610351562, 842.1083984375, 278.0867919921875, 3304.222412109375, 1473.04052734375, 1432.89208984375, 284.90777587890625, 459.301513671875, 846.7030029296875, 774.7193603515625, 630.7528686523438, 3334.742919921875, 1445.427490234375, 4560.1689453125, 475.0422668457031, 1316.97021484375, 1346.2117919921875, 652.9495239257812, 1987.676513671875, 922.3826904296875, 880.8407592773438, 613.707275390625, 1861.7825927734375, 1119.93701171875, 1508.5302734375, 4755.26416015625, 1795.681640625, 1487.7333984375, 1403.19140625, 1337.4139404296875, 1592.27490234375, 1196.740966796875, 3499.7392578125, 1403.225341796875, 1163.2745361328125, 1332.8165283203125, 1752.873291015625, 1398.0406494140625, 3.097311496734619, 3.0969181060791016, 3.7628636360168457, 3.7577390670776367, 1.6190288066864014, 3.094768762588501, 3.0932137966156006, 7.212079048156738, 7.731992721557617, 1.6201176643371582, 3.091517210006714, 5.250324726104736, 3.0939509868621826, 3.0974538326263428, 3.104398488998413, 1.6184840202331543, 4.412481784820557, 3.0894393920898438, 3.1031336784362793, 30.650062561035156, 13.188775062561035, 9.202178955078125, 2.2800486087799072, 11.496086120605469, 6.551820755004883, 3.0962486267089844, 1.6148920059204102, 4.256546974182129, 2.279310464859009, 3.0994787216186523, 10.381275177001953, 7.216163158416748, 6.904548645019531, 357.808837890625, 257.79998779296875, 1398.0406494140625, 74.30532836914062, 39.53865051269531, 908.03076171875, 203.97962951660156, 119.95108032226562, 390.4771728515625, 435.7642822265625, 109.95014190673828, 3499.7392578125, 289.4296569824219, 1450.769775390625, 371.9832763671875, 537.5546875, 429.8089904785156, 1073.012939453125, 474.8126220703125, 1119.93701171875, 320.4817199707031, 799.19970703125, 930.3265380859375, 1382.8924560546875, 644.791015625, 700.5321044921875, 1592.27490234375, 3334.742919921875, 1795.681640625, 3304.222412109375, 4132.82763671875, 1445.427490234375, 438.65155029296875, 983.7908325195312, 1251.177001953125, 1987.676513671875, 4755.26416015625, 942.685302734375, 1163.2745361328125, 4560.1689453125, 4459.908203125, 1117.91455078125, 1487.7333984375, 1403.19140625, 1473.04052734375, 1752.873291015625, 1332.8165283203125, 1861.7825927734375, 1346.2117919921875, 1432.89208984375, 1175.182861328125, 1337.4139404296875, 1376.2679443359375], \"loglift\": [30.0, 29.0, 28.0, 27.0, 26.0, 25.0, 24.0, 23.0, 22.0, 21.0, 20.0, 19.0, 18.0, 17.0, 16.0, 15.0, 14.0, 13.0, 12.0, 11.0, 10.0, 9.0, 8.0, 7.0, 6.0, 5.0, 4.0, 3.0, 2.0, 1.0, 0.8848000168800354, 0.7135000228881836, 0.6682000160217285, 0.6610000133514404, 0.6324999928474426, 0.6205000281333923, 0.6029000282287598, 0.6011000275611877, 0.5695000290870667, 0.5673999786376953, 0.5622000098228455, 0.546500027179718, 0.5432999730110168, 0.5386999845504761, 0.5382000207901001, 0.5318999886512756, 0.5303999781608582, 0.5286999940872192, 0.5241000056266785, 0.5231999754905701, 0.5187000036239624, 0.5142999887466431, 0.5134000182151794, 0.5115000009536743, 0.5045999884605408, 0.5011000037193298, 0.49720001220703125, 0.4968999922275543, 0.4916999936103821, 0.48980000615119934, 0.4778999984264374, 0.48030000925064087, 0.44850000739097595, 0.46209999918937683, 0.335099995136261, 0.448199987411499, 0.43939998745918274, 0.4212000072002411, 0.36959999799728394, 0.3878999948501587, 0.4011000096797943, 0.2651999890804291, 0.40209999680519104, 0.43160000443458557, 0.3395000100135803, 0.3431999981403351, 0.3878999948501587, 0.2865999937057495, 0.31610000133514404, 0.30880001187324524, 0.30660000443458557, 0.19499999284744263, 0.31189998984336853, 0.2662999927997589, 0.09690000116825104, 0.28139999508857727, 0.26429998874664307, 0.19939999282360077, 0.05889999866485596, 0.21960000693798065, 0.13179999589920044, 0.21040000021457672, 0.0689999982714653, 0.25839999318122864, 0.2362000048160553, 0.13729999959468842, 0.2567000091075897, 0.11909999698400497, 0.1429000049829483, 0.10989999771118164, 0.16050000488758087, 0.12060000002384186, 0.06710000336170197, 0.15029999613761902, 0.04520000144839287, 0.0892999991774559, -0.1542000025510788, -0.011500000022351742, -0.2549999952316284, 0.12139999866485596, -0.04960000142455101, 0.018200000748038292, 0.025100000202655792, 0.023900000378489494, -0.16680000722408295, -0.0812000036239624, -0.059700001031160355, -0.08429999649524689, -0.14090000092983246, -0.09529999643564224, -0.18569999933242798, 0.9320999979972839, 0.8924000263214111, 0.7099999785423279, 0.6736999750137329, 0.6707000136375427, 0.6554999947547913, 0.6495000123977661, 0.6359000205993652, 0.6173999905586243, 0.6079999804496765, 0.607699990272522, 0.5889000296592712, 0.57669997215271, 0.5685999989509583, 0.5644999742507935, 0.5447999835014343, 0.5307999849319458, 0.5289999842643738, 0.5271000266075134, 0.5238000154495239, 0.5223000049591064, 0.5192999839782715, 0.5152999758720398, 0.5092999935150146, 0.49959999322891235, 0.49959999322891235, 0.4862000048160553, 0.4853000044822693, 0.48249998688697815, 0.48089998960494995, 0.4749000072479248, 0.4731999933719635, 0.414000004529953, 0.4399000108242035, 0.45170000195503235, 0.4074000120162964, 0.4047999978065491, 0.2883000075817108, 0.21940000355243683, 0.353300005197525, 0.4343999922275543, 0.2955999970436096, 0.3488999903202057, 0.2793000042438507, 0.2718999981880188, 0.15209999680519104, 0.3052000105381012, 0.2054000049829483, 0.09989999979734421, 0.26109999418258667, 0.2345999926328659, 0.29679998755455017, 0.16940000653266907, 0.17509999871253967, 0.16750000417232513, 0.07819999754428864, 0.0494999997317791, 0.22059999406337738, 0.14090000092983246, 0.0348999984562397, 0.1534000039100647, 0.19679999351501465, 0.11050000041723251, 0.1404999941587448, 0.058800000697374344, 0.07190000265836716, 0.12319999933242798, 0.15960000455379486, 0.07989999651908875, -0.148499995470047, -0.02590000070631504, 0.04619999974966049, 0.0010000000474974513, 0.08150000125169754, 0.026000000536441803, 0.03590000048279762, -0.19269999861717224, 0.08179999887943268, -0.24940000474452972, -0.13230000436306, -0.19760000705718994, -0.30640000104904175, 0.9046000242233276, 0.6732000112533569, 0.6377999782562256, 0.6352999806404114, 0.6305000185966492, 0.6116999983787537, 0.5929999947547913, 0.5831999778747559, 0.578000009059906, 0.5715000033378601, 0.5708000063896179, 0.5605000257492065, 0.5566999912261963, 0.554099977016449, 0.5530999898910522, 0.5498999953269958, 0.546500027179718, 0.5403000116348267, 0.5375000238418579, 0.5329999923706055, 0.5299999713897705, 0.5295000076293945, 0.5239999890327454, 0.5223000049591064, 0.5200999975204468, 0.5192999839782715, 0.5188000202178955, 0.5181999802589417, 0.5156000256538391, 0.5149999856948853, 0.4706999957561493, 0.448199987411499, 0.43619999289512634, 0.3497999906539917, 0.38690000772476196, 0.35280001163482666, 0.32659998536109924, 0.3521000146865845, 0.30559998750686646, 0.3253999948501587, 0.3499000072479248, 0.3400000035762787, 0.2653999924659729, 0.250900000333786, 0.32440000772476196, 0.3319999873638153, 0.2655999958515167, 0.3433000147342682, 0.2535000145435333, 0.2946999967098236, 0.12460000067949295, 0.18379999697208405, 0.1923999935388565, 0.10050000250339508, 0.16349999606609344, 0.25619998574256897, 0.2363000065088272, 0.2712000012397766, 0.1388999968767166, 0.1454000025987625, 0.17190000414848328, 0.22619999945163727, 0.03840000182390213, -0.0015999999595806003, 0.1535000056028366, 0.14149999618530273, -0.0502999983727932, 0.07660000026226044, -0.03959999978542328, 0.15049999952316284, 0.20000000298023224, 0.03229999914765358, -0.05139999836683273, 0.006300000008195639, 0.1808999925851822, -0.24310000240802765, -0.0006000000284984708, -0.029600000008940697, -0.04390000179409981, -0.10920000076293945, -0.021800000220537186, -0.07970000058412552, -0.05389999970793724, -0.18709999322891235, 1.0223000049591064, 1.0217000246047974, 0.7889999747276306, 0.7821000218391418, 0.7430999875068665, 0.6524999737739563, 0.641700029373169, 0.6272000074386597, 0.600600004196167, 0.589900016784668, 0.5748000144958496, 0.5644999742507935, 0.5644000172615051, 0.5622000098228455, 0.5602999925613403, 0.5593000054359436, 0.5552999973297119, 0.5551999807357788, 0.5548999905586243, 0.5521000027656555, 0.5436000227928162, 0.5389000177383423, 0.53329998254776, 0.531499981880188, 0.5295000076293945, 0.5282999873161316, 0.5242999792098999, 0.5205000042915344, 0.5199000239372253, 0.5181999802589417, 0.5181000232696533, 0.5131999850273132, 0.5113000273704529, 0.5031999945640564, 0.4690999984741211, 0.47189998626708984, 0.4699000120162964, 0.46050000190734863, 0.475600004196167, 0.3837999999523163, 0.4153999984264374, 0.3698999881744385, 0.44279998540878296, 0.41280001401901245, 0.47189998626708984, 0.2921000123023987, 0.39340001344680786, 0.31299999356269836, 0.40720000863075256, 0.43209999799728394, 0.3555000126361847, 0.23649999499320984, 0.29600000381469727, 0.27000001072883606, 0.32019999623298645, 0.3172999918460846, 0.21780000627040863, 0.2906000018119812, 0.24789999425411224, 0.21850000321865082, 0.17339999973773956, 0.23659999668598175, 0.23229999840259552, 0.29510000348091125, 0.26829999685287476, 0.15479999780654907, 0.03440000116825104, 0.193900004029274, 0.12160000205039978, 0.11890000104904175, 0.1412999927997589, -0.023600000888109207, 0.09109999984502792, -0.02539999969303608, -0.07580000162124634, 0.0763000026345253, 0.1023000031709671, 0.13779999315738678, 0.03370000049471855, 0.06499999761581421, -0.32420000433921814, 0.025100000202655792, -0.29840001463890076, -0.04670000076293945, -0.41290000081062317, -0.2240000069141388, -0.06129999831318855, -0.03830000013113022, -0.09700000286102295, -0.15950000286102295, -0.1242000013589859, 1.1907999515533447, 0.7168999910354614, 0.6955999732017517, 0.6912999749183655, 0.6894999742507935, 0.6809999942779541, 0.6722000241279602, 0.6485000252723694, 0.6384999752044678, 0.6262000203132629, 0.6237999796867371, 0.6226000189781189, 0.616100013256073, 0.6090999841690063, 0.6079000234603882, 0.604200005531311, 0.6017000079154968, 0.5802000164985657, 0.5702999830245972, 0.5669999718666077, 0.564300000667572, 0.5608000159263611, 0.5554999709129333, 0.5523999929428101, 0.552299976348877, 0.5509999990463257, 0.5494999885559082, 0.5482000112533569, 0.5454999804496765, 0.5400000214576721, 0.516700029373169, 0.5343999862670898, 0.4722000062465668, 0.48669999837875366, 0.5078999996185303, 0.4749000072479248, 0.4837999939918518, 0.462799996137619, 0.28299999237060547, 0.3271999955177307, 0.35920000076293945, 0.36730000376701355, 0.4146000146865845, 0.4242999851703644, 0.1678999960422516, 0.30790001153945923, 0.3504999876022339, 0.37040001153945923, 0.3422999978065491, 0.3319999873638153, 0.382999986410141, 0.3089999854564667, 0.26499998569488525, 0.19789999723434448, 0.2870999872684479, 0.21870000660419464, 0.22759999334812164, 0.32109999656677246, 0.09669999778270721, 0.1673000007867813, 0.15029999613761902, 0.3100999891757965, 0.26159998774528503, 0.19439999759197235, 0.20229999721050262, 0.2249000072479248, 0.039799999445676804, 0.1264999955892563, -0.020099999383091927, 0.2517000138759613, 0.11590000241994858, 0.10000000149011612, 0.19670000672340393, 0.0010000000474974513, 0.13369999825954437, 0.13760000467300415, 0.20340000092983246, -0.04089999943971634, 0.06790000200271606, -0.0, -0.2709999978542328, -0.049400001764297485, -0.0024999999441206455, -0.010700000450015068, -0.004100000020116568, -0.09319999814033508, -0.006500000134110451, -0.5192000269889832, -0.0843999981880188, 0.0007999999797903001, -0.10689999908208847, -0.3222000002861023, -0.16509999334812164, 0.9337000250816345, 0.8848000168800354, 0.8758999705314636, 0.8087000250816345, 0.6812999844551086, 0.6808000206947327, 0.6765000224113464, 0.6664000153541565, 0.6503999829292297, 0.6486999988555908, 0.6359000205993652, 0.6280999779701233, 0.6263999938964844, 0.6252999901771545, 0.6154000163078308, 0.6111999750137329, 0.6014999747276306, 0.6003999710083008, 0.5934000015258789, 0.5932000279426575, 0.5928999781608582, 0.5920000076293945, 0.5845999717712402, 0.5685999989509583, 0.5665000081062317, 0.5598999857902527, 0.5552999973297119, 0.5544999837875366, 0.5490000247955322, 0.5414000153541565, 0.5351999998092651, 0.5339999794960022, 0.5331000089645386, 0.43880000710487366, 0.44859999418258667, 0.39559999108314514, 0.45820000767707825, 0.4812000095844269, 0.3427000045776367, 0.4154999852180481, 0.4325999915599823, 0.3652999997138977, 0.3450999855995178, 0.42500001192092896, 0.21469999849796295, 0.362199991941452, 0.2628999948501587, 0.3433000147342682, 0.30469998717308044, 0.3172000050544739, 0.24609999358654022, 0.30219998955726624, 0.21809999644756317, 0.31700000166893005, 0.24300000071525574, 0.22990000247955322, 0.19290000200271606, 0.2538999915122986, 0.23440000414848328, 0.14169999957084656, 0.0560000017285347, 0.10999999940395355, 0.03400000184774399, -0.003700000001117587, 0.12960000336170197, 0.2711000144481659, 0.15839999914169312, 0.11509999632835388, 0.042500000447034836, -0.11569999903440475, 0.15549999475479126, 0.10289999842643738, -0.20059999823570251, -0.2084999978542328, 0.10360000282526016, 0.029999999329447746, 0.03400000184774399, 0.016100000590085983, -0.049300000071525574, 0.01360000018030405, -0.15950000286102295, -0.030799999833106995, -0.0860000029206276, 0.025200000032782555, -0.0754999965429306, -0.11289999634027481], \"logprob\": [30.0, 29.0, 28.0, 27.0, 26.0, 25.0, 24.0, 23.0, 22.0, 21.0, 20.0, 19.0, 18.0, 17.0, 16.0, 15.0, 14.0, 13.0, 12.0, 11.0, 10.0, 9.0, 8.0, 7.0, 6.0, 5.0, 4.0, 3.0, 2.0, 1.0, -11.73740005493164, -11.907699584960938, -11.107799530029297, -11.312999725341797, -11.389800071716309, -10.208700180053711, -9.30519962310791, -10.728500366210938, -11.45199966430664, -11.401599884033203, -11.407400131225586, -10.722100257873535, -11.479100227355957, -12.080499649047852, -11.432000160217285, -11.440600395202637, -11.746999740600586, -11.443300247192383, -11.446700096130371, -11.752799987792969, -11.451000213623047, -11.262100219726562, -10.754599571228027, -11.45680046081543, -10.373800277709961, -7.132500171661377, -11.472599983215332, -12.121600151062012, -11.477800369262695, -9.418000221252441, -8.467100143432617, -10.07960033416748, -8.02869987487793, -9.088199615478516, -4.601200103759766, -8.588500022888184, -8.457300186157227, -7.954500198364258, -6.438199996948242, -7.173299789428711, -7.6290998458862305, -4.428699970245361, -7.853799819946289, -8.592499732971191, -6.556600093841553, -6.808899879455566, -7.831200122833252, -6.037399768829346, -6.717299938201904, -6.6143999099731445, -6.680300235748291, -5.432700157165527, -7.034900188446045, -6.4319000244140625, -4.574699878692627, -6.771999835968018, -6.711900234222412, -5.968200206756592, -4.570799827575684, -6.220699787139893, -5.370200157165527, -6.196499824523926, -4.924699783325195, -6.676499843597412, -6.50600004196167, -5.75439977645874, -6.67710018157959, -5.731100082397461, -5.943900108337402, -5.740300178527832, -6.1092000007629395, -5.951700210571289, -5.724599838256836, -6.134099960327148, -5.678599834442139, -5.9882001876831055, -5.138800144195557, -5.6757001876831055, -5.025000095367432, -6.139800071716309, -5.653200149536133, -5.84660005569458, -5.876500129699707, -6.003600120544434, -5.7342000007629395, -5.901700019836426, -5.958000183105469, -5.95389986038208, -5.942500114440918, -6.008900165557861, -6.002500057220459, -11.0423002243042, -11.081500053405762, -11.26449966430664, -11.298600196838379, -9.989299774169922, -11.317000389099121, -11.321800231933594, -11.336999893188477, -10.709600448608398, -8.427800178527832, -11.362799644470215, -11.383500099182129, -10.870599746704102, -10.536100387573242, -10.33489990234375, -11.425700187683105, -8.704500198364258, -10.916899681091309, -11.444100379943848, -10.802000045776367, -11.255000114440918, -7.981200218200684, -12.104900360107422, -11.462699890136719, -11.472399711608887, -10.159600257873535, -11.485400199890137, -11.484999656677246, -7.634099960327148, -9.949700355529785, -8.638999938964844, -9.562700271606445, -5.966100215911865, -7.286200046539307, -7.947800159454346, -7.014400005340576, -7.978000164031982, -5.540999889373779, -4.550600051879883, -7.26200008392334, -8.928899765014648, -6.509300231933594, -7.397799968719482, -6.3821001052856445, -6.343400001525879, -4.47760009765625, -6.882299900054932, -5.759500026702881, -4.571700096130371, -6.493500232696533, -6.271900177001953, -6.98829984664917, -5.608399868011475, -5.723100185394287, -5.649400234222412, -4.915500164031982, -4.88670015335083, -6.359799861907959, -5.723899841308594, -4.949699878692627, -5.874199867248535, -6.216300010681152, -5.68120002746582, -5.935200214385986, -5.44320011138916, -5.592299938201904, -5.9145002365112305, -6.109099864959717, -5.773900032043457, -4.842299938201904, -5.593299865722656, -5.855500221252441, -5.8491997718811035, -6.0370001792907715, -5.98330020904541, -6.050899982452393, -5.820400238037109, -6.110199928283691, -5.85290002822876, -6.0019001960754395, -5.999199867248535, -6.030200004577637, -10.31029987335205, -10.770999908447266, -11.329700469970703, -11.330699920654297, -11.98330020904541, -11.661199569702148, -11.371700286865234, -11.380200386047363, -11.194199562072754, -11.40250015258789, -12.043700218200684, -11.405699729919434, -11.407699584960938, -9.51609992980957, -9.95259952545166, -11.468000411987305, -11.419400215148926, -11.42389965057373, -11.429200172424316, -11.434100151062012, -11.243000030517578, -10.97350025177002, -8.988699913024902, -10.372300148010254, -7.563399791717529, -9.175999641418457, -10.720999717712402, -8.216500282287598, -11.093600273132324, -10.139399528503418, -7.946700096130371, -7.60260009765625, -7.7154998779296875, -5.682600021362305, -7.496600151062012, -6.726500034332275, -6.20389986038208, -6.910099983215332, -6.1092000007629395, -6.498799800872803, -6.963200092315674, -6.7846999168396, -5.744699954986572, -5.5991997718811035, -6.762400150299072, -7.05709981918335, -6.0584001541137695, -7.284900188446045, -6.1194000244140625, -6.758800029754639, -4.505099773406982, -5.480500221252441, -5.6092000007629395, -4.593299865722656, -5.403900146484375, -6.450099945068359, -6.270199775695801, -6.6041998863220215, -5.488800048828125, -5.632500171661377, -5.837399959564209, -6.237599849700928, -4.946199893951416, -4.771599769592285, -5.811299800872803, -5.756700038909912, -4.72189998626709, -5.5269999504089355, -4.975900173187256, -5.9816999435424805, -6.308800220489502, -5.784599781036377, -5.553400039672852, -5.822999954223633, -6.261000156402588, -5.236800193786621, -5.892300128936768, -5.894400119781494, -5.894100189208984, -5.833000183105469, -5.923399925231934, -5.900300025939941, -5.923500061035156, -5.978799819946289, -11.59060001373291, -11.591300010681152, -10.650099754333496, -11.832599639892578, -11.223400115966797, -10.818300247192383, -11.325799942016602, -11.337599754333496, -11.170299530029297, -10.44279956817627, -10.545700073242188, -9.627099990844727, -5.3491997718811035, -12.053600311279297, -11.404600143432617, -11.406499862670898, -10.68589973449707, -12.060400009155273, -12.059300422668457, -11.466400146484375, -11.103799819946289, -9.627599716186523, -9.901200294494629, -11.74209976196289, -12.08489990234375, -11.43690013885498, -10.852899551391602, -11.448200225830078, -10.949899673461914, -11.447999954223633, -10.491000175476074, -10.055399894714355, -10.113900184631348, -9.567999839782715, -8.32349967956543, -8.47760009765625, -8.61620044708252, -8.759400367736816, -9.272500038146973, -6.839099884033203, -7.605500221252441, -6.538099765777588, -8.36240005493164, -7.710999965667725, -9.202199935913086, -5.372200012207031, -7.320000171661377, -5.971399784088135, -7.7895002365112305, -8.281900405883789, -6.880199909210205, -5.487299919128418, -6.332699775695801, -6.139100074768066, -6.876999855041504, -6.93209981918335, -5.636099815368652, -6.639599800109863, -6.151700019836426, -5.819200038909912, -5.394000053405762, -6.075900077819824, -6.037399768829346, -6.796000003814697, -6.665599822998047, -5.6656999588012695, -4.637199878692627, -6.054100036621094, -5.48199987411499, -5.508800029754639, -5.728300094604492, -4.653299808502197, -5.686699867248535, -5.009900093078613, -5.0696001052856445, -5.773900032043457, -5.930099964141846, -6.21750020980835, -5.8678998947143555, -6.010700225830078, -5.01800012588501, -5.985000133514404, -5.2347002029418945, -5.838399887084961, -5.1828999519348145, -5.72599983215332, -5.911499977111816, -5.929999828338623, -5.898600101470947, -5.976399898529053, -5.988900184631348, -10.771300315856934, -11.246600151062012, -11.271400451660156, -11.275899887084961, -10.632399559020996, -11.284899711608887, -11.291299819946289, -10.450200080871582, -11.133000373840332, -10.696599960327148, -10.234000205993652, -10.200599670410156, -10.647700309753418, -11.356100082397461, -10.04419994354248, -11.36240005493164, -11.170100212097168, -12.032899856567383, -8.828800201416016, -11.206299781799316, -12.050600051879883, -12.054800033569336, -12.06029987335205, -11.412400245666504, -10.161299705505371, -11.264800071716309, -11.418600082397461, -10.690899848937988, -11.417900085449219, -10.558500289916992, -6.03000020980835, -9.594300270080566, -6.652299880981445, -7.609499931335449, -9.34280014038086, -8.66819953918457, -9.003800392150879, -8.470499992370605, -4.486999988555908, -5.745200157165527, -6.665200233459473, -7.135499954223633, -8.099699974060059, -8.310400009155273, -4.526000022888184, -6.52400016784668, -7.201700210571289, -7.489299774169922, -7.283699989318848, -7.1717000007629395, -7.767600059509277, -6.917900085449219, -6.436999797821045, -5.6717000007629395, -6.699699878692627, -6.029300212860107, -6.133200168609619, -7.14769983291626, -4.896999835968018, -5.634300231933594, -5.678899765014648, -7.134500026702881, -6.705399990081787, -6.160999774932861, -6.2418999671936035, -6.424900054931641, -4.944699764251709, -5.693999767303467, -4.691699981689453, -6.681700229644775, -5.797699928283691, -5.7916998863220215, -6.418499946594238, -5.500999927520752, -6.136000156402588, -6.178199768066406, -6.473700046539307, -5.60830020904541, -6.007699966430664, -5.7778000831604, -4.900700092315674, -5.6529998779296875, -5.7941999435424805, -5.860899925231934, -5.902400016784668, -5.816999912261963, -6.0157999992370605, -5.45550012588501, -5.934599876403809, -6.036900043487549, -6.008600234985352, -5.949900150299072, -6.019000053405762, -11.032500267028809, -11.081500053405762, -10.895600318908691, -10.964200019836426, -11.933600425720215, -11.286199569702148, -11.291000366210938, -10.454500198364258, -10.401000022888184, -11.96560001373291, -11.332200050354004, -10.81029987335205, -11.340800285339355, -11.340900421142578, -11.34850025177002, -12.003999710083008, -11.010700225830078, -11.368300437927246, -11.37090015411377, -9.080900192260742, -9.924500465393066, -10.285300254821777, -11.687899589538574, -10.086099624633789, -10.650500297546387, -11.406599998474121, -12.062100410461426, -11.093700408935547, -11.723899841308594, -11.424099922180176, -10.221500396728516, -10.586400032043457, -10.631400108337402, -6.777900218963623, -7.095900058746338, -5.4583001136779785, -8.330300331115723, -8.938199996948242, -5.942699909210205, -7.3632001876831055, -7.876999855041504, -6.764100074768066, -6.674600124359131, -7.971700191497803, -4.72160005569458, -7.0665998458862305, -5.553899765014648, -6.834499835968018, -6.505000114440918, -6.71619987487793, -5.872300148010254, -6.6315999031066895, -5.857500076293945, -7.009900093078613, -6.170100212097168, -6.031300067901611, -5.671899795532227, -6.373899936676025, -6.310400009155273, -5.582099914550781, -4.928599834442139, -5.493599891662598, -4.959799766540527, -4.77370023727417, -5.690999984741211, -6.7418999671936035, -6.046899795532227, -5.849800109863281, -5.459499835968018, -4.7453999519348145, -6.09250020980835, -5.934800148010254, -4.872200012207031, -4.902299880981445, -5.973899841308594, -5.76170015335083, -5.816199779510498, -5.7855000495910645, -5.677000045776367, -5.8881001472473145, -5.726900100708008, -5.922399997711182, -5.915299892425537, -6.002299785614014, -5.973700046539307, -5.982500076293945]}, \"token.table\": {\"Topic\": [6, 1, 2, 3, 4, 5, 6, 1, 2, 3, 4, 5, 6, 1, 2, 3, 4, 5, 1, 2, 3, 4, 5, 6, 2, 5, 3, 6, 1, 2, 3, 4, 5, 6, 1, 2, 3, 4, 5, 6, 1, 2, 3, 4, 5, 6, 1, 2, 3, 4, 5, 6, 1, 2, 3, 4, 5, 6, 1, 2, 3, 4, 5, 6, 1, 2, 3, 4, 5, 6, 1, 2, 3, 4, 5, 6, 2, 3, 4, 6, 1, 2, 3, 4, 5, 6, 1, 2, 3, 4, 5, 6, 1, 2, 3, 4, 5, 6, 1, 2, 3, 4, 5, 6, 1, 2, 3, 4, 5, 6, 1, 2, 6, 2, 3, 2, 6, 1, 2, 3, 4, 5, 6, 1, 2, 3, 4, 5, 6, 1, 2, 3, 4, 5, 6, 1, 2, 3, 4, 5, 6, 1, 2, 3, 4, 5, 6, 1, 2, 3, 4, 5, 6, 1, 5, 1, 2, 3, 4, 5, 6, 1, 2, 3, 4, 5, 6, 2, 3, 5, 6, 1, 3, 5, 1, 3, 4, 1, 4, 5, 1, 2, 3, 4, 5, 6, 1, 2, 3, 4, 5, 6, 1, 2, 3, 4, 5, 6, 1, 2, 3, 4, 5, 6, 1, 3, 5, 1, 2, 3, 4, 5, 6, 1, 2, 3, 4, 5, 6, 4, 5, 1, 4, 5, 6, 1, 2, 3, 4, 5, 1, 2, 3, 4, 5, 6, 1, 2, 3, 4, 5, 6, 1, 2, 3, 4, 5, 6, 1, 2, 3, 4, 5, 6, 1, 2, 3, 4, 5, 6, 1, 2, 3, 4, 5, 6, 1, 2, 3, 4, 5, 6, 1, 2, 3, 5, 6, 1, 2, 3, 4, 6, 1, 2, 3, 4, 5, 6, 2, 1, 2, 3, 4, 5, 6, 5, 1, 2, 3, 4, 5, 6, 1, 2, 3, 4, 5, 6, 1, 2, 3, 4, 5, 6, 1, 2, 3, 4, 5, 6, 1, 2, 3, 4, 5, 6, 1, 2, 3, 4, 5, 6, 1, 2, 3, 4, 5, 6, 1, 2, 3, 4, 5, 6, 1, 2, 3, 4, 5, 6, 1, 2, 3, 4, 5, 6, 2, 3, 4, 1, 2, 3, 4, 5, 6, 1, 2, 3, 4, 5, 6, 1, 2, 3, 4, 5, 6, 2, 4, 1, 2, 3, 4, 5, 6, 3, 3, 4, 1, 2, 3, 4, 5, 6, 1, 2, 3, 4, 5, 6, 3, 5, 1, 2, 3, 4, 5, 6, 1, 2, 3, 4, 5, 6, 1, 2, 3, 4, 5, 6, 1, 2, 3, 4, 5, 6, 1, 2, 3, 4, 5, 6, 1, 2, 3, 4, 5, 6, 1, 2, 3, 4, 5, 6, 1, 3, 5, 6, 1, 2, 3, 5, 1, 5, 1, 2, 3, 4, 5, 6, 1, 2, 3, 4, 5, 6, 1, 2, 3, 4, 5, 6, 1, 2, 3, 4, 5, 6, 5, 1, 2, 3, 4, 5, 6, 6, 1, 2, 3, 4, 5, 6, 2, 3, 4, 4, 5, 1, 2, 3, 4, 5, 6, 1, 2, 3, 4, 5, 6, 1, 2, 3, 4, 5, 6, 1, 2, 3, 4, 5, 6, 1, 3, 4, 1, 2, 3, 4, 5, 6, 1, 2, 3, 4, 5, 6, 1, 2, 3, 4, 5, 6, 1, 2, 3, 4, 5, 6, 1, 2, 3, 4, 5, 6, 1, 2, 3, 4, 5, 6, 1, 2, 3, 4, 5, 6, 1, 6, 1, 2, 3, 4, 5, 6, 1, 3, 5, 1, 1, 2, 3, 4, 5, 6, 1, 2, 3, 4, 5, 6, 1, 2, 3, 4, 5, 6, 1, 2, 3, 4, 5, 6, 1, 2, 3, 4, 5, 6, 1, 2, 3, 4, 5, 6, 1, 2, 3, 4, 5, 6, 1, 2, 3, 4, 1, 2, 3, 4, 5, 6, 1, 2, 3, 4, 5, 6, 2, 5, 1, 2, 3, 4, 5, 6, 1, 2, 3, 4, 5, 6, 1, 2, 3, 4, 5, 6, 1, 2, 3, 4, 5, 6, 1, 2, 3, 4, 5, 6, 1, 2, 3, 4, 5, 6, 1, 2, 3, 4, 5, 6, 1, 2, 3, 4, 5, 6, 1, 2, 3, 4, 5, 6, 1, 2, 3, 4, 5, 6, 1, 2, 4, 5, 6, 1, 3, 1, 2, 3, 4, 5, 6, 1, 2, 3, 4, 5, 6, 1, 2, 3, 4, 5, 6, 1, 2, 3, 4, 5, 6, 1, 2, 3, 4, 5, 6, 1, 2, 3, 4, 5, 6, 1, 2, 3, 4, 5, 6, 1, 2, 3, 4, 5, 6, 1, 2, 3, 4, 5, 6, 1, 2, 3, 5, 1, 2, 3, 4, 5, 6, 2, 5, 6, 1, 2, 3, 4, 5, 6, 1, 2, 3, 4, 5, 6, 1, 2, 3, 4, 5, 6, 1, 2, 3, 4, 5, 6, 1, 2, 3, 4, 5, 6, 1, 2, 3, 4, 5, 6, 1, 1, 2, 3, 4, 5, 6, 1, 2, 3, 4, 5, 6, 1, 2, 3, 4, 5, 6, 1, 1, 2, 3, 4, 5, 6, 1, 2, 3, 4, 5, 6, 1, 2, 3, 4, 5, 6, 1, 2, 3, 4, 5, 6, 1, 2, 3, 1, 2, 3, 4, 5, 6, 1, 2, 1, 2, 3, 4, 5, 6, 1, 1, 3, 6, 1, 2, 3, 4, 5, 6, 1, 2, 3, 4, 5, 6, 1, 2, 3, 4, 5, 6, 1, 2, 3, 4, 5, 6, 1, 2, 3, 4, 5, 6, 1, 6, 1, 2, 3, 4, 5, 6, 1, 2, 3, 4, 5, 6, 1, 2, 1, 2, 3, 4, 5, 6, 2, 5, 6, 1, 2, 3, 4, 5, 6, 1, 2, 3, 4, 5, 6, 1, 2, 4, 5, 6, 1, 2, 3, 4, 5, 6, 1, 2, 3, 4, 5, 6, 4, 6, 1, 2, 3, 4, 5, 6, 1, 2, 3, 4, 5, 6, 1, 2, 3, 4, 5, 6, 1, 2, 3, 4, 5, 6, 1, 2, 3, 4, 5, 6, 1, 5, 1, 2, 3, 4, 5, 6, 1, 2, 3, 4, 5, 6, 1, 2, 3, 4, 5, 6, 1, 6, 1, 2, 3, 4, 5, 6, 1, 2, 3, 4, 5, 6, 1, 2, 3, 4, 5, 6, 3, 4, 1, 2, 3, 4, 5, 6, 3, 4, 5, 6, 1, 2, 3, 4, 5, 6, 1, 3, 1, 2, 3, 4, 5, 6, 3, 3, 1, 2, 3, 4, 5, 6, 1, 2, 3, 4, 5, 6, 1, 2, 3, 4, 5, 6, 1, 2, 3, 4, 5, 6, 1, 2, 3, 4, 5, 6, 1, 2, 3, 4, 5, 6, 1, 2, 3, 4, 5, 6, 1, 2, 3, 4, 5, 6, 1, 2, 3, 4, 5, 6, 1, 2, 3, 4, 5, 6, 1, 2, 3, 4, 5, 6, 1, 1, 2, 3, 4, 5, 6, 4, 5, 6, 3, 5, 6, 1, 2, 3, 1, 2, 3, 4, 5, 6, 1, 2, 3, 4, 5, 6, 1, 2, 3, 4, 5, 6, 4, 5, 6, 1, 2, 3, 4, 5, 6, 1, 2, 3, 4, 5, 6, 3, 6, 1, 6, 1, 2, 3, 4, 5, 6, 1, 2, 3, 4, 5, 6, 1, 2, 3, 4, 5, 6, 1, 2, 3, 4, 5, 6, 1, 2, 3, 4, 5, 6, 2, 3, 1, 2, 3, 4, 5, 6, 5, 6, 2, 4, 1, 2, 3, 5, 6, 1, 2, 3, 4, 5, 6, 1, 2, 3, 4, 5, 6, 1, 2, 3, 4, 5, 6, 1, 3, 5, 2, 6, 1, 2, 3, 4, 5, 6, 1, 2, 3, 4, 5, 6, 2, 5, 1, 2, 3, 4, 5, 6, 1, 2, 3, 4, 5, 6, 1, 2, 3, 4, 5, 6, 1, 2, 3, 4, 5, 6, 1, 2, 3, 4, 5, 6, 1, 2, 3, 4, 5, 6, 1, 2, 3, 4, 5, 6, 1, 6, 1, 2, 3, 4, 5, 6, 1, 2, 3, 4, 5, 6, 6, 1, 2, 3, 4, 5, 6, 2, 3, 1, 2, 3, 4, 5, 6, 1, 2, 3, 4, 5, 6, 2, 3, 1, 2, 3, 4, 5, 6, 1, 2, 3, 4, 5, 6, 1, 2, 3, 4, 5, 6, 1, 2, 3, 4, 5, 6, 1, 1, 2, 3, 4, 5, 6, 3, 5, 1, 2, 3, 4, 5, 6, 1, 3, 4, 5, 6, 1, 2, 3, 4, 5, 6, 1, 2, 3, 4, 5, 6, 1, 2, 3, 4, 5, 6, 1, 2, 3, 4, 5, 6, 1, 2, 3, 4, 5, 6, 1, 2, 3, 4, 6, 2, 3, 6, 2, 3, 6, 1, 2, 3, 4, 5, 6, 4, 1, 3, 5, 3, 4, 5, 1, 2, 3, 4, 5, 6, 1, 2, 3, 4, 5, 6, 1, 2, 3, 4, 5, 6, 1, 2, 3, 4, 5, 6, 1, 2, 3, 4, 5, 6, 1, 2, 3, 4, 5, 1, 1, 2, 3, 4, 5, 6, 1, 2, 3, 4, 5, 6, 1, 2, 3, 4, 5, 6, 1, 2, 3, 4, 5, 6, 1, 2, 3, 4, 5, 6, 1, 2, 3, 4, 5, 6, 1, 2, 3, 4, 5, 6, 1, 2, 3, 4, 5, 6, 1, 2, 3, 1, 2, 3, 4, 5, 6, 1, 2, 3, 4, 5, 6, 1, 2, 3, 4, 5, 6, 6, 1, 2, 3, 4, 5, 6, 1, 2, 3, 4, 5, 6, 1, 2, 3, 4, 5, 6, 1, 2, 3, 4, 5, 6, 1, 2, 3, 4, 5, 6, 1, 2, 3, 4, 5, 6, 1, 2, 3, 4, 5, 6, 1, 2, 3, 4, 5, 6, 1, 2, 3, 4, 5, 6, 1, 2, 3, 4, 5, 6, 1, 2, 3, 4, 5, 6, 2, 3, 2, 5, 1, 2, 3, 4, 5, 6, 6, 1, 2, 3, 4, 5, 6, 1, 2, 3, 4, 5, 6, 1, 2, 3, 4, 5, 6, 1, 2, 3, 4, 5, 6, 4, 1, 2, 3, 4, 5, 6, 1, 2, 3, 4, 5, 6, 1, 3, 4, 6, 1, 2, 3, 4, 5, 6, 1, 2, 3, 4, 5, 6, 1, 1, 2, 3, 4, 5, 6, 1, 2, 3, 4, 5, 6, 1, 2, 3, 4, 5, 6, 1, 2, 3, 4, 5, 6, 1, 2, 3, 4, 5, 6, 1, 2, 3, 4, 5, 6, 1, 2, 3, 4, 5, 6, 1, 2, 3, 4, 5, 6, 1, 2, 3, 4, 5, 6, 1, 2, 3, 4, 5, 6, 1, 2, 4, 5, 6, 1, 2, 3, 4, 5, 6, 1, 5, 1, 2, 3, 4, 5, 6, 1, 3, 4, 5, 6, 1, 2, 3, 4, 5, 6, 1, 2, 3, 4, 5, 6, 4, 4], \"Freq\": [0.4387291669845581, 0.18451446294784546, 0.09225723147392273, 0.09225723147392273, 0.18451446294784546, 0.2767716944217682, 0.18451446294784546, 0.10657762736082077, 0.10657762736082077, 0.10657762736082077, 0.21315525472164154, 0.3197328746318817, 0.10657762736082077, 0.23473840951919556, 0.23473840951919556, 0.23473840951919556, 0.23473840951919556, 0.23473840951919556, 0.15566031634807587, 0.1343993991613388, 0.09263686835765839, 0.2900597155094147, 0.18451441824436188, 0.14275190234184265, 0.3249222934246063, 0.3249222934246063, 0.32225489616394043, 0.32225489616394043, 0.17447680234909058, 0.21431796252727509, 0.2129441350698471, 0.10715898126363754, 0.14837397634983063, 0.14287865161895752, 0.14989173412322998, 0.14989173412322998, 0.29978346824645996, 0.14989173412322998, 0.14989173412322998, 0.14989173412322998, 0.09706036001443863, 0.14559054374694824, 0.19412072002887726, 0.2911810874938965, 0.14559054374694824, 0.14559054374694824, 0.16171205043792725, 0.14689873158931732, 0.14689873158931732, 0.21108977496623993, 0.17035315930843353, 0.16294649243354797, 0.23319801688194275, 0.13103507459163666, 0.15990722179412842, 0.13769787549972534, 0.19544215500354767, 0.1421397477388382, 0.12093077600002289, 0.26511746644973755, 0.11162840574979782, 0.14418669044971466, 0.18139615654945374, 0.18139615654945374, 0.14217105507850647, 0.13726860284805298, 0.14217105507850647, 0.1813906580209732, 0.15197595953941345, 0.2451225221157074, 0.16143208742141724, 0.28250616788864136, 0.1311635673046112, 0.14125308394432068, 0.1311635673046112, 0.15134258568286896, 0.26731109619140625, 0.26731109619140625, 0.26731109619140625, 0.26731109619140625, 0.32985955476760864, 0.16492977738380432, 0.12369733303785324, 0.08246488869190216, 0.12369733303785324, 0.2061622142791748, 0.1532914936542511, 0.16326168179512024, 0.17323185503482819, 0.2168513983488083, 0.1532914936542511, 0.14082877337932587, 0.1293327659368515, 0.1293327659368515, 0.1293327659368515, 0.1293327659368515, 0.1293327659368515, 0.258665531873703, 0.1778927743434906, 0.16420871019363403, 0.15052466094493866, 0.2599971294403076, 0.12315654009580612, 0.1368405967950821, 0.15552085638046265, 0.18194924294948578, 0.1677185744047165, 0.15755382180213928, 0.14738905429840088, 0.19008105993270874, 0.2661174535751343, 0.2661174535751343, 0.2661174535751343, 0.32538583874702454, 0.32538583874702454, 0.3231259286403656, 0.3231259286403656, 0.22113986313343048, 0.1326839178800583, 0.10951688885688782, 0.13057783246040344, 0.1874423623085022, 0.21903377771377563, 0.23737171292304993, 0.07912390679121017, 0.15824781358242035, 0.15824781358242035, 0.15824781358242035, 0.07912390679121017, 0.207659050822258, 0.1397705078125, 0.1928262561559677, 0.18598034977912903, 0.11866231262683868, 0.15460330247879028, 0.1869552582502365, 0.14938530325889587, 0.17264288663864136, 0.15922504663467407, 0.15117435157299042, 0.17979907989501953, 0.18645183742046356, 0.1243012323975563, 0.1450181007385254, 0.2693193256855011, 0.16573497653007507, 0.10358435660600662, 0.14585743844509125, 0.16646772623062134, 0.1854926198720932, 0.14110122621059418, 0.2061029076576233, 0.156955286860466, 0.3240344822406769, 0.3240344822406769, 0.21138818562030792, 0.16538017988204956, 0.18900591135025024, 0.16911055147647858, 0.18403206765651703, 0.08331181854009628, 0.17016397416591644, 0.3403279483318329, 0.17016397416591644, 0.17016397416591644, 0.17016397416591644, 0.17016397416591644, 0.2777767479419708, 0.2777767479419708, 0.2777767479419708, 0.2777767479419708, 0.322371244430542, 0.322371244430542, 0.322371244430542, 0.32369464635849, 0.32369464635849, 0.32369464635849, 0.3239457905292511, 0.3239457905292511, 0.3239457905292511, 0.15510733425617218, 0.31021466851234436, 0.12063903361558914, 0.13787318766117096, 0.12063903361558914, 0.15510733425617218, 0.1642184853553772, 0.10947899520397186, 0.1642184853553772, 0.27369749546051025, 0.1642184853553772, 0.10947899520397186, 0.19434428215026855, 0.13881734013557434, 0.2776346802711487, 0.13881734013557434, 0.11105387657880783, 0.08329040557146072, 0.23933713138103485, 0.15212106704711914, 0.15820589661598206, 0.09938576072454453, 0.15820589661598206, 0.19268667697906494, 0.3235397934913635, 0.3235397934913635, 0.3235397934913635, 0.12231166660785675, 0.18557631969451904, 0.23618805408477783, 0.16448810696601868, 0.16027046740055084, 0.13496460020542145, 0.15995357930660248, 0.15995357930660248, 0.15995357930660248, 0.15995357930660248, 0.31990715861320496, 0.15995357930660248, 0.32245367765426636, 0.32245367765426636, 0.26583313941955566, 0.26583313941955566, 0.26583313941955566, 0.26583313941955566, 0.19156330823898315, 0.19156330823898315, 0.3831266164779663, 0.19156330823898315, 0.19156330823898315, 0.1577388048171997, 0.12314695864915848, 0.15497145056724548, 0.1930224746465683, 0.18610411882400513, 0.18472044169902802, 0.1448320597410202, 0.1448320597410202, 0.1448320597410202, 0.1448320597410202, 0.1448320597410202, 0.2896641194820404, 0.2113899141550064, 0.15938128530979156, 0.21642300486564636, 0.17615826427936554, 0.0956287682056427, 0.13924890756607056, 0.31071364879608154, 0.2071424275636673, 0.10357121378183365, 0.10357121378183365, 0.2071424275636673, 0.10357121378183365, 0.10294779390096664, 0.10294779390096664, 0.10294779390096664, 0.10294779390096664, 0.30884337425231934, 0.10294779390096664, 0.1946476399898529, 0.1167885810136795, 0.1167885810136795, 0.1557181030511856, 0.2725066840648651, 0.1167885810136795, 0.14815407991409302, 0.13468553125858307, 0.1279512494802475, 0.14141981303691864, 0.26937106251716614, 0.1750911921262741, 0.1918955147266388, 0.1918955147266388, 0.1918955147266388, 0.1918955147266388, 0.1918955147266388, 0.19216643273830414, 0.3843328654766083, 0.19216643273830414, 0.19216643273830414, 0.19216643273830414, 0.14148163795471191, 0.14148163795471191, 0.16382084786891937, 0.24573126435279846, 0.11914243549108505, 0.18616004288196564, 0.3242655098438263, 0.15957830846309662, 0.13298192620277405, 0.2792620360851288, 0.15292921662330627, 0.1396310180425644, 0.13298192620277405, 0.6431251168251038, 0.22296693921089172, 0.1730489730834961, 0.1647293120622635, 0.14143425226211548, 0.1580735743045807, 0.14143425226211548, 0.17796853184700012, 0.1353563517332077, 0.2281005084514618, 0.1441294401884079, 0.16668884456157684, 0.14788934588432312, 0.2832803726196289, 0.15737798810005188, 0.1101645901799202, 0.1731157749891281, 0.1731157749891281, 0.12590238451957703, 0.17267410457134247, 0.11511606723070145, 0.15348808467388153, 0.15348808467388153, 0.2686041593551636, 0.1343020796775818, 0.19610583782196045, 0.13816547393798828, 0.16787849366664886, 0.1589645892381668, 0.18124933540821075, 0.157478928565979, 0.25945204496383667, 0.14414002001285553, 0.14414002001285553, 0.14414002001285553, 0.1729680299758911, 0.11531201750040054, 0.156373992562294, 0.156373992562294, 0.156373992562294, 0.312747985124588, 0.156373992562294, 0.156373992562294, 0.3263826370239258, 0.1087942123413086, 0.2175884246826172, 0.1087942123413086, 0.1087942123413086, 0.1087942123413086, 0.14417612552642822, 0.15559600293636322, 0.17558081448078156, 0.18271824717521667, 0.1370386928319931, 0.20555803179740906, 0.11660418659448624, 0.25114747881889343, 0.1345432847738266, 0.17042149603366852, 0.14351284503936768, 0.1793910562992096, 0.3229551315307617, 0.3229551315307617, 0.3229551315307617, 0.1689072996377945, 0.1689072996377945, 0.08445364981889725, 0.25336095690727234, 0.1689072996377945, 0.1689072996377945, 0.17222173511981964, 0.16939842700958252, 0.20045480132102966, 0.129872128367424, 0.22304126620292664, 0.10728567093610764, 0.08744700998067856, 0.34978803992271423, 0.17489401996135712, 0.17489401996135712, 0.08744700998067856, 0.08744700998067856, 0.32484403252601624, 0.32484403252601624, 0.18738575279712677, 0.20693905651569366, 0.15968525409698486, 0.15968525409698486, 0.2004212886095047, 0.0863603875041008, 0.4387591481208801, 0.3227790892124176, 0.34019362926483154, 0.19241385161876678, 0.16960924863815308, 0.21593110263347626, 0.15535637736320496, 0.15108050405979156, 0.11544831097126007, 0.13641059398651123, 0.27282118797302246, 0.13641059398651123, 0.13641059398651123, 0.13641059398651123, 0.13641059398651123, 0.32196933031082153, 0.32196933031082153, 0.16309866309165955, 0.16309866309165955, 0.1087324395775795, 0.27183109521865845, 0.14497658610343933, 0.16309866309165955, 0.15175025165081024, 0.15175025165081024, 0.126458540558815, 0.17704196274280548, 0.15175025165081024, 0.25291708111763, 0.17280559241771698, 0.14552050828933716, 0.11823540925979614, 0.19099566340446472, 0.11823540925979614, 0.24556584656238556, 0.14783743023872375, 0.21920721232891083, 0.2370496690273285, 0.1580331176519394, 0.1350928246974945, 0.10450576990842819, 0.10810732841491699, 0.1756744086742401, 0.1621609926223755, 0.2702683210372925, 0.14864757657051086, 0.13513416051864624, 0.13843856751918793, 0.23073093593120575, 0.1520109623670578, 0.16286888718605042, 0.16558337211608887, 0.14929649233818054, 0.19718924164772034, 0.14138096570968628, 0.11905765533447266, 0.1748659312725067, 0.14882206916809082, 0.21951255202293396, 0.2657482326030731, 0.2657482326030731, 0.2657482326030731, 0.6176542639732361, 0.2661662995815277, 0.2661662995815277, 0.2661662995815277, 0.2661662995815277, 0.34154611825942993, 0.34154611825942993, 0.1651652306318283, 0.2064565271139145, 0.16391398012638092, 0.11886890977621078, 0.1376376897096634, 0.2064565271139145, 0.13766847550868988, 0.15220490097999573, 0.23856835067272186, 0.18298789858818054, 0.12484221905469894, 0.1641760617494583, 0.15185651183128357, 0.1546686738729477, 0.13779571652412415, 0.24184554815292358, 0.1546686738729477, 0.15748082101345062, 0.15445353090763092, 0.15445353090763092, 0.2638581395149231, 0.16088910400867462, 0.1351468414068222, 0.1287112832069397, 0.32253599166870117, 0.12803633511066437, 0.1838286966085434, 0.10300129652023315, 0.20528730750083923, 0.1387656331062317, 0.24105164408683777, 0.43858712911605835, 0.14706607162952423, 0.173805370926857, 0.19970904290676117, 0.15625770390033722, 0.1629425287246704, 0.1604357212781906, 0.2659439146518707, 0.2659439146518707, 0.2659439146518707, 0.32242679595947266, 0.32242679595947266, 0.1787089854478836, 0.27493688464164734, 0.15808871388435364, 0.1512152999639511, 0.12372160702943802, 0.1168481782078743, 0.14867207407951355, 0.1391679346561432, 0.20366038382053375, 0.15002982318401337, 0.1941562294960022, 0.16496491432189941, 0.23498539626598358, 0.08608376234769821, 0.17449411749839783, 0.18147388100624084, 0.15588140487670898, 0.16984093189239502, 0.14882002770900726, 0.12277651578187943, 0.19718652963638306, 0.14882002770900726, 0.23811203241348267, 0.14509952068328857, 0.3239699602127075, 0.3239699602127075, 0.3239699602127075, 0.16261234879493713, 0.13198330998420715, 0.1815466582775116, 0.18655867874622345, 0.15592963993549347, 0.18098977208137512, 0.16951225697994232, 0.16951225697994232, 0.16951225697994232, 0.16951225697994232, 0.33902451395988464, 0.16951225697994232, 0.16679596900939941, 0.13188518583774567, 0.15128007531166077, 0.16679596900939941, 0.1280062198638916, 0.2560124397277832, 0.17187641561031342, 0.17788608372211456, 0.21634793281555176, 0.14543388783931732, 0.16226094961166382, 0.12620295584201813, 0.14236709475517273, 0.12813037633895874, 0.2562607526779175, 0.1850772202014923, 0.13524873554706573, 0.15660379827022552, 0.23235821723937988, 0.1814303994178772, 0.143234521150589, 0.13686853647232056, 0.15596647560596466, 0.14960050582885742, 0.1893473118543625, 0.29454028606414795, 0.12623155117034912, 0.12623155117034912, 0.14727014303207397, 0.12623155117034912, 0.32321131229400635, 0.32321131229400635, 0.1275259405374527, 0.153031125664711, 0.2805570662021637, 0.1785363107919693, 0.1275259405374527, 0.1275259405374527, 0.26694393157958984, 0.26694393157958984, 0.26694393157958984, 0.6221709251403809, 0.13182565569877625, 0.18920859694480896, 0.15974168479442596, 0.14113099873065948, 0.17059791088104248, 0.20937016606330872, 0.16806942224502563, 0.17197802662849426, 0.13289210200309753, 0.14852647483348846, 0.2345154881477356, 0.14852647483348846, 0.13347432017326355, 0.207804337143898, 0.19581562280654907, 0.1366713047027588, 0.14386454224586487, 0.18222841620445251, 0.32126444578170776, 0.16063222289085388, 0.16063222289085388, 0.16063222289085388, 0.16063222289085388, 0.16063222289085388, 0.1758521944284439, 0.11213763058185577, 0.15036636590957642, 0.19369226694107056, 0.2625040113925934, 0.10194329917430878, 0.20923712849617004, 0.11412934958934784, 0.16358539462089539, 0.13124874234199524, 0.22255222499370575, 0.1597810834646225, 0.16453848779201508, 0.1691952347755432, 0.14435923099517822, 0.22197172045707703, 0.1785087287425995, 0.12107548862695694, 0.3247406780719757, 0.3247406780719757, 0.3247406780719757, 0.3247406780719757, 0.15164411067962646, 0.07582205533981323, 0.15164411067962646, 0.15164411067962646, 0.15164411067962646, 0.30328822135925293, 0.1926545649766922, 0.0963272824883461, 0.0963272824883461, 0.1926545649766922, 0.1926545649766922, 0.2889818251132965, 0.3241789638996124, 0.3241789638996124, 0.18148308992385864, 0.19746537506580353, 0.1901051104068756, 0.16129493713378906, 0.1251244843006134, 0.14468176662921906, 0.12405246496200562, 0.22206923365592957, 0.16387178003787994, 0.14396212995052338, 0.19909656047821045, 0.14702515304088593, 0.15494193136692047, 0.22008797526359558, 0.16198474168777466, 0.15318122506141663, 0.1866346001625061, 0.12324926257133484, 0.2884930968284607, 0.16485320031642914, 0.12363990396261215, 0.12363990396261215, 0.16485320031642914, 0.12363990396261215, 0.16188879311084747, 0.1244451254606247, 0.15528108179569244, 0.16188879311084747, 0.1684964895248413, 0.2290671318769455, 0.16688118875026703, 0.19469472765922546, 0.22052156925201416, 0.14701437950134277, 0.12516088783740997, 0.14701437950134277, 0.16075800359249115, 0.20188215374946594, 0.19365732371807098, 0.12935411930084229, 0.1630011349916458, 0.15029004216194153, 0.1454503983259201, 0.1454503983259201, 0.2909007966518402, 0.1454503983259201, 0.1939338743686676, 0.1454503983259201, 0.3214372396469116, 0.1607186198234558, 0.1607186198234558, 0.1607186198234558, 0.1607186198234558, 0.1607186198234558, 0.08675575256347656, 0.08675575256347656, 0.17351150512695312, 0.17351150512695312, 0.2602672576904297, 0.17351150512695312, 0.2670740485191345, 0.2670740485191345, 0.2670740485191345, 0.2670740485191345, 0.2670740485191345, 0.3227825164794922, 0.3227825164794922, 0.269925057888031, 0.14995837211608887, 0.14995837211608887, 0.11996670067310333, 0.19494588673114777, 0.1349625289440155, 0.14907169342041016, 0.27950942516326904, 0.16770565509796143, 0.1863396316766739, 0.14907169342041016, 0.09316981583833694, 0.18676190078258514, 0.13430069386959076, 0.14689138531684875, 0.22033707797527313, 0.16577742993831635, 0.14689138531684875, 0.1346590369939804, 0.16411569714546204, 0.1725318878889084, 0.14728331565856934, 0.23144520819187164, 0.15149140357971191, 0.19772887229919434, 0.17605994641780853, 0.15980826318264008, 0.17064271867275238, 0.14897380769252777, 0.14807093143463135, 0.22287453711032867, 0.14619134366512299, 0.18565404415130615, 0.11950918287038803, 0.19395017623901367, 0.1318412721157074, 0.1952027827501297, 0.17960669100284576, 0.1594826877117157, 0.1318121999502182, 0.16401058435440063, 0.16954469680786133, 0.13259686529636383, 0.21099355816841125, 0.16768179833889008, 0.1093682199716568, 0.2177685797214508, 0.16163267195224762, 0.11933686584234238, 0.15092603862285614, 0.154435932636261, 0.20357464253902435, 0.2246340960264206, 0.1474161297082901, 0.3234650790691376, 0.3234650790691376, 0.3234650790691376, 0.3234650790691376, 0.125333771109581, 0.1509702354669571, 0.15666721761226654, 0.23642507195472717, 0.176606684923172, 0.15381872653961182, 0.32275569438934326, 0.32275569438934326, 0.32275569438934326, 0.15953148901462555, 0.17180314660072327, 0.23316141963005066, 0.11780787259340286, 0.17425748705863953, 0.14480550587177277, 0.11111047863960266, 0.333331435918808, 0.11111047863960266, 0.11111047863960266, 0.11111047863960266, 0.22222095727920532, 0.17308150231838226, 0.16615822911262512, 0.15231171250343323, 0.24923735857009888, 0.13154193758964539, 0.12461867928504944, 0.11155123263597488, 0.17590771615505219, 0.14301440119743347, 0.14873497188091278, 0.2745876610279083, 0.144444540143013, 0.18237709999084473, 0.14362196624279022, 0.13678282499313354, 0.13450311124324799, 0.19149595499038696, 0.212013378739357, 0.25281789898872375, 0.1659117490053177, 0.1501106321811676, 0.1501106321811676, 0.14221006631851196, 0.13430950045585632, 0.4407336711883545, 0.1287759691476822, 0.16096995770931244, 0.20089051127433777, 0.16483323276042938, 0.15324339270591736, 0.19058842957019806, 0.15122996270656586, 0.20474210381507874, 0.13959689438343048, 0.16751627624034882, 0.11400412768125534, 0.2233550250530243, 0.21737341582775116, 0.1808546930551529, 0.18781062960624695, 0.15129190683364868, 0.11651215702295303, 0.14781393110752106, 0.32434868812561035, 0.20729610323905945, 0.16419492661952972, 0.10672670602798462, 0.2380826473236084, 0.14982786774635315, 0.13340838253498077, 0.1096179261803627, 0.18513250350952148, 0.238723486661911, 0.13154152035713196, 0.18269655108451843, 0.15102915465831757, 0.08698612451553345, 0.1739722490310669, 0.1739722490310669, 0.08698612451553345, 0.1739722490310669, 0.26095837354660034, 0.14434857666492462, 0.17099754512310028, 0.1332448422908783, 0.1843220293521881, 0.21763324737548828, 0.14879007637500763, 0.3255525231361389, 0.3255525231361389, 0.3255525231361389, 0.20316480100154877, 0.20316480100154877, 0.20316480100154877, 0.20316480100154877, 0.20316480100154877, 0.20316480100154877, 0.3249334692955017, 0.3249334692955017, 0.19599854946136475, 0.11068153381347656, 0.15218710899353027, 0.15910470485687256, 0.2351982593536377, 0.14757537841796875, 0.341218501329422, 0.3231664299964905, 0.3231664299964905, 0.3231664299964905, 0.15961085259914398, 0.07980542629957199, 0.23941627144813538, 0.23941627144813538, 0.15961085259914398, 0.15961085259914398, 0.19046440720558167, 0.19046440720558167, 0.19046440720558167, 0.19046440720558167, 0.19046440720558167, 0.38092881441116333, 0.13559944927692413, 0.13559944927692413, 0.13559944927692413, 0.13559944927692413, 0.27119889855384827, 0.13559944927692413, 0.21274961531162262, 0.16008882224559784, 0.1390245109796524, 0.21696248650550842, 0.14534379541873932, 0.1284923404455185, 0.13959726691246033, 0.13959726691246033, 0.13959726691246033, 0.27919453382492065, 0.13959726691246033, 0.13959726691246033, 0.32328835129737854, 0.32328835129737854, 0.14799755811691284, 0.14251616597175598, 0.16444173455238342, 0.22747772932052612, 0.1726638227701187, 0.14799755811691284, 0.17529186606407166, 0.19741608202457428, 0.17273907363414764, 0.14976392686367035, 0.13785088062286377, 0.16678255796432495, 0.32540273666381836, 0.32540273666381836, 0.1374090015888214, 0.17488418519496918, 0.12491727620363235, 0.2498345524072647, 0.17488418519496918, 0.12491727620363235, 0.3244893252849579, 0.3244893252849579, 0.3244893252849579, 0.28409862518310547, 0.12720833718776703, 0.15264999866485596, 0.14416944980621338, 0.12720833718776703, 0.16537083685398102, 0.14663799107074738, 0.17542581260204315, 0.17452619969844818, 0.16103190183639526, 0.17062784731388092, 0.1715274602174759, 0.16966088116168976, 0.16966088116168976, 0.16966088116168976, 0.3393217623233795, 0.16966088116168976, 0.15694618225097656, 0.14822694659233093, 0.15912598371505737, 0.19036990404129028, 0.19981573522090912, 0.14532053470611572, 0.18168681859970093, 0.16981187462806702, 0.14012448489665985, 0.1555619239807129, 0.20543673634529114, 0.14724944531917572, 0.32255759835243225, 0.32255759835243225, 0.10602110624313354, 0.18588115274906158, 0.20515771210193634, 0.19138874113559723, 0.15421251952648163, 0.15834321081638336, 0.17812901735305786, 0.18458296358585358, 0.12520663440227509, 0.17554743587970734, 0.2013632357120514, 0.13682374358177185, 0.18184687197208405, 0.25389939546585083, 0.1338118463754654, 0.11322540789842606, 0.18527793884277344, 0.130380779504776, 0.17898918688297272, 0.12497841566801071, 0.1507277488708496, 0.20913474261760712, 0.14947167038917542, 0.18715360760688782, 0.14104008674621582, 0.13893499970436096, 0.16419591009616852, 0.17893144488334656, 0.2105075865983963, 0.16419591009616852, 0.3240143060684204, 0.3240143060684204, 0.09370438009500504, 0.2811131477355957, 0.14055657386779785, 0.14055657386779785, 0.14055657386779785, 0.18740876019001007, 0.27599313855171204, 0.17249570786952972, 0.18974527716636658, 0.10349742323160172, 0.12074699252843857, 0.13799656927585602, 0.1526293307542801, 0.1526293307542801, 0.1526293307542801, 0.1526293307542801, 0.1526293307542801, 0.3052586615085602, 0.2657550573348999, 0.2657550573348999, 0.14774639904499054, 0.1618174910545349, 0.2321729212999344, 0.15478195250034332, 0.15478195250034332, 0.1463392972946167, 0.2055041790008545, 0.14227211475372314, 0.11065609008073807, 0.26873621344566345, 0.17388814687728882, 0.09484808146953583, 0.16556745767593384, 0.141317680478096, 0.21908420324325562, 0.169748455286026, 0.14382627606391907, 0.16055025160312653, 0.3224338889122009, 0.3224338889122009, 0.17475099861621857, 0.26212650537490845, 0.17475099861621857, 0.17475099861621857, 0.08737549930810928, 0.17475099861621857, 0.3223024606704712, 0.3223024606704712, 0.32200661301612854, 0.32200661301612854, 0.1276971399784088, 0.2645155191421509, 0.22803062200546265, 0.08209102600812912, 0.13681836426258087, 0.16418205201625824, 0.32418662309646606, 0.32418662309646606, 0.17391404509544373, 0.17391404509544373, 0.2608710527420044, 0.2608710527420044, 0.08695702254772186, 0.08695702254772186, 0.34000176191329956, 0.6169657111167908, 0.12589994072914124, 0.19465380907058716, 0.12589994072914124, 0.17590275406837463, 0.17590275406837463, 0.20179706811904907, 0.15232163667678833, 0.15232163667678833, 0.456964910030365, 0.15232163667678833, 0.15232163667678833, 0.15232163667678833, 0.1692315638065338, 0.18224938213825226, 0.20177610218524933, 0.2213028073310852, 0.11301828175783157, 0.11242656409740448, 0.1824570596218109, 0.12941721081733704, 0.15593713521957397, 0.15063315629959106, 0.20367299020290375, 0.17821386456489563, 0.10019705444574356, 0.21075932681560516, 0.21421439945697784, 0.1105622723698616, 0.1312927007675171, 0.23148974776268005, 0.22138507664203644, 0.20030078291893005, 0.16445748507976532, 0.13915632665157318, 0.1180720403790474, 0.15813219547271729, 0.2333945482969284, 0.19380082190036774, 0.17712979018688202, 0.1312844306230545, 0.11461339145898819, 0.15003934502601624, 0.18953658640384674, 0.13538327813148499, 0.13538327813148499, 0.16245993971824646, 0.27076655626296997, 0.13538327813148499, 0.14199358224868774, 0.20058317482471466, 0.17370088398456573, 0.14061500132083893, 0.13234353065490723, 0.210922509431839, 0.18282845616340637, 0.18955008685588837, 0.13913783431053162, 0.15795840322971344, 0.16333571076393127, 0.16736869513988495, 0.15947075188159943, 0.1222609132528305, 0.1435236781835556, 0.15947075188159943, 0.23920613527297974, 0.17541782557964325, 0.6215413212776184, 0.25131794810295105, 0.15992960333824158, 0.14469821751117706, 0.1218511313199997, 0.15231391787528992, 0.17516100406646729, 0.32263490557670593, 0.32263490557670593, 0.32263490557670593, 0.3222183883190155, 0.3222183883190155, 0.3222183883190155, 0.3246302008628845, 0.3246302008628845, 0.3246302008628845, 0.1747390329837799, 0.1505444049835205, 0.1505444049835205, 0.14785611629486084, 0.14516781270503998, 0.22850489616394043, 0.34165239334106445, 0.17082619667053223, 0.17082619667053223, 0.17082619667053223, 0.17082619667053223, 0.17082619667053223, 0.19673551619052887, 0.19673551619052887, 0.19673551619052887, 0.39347103238105774, 0.19673551619052887, 0.19673551619052887, 0.2655874788761139, 0.2655874788761139, 0.2655874788761139, 0.17427240312099457, 0.19524294137954712, 0.16270245611667633, 0.14607064425945282, 0.12510010600090027, 0.1966891884803772, 0.14365535974502563, 0.14990124106407166, 0.1311635971069336, 0.24983540177345276, 0.14990124106407166, 0.17488478124141693, 0.32212358713150024, 0.32212358713150024, 0.3234657645225525, 0.3234657645225525, 0.20622824132442474, 0.13511505722999573, 0.14933769404888153, 0.15644900500774384, 0.24178484082221985, 0.11378110200166702, 0.13557367026805878, 0.13557367026805878, 0.13557367026805878, 0.13557367026805878, 0.27114734053611755, 0.13557367026805878, 0.1883702129125595, 0.187273770570755, 0.15964320302009583, 0.17104630172252655, 0.16073966026306152, 0.13288980722427368, 0.15365815162658691, 0.15109717845916748, 0.1664630025625229, 0.17414590716362, 0.12036555260419846, 0.2330482006072998, 0.16225574910640717, 0.16849635541439056, 0.14353393018245697, 0.15601514279842377, 0.14353393018245697, 0.22154149413108826, 0.32488346099853516, 0.32488346099853516, 0.12490098178386688, 0.24147523939609528, 0.13322772085666656, 0.15404455363750458, 0.17902474105358124, 0.1665346473455429, 0.32197874784469604, 0.32197874784469604, 0.32329028844833374, 0.32329028844833374, 0.2266298234462738, 0.2266298234462738, 0.2266298234462738, 0.2266298234462738, 0.2266298234462738, 0.20850178599357605, 0.17424093186855316, 0.17815645039081573, 0.15759994089603424, 0.161515474319458, 0.11942356079816818, 0.22777873277664185, 0.14536632597446442, 0.21862180531024933, 0.15452326834201813, 0.15452326834201813, 0.09843704104423523, 0.2135414183139801, 0.16015605628490448, 0.10677070915699005, 0.26692676544189453, 0.10677070915699005, 0.16015605628490448, 0.26622408628463745, 0.26622408628463745, 0.26622408628463745, 0.3245175778865814, 0.3245175778865814, 0.16663017868995667, 0.1333041489124298, 0.2666082978248596, 0.19995622336864471, 0.09997811168432236, 0.09997811168432236, 0.2254924178123474, 0.17089951038360596, 0.18039393424987793, 0.16140510141849518, 0.14716346561908722, 0.11155940592288971, 0.32310864329338074, 0.32310864329338074, 0.2524224817752838, 0.10649073123931885, 0.17354044318199158, 0.1695963442325592, 0.14593173563480377, 0.1538199484348297, 0.1931128054857254, 0.15840590000152588, 0.1317082792520523, 0.12814858555793762, 0.22781971096992493, 0.1610756516456604, 0.15616875886917114, 0.15616875886917114, 0.3123375177383423, 0.15616875886917114, 0.15616875886917114, 0.15616875886917114, 0.17037701606750488, 0.34075403213500977, 0.17037701606750488, 0.17037701606750488, 0.17037701606750488, 0.17037701606750488, 0.17556804418563843, 0.1778189241886139, 0.1643136888742447, 0.1710662990808487, 0.14705699682235718, 0.1643136888742447, 0.1705740988254547, 0.22743213176727295, 0.13466376066207886, 0.13466376066207886, 0.21246948838233948, 0.12269365042448044, 0.13903869688510895, 0.2780773937702179, 0.13903869688510895, 0.13903869688510895, 0.13903869688510895, 0.13903869688510895, 0.32368332147598267, 0.32368332147598267, 0.17101724445819855, 0.13889245688915253, 0.1955832540988922, 0.15873423218727112, 0.16534815728664398, 0.17101724445819855, 0.20109467208385468, 0.1377870887517929, 0.15268298983573914, 0.16757889091968536, 0.22716249525547028, 0.11171925812959671, 0.3229016661643982, 0.1722005158662796, 0.19927607476711273, 0.13537776470184326, 0.17869865894317627, 0.1581212282180786, 0.15703821182250977, 0.3255302906036377, 0.3255302906036377, 0.19388915598392487, 0.2092771828174591, 0.23697564005851746, 0.12310422956943512, 0.11079380661249161, 0.12310422956943512, 0.14855657517910004, 0.1392717808485031, 0.2692587971687317, 0.15784135460853577, 0.14855657517910004, 0.12998700141906738, 0.3233071267604828, 0.3233071267604828, 0.13238491117954254, 0.19170023500919342, 0.12636741995811462, 0.2054545134305954, 0.16419167816638947, 0.1796652376651764, 0.1423737108707428, 0.17911531031131744, 0.12400290369987488, 0.24341310560703278, 0.1653372049331665, 0.1423737108707428, 0.1709394007921219, 0.24216414988040924, 0.14719781279563904, 0.1424494981765747, 0.1709394007921219, 0.1282045543193817, 0.12399101257324219, 0.12399101257324219, 0.24798202514648438, 0.24798202514648438, 0.24798202514648438, 0.12399101257324219, 0.44009777903556824, 0.13298667967319489, 0.13298667967319489, 0.18413540720939636, 0.15344616770744324, 0.24551387131214142, 0.15344616770744324, 0.3230450451374054, 0.3230450451374054, 0.25827255845069885, 0.1781190037727356, 0.1335892528295517, 0.16921305656433105, 0.1603071093559265, 0.09796545654535294, 0.19653530418872833, 0.19653530418872833, 0.19653530418872833, 0.19653530418872833, 0.19653530418872833, 0.14027869701385498, 0.2295469492673874, 0.12752608954906464, 0.12752608954906464, 0.2550521790981293, 0.1147734746336937, 0.2584562599658966, 0.15759529173374176, 0.11346860975027084, 0.20172196626663208, 0.11346860975027084, 0.15759529173374176, 0.1219242662191391, 0.1502281129360199, 0.17635473608970642, 0.14805088937282562, 0.21336746215820312, 0.18941806256771088, 0.16332268714904785, 0.1415463238954544, 0.24498403072357178, 0.15243451297283173, 0.16332268714904785, 0.13610224425792694, 0.2391606718301773, 0.17801326513290405, 0.16144059598445892, 0.12258055806159973, 0.09772156924009323, 0.2011578381061554, 0.32475095987319946, 0.32475095987319946, 0.32475095987319946, 0.32275182008743286, 0.32275182008743286, 0.32425570487976074, 0.32425570487976074, 0.32425570487976074, 0.32284581661224365, 0.32284581661224365, 0.32284581661224365, 0.20764528214931488, 0.1082095131278038, 0.23981568217277527, 0.17547489702701569, 0.10236035287380219, 0.16670115292072296, 0.4390866756439209, 0.32286760210990906, 0.32286760210990906, 0.32286760210990906, 0.32285481691360474, 0.32285481691360474, 0.32285481691360474, 0.15421350300312042, 0.10280899703502655, 0.2056179940700531, 0.10280899703502655, 0.257022500038147, 0.15421350300312042, 0.12693822383880615, 0.12693822383880615, 0.12693822383880615, 0.2538764476776123, 0.12693822383880615, 0.12693822383880615, 0.22192393243312836, 0.16479499638080597, 0.13403326272964478, 0.18457040190696716, 0.14062505960464478, 0.15380866825580597, 0.11056485772132874, 0.11056485772132874, 0.3316945731639862, 0.11056485772132874, 0.11056485772132874, 0.11056485772132874, 0.1345798522233963, 0.12112186849117279, 0.1345798522233963, 0.17495380342006683, 0.17495380342006683, 0.2557017207145691, 0.19058938324451447, 0.19058938324451447, 0.19058938324451447, 0.38117876648902893, 0.19058938324451447, 0.3414941728115082, 0.13059067726135254, 0.2008577585220337, 0.19422878324985504, 0.18097084760665894, 0.1637355238199234, 0.12926489114761353, 0.17706641554832458, 0.17205509543418884, 0.15869159996509552, 0.11024889349937439, 0.21381604671478271, 0.1670437902212143, 0.19128067791461945, 0.2630109190940857, 0.14346051216125488, 0.09564033895730972, 0.14346051216125488, 0.16737058758735657, 0.1299494057893753, 0.17904141545295715, 0.16749034821987152, 0.2281334102153778, 0.14150047302246094, 0.15305152535438538, 0.19226138293743134, 0.19472627341747284, 0.14542847871780396, 0.2218400537967682, 0.1133849173784256, 0.13063915073871613, 0.11536774784326553, 0.21150754392147064, 0.2026330977678299, 0.15086552500724792, 0.16565625369548798, 0.15382367372512817, 0.20056751370429993, 0.14310762286186218, 0.1474442183971405, 0.208156555891037, 0.18755772709846497, 0.11275146901607513, 0.1510036587715149, 0.14911609888076782, 0.23216810822486877, 0.16232892870903015, 0.1830919235944748, 0.12080292403697968, 0.3247557580471039, 0.3247557580471039, 0.3247557580471039, 0.13859322667121887, 0.13859322667121887, 0.13859322667121887, 0.27718645334243774, 0.13859322667121887, 0.13859322667121887, 0.21343380212783813, 0.1980048567056656, 0.14528927206993103, 0.16843269765377045, 0.14914651215076447, 0.1272888332605362, 0.2771556079387665, 0.13857780396938324, 0.13857780396938324, 0.13857780396938324, 0.13857780396938324, 0.2771556079387665, 0.3228606581687927, 0.1486915946006775, 0.17347352206707, 0.09912773221731186, 0.1486915946006775, 0.297383189201355, 0.12390965968370438, 0.15554682910442352, 0.1399921476840973, 0.1399921476840973, 0.12443745881319046, 0.26442959904670715, 0.17110151052474976, 0.12017590552568436, 0.20122477412223816, 0.18445603549480438, 0.09222801774740219, 0.15091857314109802, 0.2515309453010559, 0.24696947634220123, 0.12998393177986145, 0.16340838372707367, 0.12441319972276688, 0.1726929396390915, 0.16155146062374115, 0.1558988243341446, 0.11692411452531815, 0.16534723341464996, 0.19014932215213776, 0.19959773123264313, 0.172433540225029, 0.1834017038345337, 0.1834017038345337, 0.13164973258972168, 0.15313738584518433, 0.18067790567874908, 0.16796690225601196, 0.1380099356174469, 0.25665003061294556, 0.18522384762763977, 0.10774459689855576, 0.141641765832901, 0.17069649696350098, 0.1934804469347, 0.17413240671157837, 0.11716316640377045, 0.14833500981330872, 0.16338349878787994, 0.20422936975955963, 0.1750713735818863, 0.15839791297912598, 0.15006117522716522, 0.1333877146244049, 0.1333877146244049, 0.2501019537448883, 0.17878925800323486, 0.18557871878147125, 0.18218399584293365, 0.2093418538570404, 0.09618409723043442, 0.14823666214942932, 0.14954836666584015, 0.1329318881034851, 0.22550944983959198, 0.18990269303321838, 0.1685386449098587, 0.1329318881034851, 0.32503846287727356, 0.32503846287727356, 0.3231777548789978, 0.3231777548789978, 0.19099318981170654, 0.1396815925836563, 0.16106142103672028, 0.1781652867794037, 0.1624867469072342, 0.16818803548812866, 0.6172391176223755, 0.26615196466445923, 0.12814724445343018, 0.1182897686958313, 0.14786221086978912, 0.16757716238498688, 0.16757716238498688, 0.18339598178863525, 0.1546279788017273, 0.17979997396469116, 0.08270799368619919, 0.226547971367836, 0.16901198029518127, 0.14502230286598206, 0.1654328554868698, 0.19766002893447876, 0.1965857893228531, 0.15737605094909668, 0.13857686519622803, 0.14758627116680145, 0.1759682446718216, 0.1419098675251007, 0.1680212914943695, 0.18845631182193756, 0.17823879420757294, 0.6175365447998047, 0.15604020655155182, 0.15604020655155182, 0.15604020655155182, 0.15604020655155182, 0.31208041310310364, 0.15604020655155182, 0.127741739153862, 0.22771354019641876, 0.16847099363803864, 0.1536603569984436, 0.1536603569984436, 0.17032231390476227, 0.32297149300575256, 0.32297149300575256, 0.32297149300575256, 0.32297149300575256, 0.1760926991701126, 0.154876708984375, 0.11774872988462448, 0.20049108564853668, 0.16124150156974792, 0.18988309800624847, 0.11933057010173798, 0.17440621554851532, 0.13539430499076843, 0.14916321635246277, 0.1927647590637207, 0.22948186099529266, 0.3237849771976471, 0.15948458015918732, 0.18355771899223328, 0.17352724075317383, 0.17051810026168823, 0.13641448318958282, 0.17553333938121796, 0.1790221929550171, 0.10793984681367874, 0.21061433851718903, 0.1513790488243103, 0.18560388684272766, 0.16454245150089264, 0.13606546819210052, 0.1835951805114746, 0.15284065902233124, 0.15377260744571686, 0.16495607793331146, 0.20782601833343506, 0.1402757465839386, 0.2261161208152771, 0.16888919472694397, 0.12492217868566513, 0.19052377343177795, 0.1486504077911377, 0.25549420714378357, 0.11923063546419144, 0.1703294813632965, 0.1873624324798584, 0.10219768434762955, 0.1703294813632965, 0.2410237342119217, 0.17290833592414856, 0.14932993054389954, 0.14409027993679047, 0.12837134301662445, 0.16504886746406555, 0.2773125469684601, 0.13865627348423004, 0.13865627348423004, 0.13865627348423004, 0.13865627348423004, 0.2773125469684601, 0.1991138905286789, 0.12760891020298004, 0.16061121225357056, 0.22551573812961578, 0.1694118231534958, 0.11770821362733841, 0.14609993994235992, 0.1660226732492447, 0.23243173956871033, 0.14277949929237366, 0.1826249361038208, 0.1294976770877838, 0.21733982861042023, 0.10866991430521011, 0.10866991430521011, 0.10866991430521011, 0.10866991430521011, 0.32600975036621094, 0.23493221402168274, 0.23493221402168274, 0.23493221402168274, 0.23493221402168274, 0.23493221402168274, 0.17566904425621033, 0.14053523540496826, 0.14053523540496826, 0.2810704708099365, 0.14053523540496826, 0.14053523540496826, 0.3229970932006836, 0.3229970932006836, 0.16359150409698486, 0.22453735768795013, 0.16198766231536865, 0.17642220854759216, 0.1667991727590561, 0.10745716094970703, 0.22595161199569702, 0.22595161199569702, 0.22595161199569702, 0.22595161199569702, 0.22595161199569702, 0.0978790819644928, 0.22838452458381653, 0.03262636065483093, 0.26101088523864746, 0.06525272130966187, 0.2936372458934784, 0.17914889752864838, 0.17914889752864838, 0.17914889752864838, 0.35829779505729675, 0.17914889752864838, 0.17914889752864838, 0.6164670586585999, 0.6164945960044861], \"Term\": [\"academy\", \"afterward\", \"afterward\", \"afterward\", \"afterward\", \"afterward\", \"afterward\", \"aldi\", \"aldi\", \"aldi\", \"aldi\", \"aldi\", \"aldi\", \"aloo\", \"aloo\", \"aloo\", \"aloo\", \"aloo\", \"amazing\", \"amazing\", \"amazing\", \"amazing\", \"amazing\", \"amazing\", \"angelica\", \"angelica\", \"anitas\", \"anitas\", \"area\", \"area\", \"area\", \"area\", \"area\", \"area\", \"arrowhead\", \"arrowhead\", \"arrowhead\", \"arrowhead\", \"arrowhead\", \"arrowhead\", \"artists\", \"artists\", \"artists\", \"artists\", \"artists\", \"artists\", \"asked\", \"asked\", \"asked\", \"asked\", \"asked\", \"asked\", \"atmosphere\", \"atmosphere\", \"atmosphere\", \"atmosphere\", \"atmosphere\", \"atmosphere\", \"available\", \"available\", \"available\", \"available\", \"available\", \"available\", \"average\", \"average\", \"average\", \"average\", \"average\", \"average\", \"avoid\", \"avoid\", \"avoid\", \"avoid\", \"avoid\", \"avoid\", \"axle\", \"axle\", \"axle\", \"axle\", \"backyard\", \"backyard\", \"backyard\", \"backyard\", \"backyard\", \"backyard\", \"bad\", \"bad\", \"bad\", \"bad\", \"bad\", \"bad\", \"bail\", \"bail\", \"bail\", \"bail\", \"bail\", \"bail\", \"banana\", \"banana\", \"banana\", \"banana\", \"banana\", \"banana\", \"bar\", \"bar\", \"bar\", \"bar\", \"bar\", \"bar\", \"bathing\", \"bathing\", \"bathing\", \"bb\", \"bb\", \"beause\", \"beause\", \"beer\", \"beer\", \"beer\", \"beer\", \"beer\", \"beer\", \"berry\", \"berry\", \"berry\", \"berry\", \"berry\", \"berry\", \"best\", \"best\", \"best\", \"best\", \"best\", \"best\", \"better\", \"better\", \"better\", \"better\", \"better\", \"better\", \"beware\", \"beware\", \"beware\", \"beware\", \"beware\", \"beware\", \"big\", \"big\", \"big\", \"big\", \"big\", \"big\", \"bingham\", \"bingham\", \"bit\", \"bit\", \"bit\", \"bit\", \"bit\", \"bit\", \"bracelets\", \"bracelets\", \"bracelets\", \"bracelets\", \"bracelets\", \"bracelets\", \"brewers\", \"brewers\", \"brewers\", \"brewers\", \"brookline\", \"brookline\", \"brookline\", \"browbeaten\", \"browbeaten\", \"browbeaten\", \"br\\u00fbl\\u00e9\", \"br\\u00fbl\\u00e9\", \"br\\u00fbl\\u00e9\", \"buffalo\", \"buffalo\", \"buffalo\", \"buffalo\", \"buffalo\", \"buffalo\", \"bump\", \"bump\", \"bump\", \"bump\", \"bump\", \"bump\", \"buns\", \"buns\", \"buns\", \"buns\", \"buns\", \"buns\", \"busy\", \"busy\", \"busy\", \"busy\", \"busy\", \"busy\", \"butterflies\", \"butterflies\", \"butterflies\", \"buy\", \"buy\", \"buy\", \"buy\", \"buy\", \"buy\", \"buzz\", \"buzz\", \"buzz\", \"buzz\", \"buzz\", \"buzz\", \"calabash\", \"calabash\", \"calculate\", \"calculate\", \"calculate\", \"calculate\", \"caliente\", \"caliente\", \"caliente\", \"caliente\", \"caliente\", \"came\", \"came\", \"came\", \"came\", \"came\", \"came\", \"camp\", \"camp\", \"camp\", \"camp\", \"camp\", \"camp\", \"car\", \"car\", \"car\", \"car\", \"car\", \"car\", \"carpaccio\", \"carpaccio\", \"carpaccio\", \"carpaccio\", \"carpaccio\", \"carpaccio\", \"carries\", \"carries\", \"carries\", \"carries\", \"carries\", \"carries\", \"cart\", \"cart\", \"cart\", \"cart\", \"cart\", \"cart\", \"cash\", \"cash\", \"cash\", \"cash\", \"cash\", \"cash\", \"certificates\", \"certificates\", \"certificates\", \"certificates\", \"certificates\", \"ceux\", \"ceux\", \"ceux\", \"ceux\", \"ceux\", \"changed\", \"changed\", \"changed\", \"changed\", \"changed\", \"changed\", \"chapli\", \"charged\", \"charged\", \"charged\", \"charged\", \"charged\", \"charged\", \"chauffeured\", \"check\", \"check\", \"check\", \"check\", \"check\", \"check\", \"cheese\", \"cheese\", \"cheese\", \"cheese\", \"cheese\", \"cheese\", \"cheesecake\", \"cheesecake\", \"cheesecake\", \"cheesecake\", \"cheesecake\", \"cheesecake\", \"chefs\", \"chefs\", \"chefs\", \"chefs\", \"chefs\", \"chefs\", \"chicken\", \"chicken\", \"chicken\", \"chicken\", \"chicken\", \"chicken\", \"chile\", \"chile\", \"chile\", \"chile\", \"chile\", \"chile\", \"chore\", \"chore\", \"chore\", \"chore\", \"chore\", \"chore\", \"chronic\", \"chronic\", \"chronic\", \"chronic\", \"chronic\", \"chronic\", \"clean\", \"clean\", \"clean\", \"clean\", \"clean\", \"clean\", \"clear\", \"clear\", \"clear\", \"clear\", \"clear\", \"clear\", \"clinical\", \"clinical\", \"clinical\", \"clock\", \"clock\", \"clock\", \"clock\", \"clock\", \"clock\", \"close\", \"close\", \"close\", \"close\", \"close\", \"close\", \"coca\", \"coca\", \"coca\", \"coca\", \"coca\", \"coca\", \"coffe\", \"coffe\", \"coffee\", \"coffee\", \"coffee\", \"coffee\", \"coffee\", \"coffee\", \"coffeeshop\", \"colleen\", \"combines\", \"come\", \"come\", \"come\", \"come\", \"come\", \"come\", \"commonwealth\", \"commonwealth\", \"commonwealth\", \"commonwealth\", \"commonwealth\", \"commonwealth\", \"conchas\", \"conchas\", \"constantly\", \"constantly\", \"constantly\", \"constantly\", \"constantly\", \"constantly\", \"contacted\", \"contacted\", \"contacted\", \"contacted\", \"contacted\", \"contacted\", \"cook\", \"cook\", \"cook\", \"cook\", \"cook\", \"cook\", \"cooked\", \"cooked\", \"cooked\", \"cooked\", \"cooked\", \"cooked\", \"cookies\", \"cookies\", \"cookies\", \"cookies\", \"cookies\", \"cookies\", \"couldn\", \"couldn\", \"couldn\", \"couldn\", \"couldn\", \"couldn\", \"cream\", \"cream\", \"cream\", \"cream\", \"cream\", \"cream\", \"crews\", \"crews\", \"crews\", \"ctring\", \"cubs\", \"cubs\", \"cubs\", \"cubs\", \"curried\", \"curried\", \"customer\", \"customer\", \"customer\", \"customer\", \"customer\", \"customer\", \"day\", \"day\", \"day\", \"day\", \"day\", \"day\", \"days\", \"days\", \"days\", \"days\", \"days\", \"days\", \"de\", \"de\", \"de\", \"de\", \"de\", \"de\", \"decorator\", \"definitely\", \"definitely\", \"definitely\", \"definitely\", \"definitely\", \"definitely\", \"definitly\", \"delicious\", \"delicious\", \"delicious\", \"delicious\", \"delicious\", \"delicious\", \"demonic\", \"demonic\", \"demonic\", \"deptartment\", \"deptartment\", \"desk\", \"desk\", \"desk\", \"desk\", \"desk\", \"desk\", \"didn\", \"didn\", \"didn\", \"didn\", \"didn\", \"didn\", \"dish\", \"dish\", \"dish\", \"dish\", \"dish\", \"dish\", \"dog\", \"dog\", \"dog\", \"dog\", \"dog\", \"dog\", \"dolci\", \"dolci\", \"dolci\", \"don\", \"don\", \"don\", \"don\", \"don\", \"don\", \"donair\", \"donair\", \"donair\", \"donair\", \"donair\", \"donair\", \"easy\", \"easy\", \"easy\", \"easy\", \"easy\", \"easy\", \"eat\", \"eat\", \"eat\", \"eat\", \"eat\", \"eat\", \"eaten\", \"eaten\", \"eaten\", \"eaten\", \"eaten\", \"eaten\", \"eating\", \"eating\", \"eating\", \"eating\", \"eating\", \"eating\", \"eggplant\", \"eggplant\", \"eggplant\", \"eggplant\", \"eggplant\", \"eggplant\", \"erika\", \"erika\", \"et\", \"et\", \"et\", \"et\", \"et\", \"et\", \"ev\", \"ev\", \"ev\", \"everrrrr\", \"excellent\", \"excellent\", \"excellent\", \"excellent\", \"excellent\", \"excellent\", \"expect\", \"expect\", \"expect\", \"expect\", \"expect\", \"expect\", \"experience\", \"experience\", \"experience\", \"experience\", \"experience\", \"experience\", \"eyelash\", \"eyelash\", \"eyelash\", \"eyelash\", \"eyelash\", \"eyelash\", \"fantastic\", \"fantastic\", \"fantastic\", \"fantastic\", \"fantastic\", \"fantastic\", \"favorite\", \"favorite\", \"favorite\", \"favorite\", \"favorite\", \"favorite\", \"feel\", \"feel\", \"feel\", \"feel\", \"feel\", \"feel\", \"finie\", \"finie\", \"finie\", \"finie\", \"flew\", \"flew\", \"flew\", \"flew\", \"flew\", \"flew\", \"florida\", \"florida\", \"florida\", \"florida\", \"florida\", \"florida\", \"fluttering\", \"fluttering\", \"food\", \"food\", \"food\", \"food\", \"food\", \"food\", \"found\", \"found\", \"found\", \"found\", \"found\", \"found\", \"free\", \"free\", \"free\", \"free\", \"free\", \"free\", \"freezing\", \"freezing\", \"freezing\", \"freezing\", \"freezing\", \"freezing\", \"fresh\", \"fresh\", \"fresh\", \"fresh\", \"fresh\", \"fresh\", \"friend\", \"friend\", \"friend\", \"friend\", \"friend\", \"friend\", \"friendly\", \"friendly\", \"friendly\", \"friendly\", \"friendly\", \"friendly\", \"frosting\", \"frosting\", \"frosting\", \"frosting\", \"frosting\", \"frosting\", \"frys\", \"frys\", \"frys\", \"frys\", \"frys\", \"frys\", \"fucking\", \"fucking\", \"fucking\", \"fucking\", \"fucking\", \"fucking\", \"fuego\", \"fuego\", \"fuego\", \"fuego\", \"fuego\", \"gagging\", \"gagging\", \"garden\", \"garden\", \"garden\", \"garden\", \"garden\", \"garden\", \"gentleman\", \"gentleman\", \"gentleman\", \"gentleman\", \"gentleman\", \"gentleman\", \"getting\", \"getting\", \"getting\", \"getting\", \"getting\", \"getting\", \"glad\", \"glad\", \"glad\", \"glad\", \"glad\", \"glad\", \"going\", \"going\", \"going\", \"going\", \"going\", \"going\", \"good\", \"good\", \"good\", \"good\", \"good\", \"good\", \"got\", \"got\", \"got\", \"got\", \"got\", \"got\", \"great\", \"great\", \"great\", \"great\", \"great\", \"great\", \"green\", \"green\", \"green\", \"green\", \"green\", \"green\", \"gutters\", \"gutters\", \"gutters\", \"gutters\", \"guy\", \"guy\", \"guy\", \"guy\", \"guy\", \"guy\", \"hairstylist\", \"hairstylist\", \"hairstylist\", \"half\", \"half\", \"half\", \"half\", \"half\", \"half\", \"halo\", \"halo\", \"halo\", \"halo\", \"halo\", \"halo\", \"hands\", \"hands\", \"hands\", \"hands\", \"hands\", \"hands\", \"happy\", \"happy\", \"happy\", \"happy\", \"happy\", \"happy\", \"having\", \"having\", \"having\", \"having\", \"having\", \"having\", \"head\", \"head\", \"head\", \"head\", \"head\", \"head\", \"helpless\", \"home\", \"home\", \"home\", \"home\", \"home\", \"home\", \"hotel\", \"hotel\", \"hotel\", \"hotel\", \"hotel\", \"hotel\", \"hour\", \"hour\", \"hour\", \"hour\", \"hour\", \"hour\", \"huffy\", \"huge\", \"huge\", \"huge\", \"huge\", \"huge\", \"huge\", \"husband\", \"husband\", \"husband\", \"husband\", \"husband\", \"husband\", \"ian\", \"ian\", \"ian\", \"ian\", \"ian\", \"ian\", \"ice\", \"ice\", \"ice\", \"ice\", \"ice\", \"ice\", \"imcomplete\", \"imcomplete\", \"imcomplete\", \"impressions\", \"impressions\", \"impressions\", \"impressions\", \"impressions\", \"impressions\", \"inconvience\", \"inconvience\", \"inside\", \"inside\", \"inside\", \"inside\", \"inside\", \"inside\", \"insides\", \"intelligently\", \"intelligently\", \"intelligently\", \"intended\", \"intended\", \"intended\", \"intended\", \"intended\", \"intended\", \"jdt\", \"jdt\", \"jdt\", \"jdt\", \"jdt\", \"jdt\", \"jjanga\", \"jjanga\", \"jjanga\", \"jjanga\", \"jjanga\", \"jjanga\", \"job\", \"job\", \"job\", \"job\", \"job\", \"job\", \"jumbo\", \"jumbo\", \"jumbo\", \"jumbo\", \"jumbo\", \"jumbo\", \"kendel\", \"kendel\", \"kids\", \"kids\", \"kids\", \"kids\", \"kids\", \"kids\", \"know\", \"know\", \"know\", \"know\", \"know\", \"know\", \"krung\", \"krung\", \"ladies\", \"ladies\", \"ladies\", \"ladies\", \"ladies\", \"ladies\", \"lieras\", \"lieras\", \"lieras\", \"life\", \"life\", \"life\", \"life\", \"life\", \"life\", \"like\", \"like\", \"like\", \"like\", \"like\", \"like\", \"linda\", \"linda\", \"linda\", \"linda\", \"linda\", \"little\", \"little\", \"little\", \"little\", \"little\", \"little\", \"location\", \"location\", \"location\", \"location\", \"location\", \"location\", \"lomax\", \"lomax\", \"long\", \"long\", \"long\", \"long\", \"long\", \"long\", \"lot\", \"lot\", \"lot\", \"lot\", \"lot\", \"lot\", \"lots\", \"lots\", \"lots\", \"lots\", \"lots\", \"lots\", \"love\", \"love\", \"love\", \"love\", \"love\", \"love\", \"loved\", \"loved\", \"loved\", \"loved\", \"loved\", \"loved\", \"lumi\\u00e8res\", \"lumi\\u00e8res\", \"male\", \"male\", \"male\", \"male\", \"male\", \"male\", \"manicure\", \"manicure\", \"manicure\", \"manicure\", \"manicure\", \"manicure\", \"martial\", \"martial\", \"martial\", \"martial\", \"martial\", \"martial\", \"matthew\", \"matthew\", \"meal\", \"meal\", \"meal\", \"meal\", \"meal\", \"meal\", \"meh\", \"meh\", \"meh\", \"meh\", \"meh\", \"meh\", \"menu\", \"menu\", \"menu\", \"menu\", \"menu\", \"menu\", \"merest\", \"merest\", \"ming\", \"ming\", \"ming\", \"ming\", \"ming\", \"ming\", \"miniatures\", \"miniatures\", \"momma\", \"momma\", \"multiple\", \"multiple\", \"multiple\", \"multiple\", \"multiple\", \"multiple\", \"m\\u00f6tley\", \"m\\u00f6tley\", \"nan\", \"nan\", \"nan\", \"nan\", \"nan\", \"nan\", \"naptime\", \"neil\", \"new\", \"new\", \"new\", \"new\", \"new\", \"new\", \"newcomers\", \"newcomers\", \"newcomers\", \"newcomers\", \"newcomers\", \"newcomers\", \"nice\", \"nice\", \"nice\", \"nice\", \"nice\", \"nice\", \"night\", \"night\", \"night\", \"night\", \"night\", \"night\", \"oh\", \"oh\", \"oh\", \"oh\", \"oh\", \"oh\", \"ok\", \"ok\", \"ok\", \"ok\", \"ok\", \"ok\", \"old\", \"old\", \"old\", \"old\", \"old\", \"old\", \"omelette\", \"omelette\", \"omelette\", \"omelette\", \"omelette\", \"omelette\", \"order\", \"order\", \"order\", \"order\", \"order\", \"order\", \"ordered\", \"ordered\", \"ordered\", \"ordered\", \"ordered\", \"ordered\", \"ordering\", \"ordering\", \"ordering\", \"ordering\", \"ordering\", \"ordering\", \"outbacks\", \"owners\", \"owners\", \"owners\", \"owners\", \"owners\", \"owners\", \"packin\", \"packin\", \"packin\", \"palmas\", \"palmas\", \"palmas\", \"papier\", \"papier\", \"papier\", \"parking\", \"parking\", \"parking\", \"parking\", \"parking\", \"parking\", \"pavers\", \"pavers\", \"pavers\", \"pavers\", \"pavers\", \"pavers\", \"pediatric\", \"pediatric\", \"pediatric\", \"pediatric\", \"pediatric\", \"pediatric\", \"pediatrics\", \"pediatrics\", \"pediatrics\", \"people\", \"people\", \"people\", \"people\", \"people\", \"people\", \"phoenix\", \"phoenix\", \"phoenix\", \"phoenix\", \"phoenix\", \"phoenix\", \"phong\", \"phong\", \"picante\", \"picante\", \"piece\", \"piece\", \"piece\", \"piece\", \"piece\", \"piece\", \"pk\", \"pk\", \"pk\", \"pk\", \"pk\", \"pk\", \"place\", \"place\", \"place\", \"place\", \"place\", \"place\", \"pm\", \"pm\", \"pm\", \"pm\", \"pm\", \"pm\", \"point\", \"point\", \"point\", \"point\", \"point\", \"point\", \"poms\", \"poms\", \"pool\", \"pool\", \"pool\", \"pool\", \"pool\", \"pool\", \"posoleshawwty\", \"posoleshawwty\", \"pototes\", \"pototes\", \"prefers\", \"prefers\", \"prefers\", \"prefers\", \"prefers\", \"pretty\", \"pretty\", \"pretty\", \"pretty\", \"pretty\", \"pretty\", \"price\", \"price\", \"price\", \"price\", \"price\", \"price\", \"proud\", \"proud\", \"proud\", \"proud\", \"proud\", \"proud\", \"puzzle\", \"puzzle\", \"puzzle\", \"puzzlemaster\", \"puzzlemaster\", \"que\", \"que\", \"que\", \"que\", \"que\", \"que\", \"quick\", \"quick\", \"quick\", \"quick\", \"quick\", \"quick\", \"radiance\", \"radiance\", \"reasonable\", \"reasonable\", \"reasonable\", \"reasonable\", \"reasonable\", \"reasonable\", \"recommend\", \"recommend\", \"recommend\", \"recommend\", \"recommend\", \"recommend\", \"reduce\", \"reduce\", \"reduce\", \"reduce\", \"reduce\", \"reduce\", \"reef\", \"reef\", \"reef\", \"reef\", \"reef\", \"reef\", \"restaurant\", \"restaurant\", \"restaurant\", \"restaurant\", \"restaurant\", \"restaurant\", \"restaurants\", \"restaurants\", \"restaurants\", \"restaurants\", \"restaurants\", \"restaurants\", \"resume\", \"resume\", \"resume\", \"resume\", \"resume\", \"resume\", \"ricketts\", \"ricketts\", \"right\", \"right\", \"right\", \"right\", \"right\", \"right\", \"roll\", \"roll\", \"roll\", \"roll\", \"roll\", \"roll\", \"romper\", \"room\", \"room\", \"room\", \"room\", \"room\", \"room\", \"roomtastic\", \"roomtastic\", \"rude\", \"rude\", \"rude\", \"rude\", \"rude\", \"rude\", \"sad\", \"sad\", \"sad\", \"sad\", \"sad\", \"sad\", \"saddest\", \"saddest\", \"said\", \"said\", \"said\", \"said\", \"said\", \"said\", \"salon\", \"salon\", \"salon\", \"salon\", \"salon\", \"salon\", \"salsa\", \"salsa\", \"salsa\", \"salsa\", \"salsa\", \"salsa\", \"samantha\", \"samantha\", \"samantha\", \"samantha\", \"samantha\", \"samantha\", \"samoan\", \"sashimi\", \"sashimi\", \"sashimi\", \"sashimi\", \"sashimi\", \"sashimi\", \"sb\", \"sb\", \"scottsdale\", \"scottsdale\", \"scottsdale\", \"scottsdale\", \"scottsdale\", \"scottsdale\", \"screamed\", \"screamed\", \"screamed\", \"screamed\", \"screamed\", \"screen\", \"screen\", \"screen\", \"screen\", \"screen\", \"screen\", \"seafood\", \"seafood\", \"seafood\", \"seafood\", \"seafood\", \"seafood\", \"selection\", \"selection\", \"selection\", \"selection\", \"selection\", \"selection\", \"servers\", \"servers\", \"servers\", \"servers\", \"servers\", \"servers\", \"service\", \"service\", \"service\", \"service\", \"service\", \"service\", \"servis\", \"servis\", \"servis\", \"shimp\", \"shimp\", \"shipper\", \"shipper\", \"shipper\", \"shrek\", \"shrek\", \"shrek\", \"shrimp\", \"shrimp\", \"shrimp\", \"shrimp\", \"shrimp\", \"shrimp\", \"slab\", \"sly\", \"sly\", \"sly\", \"sone\", \"sone\", \"sone\", \"songs\", \"songs\", \"songs\", \"songs\", \"songs\", \"songs\", \"sophia\", \"sophia\", \"sophia\", \"sophia\", \"sophia\", \"sophia\", \"special\", \"special\", \"special\", \"special\", \"special\", \"special\", \"specialize\", \"specialize\", \"specialize\", \"specialize\", \"specialize\", \"specialize\", \"spring\", \"spring\", \"spring\", \"spring\", \"spring\", \"spring\", \"squishies\", \"squishies\", \"squishies\", \"squishies\", \"squishies\", \"stacy\", \"staff\", \"staff\", \"staff\", \"staff\", \"staff\", \"staff\", \"stars\", \"stars\", \"stars\", \"stars\", \"stars\", \"stars\", \"starts\", \"starts\", \"starts\", \"starts\", \"starts\", \"starts\", \"stay\", \"stay\", \"stay\", \"stay\", \"stay\", \"stay\", \"steak\", \"steak\", \"steak\", \"steak\", \"steak\", \"steak\", \"store\", \"store\", \"store\", \"store\", \"store\", \"store\", \"sure\", \"sure\", \"sure\", \"sure\", \"sure\", \"sure\", \"sushi\", \"sushi\", \"sushi\", \"sushi\", \"sushi\", \"sushi\", \"suxs\", \"suxs\", \"suxs\", \"swedish\", \"swedish\", \"swedish\", \"swedish\", \"swedish\", \"swedish\", \"table\", \"table\", \"table\", \"table\", \"table\", \"table\", \"taffy\", \"taffy\", \"taffy\", \"taffy\", \"taffy\", \"taffy\", \"talia\", \"teas\", \"teas\", \"teas\", \"teas\", \"teas\", \"teas\", \"test\", \"test\", \"test\", \"test\", \"test\", \"test\", \"thank\", \"thank\", \"thank\", \"thank\", \"thank\", \"thank\", \"things\", \"things\", \"things\", \"things\", \"things\", \"things\", \"think\", \"think\", \"think\", \"think\", \"think\", \"think\", \"time\", \"time\", \"time\", \"time\", \"time\", \"time\", \"times\", \"times\", \"times\", \"times\", \"times\", \"times\", \"told\", \"told\", \"told\", \"told\", \"told\", \"told\", \"tomato\", \"tomato\", \"tomato\", \"tomato\", \"tomato\", \"tomato\", \"took\", \"took\", \"took\", \"took\", \"took\", \"took\", \"town\", \"town\", \"town\", \"town\", \"town\", \"town\", \"translucide\", \"translucide\", \"truvyjones\", \"truvyjones\", \"try\", \"try\", \"try\", \"try\", \"try\", \"try\", \"unexplainable\", \"usual\", \"usual\", \"usual\", \"usual\", \"usual\", \"usual\", \"variety\", \"variety\", \"variety\", \"variety\", \"variety\", \"variety\", \"ve\", \"ve\", \"ve\", \"ve\", \"ve\", \"ve\", \"vegas\", \"vegas\", \"vegas\", \"vegas\", \"vegas\", \"vegas\", \"vein\", \"vig\", \"vig\", \"vig\", \"vig\", \"vig\", \"vig\", \"visit\", \"visit\", \"visit\", \"visit\", \"visit\", \"visit\", \"waayyy\", \"waayyy\", \"waayyy\", \"waayyy\", \"wait\", \"wait\", \"wait\", \"wait\", \"wait\", \"wait\", \"waiting\", \"waiting\", \"waiting\", \"waiting\", \"waiting\", \"waiting\", \"walkthrough\", \"want\", \"want\", \"want\", \"want\", \"want\", \"want\", \"wasn\", \"wasn\", \"wasn\", \"wasn\", \"wasn\", \"wasn\", \"way\", \"way\", \"way\", \"way\", \"way\", \"way\", \"went\", \"went\", \"went\", \"went\", \"went\", \"went\", \"wifi\", \"wifi\", \"wifi\", \"wifi\", \"wifi\", \"wifi\", \"won\", \"won\", \"won\", \"won\", \"won\", \"won\", \"woot\", \"woot\", \"woot\", \"woot\", \"woot\", \"woot\", \"work\", \"work\", \"work\", \"work\", \"work\", \"work\", \"working\", \"working\", \"working\", \"working\", \"working\", \"working\", \"worthwhile\", \"worthwhile\", \"worthwhile\", \"worthwhile\", \"worthwhile\", \"worthwhile\", \"wrinkles\", \"wrinkles\", \"wrinkles\", \"wrinkles\", \"wrinkles\", \"wrote\", \"wrote\", \"wrote\", \"wrote\", \"wrote\", \"wrote\", \"yeahhhhhhh\", \"yeahhhhhhh\", \"years\", \"years\", \"years\", \"years\", \"years\", \"years\", \"yu\", \"yu\", \"yu\", \"yu\", \"yu\", \"yuk\", \"yuk\", \"yuk\", \"yuk\", \"yuk\", \"yuk\", \"zumba\", \"zumba\", \"zumba\", \"zumba\", \"zumba\", \"zumba\", \"\\u3068\\u3066\\u3082\\u6c17\\u306b\\u5165\\u308a\\u307e\\u3057\\u305f\", \"\\u63a2\\u3057\\u305f\\u304a\\u5e97\\u3067\\u3057\\u305f\"]}, \"R\": 30, \"lambda.step\": 0.01, \"plot.opts\": {\"xlab\": \"PC1\", \"ylab\": \"PC2\"}, \"topic.order\": [5, 6, 1, 3, 2, 4]};\n",
       "\n",
       "function LDAvis_load_lib(url, callback){\n",
       "  var s = document.createElement('script');\n",
       "  s.src = url;\n",
       "  s.async = true;\n",
       "  s.onreadystatechange = s.onload = callback;\n",
       "  s.onerror = function(){console.warn(\"failed to load library \" + url);};\n",
       "  document.getElementsByTagName(\"head\")[0].appendChild(s);\n",
       "}\n",
       "\n",
       "if(typeof(LDAvis) !== \"undefined\"){\n",
       "   // already loaded: just create the visualization\n",
       "   !function(LDAvis){\n",
       "       new LDAvis(\"#\" + \"ldavis_el62411402572962705846215548231\", ldavis_el62411402572962705846215548231_data);\n",
       "   }(LDAvis);\n",
       "}else if(typeof define === \"function\" && define.amd){\n",
       "   // require.js is available: use it to load d3/LDAvis\n",
       "   require.config({paths: {d3: \"https://cdnjs.cloudflare.com/ajax/libs/d3/3.5.5/d3.min\"}});\n",
       "   require([\"d3\"], function(d3){\n",
       "      window.d3 = d3;\n",
       "      LDAvis_load_lib(\"https://cdn.rawgit.com/bmabey/pyLDAvis/files/ldavis.v1.0.0.js\", function(){\n",
       "        new LDAvis(\"#\" + \"ldavis_el62411402572962705846215548231\", ldavis_el62411402572962705846215548231_data);\n",
       "      });\n",
       "    });\n",
       "}else{\n",
       "    // require.js not available: dynamically load d3 & LDAvis\n",
       "    LDAvis_load_lib(\"https://cdnjs.cloudflare.com/ajax/libs/d3/3.5.5/d3.min.js\", function(){\n",
       "         LDAvis_load_lib(\"https://cdn.rawgit.com/bmabey/pyLDAvis/files/ldavis.v1.0.0.js\", function(){\n",
       "                 new LDAvis(\"#\" + \"ldavis_el62411402572962705846215548231\", ldavis_el62411402572962705846215548231_data);\n",
       "            })\n",
       "         });\n",
       "}\n",
       "</script>"
      ],
      "text/plain": [
       "PreparedData(topic_coordinates=              x         y  topics  cluster       Freq\n",
       "topic                                                \n",
       "4      0.001638 -0.003892       1        1  17.104204\n",
       "5      0.001774  0.002806       2        1  16.950991\n",
       "0      0.003938 -0.001016       3        1  16.792339\n",
       "2     -0.004495 -0.002717       4        1  16.516380\n",
       "1     -0.000636  0.002446       5        1  16.404606\n",
       "3     -0.002219  0.002373       6        1  16.231476, topic_info=     Category         Freq        Term        Total  loglift  logprob\n",
       "45    Default  3499.000000     service  3499.000000  30.0000  30.0000\n",
       "210   Default  4132.000000       great  4132.000000  29.0000  29.0000\n",
       "40    Default  4459.000000        good  4459.000000  28.0000  28.0000\n",
       "193   Default  1316.000000     amazing  1316.000000  27.0000  27.0000\n",
       "360   Default  1398.000000  definitely  1398.000000  26.0000  26.0000\n",
       "92    Default  1689.000000        nice  1689.000000  25.0000  25.0000\n",
       "145   Default  4755.000000        food  4755.000000  24.0000  24.0000\n",
       "949   Default   699.000000       happy   699.000000  23.0000  23.0000\n",
       "111   Default   826.000000       times   826.000000  22.0000  22.0000\n",
       "446   Default  1169.000000         day  1169.000000  21.0000  21.0000\n",
       "117   Default  1432.000000        went  1432.000000  20.0000  20.0000\n",
       "743   Default  1592.000000        love  1592.000000  19.0000  19.0000\n",
       "122   Default  1752.000000        best  1752.000000  18.0000  18.0000\n",
       "391   Default  1450.000000       order  1450.000000  17.0000  17.0000\n",
       "158   Default   873.000000       price   873.000000  16.0000  16.0000\n",
       "185   Default  1123.000000   recommend  1123.000000  15.0000  15.0000\n",
       "1075  Default  1119.000000         new  1119.000000  14.0000  14.0000\n",
       "138   Default   804.000000         bit   804.000000  13.0000  13.0000\n",
       "37    Default  1445.000000        came  1445.000000  12.0000  12.0000\n",
       "34    Default  3304.000000        time  3304.000000  11.0000  11.0000\n",
       "541   Default   909.000000        work   909.000000  10.0000  10.0000\n",
       "30    Default  1163.000000        said  1163.000000   9.0000   9.0000\n",
       "969   Default   392.000000   fantastic   392.000000   8.0000   8.0000\n",
       "46    Default  1508.000000       staff  1508.000000   7.0000   7.0000\n",
       "375   Default   908.000000       fresh   908.000000   6.0000   6.0000\n",
       "417   Default   883.000000        took   883.000000   5.0000   5.0000\n",
       "619   Default   357.000000       thank   357.000000   4.0000   4.0000\n",
       "266   Default  1251.000000  experience  1251.000000   3.0000   3.0000\n",
       "353   Default  1403.000000        come  1403.000000   2.0000   2.0000\n",
       "108   Default   922.000000        sure   922.000000   1.0000   1.0000\n",
       "...       ...          ...         ...          ...      ...      ...\n",
       "131    Topic6   272.218719      people  1382.892456   0.1929  -5.6719\n",
       "687    Topic6   134.903976   excellent   644.791016   0.2539  -6.3739\n",
       "945    Topic6   143.746490       clean   700.532104   0.2344  -6.3104\n",
       "743    Topic6   297.792023        love  1592.274902   0.1417  -5.5821\n",
       "18     Topic6   572.430847        like  3334.742920   0.0560  -4.9286\n",
       "201    Topic6   325.349823         don  1795.681641   0.1100  -5.4936\n",
       "34     Topic6   554.865295        time  3304.222412   0.0340  -4.9598\n",
       "210    Topic6   668.315002       great  4132.827637  -0.0037  -4.7737\n",
       "37     Topic6   267.070099        came  1445.427490   0.1296  -5.6910\n",
       "469    Topic6    93.368675      having   438.651550   0.2711  -6.7419\n",
       "137    Topic6   187.088638         bar   983.790833   0.1584  -6.0469\n",
       "266    Topic6   227.853348  experience  1251.177002   0.1151  -5.8498\n",
       "75     Topic6   336.625732         got  1987.676514   0.0425  -5.4595\n",
       "145    Topic6   687.551208        food  4755.264160  -0.1157  -4.7454\n",
       "36     Topic6   178.758286        wait   942.685303   0.1555  -6.0925\n",
       "30     Topic6   209.276367        said  1163.274536   0.1029  -5.9348\n",
       "133    Topic6   605.624756       place  4560.168945  -0.2006  -4.8722\n",
       "40     Topic6   587.662048        good  4459.908203  -0.2085  -4.9023\n",
       "431    Topic6   201.265823      better  1117.914551   0.1036  -5.9739\n",
       "1276   Topic6   248.837677     ordered  1487.733398   0.0300  -5.7617\n",
       "312    Topic6   235.629440         try  1403.191406   0.0340  -5.8162\n",
       "668    Topic6   242.979919        didn  1473.040527   0.0161  -5.7855\n",
       "122    Topic6   270.832642        best  1752.873291  -0.0493  -5.6770\n",
       "658    Topic6   219.290512  restaurant  1332.816528   0.0136  -5.8881\n",
       "115    Topic6   257.637238          ve  1861.782593  -0.1595  -5.7269\n",
       "1287   Topic6   211.892014     chicken  1346.211792  -0.0308  -5.9224\n",
       "117    Topic6   213.407623        went  1432.892090  -0.0860  -5.9153\n",
       "484    Topic6   195.617645        know  1175.182861   0.0252  -6.0023\n",
       "39     Topic6   201.304443    friendly  1337.413940  -0.0755  -5.9737\n",
       "385    Topic6   199.545670      little  1376.267944  -0.1129  -5.9825\n",
       "\n",
       "[557 rows x 6 columns], token_table=       Topic      Freq        Term\n",
       "term                              \n",
       "16809      6  0.438729     academy\n",
       "14911      1  0.184514   afterward\n",
       "14911      2  0.092257   afterward\n",
       "14911      3  0.092257   afterward\n",
       "14911      4  0.184514   afterward\n",
       "14911      5  0.276772   afterward\n",
       "14911      6  0.184514   afterward\n",
       "23618      1  0.106578        aldi\n",
       "23618      2  0.106578        aldi\n",
       "23618      3  0.106578        aldi\n",
       "23618      4  0.213155        aldi\n",
       "23618      5  0.319733        aldi\n",
       "23618      6  0.106578        aldi\n",
       "11371      1  0.234738        aloo\n",
       "11371      2  0.234738        aloo\n",
       "11371      3  0.234738        aloo\n",
       "11371      4  0.234738        aloo\n",
       "11371      5  0.234738        aloo\n",
       "193        1  0.155660     amazing\n",
       "193        2  0.134399     amazing\n",
       "193        3  0.092637     amazing\n",
       "193        4  0.290060     amazing\n",
       "193        5  0.184514     amazing\n",
       "193        6  0.142752     amazing\n",
       "25673      2  0.324922    angelica\n",
       "25673      5  0.324922    angelica\n",
       "24310      3  0.322255      anitas\n",
       "24310      6  0.322255      anitas\n",
       "50         1  0.174477        area\n",
       "50         2  0.214318        area\n",
       "...      ...       ...         ...\n",
       "5410       4  0.281070       wrote\n",
       "5410       5  0.140535       wrote\n",
       "5410       6  0.140535       wrote\n",
       "26324      1  0.322997  yeahhhhhhh\n",
       "26324      5  0.322997  yeahhhhhhh\n",
       "774        1  0.163592       years\n",
       "774        2  0.224537       years\n",
       "774        3  0.161988       years\n",
       "774        4  0.176422       years\n",
       "774        5  0.166799       years\n",
       "774        6  0.107457       years\n",
       "20309      1  0.225952          yu\n",
       "20309      3  0.225952          yu\n",
       "20309      4  0.225952          yu\n",
       "20309      5  0.225952          yu\n",
       "20309      6  0.225952          yu\n",
       "13123      1  0.097879         yuk\n",
       "13123      2  0.228385         yuk\n",
       "13123      3  0.032626         yuk\n",
       "13123      4  0.261011         yuk\n",
       "13123      5  0.065253         yuk\n",
       "13123      6  0.293637         yuk\n",
       "13339      1  0.179149       zumba\n",
       "13339      2  0.179149       zumba\n",
       "13339      3  0.179149       zumba\n",
       "13339      4  0.358298       zumba\n",
       "13339      5  0.179149       zumba\n",
       "13339      6  0.179149       zumba\n",
       "21334      4  0.616467  とても気に入りました\n",
       "21335      4  0.616495    探したお店でした\n",
       "\n",
       "[1772 rows x 3 columns], R=30, lambda_step=0.01, plot_opts={'xlab': 'PC1', 'ylab': 'PC2'}, topic_order=[5, 6, 1, 3, 2, 4])"
      ]
     },
     "execution_count": 41,
     "metadata": {},
     "output_type": "execute_result"
    }
   ],
   "source": [
    "import warnings\n",
    "warnings.filterwarnings('ignore')\n",
    "\n",
    "import pyLDAvis.gensim\n",
    "pyLDAvis.enable_notebook()\n",
    "\n",
    "pyLDAvis.gensim.prepare(lda, corpus, id2word)"
   ]
  },
  {
   "cell_type": "code",
   "execution_count": 49,
   "metadata": {},
   "outputs": [
    {
     "data": {
      "text/plain": [
       "3.7358"
      ]
     },
     "execution_count": 49,
     "metadata": {},
     "output_type": "execute_result"
    }
   ],
   "source": [
    "# average star rating \n",
    "df['stars'].sum()/len(df)"
   ]
  },
  {
   "cell_type": "markdown",
   "metadata": {},
   "source": [
    "Looking at the dataframe of the topics, when labled with just three words it apears that they are all basicaly the same topic.\n",
    "Some topics use the word good some use great so It can be infered that these topics would be the difference between 3-5 star reviews.\n",
    "This makes sense seeing as the average star rating is 3.7. Most reviews in this range would say that they liked something but then\n",
    "talk about what they did not like, resulting in the three most common words of each topic being simillar.\n",
    "\n",
    "Upon looking at the LDAvis plot we can see the other words used in these topics to see greater variation.\n",
    "Even though many of the words are the same, the frequency of use among topics is different. For example,\n",
    "topic 1 and 4 both use many of the same words, but topic 4 has the word amazing in much higher frequency.\n",
    "This could represent the difference in topics used among 4 and 5 star reviews. And upon lowering the relevence \n",
    "you can see words used such as yuk and rude, even though the most common words in those topics were \"good food place\"."
   ]
  },
  {
   "cell_type": "markdown",
   "metadata": {},
   "source": [
    "## Stretch Goals\n",
    "\n",
    "Complete one of more of these to push your score towards a three: \n",
    "* Incorporate named entity recognition into your analysis\n",
    "* Compare vectorization methods in the classification section\n",
    "* Analyze more (or all) of the yelp dataset - this one is v. hard. \n",
    "* Use a generator object on the reviews file - this would help you with the analyzing the whole dataset.\n",
    "* Incorporate any of the other yelp dataset entities in your analysis (business, users, etc.)"
   ]
  }
 ],
 "metadata": {
  "kernel_info": {
   "name": "u4-s1-nlp"
  },
  "kernelspec": {
   "display_name": "U4S1",
   "language": "python",
   "name": "u4s1"
  },
  "language_info": {
   "codemirror_mode": {
    "name": "ipython",
    "version": 3
   },
   "file_extension": ".py",
   "mimetype": "text/x-python",
   "name": "python",
   "nbconvert_exporter": "python",
   "pygments_lexer": "ipython3",
   "version": "3.7.3"
  },
  "nteract": {
   "version": "0.14.5"
  },
  "toc-autonumbering": false
 },
 "nbformat": 4,
 "nbformat_minor": 2
}

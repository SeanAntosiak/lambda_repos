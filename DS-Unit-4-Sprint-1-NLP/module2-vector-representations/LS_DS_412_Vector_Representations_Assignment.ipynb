{
 "cells": [
  {
   "cell_type": "markdown",
   "metadata": {},
   "source": [
    "<img align=\"left\" src=\"https://lever-client-logos.s3.amazonaws.com/864372b1-534c-480e-acd5-9711f850815c-1524247202159.png\" width=200>\n",
    "<br></br>\n",
    "\n",
    "# Vector Representations\n",
    "## *Data Science Unit 4 Sprint 2 Assignment 2*"
   ]
  },
  {
   "cell_type": "code",
   "execution_count": 1,
   "metadata": {
    "colab": {
     "base_uri": "https://localhost:8080/",
     "height": 159
    },
    "colab_type": "code",
    "id": "hyj-f9FDcVFp",
    "outputId": "5dd045fe-6e4c-458c-e2fc-253c3da9c805"
   },
   "outputs": [],
   "source": [
    "import re\n",
    "import string\n",
    "\n",
    "from sklearn.feature_extraction.text import CountVectorizer, TfidfVectorizer\n",
    "from sklearn.neighbors import NearestNeighbors\n",
    "import matplotlib.pyplot as plt\n",
    "import pandas as pd\n",
    "import numpy as np\n",
    "import seaborn as sns\n",
    "import spacy\n",
    "import html.parser\n",
    "from lxml import html"
   ]
  },
  {
   "cell_type": "markdown",
   "metadata": {
    "colab_type": "text",
    "id": "M7bcmqfGXrFG"
   },
   "source": [
    "## 1) *Optional:* Scrape 100 Job Listings that contain the title \"Data Scientist\" from indeed.com\n",
    "\n",
    "At a minimum your final dataframe of job listings should contain\n",
    "- Job Title\n",
    "- Job Description\n",
    "\n",
    "If you choose to not to scrape the data, there is a CSV with outdated data in the directory. Remeber, if you scrape Indeed, you're helping yourself find a job. ;)"
   ]
  },
  {
   "cell_type": "code",
   "execution_count": 2,
   "metadata": {
    "colab": {},
    "colab_type": "code",
    "id": "KcYlc1URXhlC"
   },
   "outputs": [],
   "source": [
    "# imports csv from assignment folder, replace with webscraped data if time allows\n",
    "df0 = pd.read_csv('data/job_listings.csv', index_col=0)"
   ]
  },
  {
   "cell_type": "markdown",
   "metadata": {
    "colab_type": "text",
    "id": "5C4xFZNtX1m2"
   },
   "source": [
    "## 2) Use Spacy to tokenize / clean the listings "
   ]
  },
  {
   "cell_type": "code",
   "execution_count": 66,
   "metadata": {
    "colab": {},
    "colab_type": "code",
    "id": "dhUHuMr-X-II"
   },
   "outputs": [],
   "source": [
    "# setting up natural language processor and tokenizer\n",
    "nlp = spacy.load('en_core_web_lg')\n",
    "tokenizer = spacy.tokenizer.Tokenizer(nlp.vocab)\n",
    "\n",
    "# creates stop words\n",
    "STOPWORDS = nlp.Defaults.stop_words.union({' ', ''})\n",
    "\n",
    "# # function to tokenize\n",
    "# def tokenize(text):\n",
    "#     doc = nlp(text)\n",
    "#     return[token.lemma_ for token in doc if (token.is_stop != True) & (token.is_punct != True)]"
   ]
  },
  {
   "cell_type": "code",
   "execution_count": 67,
   "metadata": {},
   "outputs": [],
   "source": [
    "# makes a copy of df\n",
    "df = df0.copy()\n",
    "\n",
    "# removes html elements with lxml\n",
    "df['description'] = df['description'].apply(lambda x: html.fromstring(x).text_content())\n",
    "\n",
    "# replaces new line charecters with space\n",
    "df['description'] = df['description'].apply(lambda x: x.replace('\\\\n', ' '))\n",
    "\n",
    "# removes punctuation with regex\n",
    "df['description'] = df['description'].apply(lambda x: re.sub(r'[^a-zA-Z ]', '', x))\n",
    "\n",
    "# removes the b at the start of every string\n",
    "df['description'] = df['description'].apply(lambda x: x[1:])\n",
    "\n",
    "# makes all words lowercase\n",
    "df['description'] = df['description'].apply(lambda x: x.lower())\n",
    "\n",
    "# # tokenize the data\n",
    "# df['description'] = df['description'].apply(tokenizer)\n",
    "\n",
    "# # removes stopwords\n",
    "# df['description'] = df['description'].apply(lambda x: rm_stopwords(x))\n",
    "\n",
    "# # takes lemmas of tokens\n",
    "# df['description'] = df['description'].apply(lambda x: [token.lemma_ for token in x])"
   ]
  },
  {
   "cell_type": "code",
   "execution_count": 68,
   "metadata": {},
   "outputs": [
    {
     "data": {
      "text/html": [
       "<div>\n",
       "<style scoped>\n",
       "    .dataframe tbody tr th:only-of-type {\n",
       "        vertical-align: middle;\n",
       "    }\n",
       "\n",
       "    .dataframe tbody tr th {\n",
       "        vertical-align: top;\n",
       "    }\n",
       "\n",
       "    .dataframe thead th {\n",
       "        text-align: right;\n",
       "    }\n",
       "</style>\n",
       "<table border=\"1\" class=\"dataframe\">\n",
       "  <thead>\n",
       "    <tr style=\"text-align: right;\">\n",
       "      <th></th>\n",
       "      <th>description</th>\n",
       "      <th>title</th>\n",
       "    </tr>\n",
       "  </thead>\n",
       "  <tbody>\n",
       "    <tr>\n",
       "      <th>0</th>\n",
       "      <td>job requirements conceptual understanding in m...</td>\n",
       "      <td>Data scientist</td>\n",
       "    </tr>\n",
       "    <tr>\n",
       "      <th>1</th>\n",
       "      <td>job description  as a data scientist  you will...</td>\n",
       "      <td>Data Scientist I</td>\n",
       "    </tr>\n",
       "    <tr>\n",
       "      <th>2</th>\n",
       "      <td>as a data scientist you will be working on con...</td>\n",
       "      <td>Data Scientist - Entry Level</td>\n",
       "    </tr>\n",
       "    <tr>\n",
       "      <th>3</th>\n",
       "      <td>a monthcontractunder the general supervisio...</td>\n",
       "      <td>Data Scientist</td>\n",
       "    </tr>\n",
       "    <tr>\n",
       "      <th>4</th>\n",
       "      <td>location usa xexx multiple locations  years of...</td>\n",
       "      <td>Data Scientist</td>\n",
       "    </tr>\n",
       "  </tbody>\n",
       "</table>\n",
       "</div>"
      ],
      "text/plain": [
       "                                         description  \\\n",
       "0  job requirements conceptual understanding in m...   \n",
       "1  job description  as a data scientist  you will...   \n",
       "2  as a data scientist you will be working on con...   \n",
       "3     a monthcontractunder the general supervisio...   \n",
       "4  location usa xexx multiple locations  years of...   \n",
       "\n",
       "                          title  \n",
       "0               Data scientist   \n",
       "1              Data Scientist I  \n",
       "2  Data Scientist - Entry Level  \n",
       "3                Data Scientist  \n",
       "4                Data Scientist  "
      ]
     },
     "execution_count": 68,
     "metadata": {},
     "output_type": "execute_result"
    }
   ],
   "source": [
    "df.head()"
   ]
  },
  {
   "cell_type": "markdown",
   "metadata": {
    "colab_type": "text",
    "id": "-lgCZNL_YycP"
   },
   "source": [
    "## 3) Use Scikit-Learn's CountVectorizer to get word counts for each listing."
   ]
  },
  {
   "cell_type": "code",
   "execution_count": 69,
   "metadata": {
    "colab": {},
    "colab_type": "code",
    "id": "X2PZ8Pj_YxcF"
   },
   "outputs": [
    {
     "data": {
      "text/html": [
       "<div>\n",
       "<style scoped>\n",
       "    .dataframe tbody tr th:only-of-type {\n",
       "        vertical-align: middle;\n",
       "    }\n",
       "\n",
       "    .dataframe tbody tr th {\n",
       "        vertical-align: top;\n",
       "    }\n",
       "\n",
       "    .dataframe thead th {\n",
       "        text-align: right;\n",
       "    }\n",
       "</style>\n",
       "<table border=\"1\" class=\"dataframe\">\n",
       "  <thead>\n",
       "    <tr style=\"text-align: right;\">\n",
       "      <th></th>\n",
       "      <th>ab</th>\n",
       "      <th>abilities</th>\n",
       "      <th>ability</th>\n",
       "      <th>able</th>\n",
       "      <th>academic</th>\n",
       "      <th>accelerate</th>\n",
       "      <th>accept</th>\n",
       "      <th>access</th>\n",
       "      <th>accessible</th>\n",
       "      <th>accommodation</th>\n",
       "      <th>...</th>\n",
       "      <th>year</th>\n",
       "      <th>years</th>\n",
       "      <th>yearsxexx</th>\n",
       "      <th>yes</th>\n",
       "      <th>york</th>\n",
       "      <th>youll</th>\n",
       "      <th>youre</th>\n",
       "      <th>youxexxll</th>\n",
       "      <th>youxexxre</th>\n",
       "      <th>youxexxve</th>\n",
       "    </tr>\n",
       "  </thead>\n",
       "  <tbody>\n",
       "    <tr>\n",
       "      <th>0</th>\n",
       "      <td>0</td>\n",
       "      <td>0</td>\n",
       "      <td>2</td>\n",
       "      <td>0</td>\n",
       "      <td>0</td>\n",
       "      <td>0</td>\n",
       "      <td>0</td>\n",
       "      <td>0</td>\n",
       "      <td>0</td>\n",
       "      <td>0</td>\n",
       "      <td>...</td>\n",
       "      <td>0</td>\n",
       "      <td>0</td>\n",
       "      <td>0</td>\n",
       "      <td>0</td>\n",
       "      <td>0</td>\n",
       "      <td>0</td>\n",
       "      <td>0</td>\n",
       "      <td>0</td>\n",
       "      <td>0</td>\n",
       "      <td>0</td>\n",
       "    </tr>\n",
       "    <tr>\n",
       "      <th>1</th>\n",
       "      <td>0</td>\n",
       "      <td>0</td>\n",
       "      <td>1</td>\n",
       "      <td>0</td>\n",
       "      <td>0</td>\n",
       "      <td>0</td>\n",
       "      <td>0</td>\n",
       "      <td>0</td>\n",
       "      <td>0</td>\n",
       "      <td>0</td>\n",
       "      <td>...</td>\n",
       "      <td>1</td>\n",
       "      <td>0</td>\n",
       "      <td>0</td>\n",
       "      <td>0</td>\n",
       "      <td>0</td>\n",
       "      <td>0</td>\n",
       "      <td>0</td>\n",
       "      <td>0</td>\n",
       "      <td>0</td>\n",
       "      <td>0</td>\n",
       "    </tr>\n",
       "    <tr>\n",
       "      <th>2</th>\n",
       "      <td>0</td>\n",
       "      <td>0</td>\n",
       "      <td>1</td>\n",
       "      <td>0</td>\n",
       "      <td>0</td>\n",
       "      <td>0</td>\n",
       "      <td>0</td>\n",
       "      <td>0</td>\n",
       "      <td>0</td>\n",
       "      <td>0</td>\n",
       "      <td>...</td>\n",
       "      <td>0</td>\n",
       "      <td>0</td>\n",
       "      <td>0</td>\n",
       "      <td>0</td>\n",
       "      <td>0</td>\n",
       "      <td>0</td>\n",
       "      <td>0</td>\n",
       "      <td>0</td>\n",
       "      <td>0</td>\n",
       "      <td>0</td>\n",
       "    </tr>\n",
       "    <tr>\n",
       "      <th>3</th>\n",
       "      <td>0</td>\n",
       "      <td>0</td>\n",
       "      <td>0</td>\n",
       "      <td>0</td>\n",
       "      <td>0</td>\n",
       "      <td>0</td>\n",
       "      <td>0</td>\n",
       "      <td>0</td>\n",
       "      <td>0</td>\n",
       "      <td>0</td>\n",
       "      <td>...</td>\n",
       "      <td>0</td>\n",
       "      <td>0</td>\n",
       "      <td>0</td>\n",
       "      <td>0</td>\n",
       "      <td>0</td>\n",
       "      <td>0</td>\n",
       "      <td>0</td>\n",
       "      <td>0</td>\n",
       "      <td>0</td>\n",
       "      <td>0</td>\n",
       "    </tr>\n",
       "    <tr>\n",
       "      <th>4</th>\n",
       "      <td>0</td>\n",
       "      <td>0</td>\n",
       "      <td>0</td>\n",
       "      <td>0</td>\n",
       "      <td>0</td>\n",
       "      <td>0</td>\n",
       "      <td>0</td>\n",
       "      <td>0</td>\n",
       "      <td>0</td>\n",
       "      <td>0</td>\n",
       "      <td>...</td>\n",
       "      <td>0</td>\n",
       "      <td>1</td>\n",
       "      <td>0</td>\n",
       "      <td>0</td>\n",
       "      <td>0</td>\n",
       "      <td>0</td>\n",
       "      <td>0</td>\n",
       "      <td>0</td>\n",
       "      <td>0</td>\n",
       "      <td>0</td>\n",
       "    </tr>\n",
       "  </tbody>\n",
       "</table>\n",
       "<p>5 rows × 1834 columns</p>\n",
       "</div>"
      ],
      "text/plain": [
       "   ab  abilities  ability  able  academic  accelerate  accept  access  \\\n",
       "0   0          0        2     0         0           0       0       0   \n",
       "1   0          0        1     0         0           0       0       0   \n",
       "2   0          0        1     0         0           0       0       0   \n",
       "3   0          0        0     0         0           0       0       0   \n",
       "4   0          0        0     0         0           0       0       0   \n",
       "\n",
       "   accessible  accommodation  ...  year  years  yearsxexx  yes  york  youll  \\\n",
       "0           0              0  ...     0      0          0    0     0      0   \n",
       "1           0              0  ...     1      0          0    0     0      0   \n",
       "2           0              0  ...     0      0          0    0     0      0   \n",
       "3           0              0  ...     0      0          0    0     0      0   \n",
       "4           0              0  ...     0      1          0    0     0      0   \n",
       "\n",
       "   youre  youxexxll  youxexxre  youxexxve  \n",
       "0      0          0          0          0  \n",
       "1      0          0          0          0  \n",
       "2      0          0          0          0  \n",
       "3      0          0          0          0  \n",
       "4      0          0          0          0  \n",
       "\n",
       "[5 rows x 1834 columns]"
      ]
     },
     "execution_count": 69,
     "metadata": {},
     "output_type": "execute_result"
    }
   ],
   "source": [
    "vect = CountVectorizer(stop_words='english', min_df=0.02, max_df=0.90, lowercase=True)\n",
    "\n",
    "vect.fit(df['description'])\n",
    "\n",
    "dtm = vect.transform(df['description'])\n",
    "\n",
    "dfWords = pd.DataFrame(dtm.todense(), columns=vect.get_feature_names())\n",
    "\n",
    "dfWords.head()"
   ]
  },
  {
   "cell_type": "markdown",
   "metadata": {
    "colab_type": "text",
    "id": "Zo1iH_UeY7_n"
   },
   "source": [
    "## 4) Visualize the most common word counts"
   ]
  },
  {
   "cell_type": "code",
   "execution_count": 70,
   "metadata": {
    "colab": {},
    "colab_type": "code",
    "id": "M5LB00uyZKV5"
   },
   "outputs": [],
   "source": [
    "# creates a df of the most common words and then a df of the top 15\n",
    "\n",
    "common_words = pd.DataFrame(dfWords.sum().sort_values(ascending=False))\n",
    "\n",
    "common_words.reset_index(inplace=True)\n",
    "\n",
    "common_words.columns=['word', 'count']\n",
    "\n",
    "top15words = common_words.head(15)"
   ]
  },
  {
   "cell_type": "code",
   "execution_count": 71,
   "metadata": {},
   "outputs": [
    {
     "data": {
      "image/png": "[encoded data removed]",
      "text/plain": [
       "<Figure size 1440x360 with 1 Axes>"
      ]
     },
     "metadata": {},
     "output_type": "display_data"
    }
   ],
   "source": [
    "# plots the top 15 words\n",
    "plt.style.use('dark_background')\n",
    "plt.figure(figsize=(20, 5))\n",
    "sns.barplot(x=top15words['word'], y=top15words['count']).set_title('top 15 words');"
   ]
  },
  {
   "cell_type": "markdown",
   "metadata": {
    "colab_type": "text",
    "id": "bwFsTqrVZMYi"
   },
   "source": [
    "## 5) Use Scikit-Learn's tfidfVectorizer to get a TF-IDF feature matrix"
   ]
  },
  {
   "cell_type": "code",
   "execution_count": 74,
   "metadata": {
    "colab": {},
    "colab_type": "code",
    "id": "-gx2gZCbl5Np"
   },
   "outputs": [],
   "source": [
    "tfidf = TfidfVectorizer(stop_words='english', min_df = 0.2, max_df=0.99, ngram_range=(1,2), lowercase=True)\n",
    "\n",
    "sparse_dtm = tfidf.fit_transform(df['description'])\n",
    "\n",
    "DF = pd.DataFrame(sparse_dtm.todense(), columns=tfidf.get_feature_names())"
   ]
  },
  {
   "cell_type": "code",
   "execution_count": 75,
   "metadata": {},
   "outputs": [
    {
     "data": {
      "text/html": [
       "<div>\n",
       "<style scoped>\n",
       "    .dataframe tbody tr th:only-of-type {\n",
       "        vertical-align: middle;\n",
       "    }\n",
       "\n",
       "    .dataframe tbody tr th {\n",
       "        vertical-align: top;\n",
       "    }\n",
       "\n",
       "    .dataframe thead th {\n",
       "        text-align: right;\n",
       "    }\n",
       "</style>\n",
       "<table border=\"1\" class=\"dataframe\">\n",
       "  <thead>\n",
       "    <tr style=\"text-align: right;\">\n",
       "      <th></th>\n",
       "      <th>ability</th>\n",
       "      <th>able</th>\n",
       "      <th>advanced</th>\n",
       "      <th>age</th>\n",
       "      <th>algorithms</th>\n",
       "      <th>analyses</th>\n",
       "      <th>analysis</th>\n",
       "      <th>analytical</th>\n",
       "      <th>analytics</th>\n",
       "      <th>analyze</th>\n",
       "      <th>...</th>\n",
       "      <th>veteran</th>\n",
       "      <th>veteran status</th>\n",
       "      <th>visualization</th>\n",
       "      <th>way</th>\n",
       "      <th>work</th>\n",
       "      <th>working</th>\n",
       "      <th>world</th>\n",
       "      <th>written</th>\n",
       "      <th>years</th>\n",
       "      <th>years experience</th>\n",
       "    </tr>\n",
       "  </thead>\n",
       "  <tbody>\n",
       "    <tr>\n",
       "      <th>0</th>\n",
       "      <td>0.295921</td>\n",
       "      <td>0.0</td>\n",
       "      <td>0.000000</td>\n",
       "      <td>0.000000</td>\n",
       "      <td>0.00000</td>\n",
       "      <td>0.0</td>\n",
       "      <td>0.00000</td>\n",
       "      <td>0.000000</td>\n",
       "      <td>0.000000</td>\n",
       "      <td>0.0</td>\n",
       "      <td>...</td>\n",
       "      <td>0.000000</td>\n",
       "      <td>0.000000</td>\n",
       "      <td>0.0</td>\n",
       "      <td>0.00000</td>\n",
       "      <td>0.112122</td>\n",
       "      <td>0.000000</td>\n",
       "      <td>0.000000</td>\n",
       "      <td>0.000000</td>\n",
       "      <td>0.0000</td>\n",
       "      <td>0.0</td>\n",
       "    </tr>\n",
       "    <tr>\n",
       "      <th>1</th>\n",
       "      <td>0.053355</td>\n",
       "      <td>0.0</td>\n",
       "      <td>0.000000</td>\n",
       "      <td>0.000000</td>\n",
       "      <td>0.00000</td>\n",
       "      <td>0.0</td>\n",
       "      <td>0.04663</td>\n",
       "      <td>0.061912</td>\n",
       "      <td>0.000000</td>\n",
       "      <td>0.0</td>\n",
       "      <td>...</td>\n",
       "      <td>0.000000</td>\n",
       "      <td>0.000000</td>\n",
       "      <td>0.0</td>\n",
       "      <td>0.08353</td>\n",
       "      <td>0.161726</td>\n",
       "      <td>0.105873</td>\n",
       "      <td>0.069546</td>\n",
       "      <td>0.075425</td>\n",
       "      <td>0.0000</td>\n",
       "      <td>0.0</td>\n",
       "    </tr>\n",
       "    <tr>\n",
       "      <th>2</th>\n",
       "      <td>0.112852</td>\n",
       "      <td>0.0</td>\n",
       "      <td>0.134864</td>\n",
       "      <td>0.000000</td>\n",
       "      <td>0.14384</td>\n",
       "      <td>0.0</td>\n",
       "      <td>0.00000</td>\n",
       "      <td>0.130952</td>\n",
       "      <td>0.111384</td>\n",
       "      <td>0.0</td>\n",
       "      <td>...</td>\n",
       "      <td>0.000000</td>\n",
       "      <td>0.000000</td>\n",
       "      <td>0.0</td>\n",
       "      <td>0.00000</td>\n",
       "      <td>0.000000</td>\n",
       "      <td>0.111967</td>\n",
       "      <td>0.000000</td>\n",
       "      <td>0.000000</td>\n",
       "      <td>0.0000</td>\n",
       "      <td>0.0</td>\n",
       "    </tr>\n",
       "    <tr>\n",
       "      <th>3</th>\n",
       "      <td>0.000000</td>\n",
       "      <td>0.0</td>\n",
       "      <td>0.000000</td>\n",
       "      <td>0.148078</td>\n",
       "      <td>0.00000</td>\n",
       "      <td>0.0</td>\n",
       "      <td>0.00000</td>\n",
       "      <td>0.000000</td>\n",
       "      <td>0.000000</td>\n",
       "      <td>0.0</td>\n",
       "      <td>...</td>\n",
       "      <td>0.139337</td>\n",
       "      <td>0.147494</td>\n",
       "      <td>0.0</td>\n",
       "      <td>0.00000</td>\n",
       "      <td>0.145667</td>\n",
       "      <td>0.000000</td>\n",
       "      <td>0.000000</td>\n",
       "      <td>0.000000</td>\n",
       "      <td>0.0000</td>\n",
       "      <td>0.0</td>\n",
       "    </tr>\n",
       "    <tr>\n",
       "      <th>4</th>\n",
       "      <td>0.000000</td>\n",
       "      <td>0.0</td>\n",
       "      <td>0.000000</td>\n",
       "      <td>0.000000</td>\n",
       "      <td>0.00000</td>\n",
       "      <td>0.0</td>\n",
       "      <td>0.00000</td>\n",
       "      <td>0.000000</td>\n",
       "      <td>0.225260</td>\n",
       "      <td>0.0</td>\n",
       "      <td>...</td>\n",
       "      <td>0.000000</td>\n",
       "      <td>0.000000</td>\n",
       "      <td>0.0</td>\n",
       "      <td>0.00000</td>\n",
       "      <td>0.000000</td>\n",
       "      <td>0.000000</td>\n",
       "      <td>0.000000</td>\n",
       "      <td>0.000000</td>\n",
       "      <td>0.2145</td>\n",
       "      <td>0.0</td>\n",
       "    </tr>\n",
       "  </tbody>\n",
       "</table>\n",
       "<p>5 rows × 226 columns</p>\n",
       "</div>"
      ],
      "text/plain": [
       "    ability  able  advanced       age  algorithms  analyses  analysis  \\\n",
       "0  0.295921   0.0  0.000000  0.000000     0.00000       0.0   0.00000   \n",
       "1  0.053355   0.0  0.000000  0.000000     0.00000       0.0   0.04663   \n",
       "2  0.112852   0.0  0.134864  0.000000     0.14384       0.0   0.00000   \n",
       "3  0.000000   0.0  0.000000  0.148078     0.00000       0.0   0.00000   \n",
       "4  0.000000   0.0  0.000000  0.000000     0.00000       0.0   0.00000   \n",
       "\n",
       "   analytical  analytics  analyze  ...   veteran  veteran status  \\\n",
       "0    0.000000   0.000000      0.0  ...  0.000000        0.000000   \n",
       "1    0.061912   0.000000      0.0  ...  0.000000        0.000000   \n",
       "2    0.130952   0.111384      0.0  ...  0.000000        0.000000   \n",
       "3    0.000000   0.000000      0.0  ...  0.139337        0.147494   \n",
       "4    0.000000   0.225260      0.0  ...  0.000000        0.000000   \n",
       "\n",
       "   visualization      way      work   working     world   written   years  \\\n",
       "0            0.0  0.00000  0.112122  0.000000  0.000000  0.000000  0.0000   \n",
       "1            0.0  0.08353  0.161726  0.105873  0.069546  0.075425  0.0000   \n",
       "2            0.0  0.00000  0.000000  0.111967  0.000000  0.000000  0.0000   \n",
       "3            0.0  0.00000  0.145667  0.000000  0.000000  0.000000  0.0000   \n",
       "4            0.0  0.00000  0.000000  0.000000  0.000000  0.000000  0.2145   \n",
       "\n",
       "   years experience  \n",
       "0               0.0  \n",
       "1               0.0  \n",
       "2               0.0  \n",
       "3               0.0  \n",
       "4               0.0  \n",
       "\n",
       "[5 rows x 226 columns]"
      ]
     },
     "execution_count": 75,
     "metadata": {},
     "output_type": "execute_result"
    }
   ],
   "source": [
    "DF.head()"
   ]
  },
  {
   "cell_type": "markdown",
   "metadata": {},
   "source": [
    "## 6) Create a NearestNeighbor Model. Write the description of your ideal datascience job and query your job listings. "
   ]
  },
  {
   "cell_type": "code",
   "execution_count": 78,
   "metadata": {
    "collapsed": false,
    "inputHidden": false,
    "outputHidden": false
   },
   "outputs": [
    {
     "data": {
      "text/plain": [
       "NearestNeighbors(algorithm='ball_tree', leaf_size=30, metric='minkowski',\n",
       "         metric_params=None, n_jobs=None, n_neighbors=5, p=2, radius=1.0)"
      ]
     },
     "execution_count": 78,
     "metadata": {},
     "output_type": "execute_result"
    }
   ],
   "source": [
    "# sets up nearest neighbor parameters\n",
    "nn = NearestNeighbors(n_neighbors=5, algorithm='ball_tree')\n",
    "\n",
    "# fits nearest neighbor model to tfidf vector matrix\n",
    "nn.fit(DF)"
   ]
  },
  {
   "cell_type": "code",
   "execution_count": 80,
   "metadata": {},
   "outputs": [
    {
     "data": {
      "text/plain": [
       "(array([[0.        , 0.        , 0.90846087, 0.97782601, 0.98150786]]),\n",
       " array([[ 28,  12, 199, 410,  34]]))"
      ]
     },
     "execution_count": 80,
     "metadata": {},
     "output_type": "execute_result"
    }
   ],
   "source": [
    "# querys a arbitrary job listing\n",
    "nn.kneighbors([DF.iloc[12]])"
   ]
  },
  {
   "cell_type": "code",
   "execution_count": 85,
   "metadata": {},
   "outputs": [
    {
     "data": {
      "text/plain": [
       "True"
      ]
     },
     "execution_count": 85,
     "metadata": {},
     "output_type": "execute_result"
    }
   ],
   "source": [
    "# the same job posting was posted more than once since this returns true\n",
    "# this explains the 0 value from before\n",
    "df['description'][28] == df['description'][12] "
   ]
  },
  {
   "cell_type": "code",
   "execution_count": 98,
   "metadata": {},
   "outputs": [],
   "source": [
    "my_job_description = ['''\n",
    "    In search of a entry level data scientist to join a team doing data science! \\n\n",
    "    The ideal candidate will be proficient in python as well as the following python libraries: \\m\n",
    "    pandas, numpy, seaborn, matplotlib, sklearn, and spacy\n",
    "''']\n",
    "\n",
    "my_job_transformed = tfidf.transform(my_job_description)"
   ]
  },
  {
   "cell_type": "code",
   "execution_count": 99,
   "metadata": {},
   "outputs": [
    {
     "data": {
      "text/plain": [
       "(array([[1.10458443, 1.14209807, 1.14244028, 1.16469432, 1.17165091]]),\n",
       " array([[291, 421, 178, 401, 210]]))"
      ]
     },
     "execution_count": 99,
     "metadata": {},
     "output_type": "execute_result"
    }
   ],
   "source": [
    "# looks for similar job postings\n",
    "\n",
    "nn.kneighbors(my_job_transformed.todense())"
   ]
  },
  {
   "cell_type": "code",
   "execution_count": 101,
   "metadata": {},
   "outputs": [
    {
     "data": {
      "text/plain": [
       "'our growing data science team is central to our global strategy their work enables our clients to quickly create and deploy solutions that drive innovation optimise operations offer insight and drive transformation ultimately the team are responsible for enabling our clientxexxs competitiveness by accelerating roi from any data science initiative with products that transform data into insight  operating across sectors and with a high degree independence our data scientists have helped improve performance for f teams built solutions for reducing fraud in financial trading and initiated changes in californian traffic laws we are looking for a senior data scientist to join our team you are seeking an opportunity to deliver thought leadership to challenge and develop both your knowledge as well as our clientxexxs data science capabilities you will join a team of highly collaborative individuals as a senior team member and play a key role in developing our capability and establishing tibco leadership in the space you will lead client conversations represent tibco at industry events and draw together our tibco user community the role can be based in boston chapel hill washington dc or new york city what youll do work with customers engage through presales supportxexxincluding proofs of concept and postsales data science consultingxexxtypically developing aiml models that are deployed into operational systems deliver innovation input to product managementengineering and direct development of novel aiml data science software featuresdefine and create reusable data science assets such as templates increase awarenesscreate technical marketing content author white papers blogs and new content for the tibco user community represent the data science team as a speaker or instructor in industry events and external conferences collaborate across stakeholder team on specific industry knowledge analytics use cases and customer stories who you are  years of experience in advanced data analysis and delivery of demonstrations projects engagements or deployed software applications experience with applying predictive analytics such as machine learning and optimization techniques to large complex and disparate data sources the ability to comfortably communicate with senior industry personnel provide compelling presentations and demonstrations of analytics software and the business value of analytics projects demonstrating domain knowledge in a key industry such as financial services preferred manufacturing energy telecommunications or retail  years of experience with r or python and some knowledge of sql and experience with other software environments eg sas matlab spotfire tableau qlikview spss knime andor other data mining tools experience with other software components for data preparation and integration eg data virtualization and big data tools such as hadoop and spark andor further programming or scripting environments eg net java ironpython javascript c is a plus a masterxexxs degree in computer science statistics data science or related analytical field of study with graduate classes in statistics and data mining capable of working in in a dynamic fast paced environment language skills business level english'"
      ]
     },
     "execution_count": 101,
     "metadata": {},
     "output_type": "execute_result"
    }
   ],
   "source": [
    "# looks at most similar result\n",
    "\n",
    "df['description'][291]"
   ]
  },
  {
   "cell_type": "markdown",
   "metadata": {
    "colab_type": "text",
    "id": "FiDfTWceoRkH"
   },
   "source": [
    "## Stretch Goals\n",
    "\n",
    " - Try different visualizations for words and frequencies - what story do you want to tell with the data?\n",
    " - Scrape Job Listings for the job title \"Data Analyst\". How do these differ from Data Scientist Job Listings\n",
    " - Try and identify requirements for experience specific technologies that are asked for in the job listings. How are those distributed among the job listings?\n",
    " - Use a clustering algorithm to cluster documents by their most important terms. Do the clusters reveal any common themes?\n",
    "  - **Hint:** K-means might not be the best algorithm for this. Do a little bit of research to see what might be good for this. Also, remember that algorithms that depend on Euclidean distance break down with high dimensional data.\n",
    " - Create a labeled dataset - which jobs will you apply for? Train a model to select the jobs you are most likely to apply for. :) "
   ]
  }
 ],
 "metadata": {
  "colab": {
   "collapsed_sections": [],
   "name": "LS_DS_422_BOW_Assignment.ipynb",
   "provenance": [],
   "version": "0.3.2"
  },
  "kernel_info": {
   "name": "python3"
  },
  "kernelspec": {
   "display_name": "U4S1",
   "language": "python",
   "name": "u4s1"
  },
  "language_info": {
   "codemirror_mode": {
    "name": "ipython",
    "version": 3
   },
   "file_extension": ".py",
   "mimetype": "text/x-python",
   "name": "python",
   "nbconvert_exporter": "python",
   "pygments_lexer": "ipython3",
   "version": "3.7.3"
  },
  "nteract": {
   "version": "0.14.3"
  }
 },
 "nbformat": 4,
 "nbformat_minor": 2
}

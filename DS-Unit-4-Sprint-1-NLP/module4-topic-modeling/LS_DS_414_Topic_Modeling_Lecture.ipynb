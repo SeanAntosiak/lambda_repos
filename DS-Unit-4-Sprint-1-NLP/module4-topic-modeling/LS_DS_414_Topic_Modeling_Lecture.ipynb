{
 "cells": [
  {
   "cell_type": "markdown",
   "metadata": {},
   "source": [
    "Lambda School Data Science\n",
    "\n",
    "*Unit 4, Sprint 1, Module 4*\n",
    "\n",
    "---"
   ]
  },
  {
   "cell_type": "markdown",
   "metadata": {},
   "source": [
    "# Topic Modeling (Prepare)"
   ]
  },
  {
   "cell_type": "markdown",
   "metadata": {},
   "source": [
    "# Latent Dirchilet Allocation (LDA) Models (Prepare)\n",
    "<a id=\"#p1\"></a>"
   ]
  },
  {
   "cell_type": "markdown",
   "metadata": {},
   "source": [
    "## Overview\n",
    "LDA is a \"generative probabilistic model\". \n",
    "\n",
    "Let's play with a modoel available [here](https://lettier.com/projects/lda-topic-modeling/)"
   ]
  },
  {
   "cell_type": "markdown",
   "metadata": {},
   "source": [
    "## Follow Along"
   ]
  },
  {
   "cell_type": "markdown",
   "metadata": {},
   "source": [
    "## Challenge "
   ]
  },
  {
   "cell_type": "markdown",
   "metadata": {},
   "source": [
    "# Estimating LDA Models with Gensim (Learn)\n",
    "<a id=\"#p1\"></a>"
   ]
  },
  {
   "cell_type": "markdown",
   "metadata": {
    "toc-hr-collapsed": true
   },
   "source": [
    "## Overview\n",
    "### A Litterary Introduction: *Jane Austen V. Charlotte Bronte*\n",
    "Despite being born nearly forty years apart, modern fans often pit Jane Austen & Charlotte Bronte against one another in a battle for litterary  supremacy. The battle centers around the topics of education for women, courting, and marriage. The authors' similiar backgrounds naturally draw comparisons, but the modern fascination is probably due to novelility of British women publishing novels during the early 19th century. \n",
    "\n",
    "Can we help close a litterary battle for supremacy and simply acknowledge that the authors addressed different topics and deserve to be acknowledged as excellent authors each in their own right?\n",
    "\n",
    "We're going to apply Latent Dirichlet Allocation a machine learning alogrithm for topic modeling to each of the author's novels to compare the distribution of topics in their novels."
   ]
  },
  {
   "cell_type": "code",
   "execution_count": 1,
   "metadata": {},
   "outputs": [],
   "source": [
    "import numpy as np\n",
    "import gensim\n",
    "import os\n",
    "import re\n",
    "\n",
    "from gensim.utils import simple_preprocess\n",
    "from gensim.parsing.preprocessing import STOPWORDS\n",
    "from gensim import corpora\n",
    "\n",
    "from gensim.models.ldamulticore import LdaMulticore\n",
    "\n",
    "import pandas as pd"
   ]
  },
  {
   "cell_type": "markdown",
   "metadata": {},
   "source": [
    "### Novel Data\n",
    "I grabbed the novel data pre-split into a bunch of smaller chuncks"
   ]
  },
  {
   "cell_type": "code",
   "execution_count": 2,
   "metadata": {},
   "outputs": [],
   "source": [
    "path = './data/austen-brontë-split'"
   ]
  },
  {
   "cell_type": "code",
   "execution_count": 3,
   "metadata": {},
   "outputs": [],
   "source": [
    "import os\n",
    "\n",
    "def gather_data(path_to_data): \n",
    "    data = []\n",
    "    \n",
    "    for f in os.listdir(path):\n",
    "        with open(os.path.join(path,f)) as t:\n",
    "            text = t.read().strip('\\n')\n",
    "            data.append(tokenize(str(text)))\n",
    "            \n",
    "    return data"
   ]
  },
  {
   "cell_type": "code",
   "execution_count": 4,
   "metadata": {},
   "outputs": [
    {
     "ename": "NameError",
     "evalue": "name 'tokenize' is not defined",
     "output_type": "error",
     "traceback": [
      "\u001b[0;31m---------------------------------------------------------------------------\u001b[0m",
      "\u001b[0;31mNameError\u001b[0m                                 Traceback (most recent call last)",
      "\u001b[0;32m<ipython-input-4-f50318e3d067>\u001b[0m in \u001b[0;36m<module>\u001b[0;34m\u001b[0m\n\u001b[0;32m----> 1\u001b[0;31m \u001b[0mdf\u001b[0m\u001b[0;34m[\u001b[0m\u001b[0;34m'tokens'\u001b[0m\u001b[0;34m]\u001b[0m \u001b[0;34m=\u001b[0m \u001b[0mgather_data\u001b[0m\u001b[0;34m(\u001b[0m\u001b[0mpath\u001b[0m\u001b[0;34m)\u001b[0m\u001b[0;34m\u001b[0m\u001b[0;34m\u001b[0m\u001b[0m\n\u001b[0m",
      "\u001b[0;32m<ipython-input-3-95a914ca7e5c>\u001b[0m in \u001b[0;36mgather_data\u001b[0;34m(path_to_data)\u001b[0m\n\u001b[1;32m      7\u001b[0m         \u001b[0;32mwith\u001b[0m \u001b[0mopen\u001b[0m\u001b[0;34m(\u001b[0m\u001b[0mos\u001b[0m\u001b[0;34m.\u001b[0m\u001b[0mpath\u001b[0m\u001b[0;34m.\u001b[0m\u001b[0mjoin\u001b[0m\u001b[0;34m(\u001b[0m\u001b[0mpath\u001b[0m\u001b[0;34m,\u001b[0m\u001b[0mf\u001b[0m\u001b[0;34m)\u001b[0m\u001b[0;34m)\u001b[0m \u001b[0;32mas\u001b[0m \u001b[0mt\u001b[0m\u001b[0;34m:\u001b[0m\u001b[0;34m\u001b[0m\u001b[0;34m\u001b[0m\u001b[0m\n\u001b[1;32m      8\u001b[0m             \u001b[0mtext\u001b[0m \u001b[0;34m=\u001b[0m \u001b[0mt\u001b[0m\u001b[0;34m.\u001b[0m\u001b[0mread\u001b[0m\u001b[0;34m(\u001b[0m\u001b[0;34m)\u001b[0m\u001b[0;34m.\u001b[0m\u001b[0mstrip\u001b[0m\u001b[0;34m(\u001b[0m\u001b[0;34m'\\n'\u001b[0m\u001b[0;34m)\u001b[0m\u001b[0;34m\u001b[0m\u001b[0;34m\u001b[0m\u001b[0m\n\u001b[0;32m----> 9\u001b[0;31m             \u001b[0mdata\u001b[0m\u001b[0;34m.\u001b[0m\u001b[0mappend\u001b[0m\u001b[0;34m(\u001b[0m\u001b[0mtokenize\u001b[0m\u001b[0;34m(\u001b[0m\u001b[0mstr\u001b[0m\u001b[0;34m(\u001b[0m\u001b[0mtext\u001b[0m\u001b[0;34m)\u001b[0m\u001b[0;34m)\u001b[0m\u001b[0;34m)\u001b[0m\u001b[0;34m\u001b[0m\u001b[0;34m\u001b[0m\u001b[0m\n\u001b[0m\u001b[1;32m     10\u001b[0m \u001b[0;34m\u001b[0m\u001b[0m\n\u001b[1;32m     11\u001b[0m     \u001b[0;32mreturn\u001b[0m \u001b[0mdata\u001b[0m\u001b[0;34m\u001b[0m\u001b[0;34m\u001b[0m\u001b[0m\n",
      "\u001b[0;31mNameError\u001b[0m: name 'tokenize' is not defined"
     ]
    }
   ],
   "source": [
    "df['tokens'] = gather_data(path)"
   ]
  },
  {
   "cell_type": "code",
   "execution_count": 5,
   "metadata": {},
   "outputs": [
    {
     "data": {
      "text/plain": [
       "'this is a sample string with a  newline character'"
      ]
     },
     "execution_count": 5,
     "metadata": {},
     "output_type": "execute_result"
    }
   ],
   "source": [
    "\"this is a sample string with a \\n newline character\".replace('\\n', '')"
   ]
  },
  {
   "cell_type": "code",
   "execution_count": 6,
   "metadata": {},
   "outputs": [
    {
     "ename": "NameError",
     "evalue": "name 'df' is not defined",
     "output_type": "error",
     "traceback": [
      "\u001b[0;31m---------------------------------------------------------------------------\u001b[0m",
      "\u001b[0;31mNameError\u001b[0m                                 Traceback (most recent call last)",
      "\u001b[0;32m<ipython-input-6-def78a59a710>\u001b[0m in \u001b[0;36m<module>\u001b[0;34m\u001b[0m\n\u001b[0;32m----> 1\u001b[0;31m \u001b[0mdf\u001b[0m\u001b[0;34m[\u001b[0m\u001b[0;34m'tokens'\u001b[0m\u001b[0;34m]\u001b[0m\u001b[0;34m.\u001b[0m\u001b[0mhead\u001b[0m\u001b[0;34m(\u001b[0m\u001b[0;34m)\u001b[0m\u001b[0;34m\u001b[0m\u001b[0;34m\u001b[0m\u001b[0m\n\u001b[0m",
      "\u001b[0;31mNameError\u001b[0m: name 'df' is not defined"
     ]
    }
   ],
   "source": [
    "df['tokens'].head()"
   ]
  },
  {
   "cell_type": "markdown",
   "metadata": {
    "toc-hr-collapsed": true
   },
   "source": [
    "## Follow Along"
   ]
  },
  {
   "cell_type": "markdown",
   "metadata": {},
   "source": [
    "### Text Preprocessing\n",
    "**Challenge**: update the function `tokenize` with any technique you have learned so far this week. "
   ]
  },
  {
   "cell_type": "code",
   "execution_count": 7,
   "metadata": {},
   "outputs": [],
   "source": [
    "titles = [t[:-4] for t in os.listdir(path)]"
   ]
  },
  {
   "cell_type": "code",
   "execution_count": 8,
   "metadata": {},
   "outputs": [
    {
     "data": {
      "text/plain": [
       "['Austen_Emma0026',\n",
       " 'Austen_Emma0032',\n",
       " 'CBronte_Villette0086',\n",
       " 'CBronte_Jane0099',\n",
       " 'CBronte_Villette0092']"
      ]
     },
     "execution_count": 8,
     "metadata": {},
     "output_type": "execute_result"
    }
   ],
   "source": [
    "titles[:5]"
   ]
  },
  {
   "cell_type": "code",
   "execution_count": 6,
   "metadata": {},
   "outputs": [],
   "source": [
    "STOPWORDS = set(STOPWORDS).union(set(['said', 'mr', 'mrs']))\n",
    "\n",
    "def tokenize(text):\n",
    "    return [token for token in simple_preprocess(text) if token not in STOPWORDS]"
   ]
  },
  {
   "cell_type": "code",
   "execution_count": 7,
   "metadata": {},
   "outputs": [
    {
     "data": {
      "text/plain": [
       "['hello', 'world', 'test', 'tokenization', 'method']"
      ]
     },
     "execution_count": 7,
     "metadata": {},
     "output_type": "execute_result"
    }
   ],
   "source": [
    "tokenize(\"Hello World! This a test of the tokenization method\")"
   ]
  },
  {
   "cell_type": "markdown",
   "metadata": {},
   "source": [
    "### Author DataFrame\n"
   ]
  },
  {
   "cell_type": "code",
   "execution_count": 9,
   "metadata": {},
   "outputs": [],
   "source": [
    "df = pd.DataFrame(index=titles)"
   ]
  },
  {
   "cell_type": "code",
   "execution_count": 10,
   "metadata": {},
   "outputs": [
    {
     "data": {
      "text/html": [
       "<div>\n",
       "<style scoped>\n",
       "    .dataframe tbody tr th:only-of-type {\n",
       "        vertical-align: middle;\n",
       "    }\n",
       "\n",
       "    .dataframe tbody tr th {\n",
       "        vertical-align: top;\n",
       "    }\n",
       "\n",
       "    .dataframe thead th {\n",
       "        text-align: right;\n",
       "    }\n",
       "</style>\n",
       "<table border=\"1\" class=\"dataframe\">\n",
       "  <thead>\n",
       "    <tr style=\"text-align: right;\">\n",
       "      <th></th>\n",
       "    </tr>\n",
       "  </thead>\n",
       "  <tbody>\n",
       "    <tr>\n",
       "      <th>Austen_Emma0026</th>\n",
       "    </tr>\n",
       "    <tr>\n",
       "      <th>Austen_Emma0032</th>\n",
       "    </tr>\n",
       "    <tr>\n",
       "      <th>CBronte_Villette0086</th>\n",
       "    </tr>\n",
       "    <tr>\n",
       "      <th>CBronte_Jane0099</th>\n",
       "    </tr>\n",
       "    <tr>\n",
       "      <th>CBronte_Villette0092</th>\n",
       "    </tr>\n",
       "  </tbody>\n",
       "</table>\n",
       "</div>"
      ],
      "text/plain": [
       "Empty DataFrame\n",
       "Columns: []\n",
       "Index: [Austen_Emma0026, Austen_Emma0032, CBronte_Villette0086, CBronte_Jane0099, CBronte_Villette0092]"
      ]
     },
     "execution_count": 10,
     "metadata": {},
     "output_type": "execute_result"
    }
   ],
   "source": [
    "df.head()"
   ]
  },
  {
   "cell_type": "code",
   "execution_count": 65,
   "metadata": {},
   "outputs": [],
   "source": [
    "df['author'] = df.reset_index()['index'].apply(lambda x: x.split('_')[0]).tolist()\n",
    "df['book'] = df.reset_index()['index'].apply(lambda x: x.split('_')[1][:-4]).tolist()\n",
    "df['section'] = df.reset_index()['index'].apply(lambda x: x[-4:]).tolist()\n",
    "df['section'] = df['section'].astype('int')"
   ]
  },
  {
   "cell_type": "code",
   "execution_count": 66,
   "metadata": {},
   "outputs": [],
   "source": [
    "df['author'] = df['author'].map({'Austen':1, 'CBronte':0})"
   ]
  },
  {
   "cell_type": "code",
   "execution_count": 16,
   "metadata": {},
   "outputs": [
    {
     "data": {
      "text/plain": [
       "0.0    441\n",
       "1.0    372\n",
       "Name: author, dtype: int64"
      ]
     },
     "execution_count": 16,
     "metadata": {},
     "output_type": "execute_result"
    }
   ],
   "source": [
    "df.author.value_counts()"
   ]
  },
  {
   "cell_type": "markdown",
   "metadata": {},
   "source": [
    "### Streaming Documents\n",
    "Here we use a new pythonic thingy: the `yield` statement in our fucntion. This allows us to iterate over a bunch of documents without actually reading them into memory. You can see how we use this fucntion later on. "
   ]
  },
  {
   "cell_type": "code",
   "execution_count": 17,
   "metadata": {},
   "outputs": [],
   "source": [
    "def doc_stream(path):\n",
    "    for f in os.listdir(path):\n",
    "        with open(os.path.join(path,f)) as t:\n",
    "            text = t.read().strip('\\n')\n",
    "            tokens = tokenize(str(text))\n",
    "            yield tokens"
   ]
  },
  {
   "cell_type": "code",
   "execution_count": 27,
   "metadata": {},
   "outputs": [],
   "source": [
    "streaming_data = doc_stream(path)"
   ]
  },
  {
   "cell_type": "code",
   "execution_count": 29,
   "metadata": {},
   "outputs": [
    {
     "name": "stdout",
     "output_type": "stream",
     "text": [
      "\n"
     ]
    }
   ],
   "source": [
    "print()"
   ]
  },
  {
   "cell_type": "code",
   "execution_count": null,
   "metadata": {},
   "outputs": [],
   "source": []
  },
  {
   "cell_type": "markdown",
   "metadata": {},
   "source": [
    "### Gensim LDA Topic Modeling"
   ]
  },
  {
   "cell_type": "code",
   "execution_count": 32,
   "metadata": {},
   "outputs": [],
   "source": [
    "# A Dictionary Representation of all the words in our corpus\n",
    "id2word = corpora.Dictionary(doc_stream(path))"
   ]
  },
  {
   "cell_type": "code",
   "execution_count": 34,
   "metadata": {},
   "outputs": [
    {
     "data": {
      "text/plain": [
       "869"
      ]
     },
     "execution_count": 34,
     "metadata": {},
     "output_type": "execute_result"
    }
   ],
   "source": [
    "id2word.token2id['england']"
   ]
  },
  {
   "cell_type": "code",
   "execution_count": null,
   "metadata": {},
   "outputs": [],
   "source": []
  },
  {
   "cell_type": "code",
   "execution_count": 37,
   "metadata": {},
   "outputs": [
    {
     "data": {
      "text/plain": [
       "[(869, 3), (1254, 1), (2485, 1), (16850, 1)]"
      ]
     },
     "execution_count": 37,
     "metadata": {},
     "output_type": "execute_result"
    }
   ],
   "source": [
    "id2word.doc2bow(tokenize(\"This is a sample message Darcy England England England\"))"
   ]
  },
  {
   "cell_type": "code",
   "execution_count": null,
   "metadata": {},
   "outputs": [],
   "source": [
    "import sys\n",
    "sys.getsizeof(id2word)"
   ]
  },
  {
   "cell_type": "code",
   "execution_count": null,
   "metadata": {},
   "outputs": [],
   "source": [
    "len(id2word.keys())"
   ]
  },
  {
   "cell_type": "code",
   "execution_count": 38,
   "metadata": {},
   "outputs": [],
   "source": [
    "# Let's remove extreme values from the dataset\n",
    "id2word.filter_extremes(no_below=10, no_above=0.75)"
   ]
  },
  {
   "cell_type": "code",
   "execution_count": 39,
   "metadata": {},
   "outputs": [
    {
     "data": {
      "text/plain": [
       "4921"
      ]
     },
     "execution_count": 39,
     "metadata": {},
     "output_type": "execute_result"
    }
   ],
   "source": [
    "len(id2word.keys())"
   ]
  },
  {
   "cell_type": "code",
   "execution_count": 40,
   "metadata": {},
   "outputs": [],
   "source": [
    "# a bag of words(bow) representation of our corpus\n",
    "# Note: we haven't actually read any text into memory here\n",
    "corpus = [id2word.doc2bow(text) for text in doc_stream(path)]"
   ]
  },
  {
   "cell_type": "code",
   "execution_count": 41,
   "metadata": {},
   "outputs": [],
   "source": [
    "lda = LdaMulticore(corpus=corpus,\n",
    "                   id2word=id2word,\n",
    "                   random_state=723812,\n",
    "                   num_topics = 15,\n",
    "                   passes=10,\n",
    "                   workers=4\n",
    "                  )"
   ]
  },
  {
   "cell_type": "code",
   "execution_count": 42,
   "metadata": {},
   "outputs": [
    {
     "data": {
      "text/plain": [
       "[(0,\n",
       "  '0.035*\"marianne\" + 0.027*\"elinor\" + 0.018*\"willoughby\" + 0.011*\"sister\" + 0.011*\"jennings\" + 0.008*\"mother\" + 0.006*\"dashwood\" + 0.006*\"moment\" + 0.006*\"heart\" + 0.005*\"colonel\"'),\n",
       " (1,\n",
       "  '0.014*\"elinor\" + 0.009*\"edward\" + 0.008*\"sister\" + 0.007*\"mother\" + 0.006*\"lucy\" + 0.006*\"marianne\" + 0.006*\"think\" + 0.006*\"know\" + 0.006*\"colonel\" + 0.006*\"dashwood\"'),\n",
       " (2,\n",
       "  '0.009*\"like\" + 0.008*\"miss\" + 0.007*\"rochester\" + 0.006*\"room\" + 0.006*\"lady\" + 0.005*\"bessie\" + 0.004*\"think\" + 0.004*\"know\" + 0.004*\"come\" + 0.004*\"day\"'),\n",
       " (3,\n",
       "  '0.016*\"adele\" + 0.012*\"rochester\" + 0.008*\"ladies\" + 0.008*\"ll\" + 0.006*\"shall\" + 0.006*\"think\" + 0.006*\"sir\" + 0.006*\"long\" + 0.006*\"fairfax\" + 0.005*\"like\"'),\n",
       " (4,\n",
       "  '0.014*\"emma\" + 0.009*\"harriet\" + 0.008*\"miss\" + 0.007*\"think\" + 0.007*\"thing\" + 0.006*\"knightley\" + 0.006*\"weston\" + 0.006*\"elton\" + 0.006*\"know\" + 0.005*\"great\"'),\n",
       " (5,\n",
       "  '0.029*\"miss\" + 0.012*\"jane\" + 0.012*\"know\" + 0.010*\"thing\" + 0.009*\"think\" + 0.009*\"weston\" + 0.009*\"oh\" + 0.008*\"emma\" + 0.008*\"fairfax\" + 0.008*\"sure\"'),\n",
       " (6,\n",
       "  '0.010*\"hunsden\" + 0.007*\"like\" + 0.005*\"st\" + 0.005*\"face\" + 0.005*\"thought\" + 0.004*\"know\" + 0.004*\"eye\" + 0.004*\"hand\" + 0.004*\"heart\" + 0.003*\"diana\"'),\n",
       " (7,\n",
       "  '0.023*\"monsieur\" + 0.017*\"mdlle\" + 0.016*\"pelet\" + 0.012*\"reuter\" + 0.011*\"english\" + 0.008*\"henri\" + 0.008*\"frances\" + 0.007*\"mademoiselle\" + 0.006*\"est\" + 0.006*\"thought\"'),\n",
       " (8,\n",
       "  '0.023*\"elizabeth\" + 0.016*\"darcy\" + 0.012*\"bingley\" + 0.012*\"bennet\" + 0.010*\"jane\" + 0.009*\"miss\" + 0.007*\"collins\" + 0.006*\"know\" + 0.006*\"sister\" + 0.005*\"soon\"'),\n",
       " (9,\n",
       "  '0.016*\"jane\" + 0.016*\"sir\" + 0.007*\"know\" + 0.007*\"like\" + 0.007*\"rochester\" + 0.006*\"shall\" + 0.006*\"think\" + 0.006*\"love\" + 0.005*\"thought\" + 0.005*\"yes\"'),\n",
       " (10,\n",
       "  '0.016*\"graham\" + 0.011*\"bretton\" + 0.008*\"papa\" + 0.008*\"lucy\" + 0.008*\"know\" + 0.007*\"dr\" + 0.006*\"think\" + 0.005*\"father\" + 0.005*\"mother\" + 0.005*\"thought\"'),\n",
       " (11,\n",
       "  '0.006*\"like\" + 0.004*\"thought\" + 0.004*\"long\" + 0.004*\"night\" + 0.004*\"hand\" + 0.004*\"day\" + 0.004*\"door\" + 0.004*\"looked\" + 0.004*\"eyes\" + 0.003*\"room\"'),\n",
       " (12,\n",
       "  '0.017*\"madame\" + 0.007*\"day\" + 0.006*\"beck\" + 0.005*\"know\" + 0.005*\"like\" + 0.005*\"came\" + 0.004*\"bretton\" + 0.004*\"les\" + 0.004*\"heart\" + 0.003*\"dr\"'),\n",
       " (13,\n",
       "  '0.012*\"dr\" + 0.009*\"madame\" + 0.008*\"thought\" + 0.007*\"think\" + 0.007*\"sir\" + 0.007*\"john\" + 0.006*\"miss\" + 0.005*\"know\" + 0.004*\"like\" + 0.004*\"old\"'),\n",
       " (14,\n",
       "  '0.006*\"moon\" + 0.006*\"adele\" + 0.005*\"mademoiselle\" + 0.005*\"liked\" + 0.005*\"lowood\" + 0.004*\"shall\" + 0.004*\"like\" + 0.004*\"away\" + 0.004*\"tired\" + 0.004*\"silk\"')]"
      ]
     },
     "execution_count": 42,
     "metadata": {},
     "output_type": "execute_result"
    }
   ],
   "source": [
    "lda.print_topics()"
   ]
  },
  {
   "cell_type": "code",
   "execution_count": null,
   "metadata": {},
   "outputs": [],
   "source": []
  },
  {
   "cell_type": "code",
   "execution_count": 43,
   "metadata": {},
   "outputs": [],
   "source": [
    "words = [re.findall(r'\"([^\"]*)\"',t[1]) for t in lda.print_topics()]"
   ]
  },
  {
   "cell_type": "code",
   "execution_count": 44,
   "metadata": {},
   "outputs": [],
   "source": [
    "topics = [' '.join(t[0:5]) for t in words]"
   ]
  },
  {
   "cell_type": "code",
   "execution_count": 47,
   "metadata": {},
   "outputs": [
    {
     "name": "stdout",
     "output_type": "stream",
     "text": [
      "marianne elinor willoughby sister jennings\n",
      "\n",
      "\n",
      "elinor edward sister mother lucy\n",
      "\n",
      "\n",
      "like miss rochester room lady\n",
      "\n",
      "\n",
      "adele rochester ladies ll shall\n",
      "\n",
      "\n",
      "emma harriet miss think thing\n",
      "\n",
      "\n",
      "miss jane know thing think\n",
      "\n",
      "\n",
      "hunsden like st face thought\n",
      "\n",
      "\n",
      "monsieur mdlle pelet reuter english\n",
      "\n",
      "\n",
      "elizabeth darcy bingley bennet jane\n",
      "\n",
      "\n",
      "jane sir know like rochester\n",
      "\n",
      "\n",
      "graham bretton papa lucy know\n",
      "\n",
      "\n",
      "like thought long night hand\n",
      "\n",
      "\n",
      "madame day beck know like\n",
      "\n",
      "\n",
      "dr madame thought think sir\n",
      "\n",
      "\n",
      "moon adele mademoiselle liked lowood\n",
      "\n",
      "\n"
     ]
    }
   ],
   "source": [
    "for t in topics: \n",
    "    print(t)\n",
    "    print(\"\\n\")"
   ]
  },
  {
   "cell_type": "markdown",
   "metadata": {},
   "source": [
    "## Challenge \n",
    "\n",
    "You will apply an LDA model to a customer review dataset to practice the fitting and estimation of LDA. "
   ]
  },
  {
   "cell_type": "markdown",
   "metadata": {},
   "source": [
    "# Interpret LDA Results (Learn)\n",
    "<a id=\"#p3\"></a>"
   ]
  },
  {
   "cell_type": "markdown",
   "metadata": {},
   "source": [
    "## Overview"
   ]
  },
  {
   "cell_type": "markdown",
   "metadata": {
    "toc-hr-collapsed": true
   },
   "source": [
    "## Follow Along"
   ]
  },
  {
   "cell_type": "markdown",
   "metadata": {},
   "source": [
    "### Topic Distance Visualization"
   ]
  },
  {
   "cell_type": "code",
   "execution_count": 1,
   "metadata": {},
   "outputs": [
    {
     "name": "stderr",
     "output_type": "stream",
     "text": [
      "/Users/jonathansokoll/anaconda3/envs/U4-S1-NLP/lib/python3.7/site-packages/past/types/oldstr.py:5: DeprecationWarning: Using or importing the ABCs from 'collections' instead of from 'collections.abc' is deprecated, and in 3.8 it will stop working\n",
      "  from collections import Iterable\n"
     ]
    }
   ],
   "source": [
    "import pyLDAvis.gensim\n",
    "\n",
    "pyLDAvis.enable_notebook()"
   ]
  },
  {
   "cell_type": "code",
   "execution_count": 50,
   "metadata": {},
   "outputs": [
    {
     "data": {
      "text/html": [
       "\n",
       "<link rel=\"stylesheet\" type=\"text/css\" href=\"https://cdn.rawgit.com/bmabey/pyLDAvis/files/ldavis.v1.0.0.css\">\n",
       "\n",
       "\n",
       "<div id=\"ldavis_el482801121795956884884495538\"></div>\n",
       "<script type=\"text/javascript\">\n",
       "\n",
       "var ldavis_el482801121795956884884495538_data = {\"mdsDat\": {\"x\": [0.08335305834712058, -0.09696011770487224, -0.14251263033839648, -0.12474163619922805, 0.025856499906734033, 0.01482241721815081, -0.10953752248260318, -0.10358925627952875, -0.042873970565530974, 0.08558253148694799, 0.09005093771968395, 0.08543162860620973, 0.020987408119703906, 0.10634231279577792, 0.10778833936983087], \"y\": [-0.0029536435552479272, -0.001643371751245356, 0.019570980780661485, 0.003268769251485439, -0.030816357607026945, -0.020305795606048584, -0.0375730643940134, -0.00637701577325469, 0.016048873491570383, 0.04818831657248088, 0.16706332541084673, 0.05522451429633414, 0.013558262706862527, -0.12912978311200038, -0.09412401071140443], \"topics\": [1, 2, 3, 4, 5, 6, 7, 8, 9, 10, 11, 12, 13, 14, 15], \"cluster\": [1, 1, 1, 1, 1, 1, 1, 1, 1, 1, 1, 1, 1, 1, 1], \"Freq\": [32.5334358215332, 18.099958419799805, 9.962238311767578, 8.91282844543457, 6.869115829467773, 4.988802433013916, 4.160622596740723, 3.5091466903686523, 3.2458457946777344, 2.3213858604431152, 2.2253146171569824, 1.254992961883545, 1.2430018186569214, 0.41411322355270386, 0.2591949999332428]}, \"tinfo\": {\"Category\": [\"Default\", \"Default\", \"Default\", \"Default\", \"Default\", \"Default\", \"Default\", \"Default\", \"Default\", \"Default\", \"Default\", \"Default\", \"Default\", \"Default\", \"Default\", \"Default\", \"Default\", \"Default\", \"Default\", \"Default\", \"Default\", \"Default\", \"Default\", \"Default\", \"Default\", \"Default\", \"Default\", \"Default\", \"Default\", \"Default\", \"Topic1\", \"Topic1\", \"Topic1\", \"Topic1\", \"Topic1\", \"Topic1\", \"Topic1\", \"Topic1\", \"Topic1\", \"Topic1\", \"Topic1\", \"Topic1\", \"Topic1\", \"Topic1\", \"Topic1\", \"Topic1\", \"Topic1\", \"Topic1\", \"Topic1\", \"Topic1\", \"Topic1\", \"Topic1\", \"Topic1\", \"Topic1\", \"Topic1\", \"Topic1\", \"Topic1\", \"Topic1\", \"Topic1\", \"Topic1\", \"Topic1\", \"Topic1\", \"Topic1\", \"Topic1\", \"Topic1\", \"Topic1\", \"Topic1\", \"Topic1\", \"Topic1\", \"Topic1\", \"Topic1\", \"Topic1\", \"Topic1\", \"Topic1\", \"Topic1\", \"Topic1\", \"Topic1\", \"Topic1\", \"Topic1\", \"Topic1\", \"Topic1\", \"Topic1\", \"Topic1\", \"Topic1\", \"Topic1\", \"Topic1\", \"Topic1\", \"Topic1\", \"Topic1\", \"Topic1\", \"Topic1\", \"Topic1\", \"Topic1\", \"Topic1\", \"Topic1\", \"Topic1\", \"Topic1\", \"Topic1\", \"Topic1\", \"Topic1\", \"Topic1\", \"Topic1\", \"Topic1\", \"Topic1\", \"Topic1\", \"Topic1\", \"Topic1\", \"Topic1\", \"Topic1\", \"Topic1\", \"Topic1\", \"Topic1\", \"Topic1\", \"Topic1\", \"Topic1\", \"Topic1\", \"Topic1\", \"Topic1\", \"Topic1\", \"Topic1\", \"Topic1\", \"Topic1\", \"Topic1\", \"Topic1\", \"Topic1\", \"Topic1\", \"Topic1\", \"Topic1\", \"Topic2\", \"Topic2\", \"Topic2\", \"Topic2\", \"Topic2\", \"Topic2\", \"Topic2\", \"Topic2\", \"Topic2\", \"Topic2\", \"Topic2\", \"Topic2\", \"Topic2\", \"Topic2\", \"Topic2\", \"Topic2\", \"Topic2\", \"Topic2\", \"Topic2\", \"Topic2\", \"Topic2\", \"Topic2\", \"Topic2\", \"Topic2\", \"Topic2\", \"Topic2\", \"Topic2\", \"Topic2\", \"Topic2\", \"Topic2\", \"Topic2\", \"Topic2\", \"Topic2\", \"Topic2\", \"Topic2\", \"Topic2\", \"Topic2\", \"Topic2\", \"Topic2\", \"Topic2\", \"Topic2\", \"Topic2\", \"Topic2\", \"Topic2\", \"Topic2\", \"Topic2\", \"Topic2\", \"Topic2\", \"Topic2\", \"Topic2\", \"Topic2\", \"Topic2\", \"Topic2\", \"Topic2\", \"Topic2\", \"Topic2\", \"Topic2\", \"Topic2\", \"Topic3\", \"Topic3\", \"Topic3\", \"Topic3\", \"Topic3\", \"Topic3\", \"Topic3\", \"Topic3\", \"Topic3\", \"Topic3\", \"Topic3\", \"Topic3\", \"Topic3\", \"Topic3\", \"Topic3\", \"Topic3\", \"Topic3\", \"Topic3\", \"Topic3\", \"Topic3\", \"Topic3\", \"Topic3\", \"Topic3\", \"Topic3\", \"Topic3\", \"Topic3\", \"Topic3\", \"Topic3\", \"Topic3\", \"Topic3\", \"Topic3\", \"Topic3\", \"Topic3\", \"Topic3\", \"Topic3\", \"Topic3\", \"Topic3\", \"Topic3\", \"Topic3\", \"Topic3\", \"Topic3\", \"Topic3\", \"Topic3\", \"Topic3\", \"Topic3\", \"Topic3\", \"Topic3\", \"Topic3\", \"Topic3\", \"Topic3\", \"Topic3\", \"Topic3\", \"Topic3\", \"Topic3\", \"Topic3\", \"Topic3\", \"Topic3\", \"Topic3\", \"Topic3\", \"Topic3\", \"Topic3\", \"Topic3\", \"Topic3\", \"Topic3\", \"Topic3\", \"Topic3\", \"Topic4\", \"Topic4\", \"Topic4\", \"Topic4\", \"Topic4\", \"Topic4\", \"Topic4\", \"Topic4\", \"Topic4\", \"Topic4\", \"Topic4\", \"Topic4\", \"Topic4\", \"Topic4\", \"Topic4\", \"Topic4\", \"Topic4\", \"Topic4\", \"Topic4\", \"Topic4\", \"Topic4\", \"Topic4\", \"Topic4\", \"Topic4\", \"Topic4\", \"Topic4\", \"Topic4\", \"Topic4\", \"Topic4\", \"Topic4\", \"Topic4\", \"Topic4\", \"Topic4\", \"Topic4\", \"Topic4\", \"Topic4\", \"Topic4\", \"Topic4\", \"Topic4\", \"Topic4\", \"Topic4\", \"Topic4\", \"Topic4\", \"Topic4\", \"Topic4\", \"Topic4\", \"Topic4\", \"Topic4\", \"Topic4\", \"Topic4\", \"Topic4\", \"Topic4\", \"Topic4\", \"Topic4\", \"Topic4\", \"Topic4\", \"Topic4\", \"Topic5\", \"Topic5\", \"Topic5\", \"Topic5\", \"Topic5\", \"Topic5\", \"Topic5\", \"Topic5\", \"Topic5\", \"Topic5\", \"Topic5\", \"Topic5\", \"Topic5\", \"Topic5\", \"Topic5\", \"Topic5\", \"Topic5\", \"Topic5\", \"Topic5\", \"Topic5\", \"Topic5\", \"Topic5\", \"Topic5\", \"Topic5\", \"Topic5\", \"Topic5\", \"Topic5\", \"Topic5\", \"Topic5\", \"Topic5\", \"Topic5\", \"Topic5\", \"Topic5\", \"Topic5\", \"Topic5\", \"Topic5\", \"Topic5\", \"Topic5\", \"Topic5\", \"Topic5\", \"Topic5\", \"Topic5\", \"Topic5\", \"Topic5\", \"Topic5\", \"Topic5\", \"Topic5\", \"Topic5\", \"Topic5\", \"Topic5\", \"Topic5\", \"Topic5\", \"Topic5\", \"Topic5\", \"Topic5\", \"Topic5\", \"Topic5\", \"Topic5\", \"Topic5\", \"Topic5\", \"Topic5\", \"Topic5\", \"Topic5\", \"Topic5\", \"Topic5\", \"Topic5\", \"Topic5\", \"Topic6\", \"Topic6\", \"Topic6\", \"Topic6\", \"Topic6\", \"Topic6\", \"Topic6\", \"Topic6\", \"Topic6\", \"Topic6\", \"Topic6\", \"Topic6\", \"Topic6\", \"Topic6\", \"Topic6\", \"Topic6\", \"Topic6\", \"Topic6\", \"Topic6\", \"Topic6\", \"Topic6\", \"Topic6\", \"Topic6\", \"Topic6\", \"Topic6\", \"Topic6\", \"Topic6\", \"Topic6\", \"Topic6\", \"Topic6\", \"Topic6\", \"Topic6\", \"Topic6\", \"Topic6\", \"Topic6\", \"Topic6\", \"Topic6\", \"Topic6\", \"Topic6\", \"Topic6\", \"Topic6\", \"Topic6\", \"Topic6\", \"Topic6\", \"Topic6\", \"Topic6\", \"Topic6\", \"Topic6\", \"Topic6\", \"Topic6\", \"Topic6\", \"Topic6\", \"Topic6\", \"Topic6\", \"Topic6\", \"Topic6\", \"Topic6\", \"Topic6\", \"Topic6\", \"Topic6\", \"Topic6\", \"Topic6\", \"Topic6\", \"Topic6\", \"Topic6\", \"Topic6\", \"Topic6\", \"Topic6\", \"Topic6\", \"Topic6\", \"Topic6\", \"Topic6\", \"Topic6\", \"Topic6\", \"Topic7\", \"Topic7\", \"Topic7\", \"Topic7\", \"Topic7\", \"Topic7\", \"Topic7\", \"Topic7\", \"Topic7\", \"Topic7\", \"Topic7\", \"Topic7\", \"Topic7\", \"Topic7\", \"Topic7\", \"Topic7\", \"Topic7\", \"Topic7\", \"Topic7\", \"Topic7\", \"Topic7\", \"Topic7\", \"Topic7\", \"Topic7\", \"Topic7\", \"Topic7\", \"Topic7\", \"Topic7\", \"Topic7\", \"Topic7\", \"Topic7\", \"Topic7\", \"Topic7\", \"Topic7\", \"Topic7\", \"Topic7\", \"Topic7\", \"Topic7\", \"Topic7\", \"Topic7\", \"Topic7\", \"Topic7\", \"Topic7\", \"Topic7\", \"Topic7\", \"Topic7\", \"Topic7\", \"Topic7\", \"Topic7\", \"Topic7\", \"Topic7\", \"Topic7\", \"Topic7\", \"Topic7\", \"Topic7\", \"Topic7\", \"Topic7\", \"Topic7\", \"Topic7\", \"Topic7\", \"Topic7\", \"Topic7\", \"Topic7\", \"Topic7\", \"Topic8\", \"Topic8\", \"Topic8\", \"Topic8\", \"Topic8\", \"Topic8\", \"Topic8\", \"Topic8\", \"Topic8\", \"Topic8\", \"Topic8\", \"Topic8\", \"Topic8\", \"Topic8\", \"Topic8\", \"Topic8\", \"Topic8\", \"Topic8\", \"Topic8\", \"Topic8\", \"Topic8\", \"Topic8\", \"Topic8\", \"Topic8\", \"Topic8\", \"Topic8\", \"Topic8\", \"Topic8\", \"Topic8\", \"Topic8\", \"Topic8\", \"Topic8\", \"Topic8\", \"Topic8\", \"Topic8\", \"Topic8\", \"Topic8\", \"Topic8\", \"Topic8\", \"Topic8\", \"Topic8\", \"Topic8\", \"Topic8\", \"Topic8\", \"Topic8\", \"Topic8\", \"Topic8\", \"Topic8\", \"Topic8\", \"Topic8\", \"Topic8\", \"Topic8\", \"Topic8\", \"Topic8\", \"Topic8\", \"Topic8\", \"Topic8\", \"Topic8\", \"Topic8\", \"Topic8\", \"Topic8\", \"Topic9\", \"Topic9\", \"Topic9\", \"Topic9\", \"Topic9\", \"Topic9\", \"Topic9\", \"Topic9\", \"Topic9\", \"Topic9\", \"Topic9\", \"Topic9\", \"Topic9\", \"Topic9\", \"Topic9\", \"Topic9\", \"Topic9\", \"Topic9\", \"Topic9\", \"Topic9\", \"Topic9\", \"Topic9\", \"Topic9\", \"Topic9\", \"Topic9\", \"Topic9\", \"Topic9\", \"Topic9\", \"Topic9\", \"Topic9\", \"Topic9\", \"Topic9\", \"Topic9\", \"Topic9\", \"Topic9\", \"Topic9\", \"Topic9\", \"Topic9\", \"Topic9\", \"Topic9\", \"Topic9\", \"Topic9\", \"Topic9\", \"Topic9\", \"Topic9\", \"Topic9\", \"Topic9\", \"Topic9\", \"Topic9\", \"Topic9\", \"Topic9\", \"Topic9\", \"Topic9\", \"Topic9\", \"Topic9\", \"Topic9\", \"Topic9\", \"Topic9\", \"Topic9\", \"Topic9\", \"Topic9\", \"Topic9\", \"Topic10\", \"Topic10\", \"Topic10\", \"Topic10\", \"Topic10\", \"Topic10\", \"Topic10\", \"Topic10\", \"Topic10\", \"Topic10\", \"Topic10\", \"Topic10\", \"Topic10\", \"Topic10\", \"Topic10\", \"Topic10\", \"Topic10\", \"Topic10\", \"Topic10\", \"Topic10\", \"Topic10\", \"Topic10\", \"Topic10\", \"Topic10\", \"Topic10\", \"Topic10\", \"Topic10\", \"Topic10\", \"Topic10\", \"Topic10\", \"Topic10\", \"Topic10\", \"Topic10\", \"Topic10\", \"Topic10\", \"Topic10\", \"Topic10\", \"Topic10\", \"Topic10\", \"Topic10\", \"Topic10\", \"Topic10\", \"Topic10\", \"Topic10\", \"Topic10\", \"Topic10\", \"Topic10\", \"Topic10\", \"Topic10\", \"Topic10\", \"Topic10\", \"Topic10\", \"Topic10\", \"Topic10\", \"Topic10\", \"Topic10\", \"Topic10\", \"Topic10\", \"Topic10\", \"Topic10\", \"Topic10\", \"Topic10\", \"Topic10\", \"Topic10\", \"Topic10\", \"Topic10\", \"Topic10\", \"Topic10\", \"Topic10\", \"Topic10\", \"Topic10\", \"Topic11\", \"Topic11\", \"Topic11\", \"Topic11\", \"Topic11\", \"Topic11\", \"Topic11\", \"Topic11\", \"Topic11\", \"Topic11\", \"Topic11\", \"Topic11\", \"Topic11\", \"Topic11\", \"Topic11\", \"Topic11\", \"Topic11\", \"Topic11\", \"Topic11\", \"Topic11\", \"Topic11\", \"Topic11\", \"Topic11\", \"Topic11\", \"Topic11\", \"Topic11\", \"Topic11\", \"Topic11\", \"Topic11\", \"Topic11\", \"Topic11\", \"Topic11\", \"Topic11\", \"Topic11\", \"Topic11\", \"Topic11\", \"Topic11\", \"Topic11\", \"Topic11\", \"Topic11\", \"Topic11\", \"Topic11\", \"Topic11\", \"Topic11\", \"Topic11\", \"Topic11\", \"Topic11\", \"Topic11\", \"Topic11\", \"Topic11\", \"Topic11\", \"Topic11\", \"Topic11\", \"Topic11\", \"Topic12\", \"Topic12\", \"Topic12\", \"Topic12\", \"Topic12\", \"Topic12\", \"Topic12\", \"Topic12\", \"Topic12\", \"Topic12\", \"Topic12\", \"Topic12\", \"Topic12\", \"Topic12\", \"Topic12\", \"Topic12\", \"Topic12\", \"Topic12\", \"Topic12\", \"Topic12\", \"Topic12\", \"Topic12\", \"Topic12\", \"Topic12\", \"Topic12\", \"Topic12\", \"Topic12\", \"Topic12\", \"Topic12\", \"Topic12\", \"Topic12\", \"Topic12\", \"Topic12\", \"Topic12\", \"Topic12\", \"Topic12\", \"Topic12\", \"Topic12\", \"Topic12\", \"Topic12\", \"Topic12\", \"Topic12\", \"Topic12\", \"Topic12\", \"Topic12\", \"Topic12\", \"Topic12\", \"Topic12\", \"Topic12\", \"Topic12\", \"Topic12\", \"Topic12\", \"Topic12\", \"Topic12\", \"Topic12\", \"Topic12\", \"Topic12\", \"Topic12\", \"Topic12\", \"Topic12\", \"Topic12\", \"Topic12\", \"Topic12\", \"Topic12\", \"Topic12\", \"Topic12\", \"Topic12\", \"Topic12\", \"Topic13\", \"Topic13\", \"Topic13\", \"Topic13\", \"Topic13\", \"Topic13\", \"Topic13\", \"Topic13\", \"Topic13\", \"Topic13\", \"Topic13\", \"Topic13\", \"Topic13\", \"Topic13\", \"Topic13\", \"Topic13\", \"Topic13\", \"Topic13\", \"Topic13\", \"Topic13\", \"Topic13\", \"Topic13\", \"Topic13\", \"Topic13\", \"Topic13\", \"Topic13\", \"Topic13\", \"Topic13\", \"Topic13\", \"Topic13\", \"Topic13\", \"Topic13\", \"Topic13\", \"Topic13\", \"Topic13\", \"Topic13\", \"Topic13\", \"Topic13\", \"Topic13\", \"Topic13\", \"Topic13\", \"Topic13\", \"Topic13\", \"Topic13\", \"Topic13\", \"Topic13\", \"Topic13\", \"Topic13\", \"Topic13\", \"Topic13\", \"Topic13\", \"Topic13\", \"Topic13\", \"Topic13\", \"Topic13\", \"Topic13\", \"Topic13\", \"Topic13\", \"Topic13\", \"Topic13\", \"Topic13\", \"Topic13\", \"Topic13\", \"Topic13\", \"Topic13\", \"Topic13\", \"Topic13\", \"Topic13\", \"Topic13\", \"Topic14\", \"Topic14\", \"Topic14\", \"Topic14\", \"Topic14\", \"Topic14\", \"Topic14\", \"Topic14\", \"Topic14\", \"Topic14\", \"Topic14\", \"Topic14\", \"Topic14\", \"Topic14\", \"Topic14\", \"Topic14\", \"Topic14\", \"Topic14\", \"Topic14\", \"Topic14\", \"Topic14\", \"Topic14\", \"Topic14\", \"Topic14\", \"Topic14\", \"Topic14\", \"Topic14\", \"Topic14\", \"Topic14\", \"Topic14\", \"Topic14\", \"Topic14\", \"Topic14\", \"Topic14\", \"Topic14\", \"Topic14\", \"Topic14\", \"Topic14\", \"Topic14\", \"Topic14\", \"Topic14\", \"Topic14\", \"Topic14\", \"Topic14\", \"Topic14\", \"Topic14\", \"Topic14\", \"Topic14\", \"Topic14\", \"Topic14\", \"Topic14\", \"Topic14\", \"Topic14\", \"Topic14\", \"Topic14\", \"Topic14\", \"Topic14\", \"Topic14\", \"Topic14\", \"Topic14\", \"Topic14\", \"Topic14\", \"Topic14\", \"Topic14\", \"Topic14\", \"Topic14\", \"Topic14\", \"Topic14\", \"Topic15\", \"Topic15\", \"Topic15\", \"Topic15\", \"Topic15\", \"Topic15\", \"Topic15\", \"Topic15\", \"Topic15\", \"Topic15\", \"Topic15\", \"Topic15\", \"Topic15\", \"Topic15\", \"Topic15\", \"Topic15\", \"Topic15\", \"Topic15\", \"Topic15\", \"Topic15\", \"Topic15\", \"Topic15\", \"Topic15\", \"Topic15\", \"Topic15\", \"Topic15\", \"Topic15\", \"Topic15\", \"Topic15\", \"Topic15\", \"Topic15\", \"Topic15\", \"Topic15\", \"Topic15\", \"Topic15\", \"Topic15\", \"Topic15\", \"Topic15\", \"Topic15\", \"Topic15\", \"Topic15\", \"Topic15\", \"Topic15\", \"Topic15\", \"Topic15\", \"Topic15\", \"Topic15\", \"Topic15\", \"Topic15\", \"Topic15\", \"Topic15\", \"Topic15\", \"Topic15\", \"Topic15\", \"Topic15\", \"Topic15\", \"Topic15\", \"Topic15\", \"Topic15\", \"Topic15\", \"Topic15\", \"Topic15\", \"Topic15\", \"Topic15\", \"Topic15\", \"Topic15\", \"Topic15\"], \"Freq\": [700.0, 576.0, 1530.0, 678.0, 829.0, 1324.0, 953.0, 397.0, 354.0, 606.0, 1311.0, 438.0, 291.0, 930.0, 1440.0, 1140.0, 424.0, 1061.0, 323.0, 941.0, 363.0, 605.0, 894.0, 340.0, 501.0, 220.0, 832.0, 618.0, 371.0, 221.0, 22.57123565673828, 34.44378662109375, 15.852792739868164, 18.600671768188477, 16.648670196533203, 14.801433563232422, 13.860627174377441, 13.839646339416504, 13.820283889770508, 16.563251495361328, 11.909189224243164, 24.754060745239258, 11.878801345825195, 16.45270347595215, 11.840079307556152, 10.911260604858398, 11.813409805297852, 10.8970947265625, 26.275035858154297, 10.885546684265137, 10.882265090942383, 10.865806579589844, 10.865848541259766, 10.833979606628418, 11.731793403625488, 10.830073356628418, 10.813188552856445, 9.88326644897461, 22.307701110839844, 19.640853881835938, 94.8973388671875, 55.46138381958008, 31.539705276489258, 30.179485321044922, 48.327598571777344, 45.3309211730957, 32.46242904663086, 152.595703125, 55.40965270996094, 28.17632293701172, 29.253650665283203, 65.11324310302734, 53.94794464111328, 27.05449676513672, 44.31473922729492, 178.05409240722656, 86.354248046875, 113.74596405029297, 60.69636535644531, 88.54525756835938, 83.41703033447266, 88.2967300415039, 51.94385528564453, 105.6104965209961, 171.43515014648438, 73.04039764404297, 226.49188232421875, 167.54754638671875, 132.93617248535156, 385.58062744140625, 338.5285949707031, 62.85729217529297, 378.5503234863281, 207.0946502685547, 126.2905044555664, 253.1423797607422, 80.80381774902344, 128.36244201660156, 112.402587890625, 214.9817657470703, 113.34674072265625, 329.62286376953125, 572.8929443359375, 223.31256103515625, 259.95098876953125, 144.98272705078125, 331.22943115234375, 399.81011962890625, 416.3564147949219, 311.6773376464844, 372.59765625, 231.170166015625, 244.89817810058594, 252.91506958007812, 270.3736267089844, 317.8883972167969, 207.9451904296875, 255.45582580566406, 265.4409484863281, 251.32435607910156, 272.427490234375, 312.3265075683594, 227.28439331054688, 230.12059020996094, 213.06976318359375, 236.1237030029297, 217.62619018554688, 214.00701904296875, 80.56028747558594, 46.37737274169922, 29.498266220092773, 483.7561340332031, 63.66460037231445, 10.42293643951416, 44.40023422241211, 18.143571853637695, 109.22152709960938, 19.623685836791992, 137.15277099609375, 32.192378997802734, 50.3662109375, 726.1942138671875, 316.1396484375, 29.57542610168457, 72.63678741455078, 92.5797119140625, 306.87921142578125, 29.922164916992188, 24.95189666748047, 13.595457077026367, 9.590259552001953, 24.510385513305664, 230.76815795898438, 162.45045471191406, 9.265636444091797, 315.4781799316406, 7.726304054260254, 22.611122131347656, 16.690593719482422, 55.1350212097168, 171.21287536621094, 141.275634765625, 357.3570861816406, 65.97383880615234, 184.40870666503906, 202.04721069335938, 222.932861328125, 410.49627685546875, 359.1415710449219, 251.26104736328125, 244.89451599121094, 136.91233825683594, 152.7181854248047, 295.4365234375, 223.42495727539062, 180.4204559326172, 169.45498657226562, 168.54238891601562, 227.50413513183594, 200.95492553710938, 154.55931091308594, 189.13499450683594, 158.18765258789062, 179.630126953125, 163.69342041015625, 147.99957275390625, 131.51406860351562, 47.797706604003906, 24.079980850219727, 16.282581329345703, 35.2612419128418, 270.3228759765625, 11.469049453735352, 41.830387115478516, 10.348442077636719, 23.05579948425293, 14.536091804504395, 11.63167953491211, 13.082612991333008, 11.152138710021973, 28.362016677856445, 24.854528427124023, 9.158997535705566, 167.42727661132812, 9.730566024780273, 66.06961822509766, 66.0105972290039, 12.167450904846191, 90.15396118164062, 16.64708137512207, 8.852095603942871, 106.81907653808594, 6.437910079956055, 14.510171890258789, 18.025375366210938, 8.661050796508789, 393.9015197753906, 40.86967849731445, 169.5543212890625, 29.101112365722656, 30.563785552978516, 182.22991943359375, 113.70670318603516, 235.6485595703125, 66.46487426757812, 27.111682891845703, 174.80239868164062, 197.0780792236328, 103.76417541503906, 77.8570556640625, 72.44530487060547, 80.41694641113281, 106.9985580444336, 64.95018768310547, 163.5024871826172, 73.60026550292969, 48.02782440185547, 119.77860260009766, 174.02291870117188, 172.4455108642578, 86.23993682861328, 120.00320434570312, 104.61259460449219, 106.30989074707031, 100.34817504882812, 85.97549438476562, 82.21992492675781, 88.56568908691406, 93.02037048339844, 96.27342987060547, 85.18648529052734, 82.6216812133789, 317.6167907714844, 74.1410140991211, 36.13625717163086, 404.8917541503906, 30.956993103027344, 68.64421844482422, 14.093050003051758, 167.1011199951172, 91.06182098388672, 598.1089477539062, 36.68635940551758, 13.694039344787598, 296.70135498046875, 23.343040466308594, 116.98814392089844, 45.911102294921875, 34.73765563964844, 27.193092346191406, 9.825531959533691, 47.17204284667969, 40.23823547363281, 57.821895599365234, 19.00071144104004, 11.28465461730957, 25.86760711669922, 77.20963287353516, 60.30272674560547, 17.530776977539062, 15.956826210021973, 61.18268966674805, 120.23262023925781, 30.55219268798828, 248.0999298095703, 69.67931365966797, 67.8145523071289, 144.82537841796875, 240.91822814941406, 41.74658966064453, 135.73403930664062, 100.67218780517578, 138.9463348388672, 94.19889831542969, 106.85912322998047, 156.15631103515625, 121.85729217529297, 126.10760498046875, 62.1768684387207, 103.94837951660156, 101.46998596191406, 85.47611999511719, 86.33672332763672, 82.4974594116211, 87.82866668701172, 80.7879638671875, 81.84932708740234, 74.62358856201172, 74.64678955078125, 26.575641632080078, 18.581207275390625, 24.73674201965332, 17.128276824951172, 102.07142639160156, 66.1194839477539, 20.119606018066406, 8.575233459472656, 15.200385093688965, 18.02187728881836, 30.13494873046875, 7.840630054473877, 9.650145530700684, 12.425420761108398, 7.793210506439209, 6.597144603729248, 24.321592330932617, 26.468765258789062, 7.336106300354004, 14.09373664855957, 7.769837379455566, 13.126479148864746, 22.10614013671875, 13.19315242767334, 17.775001525878906, 5.068935394287109, 28.047426223754883, 5.725430965423584, 57.8727912902832, 4.972506523132324, 142.49102783203125, 30.717683792114258, 23.990562438964844, 56.051307678222656, 28.194032669067383, 73.8272476196289, 45.13186264038086, 48.84851837158203, 32.6010856628418, 114.50444793701172, 175.83004760742188, 124.23444366455078, 37.224159240722656, 153.25511169433594, 46.593780517578125, 72.51737976074219, 59.91690444946289, 73.85543060302734, 82.28010559082031, 70.67474365234375, 70.40202331542969, 64.5151138305664, 49.97156524658203, 71.71780395507812, 87.76546478271484, 61.228981018066406, 68.74348449707031, 77.642578125, 85.93523406982422, 65.05464935302734, 69.119873046875, 66.18522644042969, 59.62065887451172, 67.69261932373047, 58.987342834472656, 62.15899658203125, 57.97746276855469, 41.97584915161133, 9.647090911865234, 6.507132053375244, 60.994815826416016, 12.2860107421875, 7.833024978637695, 61.9678840637207, 10.255619049072266, 6.051059722900391, 4.877820014953613, 8.064589500427246, 4.636611461639404, 7.583492755889893, 4.85833215713501, 5.0346503257751465, 8.334815979003906, 4.784534454345703, 3.956357002258301, 222.09278869628906, 9.661303520202637, 5.386239051818848, 5.206382751464844, 4.516637802124023, 5.102847576141357, 4.9211225509643555, 3.9729533195495605, 3.6742420196533203, 4.678746700286865, 3.980790615081787, 4.319530010223389, 4.867408275604248, 5.285811901092529, 94.0499267578125, 18.126127243041992, 16.818693161010742, 14.227439880371094, 227.50186157226562, 11.69483470916748, 38.64059066772461, 17.160070419311523, 28.74419593811035, 15.456095695495605, 16.14308738708496, 79.45891571044922, 21.640897750854492, 18.499961853027344, 73.4298095703125, 92.19229125976562, 25.7880859375, 62.368125915527344, 40.740501403808594, 65.42448425292969, 98.0679931640625, 100.81993103027344, 54.27774429321289, 91.19859313964844, 56.76106643676758, 53.90613555908203, 48.59550476074219, 57.401710510253906, 55.52485275268555, 75.2377700805664, 54.37636947631836, 46.09474182128906, 38.54270553588867, 39.789283752441406, 53.26671600341797, 34.92716598510742, 43.53277587890625, 42.11676025390625, 47.24392318725586, 43.03026580810547, 41.302391052246094, 40.96482849121094, 35.9337158203125, 37.523277282714844, 18.953874588012695, 14.20944595336914, 32.256683349609375, 41.05670928955078, 76.26289367675781, 11.066218376159668, 8.309521675109863, 8.783843040466309, 5.296730995178223, 5.183821678161621, 22.450223922729492, 23.413646697998047, 8.76455307006836, 26.618144989013672, 4.407192230224609, 5.361321449279785, 3.6535465717315674, 3.8789405822753906, 8.4586181640625, 5.645606517791748, 3.7667081356048584, 8.065970420837402, 4.950891971588135, 8.736969947814941, 5.99107551574707, 4.57839822769165, 71.22157287597656, 6.977514743804932, 7.7883830070495605, 97.21694946289062, 16.54414939880371, 104.61409759521484, 340.07684326171875, 21.601781845092773, 51.52846908569336, 68.36981201171875, 28.94833755493164, 103.92816162109375, 55.10493469238281, 123.00752258300781, 139.77479553222656, 61.510135650634766, 89.64421844482422, 30.125164031982422, 98.1550521850586, 138.76698303222656, 78.13383483886719, 76.37897491455078, 60.66941833496094, 54.95396423339844, 48.59128952026367, 105.55374145507812, 81.10213470458984, 76.92205810546875, 73.96378326416016, 63.3585205078125, 64.7016372680664, 56.46635437011719, 64.34271240234375, 54.64289093017578, 47.800655364990234, 49.25996780395508, 32.220706939697266, 179.6439208984375, 22.39303207397461, 11.35750961303711, 356.48394775390625, 11.413183212280273, 7.778913497924805, 8.931467056274414, 110.2363510131836, 36.581085205078125, 11.002397537231445, 267.7047424316406, 29.73641014099121, 4.09082555770874, 4.664975166320801, 10.271723747253418, 5.312933444976807, 7.1273932456970215, 4.021892070770264, 5.529508590698242, 4.760317325592041, 3.7751991748809814, 4.304037094116211, 4.096953868865967, 48.51039505004883, 3.804821491241455, 10.636506080627441, 4.168451309204102, 6.5520501136779785, 3.4489552974700928, 12.904241561889648, 18.403076171875, 63.0048828125, 9.522696495056152, 110.30558776855469, 51.52151870727539, 6.203691482543945, 84.11471557617188, 20.11505699157715, 22.069055557250977, 55.967716217041016, 55.493865966796875, 26.155750274658203, 16.63067626953125, 50.84931945800781, 26.02606201171875, 45.020198822021484, 50.465572357177734, 39.10163879394531, 35.042606353759766, 34.164939880371094, 32.48249435424805, 40.059303283691406, 39.805702209472656, 35.793697357177734, 30.04330062866211, 28.698394775390625, 32.21251678466797, 26.779993057250977, 27.061573028564453, 26.91649055480957, 147.9369659423828, 6.122385025024414, 7.727137088775635, 36.074214935302734, 76.46154022216797, 99.25395202636719, 34.2690544128418, 25.554763793945312, 6.819723606109619, 20.087339401245117, 3.9719741344451904, 6.184506893157959, 4.12143611907959, 3.4952383041381836, 4.158212661743164, 4.429977893829346, 4.285109043121338, 21.7615909576416, 8.933221817016602, 3.7270936965942383, 68.83987426757812, 5.41840934753418, 3.1378839015960693, 4.542635440826416, 3.6286463737487793, 4.7374348640441895, 4.096453666687012, 5.002604007720947, 3.1006343364715576, 2.89723801612854, 17.324060440063477, 71.03777313232422, 22.13871955871582, 16.549701690673828, 11.1234769821167, 47.4981689453125, 22.98308753967285, 23.31854820251465, 19.99458885192871, 29.397750854492188, 36.7825927734375, 39.310585021972656, 70.73741149902344, 43.596168518066406, 16.69957160949707, 27.196475982666016, 57.76910400390625, 34.509490966796875, 34.12223815917969, 40.670658111572266, 42.43876647949219, 27.269548416137695, 25.1866397857666, 39.20127868652344, 30.535152435302734, 29.53461265563965, 30.786548614501953, 30.36331558227539, 28.508352279663086, 32.70180892944336, 26.769012451171875, 25.75516700744629, 68.49481201171875, 10.289042472839355, 7.308269500732422, 4.2589335441589355, 4.587337970733643, 4.6146931648254395, 5.529529571533203, 10.115945816040039, 3.625474691390991, 3.3021512031555176, 22.532730102539062, 4.2298173904418945, 3.063535690307617, 3.2961490154266357, 3.8383541107177734, 4.074843406677246, 3.207155704498291, 5.609259128570557, 3.3613743782043457, 3.8281705379486084, 2.7947754859924316, 4.957613468170166, 7.365485191345215, 3.2851574420928955, 2.7097840309143066, 3.2079415321350098, 3.4053707122802734, 2.611081838607788, 11.567411422729492, 2.608556032180786, 7.284229755401611, 14.233135223388672, 36.23601150512695, 4.842873573303223, 6.488063335418701, 6.47771692276001, 6.801601886749268, 20.770633697509766, 17.323348999023438, 16.341686248779297, 21.591655731201172, 6.5126566886901855, 31.904685974121094, 27.44013023376465, 6.927416801452637, 43.53431701660156, 22.437427520751953, 11.744242668151855, 11.494065284729004, 30.869319915771484, 23.348196029663086, 23.302684783935547, 14.060343742370605, 10.678099632263184, 16.490522384643555, 27.584735870361328, 22.42694091796875, 12.968899726867676, 12.722740173339844, 17.670503616333008, 19.18756866455078, 15.967934608459473, 12.854816436767578, 17.16934585571289, 15.483186721801758, 15.430035591125488, 15.18621826171875, 14.7039794921875, 15.746625900268555, 14.835028648376465, 14.092577934265137, 77.32220458984375, 104.06867218017578, 106.67672729492188, 51.50947952270508, 26.293235778808594, 33.1081657409668, 7.7736968994140625, 9.264528274536133, 9.684907913208008, 9.961104393005371, 6.580789566040039, 8.709352493286133, 7.953094959259033, 7.993793964385986, 7.743267059326172, 145.89645385742188, 18.512123107910156, 7.0924859046936035, 21.167762756347656, 48.98809814453125, 10.852734565734863, 15.459269523620605, 17.181161880493164, 9.53515911102295, 40.96957778930664, 26.622074127197266, 42.632755279541016, 23.150959014892578, 4.599042892456055, 8.897662162780762, 21.490703582763672, 72.07581329345703, 34.94961929321289, 18.408496856689453, 33.57835388183594, 22.634212493896484, 13.089309692382812, 27.622299194335938, 16.266489028930664, 16.78394317626953, 16.715646743774414, 25.916444778442383, 24.69066047668457, 19.22271156311035, 37.308773040771484, 25.384586334228516, 23.22710609436035, 22.883319854736328, 18.087705612182617, 20.932424545288086, 20.925737380981445, 19.50078010559082, 19.7115478515625, 19.467376708984375, 10.599180221557617, 13.87790298461914, 4.528646469116211, 4.148638725280762, 3.6868395805358887, 6.175415992736816, 9.740568161010742, 3.668398380279541, 2.596806287765503, 3.1904540061950684, 2.2875778675079346, 6.610908031463623, 2.119291067123413, 3.41755747795105, 2.7362735271453857, 4.265869140625, 3.2109580039978027, 2.73201584815979, 2.237563371658325, 8.065861701965332, 1.834255576133728, 2.010640859603882, 1.7256990671157837, 1.6329141855239868, 2.025543451309204, 2.746511459350586, 1.6421966552734375, 60.006526947021484, 2.4830005168914795, 1.8413264751434326, 4.516023635864258, 3.5019710063934326, 21.720985412597656, 4.3231201171875, 8.896228790283203, 3.1524479389190674, 5.717613697052002, 5.006186485290527, 4.416650772094727, 6.828344821929932, 14.68394947052002, 9.147602081298828, 7.025574207305908, 10.306318283081055, 12.323410987854004, 8.915017127990723, 11.76488208770752, 4.879688739776611, 24.592632293701172, 6.57338809967041, 16.378767013549805, 13.843138694763184, 16.924287796020508, 17.1152400970459, 11.024170875549316, 11.967521667480469, 9.9855375289917, 10.174656867980957, 10.911840438842773, 11.227326393127441, 9.613741874694824, 8.629379272460938, 9.842469215393066, 9.390340805053711, 10.525683403015137, 9.936779022216797, 9.349295616149902, 9.305767059326172, 2.940218925476074, 5.15624475479126, 4.16866397857666, 2.416804790496826, 2.4548449516296387, 3.4279472827911377, 3.53271746635437, 42.65354919433594, 1.9721224308013916, 1.8568350076675415, 2.357936143875122, 2.4829022884368896, 2.092726707458496, 3.0256118774414062, 4.87390661239624, 3.134342670440674, 3.007089138031006, 1.6373299360275269, 1.6827377080917358, 1.6462483406066895, 1.672810435295105, 4.009918689727783, 1.6030023097991943, 1.6857458353042603, 1.6724008321762085, 2.562335252761841, 1.677768588066101, 2.374462604522705, 2.471153974533081, 2.7487308979034424, 6.591473579406738, 2.8233041763305664, 6.489760398864746, 8.274056434631348, 8.585189819335938, 31.727890014648438, 3.019582986831665, 3.486948251724243, 10.52725887298584, 15.526012420654297, 11.558961868286133, 25.08556365966797, 24.854663848876953, 14.904003143310547, 29.328170776367188, 5.685842037200928, 15.580877304077148, 25.695693969726562, 13.146374702453613, 11.591498374938965, 10.567034721374512, 9.03178596496582, 11.439208984375, 21.431482315063477, 6.780198574066162, 12.626335144042969, 11.096440315246582, 13.445144653320312, 10.399053573608398, 15.7593412399292, 16.061065673828125, 9.300874710083008, 11.915035247802734, 12.812265396118164, 12.517413139343262, 12.16133975982666, 12.233702659606934, 10.81135368347168, 9.350410461425781, 2.2991461753845215, 2.4393765926361084, 1.6704987287521362, 1.685774564743042, 1.6771031618118286, 18.561992645263672, 1.434148907661438, 2.245821475982666, 1.6743398904800415, 2.496737480163574, 1.6697465181350708, 3.176851749420166, 1.6839754581451416, 1.6792306900024414, 1.6851747035980225, 1.3207361698150635, 1.384229063987732, 1.3487168550491333, 1.2904508113861084, 1.7076375484466553, 1.684065341949463, 0.8696541786193848, 1.6950201988220215, 1.3010669946670532, 0.8656315207481384, 0.8696494698524475, 3.3142528533935547, 0.8641402721405029, 0.8692019581794739, 0.8501381278038025, 2.496708869934082, 5.6914238929748535, 1.9786750078201294, 9.070277214050293, 1.6492170095443726, 1.6847559213638306, 14.671638488769531, 2.838130235671997, 9.894536018371582, 4.981540203094482, 5.014190673828125, 2.8273119926452637, 3.0696027278900146, 6.531307697296143, 4.5294976234436035, 3.5041961669921875, 6.957637310028076, 7.3007636070251465, 5.811700344085693, 6.855879306793213, 2.496812582015991, 7.067657470703125, 6.4616217613220215, 5.739828586578369, 4.647162914276123, 3.503709077835083, 4.439911842346191, 5.210152626037598, 4.7751641273498535, 3.296067476272583, 4.156269073486328, 3.6978585720062256, 3.560701847076416, 3.323136568069458, 3.326606512069702, 3.5160560607910156, 3.423074960708618, 3.339029550552368, 1.2587701082229614, 1.3883365392684937, 1.3924907445907593, 1.2561675310134888, 1.3911715745925903, 2.615539789199829, 2.7322375774383545, 1.3857446908950806, 2.0628466606140137, 0.713716983795166, 0.7148522734642029, 1.389050006866455, 0.7157350182533264, 0.7157433032989502, 0.7178323268890381, 0.7172130346298218, 0.7179332375526428, 0.7201018333435059, 0.7196856737136841, 0.7157867550849915, 1.2050814628601074, 0.7179422378540039, 0.7161028385162354, 0.7199918031692505, 0.7163346409797668, 3.407944679260254, 0.6698995232582092, 0.7166855335235596, 4.770437717437744, 0.7164846062660217, 1.3921170234680176, 1.3908013105392456, 1.8580292463302612, 2.741058111190796, 2.7383816242218018, 4.764266490936279, 2.0596561431884766, 1.5031858682632446, 3.714158058166504, 1.3943254947662354, 1.5409131050109863, 2.0703351497650146, 1.3901878595352173, 2.74381947517395, 1.3877995014190674, 1.389967918395996, 2.054480791091919, 3.419018030166626, 2.0600624084472656, 2.071240186691284, 2.0630946159362793, 2.0614798069000244, 2.3667547702789307, 3.009291887283325, 3.1801490783691406, 3.103914499282837, 2.3780839443206787, 2.0711493492126465, 2.105062484741211, 2.3334097862243652, 2.101142168045044, 2.1129910945892334, 2.2775161266326904, 2.157470941543579, 2.174021005630493, 2.171220302581787, 2.1120645999908447], \"Term\": [\"elinor\", \"marianne\", \"miss\", \"elizabeth\", \"emma\", \"like\", \"jane\", \"madame\", \"rochester\", \"sir\", \"think\", \"darcy\", \"monsieur\", \"shall\", \"know\", \"thought\", \"weston\", \"day\", \"bingley\", \"long\", \"fairfax\", \"sister\", \"room\", \"bennet\", \"harriet\", \"willoughby\", \"come\", \"john\", \"elton\", \"dr\", \"temples\", \"rosine\", \"scholars\", \"snatched\", \"sunny\", \"mountain\", \"desks\", \"ivy\", \"lid\", \"benches\", \"knot\", \"dreams\", \"ranks\", \"shaded\", \"ripe\", \"bade\", \"blaze\", \"ghastly\", \"alley\", \"porcelain\", \"gem\", \"despite\", \"waves\", \"strode\", \"reigned\", \"tempest\", \"trite\", \"veiled\", \"lattice\", \"rolled\", \"emanuel\", \"helen\", \"dormitory\", \"couch\", \"lamp\", \"dim\", \"faculties\", \"paul\", \"classe\", \"iron\", \"gleam\", \"wall\", \"candle\", \"dew\", \"scarce\", \"dark\", \"green\", \"pale\", \"rue\", \"trees\", \"sun\", \"bright\", \"brown\", \"ere\", \"white\", \"brow\", \"stood\", \"rose\", \"black\", \"night\", \"door\", \"broad\", \"hand\", \"light\", \"garden\", \"madame\", \"chamber\", \"deep\", \"sound\", \"round\", \"beck\", \"eyes\", \"like\", \"eye\", \"face\", \"god\", \"looked\", \"long\", \"thought\", \"saw\", \"day\", \"took\", \"knew\", \"life\", \"heart\", \"room\", \"hour\", \"felt\", \"house\", \"came\", \"come\", \"know\", \"half\", \"heard\", \"left\", \"man\", \"shall\", \"look\", \"martin\", \"donwell\", \"abbey\", \"harriet\", \"isabella\", \"brunswick\", \"taylor\", \"connexion\", \"highbury\", \"eltons\", \"hartfield\", \"shew\", \"goddard\", \"emma\", \"knightley\", \"enscombe\", \"randalls\", \"smith\", \"elton\", \"surprize\", \"maple\", \"vicarage\", \"acquit\", \"surprized\", \"woodhouse\", \"churchill\", \"unreserve\", \"weston\", \"amiss\", \"chuse\", \"belong\", \"perry\", \"body\", \"frank\", \"thing\", \"superior\", \"friend\", \"father\", \"dear\", \"miss\", \"think\", \"great\", \"man\", \"poor\", \"woman\", \"know\", \"soon\", \"young\", \"sure\", \"better\", \"thought\", \"shall\", \"having\", \"day\", \"way\", \"like\", \"jane\", \"long\", \"ferrars\", \"fanny\", \"brighton\", \"harley\", \"steele\", \"edward\", \"expenses\", \"norland\", \"oxford\", \"delaford\", \"abilities\", \"reasonably\", \"berkeley\", \"exeter\", \"forster\", \"dashwoods\", \"scotland\", \"dashwood\", \"founded\", \"pounds\", \"middleton\", \"inform\", \"brandon\", \"regiment\", \"liberality\", \"lydia\", \"sons\", \"opposition\", \"steeles\", \"resolving\", \"elinor\", \"exceedingly\", \"colonel\", \"income\", \"affectionate\", \"lucy\", \"jennings\", \"sister\", \"thousand\", \"assurance\", \"marianne\", \"mother\", \"brother\", \"wickham\", \"marriage\", \"town\", \"family\", \"sisters\", \"soon\", \"married\", \"engagement\", \"lady\", \"think\", \"know\", \"replied\", \"great\", \"sure\", \"house\", \"man\", \"hope\", \"world\", \"came\", \"day\", \"miss\", \"shall\", \"thought\", \"bingley\", \"netherfield\", \"hurst\", \"darcy\", \"phillips\", \"lucas\", \"kent\", \"collins\", \"lizzy\", \"elizabeth\", \"bourgh\", \"lucases\", \"bennet\", \"hunsford\", \"catherine\", \"pemberley\", \"hertfordshire\", \"officers\", \"judgement\", \"meryton\", \"rosings\", \"kitty\", \"derbyshire\", \"acquaintances\", \"fitzwilliam\", \"charlotte\", \"longbourn\", \"caroline\", \"maria\", \"gardiner\", \"wickham\", \"ladyship\", \"jane\", \"aunt\", \"lydia\", \"sister\", \"miss\", \"william\", \"lady\", \"family\", \"soon\", \"friend\", \"dear\", \"know\", \"room\", \"think\", \"sisters\", \"shall\", \"man\", \"mother\", \"great\", \"young\", \"day\", \"away\", \"long\", \"pleasure\", \"way\", \"eshton\", \"missis\", \"dent\", \"lynn\", \"bessie\", \"ingram\", \"leah\", \"condescension\", \"cholmondeley\", \"millcote\", \"mama\", \"porter\", \"scotch\", \"doll\", \"cat\", \"featured\", \"gateshead\", \"ve\", \"misses\", \"louisa\", \"massive\", \"sing\", \"nursery\", \"blanche\", \"curls\", \"mysterious\", \"governess\", \"naughty\", \"reed\", \"fortunes\", \"rochester\", \"dining\", \"georgiana\", \"hall\", \"polly\", \"ladies\", \"gentlemen\", \"papa\", \"thornfield\", \"lady\", \"like\", \"room\", \"adele\", \"miss\", \"master\", \"old\", \"fairfax\", \"look\", \"come\", \"yes\", \"young\", \"door\", \"got\", \"house\", \"think\", \"went\", \"came\", \"day\", \"know\", \"eyes\", \"saw\", \"way\", \"heard\", \"thought\", \"night\", \"long\", \"looked\", \"mason\", \"remorse\", \"asks\", \"eyre\", \"janet\", \"tease\", \"reed\", \"india\", \"defy\", \"relatives\", \"concert\", \"blunt\", \"hell\", \"beating\", \"sunrise\", \"adopted\", \"naughty\", \"aversion\", \"sir\", \"wicked\", \"rigid\", \"raw\", \"frightful\", \"sadness\", \"associations\", \"struggled\", \"stubborn\", \"abhorred\", \"sends\", \"accord\", \"blunder\", \"demon\", \"rochester\", \"georgiana\", \"brocklehurst\", \"bride\", \"jane\", \"clergyman\", \"ll\", \"hate\", \"adele\", \"eliza\", \"die\", \"love\", \"thornfield\", \"existence\", \"yes\", \"shall\", \"death\", \"tell\", \"wife\", \"heart\", \"like\", \"know\", \"wish\", \"think\", \"life\", \"oh\", \"let\", \"look\", \"john\", \"thought\", \"away\", \"face\", \"answer\", \"word\", \"come\", \"child\", \"better\", \"night\", \"day\", \"man\", \"eyes\", \"looked\", \"dixon\", \"campbell\", \"pianoforte\", \"apples\", \"cole\", \"palmer\", \"bates\", \"ireland\", \"baked\", \"weymouth\", \"westons\", \"beautifully\", \"obliging\", \"instrument\", \"spectacles\", \"dancing\", \"unwell\", \"fondly\", \"stockings\", \"quarrelling\", \"campbells\", \"apple\", \"deaf\", \"tells\", \"delightfully\", \"lucky\", \"february\", \"rained\", \"frank\", \"catching\", \"basket\", \"fairfax\", \"horses\", \"weston\", \"miss\", \"perry\", \"churchill\", \"woodhouse\", \"says\", \"oh\", \"body\", \"thing\", \"jane\", \"elton\", \"sure\", \"directly\", \"emma\", \"know\", \"sir\", \"dear\", \"hear\", \"knightley\", \"colonel\", \"think\", \"come\", \"shall\", \"room\", \"heard\", \"great\", \"young\", \"like\", \"came\", \"john\", \"day\", \"margaret\", \"willoughby\", \"cleveland\", \"combe\", \"marianne\", \"allenham\", \"recovery\", \"tomorrow\", \"jennings\", \"barton\", \"affliction\", \"elinor\", \"palmer\", \"hardened\", \"bond\", \"calmness\", \"excess\", \"middletons\", \"convincing\", \"travelled\", \"attribute\", \"speedy\", \"languid\", \"begging\", \"brandon\", \"release\", \"cheerfulness\", \"forgiveness\", \"attempting\", \"apprehensions\", \"unable\", \"misery\", \"dashwood\", \"restored\", \"sister\", \"colonel\", \"preceding\", \"mother\", \"equally\", \"instantly\", \"moment\", \"heart\", \"spirits\", \"tears\", \"room\", \"immediately\", \"saw\", \"day\", \"away\", \"mind\", \"left\", \"morning\", \"long\", \"soon\", \"house\", \"letter\", \"voice\", \"felt\", \"till\", \"know\", \"miss\", \"graham\", \"adieu\", \"whilst\", \"polly\", \"papa\", \"bretton\", \"paulina\", \"bassompierre\", \"tenderly\", \"snowe\", \"innocence\", \"terrasse\", \"estimate\", \"regain\", \"severely\", \"shyness\", \"bidding\", \"mamma\", \"woods\", \"painfully\", \"dr\", \"dumb\", \"discovering\", \"lovers\", \"propensities\", \"scissors\", \"scarlet\", \"beauties\", \"struggled\", \"homely\", \"boy\", \"lucy\", \"ginevra\", \"fanshawe\", \"admire\", \"father\", \"pain\", \"son\", \"taste\", \"child\", \"letter\", \"home\", \"know\", \"mother\", \"letters\", \"years\", \"think\", \"love\", \"life\", \"shall\", \"thought\", \"feel\", \"people\", \"like\", \"john\", \"mind\", \"long\", \"man\", \"look\", \"miss\", \"soon\", \"felt\", \"hunsden\", \"victor\", \"lad\", \"eventually\", \"homely\", \"sarcasm\", \"belgium\", \"pierre\", \"toil\", \"shell\", \"diana\", \"science\", \"results\", \"energies\", \"spiritual\", \"associations\", \"defined\", \"flash\", \"nineteen\", \"antipathy\", \"triumphant\", \"fat\", \"blanche\", \"labassecour\", \"piquant\", \"reiterated\", \"bidding\", \"considerations\", \"scorn\", \"frivolous\", \"tout\", \"rivers\", \"st\", \"flat\", \"sufficed\", \"chin\", \"wrought\", \"mary\", \"england\", \"frances\", \"paul\", \"fete\", \"face\", \"eye\", \"freedom\", \"like\", \"madame\", \"mademoiselle\", \"effect\", \"thought\", \"hand\", \"heart\", \"lips\", \"reader\", \"words\", \"know\", \"come\", \"liked\", \"sisters\", \"life\", \"man\", \"tell\", \"god\", \"day\", \"eyes\", \"look\", \"john\", \"love\", \"think\", \"long\", \"saw\", \"reuter\", \"pelet\", \"mdlle\", \"henri\", \"zoraide\", \"directress\", \"flemish\", \"demoiselles\", \"maitresse\", \"instruction\", \"dit\", \"belgian\", \"oui\", \"director\", \"belgium\", \"monsieur\", \"brussels\", \"jeune\", \"bien\", \"frances\", \"elle\", \"une\", \"il\", \"francs\", \"est\", \"establishment\", \"mademoiselle\", \"lessons\", \"definite\", \"phrases\", \"que\", \"english\", \"vous\", \"lace\", \"pupils\", \"pupil\", \"estrade\", \"french\", \"pas\", \"je\", \"teacher\", \"school\", \"smile\", \"hunsden\", \"thought\", \"course\", \"yes\", \"young\", \"order\", \"speak\", \"looked\", \"character\", \"know\", \"like\", \"hamal\", \"les\", \"vacation\", \"audience\", \"holidays\", \"masters\", \"examination\", \"hero\", \"fait\", \"boarders\", \"brains\", \"fete\", \"impart\", \"toilet\", \"azure\", \"au\", \"main\", \"woke\", \"copy\", \"en\", \"compact\", \"wing\", \"sons\", \"motherly\", \"dit\", \"discussed\", \"comprised\", \"madame\", \"recreation\", \"estimate\", \"godmother\", \"comme\", \"beck\", \"golden\", \"teachers\", \"drawers\", \"ce\", \"il\", \"ne\", \"je\", \"bretton\", \"vous\", \"paulina\", \"pupils\", \"dr\", \"letters\", \"english\", \"nun\", \"day\", \"et\", \"came\", \"heart\", \"like\", \"know\", \"seen\", \"half\", \"certain\", \"home\", \"house\", \"man\", \"evening\", \"new\", \"night\", \"went\", \"thought\", \"long\", \"eyes\", \"john\", \"sanction\", \"ireland\", \"orphan\", \"effected\", \"observant\", \"rival\", \"physician\", \"dr\", \"condemn\", \"lapse\", \"resigned\", \"visions\", \"admirable\", \"wholesome\", \"attendance\", \"uncles\", \"fat\", \"considerations\", \"pet\", \"courteous\", \"busily\", \"confession\", \"penance\", \"remonstrance\", \"rumour\", \"portress\", \"flying\", \"attract\", \"avoided\", \"remind\", \"campbell\", \"brothers\", \"parents\", \"bassompierre\", \"polly\", \"madame\", \"coat\", \"eighteen\", \"adele\", \"bretton\", \"beck\", \"sir\", \"john\", \"years\", \"thought\", \"education\", \"old\", \"think\", \"fairfax\", \"child\", \"daughter\", \"case\", \"manner\", \"miss\", \"rich\", \"father\", \"lucy\", \"mother\", \"certain\", \"like\", \"know\", \"character\", \"way\", \"man\", \"jane\", \"long\", \"day\", \"came\", \"took\", \"toilette\", \"frock\", \"repast\", \"joyous\", \"smoothed\", \"adele\", \"piquant\", \"pearl\", \"sash\", \"chambers\", \"retreat\", \"satin\", \"rode\", \"conversing\", \"accents\", \"recess\", \"sweep\", \"ornament\", \"cups\", \"cela\", \"murmur\", \"stories\", \"audible\", \"oui\", \"excursion\", \"streamed\", \"gallery\", \"protracted\", \"silvery\", \"impudence\", \"tones\", \"et\", \"sophie\", \"ll\", \"mercy\", \"hungry\", \"rochester\", \"pour\", \"ladies\", \"gentlemen\", \"dinner\", \"pas\", \"je\", \"fairfax\", \"drawing\", \"eyre\", \"sir\", \"shall\", \"till\", \"long\", \"quickly\", \"think\", \"like\", \"room\", \"evening\", \"hall\", \"took\", \"day\", \"miss\", \"need\", \"come\", \"sat\", \"stood\", \"usual\", \"party\", \"away\", \"soon\", \"look\", \"dint\", \"whispers\", \"fly\", \"deprived\", \"nodded\", \"enjoyed\", \"fairy\", \"plants\", \"pink\", \"southern\", \"stories\", \"evinced\", \"horn\", \"sprung\", \"slice\", \"elf\", \"lightly\", \"stores\", \"vowed\", \"unwonted\", \"vigour\", \"stubborn\", \"fewer\", \"meadows\", \"brains\", \"lowood\", \"detain\", \"feed\", \"moon\", \"scarf\", \"remove\", \"hay\", \"dozen\", \"silk\", \"helen\", \"adele\", \"ring\", \"pen\", \"mademoiselle\", \"millcote\", \"pencil\", \"gold\", \"satin\", \"tired\", \"silver\", \"burns\", \"fully\", \"liked\", \"stone\", \"wood\", \"rising\", \"filled\", \"live\", \"away\", \"shall\", \"like\", \"told\", \"lay\", \"white\", \"evening\", \"rest\", \"new\", \"better\", \"morning\", \"night\", \"come\", \"rochester\"], \"Total\": [700.0, 576.0, 1530.0, 678.0, 829.0, 1324.0, 953.0, 397.0, 354.0, 606.0, 1311.0, 438.0, 291.0, 930.0, 1440.0, 1140.0, 424.0, 1061.0, 323.0, 941.0, 363.0, 605.0, 894.0, 340.0, 501.0, 220.0, 832.0, 618.0, 371.0, 221.0, 23.834625244140625, 36.593082427978516, 16.868099212646484, 19.85387420654297, 17.857646942138672, 15.877057075500488, 14.876729011535645, 14.877812385559082, 14.874524116516113, 17.840002059936523, 12.884110450744629, 26.834239959716797, 12.880870819091797, 17.84747314453125, 12.881200790405273, 11.888100624084473, 12.876205444335938, 11.881691932678223, 28.683883666992188, 11.885363578796387, 11.881826400756836, 11.88489055633545, 11.886412620544434, 11.88146686553955, 12.869002342224121, 11.87988567352295, 11.87339973449707, 10.88825511932373, 24.577775955200195, 21.716367721557617, 108.12090301513672, 62.53114700317383, 35.2565803527832, 33.746803283691406, 55.165897369384766, 51.65696334838867, 36.61679458618164, 182.4303436279297, 63.88390350341797, 31.768356323242188, 33.09665298461914, 76.6751708984375, 63.26390075683594, 30.602190017700195, 51.46949768066406, 228.44525146484375, 106.13253784179688, 142.95022583007812, 73.09197235107422, 110.54048156738281, 103.783935546875, 111.66902160644531, 62.38629913330078, 137.01797485351562, 234.99594116210938, 91.53437805175781, 326.19769287109375, 233.65762329101562, 180.9140625, 626.6940307617188, 540.9436645507812, 78.1587142944336, 618.9375, 307.9218444824219, 175.1551055908203, 397.23492431640625, 105.29190826416016, 182.8964080810547, 158.19287109375, 357.0760498046875, 160.55809020996094, 642.5462036132812, 1324.972412109375, 395.9249267578125, 498.5764465332031, 229.6489715576172, 706.4319458007812, 941.8909912109375, 1140.4150390625, 783.2207641601562, 1061.84228515625, 498.4134216308594, 549.1180419921875, 584.6751098632812, 656.9429931640625, 894.5389404296875, 435.172607421875, 672.9397583007812, 758.479248046875, 691.344482421875, 832.0139770507812, 1440.56298828125, 593.07861328125, 627.4454345703125, 540.1192626953125, 907.1031494140625, 930.5941162109375, 641.45458984375, 82.0194091796875, 47.67178726196289, 30.49873161315918, 501.1441650390625, 66.7955551147461, 11.422082901000977, 48.71688461303711, 19.976289749145508, 120.41761016845703, 21.95376968383789, 154.04579162597656, 36.30617141723633, 57.400272369384766, 829.1934814453125, 373.7914733886719, 35.40711212158203, 87.19705200195312, 111.16101837158203, 371.13775634765625, 36.39529800415039, 30.62092399597168, 17.231931686401367, 12.299405097961426, 31.652313232421875, 301.7265625, 216.2707061767578, 12.346686363220215, 424.0025634765625, 10.490818977355957, 30.728776931762695, 22.76433563232422, 77.93451690673828, 271.91705322265625, 231.49530029296875, 781.8526611328125, 111.98603057861328, 437.8581237792969, 507.541259765625, 593.9644165039062, 1530.63818359375, 1311.392822265625, 828.725341796875, 907.1031494140625, 389.9538879394531, 472.3145446777344, 1440.56298828125, 932.7871704101562, 665.4915771484375, 619.9918823242188, 616.4349365234375, 1140.4150390625, 930.5941162109375, 540.1669921875, 1061.84228515625, 689.3761596679688, 1324.972412109375, 953.0670166015625, 941.8909912109375, 134.5874786376953, 50.22700500488281, 25.58779525756836, 17.378902435302734, 39.859806060791016, 325.2860412597656, 14.144806861877441, 54.553287506103516, 14.068032264709473, 31.685867309570312, 20.005298614501953, 16.14777946472168, 18.370010375976562, 16.163169860839844, 41.27585220336914, 37.58485412597656, 14.068952560424805, 257.80474853515625, 15.173078536987305, 103.8416976928711, 104.36366271972656, 19.81452178955078, 148.1971893310547, 27.44928741455078, 14.652312278747559, 178.2718963623047, 10.778167724609375, 24.999069213867188, 31.25444984436035, 15.030733108520508, 700.5032348632812, 71.37455749511719, 312.819580078125, 51.76485061645508, 55.09108352661133, 377.44500732421875, 236.00933837890625, 605.5012817382812, 141.7606658935547, 49.11344528198242, 576.7243041992188, 678.5172729492188, 292.4954833984375, 203.0775146484375, 187.64393615722656, 242.8744354248047, 388.56866455078125, 190.9036407470703, 932.7871704101562, 249.1334686279297, 116.7889404296875, 629.2274780273438, 1311.392822265625, 1440.56298828125, 354.6063537597656, 828.725341796875, 619.9918823242188, 758.479248046875, 907.1031494140625, 513.1306762695312, 416.9779357910156, 691.344482421875, 1061.84228515625, 1530.63818359375, 930.5941162109375, 1140.4150390625, 323.4392395019531, 77.79811096191406, 38.59244155883789, 438.3192443847656, 33.56444549560547, 74.58142852783203, 15.661005020141602, 188.55642700195312, 102.7894515991211, 678.1157836914062, 41.71886444091797, 15.661431312561035, 340.2911376953125, 27.103872299194336, 136.7256317138672, 56.22171401977539, 43.92437744140625, 34.452972412109375, 12.471571922302246, 60.66679763793945, 51.997196197509766, 78.09205627441406, 25.928810119628906, 15.533061027526855, 38.58304214477539, 118.28001403808594, 92.88372802734375, 27.08219337463379, 25.344402313232422, 99.25563049316406, 203.0775146484375, 57.49532699584961, 953.0670166015625, 183.9187774658203, 178.2718963623047, 605.5012817382812, 1530.63818359375, 90.83290100097656, 629.2274780273438, 388.56866455078125, 932.7871704101562, 437.8581237792969, 593.9644165039062, 1440.56298828125, 894.5389404296875, 1311.392822265625, 190.9036407470703, 930.5941162109375, 907.1031494140625, 678.5172729492188, 828.725341796875, 665.4915771484375, 1061.84228515625, 686.9368286132812, 941.8909912109375, 452.88812255859375, 689.3761596679688, 28.370946884155273, 19.90451431274414, 28.214675903320312, 19.727317810058594, 126.65678405761719, 86.54871368408203, 26.807353973388672, 12.359420776367188, 22.38880729675293, 27.958316802978516, 48.11280822753906, 12.524537086486816, 15.48890495300293, 20.894899368286133, 13.34674072265625, 11.531922340393066, 42.758338928222656, 48.217498779296875, 13.43167781829834, 26.15160369873047, 14.47219467163086, 25.05597496032715, 43.97222137451172, 27.26047134399414, 36.8631591796875, 10.549845695495605, 61.57462692260742, 12.674567222595215, 128.3735809326172, 11.320008277893066, 354.8398132324219, 73.67696380615234, 60.13025665283203, 172.92971801757812, 74.4391098022461, 267.4855041503906, 141.8828887939453, 164.4573516845703, 98.10698699951172, 629.2274780273438, 1324.972412109375, 894.5389404296875, 128.49649047851562, 1530.63818359375, 204.28114318847656, 479.1118469238281, 363.72064208984375, 641.45458984375, 832.0139770507812, 600.94921875, 665.4915771484375, 540.9436645507812, 289.1445617675781, 758.479248046875, 1311.392822265625, 498.0447082519531, 691.344482421875, 1061.84228515625, 1440.56298828125, 642.5462036132812, 783.2207641601562, 689.3761596679688, 627.4454345703125, 1140.4150390625, 626.6940307617188, 941.8909912109375, 706.4319458007812, 62.06338882446289, 15.835783004760742, 10.836854934692383, 102.29920959472656, 20.859390258789062, 13.961520195007324, 128.3735809326172, 21.453855514526367, 13.163673400878906, 10.851527214050293, 18.593721389770508, 10.791298866271973, 18.48933219909668, 11.98763370513916, 12.668066024780273, 21.643692016601562, 12.674567222595215, 10.727235794067383, 606.1270751953125, 26.679738998413086, 14.992388725280762, 14.707664489746094, 12.811799049377441, 14.672377586364746, 14.206823348999023, 11.604437828063965, 10.795232772827148, 13.78956127166748, 11.852734565734863, 12.876547813415527, 14.527972221374512, 15.966238975524902, 354.8398132324219, 60.13025665283203, 55.50761032104492, 46.32528305053711, 953.0670166015625, 37.94236373901367, 149.04507446289062, 63.15391540527344, 128.49649047851562, 61.57320785522461, 65.96084594726562, 572.4686279296875, 98.10698699951172, 80.50814819335938, 600.94921875, 930.5941162109375, 136.6177520751953, 546.7442016601562, 283.5447998046875, 656.9429931640625, 1324.972412109375, 1440.56298828125, 524.97216796875, 1311.392822265625, 584.6751098632812, 562.3438720703125, 466.18682861328125, 641.45458984375, 618.9708251953125, 1140.4150390625, 686.9368286132812, 498.5764465332031, 355.90869140625, 400.4563903808594, 832.0139770507812, 294.8973388671875, 616.4349365234375, 626.6940307617188, 1061.84228515625, 907.1031494140625, 642.5462036132812, 706.4319458007812, 43.796058654785156, 49.71868896484375, 33.450557708740234, 25.34444236755371, 60.16958236694336, 77.99988555908203, 147.34896850585938, 21.63864517211914, 16.747180938720703, 18.378585815429688, 11.591435432434082, 11.626431465148926, 51.06028366088867, 58.567626953125, 22.58352279663086, 70.66795349121094, 12.782536506652832, 15.741292953491211, 10.873019218444824, 11.741023063659668, 25.873876571655273, 17.29669761657715, 11.719158172607422, 25.182363510131836, 15.755033493041992, 27.884807586669922, 19.262371063232422, 14.804293632507324, 231.49530029296875, 22.727645874023438, 25.528196334838867, 363.72064208984375, 56.823822021484375, 424.0025634765625, 1530.63818359375, 77.93451690673828, 216.2707061767578, 301.7265625, 114.56777954101562, 562.3438720703125, 271.91705322265625, 781.8526611328125, 953.0670166015625, 371.13775634765625, 619.9918823242188, 143.91127014160156, 829.1934814453125, 1440.56298828125, 606.1270751953125, 593.9644165039062, 412.45111083984375, 373.7914733886719, 312.819580078125, 1311.392822265625, 832.0139770507812, 930.5941162109375, 894.5389404296875, 627.4454345703125, 828.725341796875, 665.4915771484375, 1324.972412109375, 691.344482421875, 618.9708251953125, 1061.84228515625, 37.57502746582031, 220.00152587890625, 28.29779052734375, 17.009910583496094, 576.7243041992188, 18.938133239746094, 14.89811897277832, 17.999021530151367, 236.00933837890625, 90.95075225830078, 27.841209411621094, 700.5032348632812, 77.99988555908203, 10.884071350097656, 12.823328971862793, 28.856843948364258, 14.934768676757812, 20.170072555541992, 11.581010818481445, 15.938375473022461, 13.767780303955078, 11.068060874938965, 12.794236183166504, 12.344048500061035, 148.1971893310547, 11.836038589477539, 33.26575469970703, 13.157156944274902, 20.879718780517578, 11.06509780883789, 42.6736946105957, 65.47845458984375, 257.80474853515625, 33.166900634765625, 605.5012817382812, 312.819580078125, 20.486581802368164, 678.5172729492188, 111.64295959472656, 132.67234802246094, 578.532470703125, 656.9429931640625, 228.7006072998047, 106.98766326904297, 894.5389404296875, 251.32077026367188, 783.2207641601562, 1061.84228515625, 686.9368286132812, 573.8719482421875, 540.1192626953125, 514.0045776367188, 941.8909912109375, 932.7871704101562, 758.479248046875, 428.62921142578125, 398.3034362792969, 672.9397583007812, 524.2597045898438, 1440.56298828125, 1530.63818359375, 211.64637756347656, 11.429765701293945, 15.215583801269531, 74.4391098022461, 164.4573516845703, 228.98611450195312, 79.51675415039062, 70.52021789550781, 19.19485855102539, 57.224308013916016, 11.472381591796875, 18.155750274658203, 12.264473915100098, 10.426877975463867, 12.419195175170898, 13.373194694519043, 13.029895782470703, 66.2693862915039, 27.950790405273438, 11.670004844665527, 221.54959106445312, 17.454055786132812, 10.500850677490234, 15.29876708984375, 12.414765357971191, 16.253124237060547, 14.32899284362793, 17.945064544677734, 11.604437828063965, 10.952583312988281, 67.08918762207031, 377.44500732421875, 108.8175277709961, 84.27886962890625, 53.73234176635742, 507.541259765625, 186.16685485839844, 193.20021057128906, 156.9113006591797, 294.8973388671875, 428.62921142578125, 490.8477478027344, 1440.56298828125, 678.5172729492188, 131.33680725097656, 314.58221435546875, 1311.392822265625, 572.4686279296875, 584.6751098632812, 930.5941162109375, 1140.4150390625, 401.5073547363281, 338.66522216796875, 1324.972412109375, 618.9708251953125, 573.8719482421875, 941.8909912109375, 907.1031494140625, 641.45458984375, 1530.63818359375, 932.7871704101562, 672.9397583007812, 140.4903106689453, 22.262052536010742, 16.53759002685547, 9.942839622497559, 10.952583312988281, 11.023232460021973, 15.389484405517578, 30.26283073425293, 11.339375495910645, 10.392008781433105, 73.12242126464844, 13.980137825012207, 10.41976547241211, 11.233841896057129, 13.308422088623047, 14.206823348999023, 11.248616218566895, 19.905759811401367, 12.17617130279541, 14.04098129272461, 10.259588241577148, 18.305953979492188, 27.26047134399414, 12.344715118408203, 10.188750267028809, 12.266010284423828, 13.029895782470703, 10.04105281829834, 44.75397872924805, 10.207642555236816, 28.684892654418945, 58.428768157958984, 192.9141845703125, 19.838693618774414, 29.3280029296875, 29.708768844604492, 31.712987899780273, 148.24964904785156, 126.04095458984375, 118.34175109863281, 182.4303436279297, 33.06612777709961, 498.5764465332031, 395.9249267578125, 38.754783630371094, 1324.972412109375, 397.23492431640625, 119.41512298583984, 119.82508850097656, 1140.4150390625, 618.9375, 656.9429931640625, 194.95811462402344, 105.9372329711914, 342.3948059082031, 1440.56298828125, 832.0139770507812, 192.1385498046875, 190.9036407470703, 584.6751098632812, 907.1031494140625, 546.7442016601562, 229.6489715576172, 1061.84228515625, 642.5462036132812, 641.45458984375, 618.9708251953125, 572.4686279296875, 1311.392822265625, 941.8909912109375, 783.2207641601562, 83.32440185546875, 115.23307800292969, 119.6875228881836, 58.24089050292969, 30.07908058166504, 48.45095443725586, 12.038994789123535, 16.064783096313477, 17.339195251464844, 18.17926025390625, 12.777822494506836, 17.14297103881836, 15.75399112701416, 15.882834434509277, 15.389484405517578, 291.1527099609375, 37.821044921875, 14.952643394470215, 48.46722412109375, 118.34175109863281, 26.540817260742188, 38.60122299194336, 42.950775146484375, 24.18918800354004, 111.21961212158203, 74.5576400756836, 119.41512298583984, 65.97476959228516, 13.130130767822266, 25.89683723449707, 64.22454071044922, 231.260498046875, 118.9608154296875, 57.90852355957031, 156.39169311523438, 99.55237579345703, 38.901023864746094, 159.67440795898438, 60.70505142211914, 71.7290267944336, 73.955322265625, 246.58468627929688, 263.6509704589844, 140.4903106689453, 1140.4150390625, 349.20404052734375, 600.94921875, 665.4915771484375, 131.44757080078125, 449.3014221191406, 706.4319458007812, 293.4079284667969, 1440.56298828125, 1324.972412109375, 27.337322235107422, 37.41683578491211, 13.3143949508667, 13.257433891296387, 12.286171913146973, 22.023927688598633, 36.41814041137695, 16.35352325439453, 12.600637435913086, 15.523554801940918, 11.144707679748535, 33.06612777709961, 10.6470308303833, 17.309545516967773, 14.137712478637695, 22.069297790527344, 18.173782348632812, 15.574841499328613, 13.585237503051758, 49.41111373901367, 11.374692916870117, 12.48367977142334, 10.778167724609375, 10.28756046295166, 12.777822494506836, 17.49786376953125, 10.788777351379395, 397.23492431640625, 16.51007652282715, 12.264473915100098, 30.098648071289062, 23.360042572021484, 160.55809020996094, 31.121139526367188, 77.19623565673828, 22.24728012084961, 51.354557037353516, 42.950775146484375, 36.26481628417969, 71.7290267944336, 228.98611450195312, 118.9608154296875, 79.51675415039062, 156.39169311523438, 221.54959106445312, 131.33680725097656, 231.260498046875, 43.17022705078125, 1061.84228515625, 84.65147399902344, 691.344482421875, 656.9429931640625, 1324.972412109375, 1440.56298828125, 447.9857482910156, 593.07861328125, 340.3139343261719, 490.8477478027344, 758.479248046875, 907.1031494140625, 487.4660339355469, 295.30712890625, 626.6940307617188, 498.0447082519531, 1140.4150390625, 941.8909912109375, 642.5462036132812, 618.9708251953125, 11.947504043579102, 21.63864517211914, 19.1065731048584, 11.430489540100098, 11.874126434326172, 17.140262603759766, 17.933422088623047, 221.54959106445312, 10.37335205078125, 10.173612594604492, 13.246500015258789, 14.324931144714355, 12.314102172851562, 17.828094482421875, 29.515371322631836, 19.019161224365234, 18.305953979492188, 10.04105281829834, 10.327543258666992, 10.107996940612793, 10.495992660522461, 25.383014678955078, 10.176844596862793, 11.14075756072998, 11.1509370803833, 17.19411277770996, 11.344791412353516, 16.112022399902344, 16.917919158935547, 19.32240104675293, 49.71868896484375, 20.024951934814453, 51.966251373291016, 70.52021789550781, 74.4391098022461, 397.23492431640625, 21.89243507385254, 26.543869018554688, 128.49649047851562, 228.98611450195312, 160.55809020996094, 606.1270751953125, 618.9708251953125, 314.58221435546875, 1140.4150390625, 68.8160400390625, 479.1118469238281, 1311.392822265625, 363.72064208984375, 294.8973388671875, 275.6450500488281, 205.2295684814453, 365.8772888183594, 1530.63818359375, 114.90513610839844, 507.541259765625, 377.44500732421875, 678.5172729492188, 340.3139343261719, 1324.972412109375, 1440.56298828125, 293.4079284667969, 689.3761596679688, 907.1031494140625, 953.0670166015625, 941.8909912109375, 1061.84228515625, 691.344482421875, 498.4134216308594, 13.172503471374512, 14.267062187194824, 10.39417839050293, 11.36463451385498, 11.448091506958008, 128.49649047851562, 10.188750267028809, 16.433725357055664, 13.072422981262207, 19.608671188354492, 15.470345497131348, 29.634538650512695, 16.286758422851562, 16.632415771484375, 17.07576560974121, 14.2750883102417, 15.307714462280273, 14.925015449523926, 14.531216621398926, 19.469118118286133, 19.523136138916016, 10.2363920211792, 20.00864601135254, 15.75399112701416, 10.537113189697266, 10.673592567443848, 40.761390686035156, 10.627911567687988, 10.830778121948242, 10.640436172485352, 31.588998794555664, 84.65147399902344, 26.897960662841797, 149.04507446289062, 22.104887008666992, 23.239892959594727, 354.8398132324219, 45.06212615966797, 267.4855041503906, 141.8828887939453, 174.2323455810547, 60.70505142211914, 71.7290267944336, 363.72064208984375, 169.96560668945312, 102.29920959472656, 606.1270751953125, 930.5941162109375, 524.2597045898438, 941.8909912109375, 52.423057556152344, 1311.392822265625, 1324.972412109375, 894.5389404296875, 487.4660339355469, 172.92971801757812, 498.4134216308594, 1061.84228515625, 1530.63818359375, 165.44461059570312, 832.0139770507812, 371.2698059082031, 326.19769287109375, 210.4065399169922, 253.45541381835938, 686.9368286132812, 932.7871704101562, 641.45458984375, 11.256063461303711, 13.252354621887207, 14.049631118774414, 12.908183097839355, 15.141465187072754, 31.81952476501465, 36.34773254394531, 19.056560516357422, 28.529680252075195, 10.20018196105957, 10.2363920211792, 19.95203971862793, 10.288931846618652, 10.339720726013184, 10.370939254760742, 10.368099212646484, 10.410565376281738, 10.479650497436523, 10.538911819458008, 10.485111236572266, 17.884296417236328, 10.795232772827148, 11.038432121276855, 11.146484375, 11.144707679748535, 53.0264892578125, 10.424365997314453, 11.243293762207031, 74.84017944335938, 11.29472541809082, 22.939851760864258, 23.476301193237305, 34.30720901489258, 55.78532409667969, 62.53114700317383, 128.49649047851562, 47.14891052246094, 30.520524978637695, 119.41512298583984, 27.958316802978516, 32.764129638671875, 53.606719970703125, 29.634538650512695, 89.57757568359375, 31.54902458190918, 32.2386474609375, 64.53630065917969, 192.1385498046875, 71.03514099121094, 74.85710144042969, 87.85082244873047, 102.97371673583984, 215.48805236816406, 686.9368286132812, 930.5941162109375, 1324.972412109375, 389.4239807128906, 193.576416015625, 234.99594116210938, 487.4660339355469, 276.4859924316406, 295.30712890625, 616.4349365234375, 514.0045776367188, 626.6940307617188, 832.0139770507812, 354.8398132324219], \"loglift\": [30.0, 29.0, 28.0, 27.0, 26.0, 25.0, 24.0, 23.0, 22.0, 21.0, 20.0, 19.0, 18.0, 17.0, 16.0, 15.0, 14.0, 13.0, 12.0, 11.0, 10.0, 9.0, 8.0, 7.0, 6.0, 5.0, 4.0, 3.0, 2.0, 1.0, 1.0684000253677368, 1.062399983406067, 1.0607999563217163, 1.0577000379562378, 1.0528000593185425, 1.0528000593185425, 1.0521999597549438, 1.0506000518798828, 1.049399971961975, 1.0485999584197998, 1.0441999435424805, 1.042199969291687, 1.0419000387191772, 1.0414999723434448, 1.038599967956543, 1.0371999740600586, 1.0368000268936157, 1.0363999605178833, 1.0351999998092651, 1.034999966621399, 1.034999966621399, 1.0333000421524048, 1.0331000089645386, 1.0305999517440796, 1.030400037765503, 1.030400037765503, 1.0293999910354614, 1.0261000394821167, 1.0260000228881836, 1.0224000215530396, 0.9923999905586243, 1.0029000043869019, 1.0115000009536743, 1.011199951171875, 0.9905999898910522, 0.9922999739646912, 1.002500057220459, 0.9442999958992004, 0.9805999994277954, 1.0029000043869019, 0.9994999766349792, 0.9595000147819519, 0.9635999798774719, 0.9997000098228455, 0.9732000231742859, 0.8737000226974487, 0.916700005531311, 0.8944000005722046, 0.9370999932289124, 0.9010000228881836, 0.9043999910354614, 0.8881000280380249, 0.9397000074386597, 0.862500011920929, 0.8075000047683716, 0.8971999883651733, 0.7580999732017517, 0.7903000116348267, 0.8147000074386597, 0.6371999979019165, 0.65420001745224, 0.9049999713897705, 0.6312000155448914, 0.7261999845504761, 0.795799970626831, 0.6722999811172485, 0.8582000136375427, 0.7688000202178955, 0.7811999917030334, 0.6154999732971191, 0.7746999859809875, 0.4553999900817871, 0.28450000286102295, 0.5501999855041504, 0.4715999960899353, 0.6629999876022339, 0.36550000309944153, 0.26600000262260437, 0.1152999997138977, 0.20149999856948853, 0.07559999823570251, 0.3546000123023987, 0.31540000438690186, 0.2849000096321106, 0.23510000109672546, 0.08829999715089798, 0.38440001010894775, 0.1543000042438507, 0.0729999989271164, 0.11100000143051147, 0.006399999838322401, -0.4058000147342682, 0.16380000114440918, 0.11980000138282776, 0.19269999861717224, -0.22300000488758087, -0.33009999990463257, 0.025200000032782555, 1.6913000345230103, 1.6816999912261963, 1.6758999824523926, 1.6739000082015991, 1.6612999439239502, 1.6176999807357788, 1.6165000200271606, 1.6130000352859497, 1.6117000579833984, 1.597100019454956, 1.5930999517440796, 1.5889999866485596, 1.5785000324249268, 1.5765999555587769, 1.541700005531311, 1.5292999744415283, 1.5266000032424927, 1.5263999700546265, 1.5190999507904053, 1.5133999586105347, 1.5045000314712524, 1.4722000360488892, 1.4605000019073486, 1.4535000324249268, 1.4412000179290771, 1.4230999946594238, 1.4221999645233154, 1.413599967956543, 1.40339994430542, 1.402500033378601, 1.398900032043457, 1.3631999492645264, 1.2467000484466553, 1.215399980545044, 0.9262999892234802, 1.1800999641418457, 0.8445000052452087, 0.7882000207901001, 0.7293000221252441, 0.39320001006126404, 0.4140999913215637, 0.5159000158309937, 0.39980000257492065, 0.6625999808311462, 0.5802000164985657, 0.12489999830722809, 0.2802000045776367, 0.40400001406669617, 0.4120999872684479, 0.4124999940395355, 0.09730000048875809, 0.17649999260902405, 0.4580000042915344, -0.01600000075995922, 0.23729999363422394, -0.289000004529953, -0.052400000393390656, -0.14139999449253082, 2.2832999229431152, 2.2567999362945557, 2.2455999851226807, 2.2411999702453613, 2.183799982070923, 2.121299982070923, 2.0966999530792236, 2.040800094604492, 1.9993000030517578, 1.9883999824523926, 1.9869999885559082, 1.9782999753952026, 1.9668999910354614, 1.9352999925613403, 1.9311000108718872, 1.892799973487854, 1.8770999908447266, 1.8746999502182007, 1.8621000051498413, 1.854200005531311, 1.8482999801635742, 1.8186999559402466, 1.8092999458312988, 1.8063000440597534, 1.80239999294281, 1.7941999435424805, 1.7910000085830688, 1.7624000310897827, 1.75600004196167, 1.7551000118255615, 1.7307000160217285, 1.7488000392913818, 1.6938999891281128, 1.7303999662399292, 1.7172000408172607, 1.5781999826431274, 1.5760999917984009, 1.3626999855041504, 1.5489000082015991, 1.7122000455856323, 1.1126999855041504, 1.070099949836731, 1.2699999809265137, 1.3476999998092651, 1.354699969291687, 1.2009999752044678, 1.016700029373169, 1.2281999588012695, 0.5649999976158142, 1.0870000123977661, 1.417799949645996, 0.6474999785423279, 0.2867000102996826, 0.18369999527931213, 0.8924999833106995, 0.37400001287460327, 0.5268999934196472, 0.34139999747276306, 0.10480000078678131, 0.5199000239372253, 0.682699978351593, 0.2515000104904175, -0.12860000133514404, -0.45989999175071716, -0.08460000157356262, -0.31850001215934753, 2.3994998931884766, 2.369499921798706, 2.351900100708008, 2.338399887084961, 2.3368000984191895, 2.334700107574463, 2.3122000694274902, 2.2969000339508057, 2.2964999675750732, 2.292099952697754, 2.289099931716919, 2.283400058746338, 2.280600070953369, 2.2683000564575195, 2.2618000507354736, 2.215100049972534, 2.183000087738037, 2.180999994277954, 2.1791999340057373, 2.166100025177002, 2.16129994392395, 2.1171998977661133, 2.106800079345703, 2.0982000827789307, 2.017899990081787, 1.9910999536514282, 1.985700011253357, 1.982800006866455, 1.9550000429153442, 1.9337999820709229, 1.8934999704360962, 1.7854000329971313, 1.0717999935150146, 1.447100043296814, 1.4510999917984009, 0.9872000217437744, 0.5687000155448914, 1.6403000354766846, 0.883899986743927, 1.0671000480651855, 0.5135999917984009, 0.8812000155448914, 0.7024000287055969, 0.195700004696846, 0.42419999837875366, 0.07599999755620956, 1.2958999872207642, 0.2257000058889389, 0.2272000014781952, 0.34599998593330383, 0.15600000321865082, 0.32989999651908875, -0.0746999979019165, 0.27730000019073486, -0.025299999862909317, 0.6144999861717224, 0.19470000267028809, 2.612799882888794, 2.609299898147583, 2.546600103378296, 2.536900043487549, 2.4623000621795654, 2.408900022506714, 2.391200065612793, 2.3125998973846436, 2.2908999919891357, 2.239000082015991, 2.2102999687194824, 2.2098000049591064, 2.2049999237060547, 2.158400058746338, 2.1401000022888184, 2.1196999549865723, 2.1138999462127686, 2.078399896621704, 2.0732998847961426, 2.059999942779541, 2.0562000274658203, 2.0316998958587646, 1.990399956703186, 1.9523999691009521, 1.948699951171875, 1.945199966430664, 1.891800045967102, 1.8834999799728394, 1.8813999891281128, 1.8554999828338623, 1.7656999826431274, 1.8033000230789185, 1.7592999935150146, 1.5514999628067017, 1.7072999477386475, 1.3907999992370605, 1.5326999425888062, 1.4642000198364258, 1.5764000415802002, 0.9743000268936157, 0.6585000157356262, 0.7039999961853027, 1.4392000436782837, 0.376800000667572, 1.2000999450683594, 0.7900000214576721, 0.8747000098228455, 0.5164999961853027, 0.3643999993801117, 0.5376999974250793, 0.4318000078201294, 0.5516999959945679, 0.9226999878883362, 0.319599986076355, -0.026000000536441803, 0.582099974155426, 0.3698999881744385, 0.0625, -0.14110000431537628, 0.3878999948501587, 0.25060001015663147, 0.33480000495910645, 0.3244999945163727, -0.1459999978542328, 0.3149999976158142, -0.04010000079870224, 0.17800000309944153, 2.6068999767303467, 2.5023999214172363, 2.4879000186920166, 2.4809000492095947, 2.468600034713745, 2.4200000762939453, 2.2695999145507812, 2.2599000930786133, 2.2207000255584717, 2.1984000205993652, 2.162600040435791, 2.1531999111175537, 2.106800079345703, 2.0947999954223633, 2.075200080871582, 2.0436999797821045, 2.0237998962402344, 2.000499963760376, 1.99399995803833, 1.982200026512146, 1.9743000268936157, 1.9594999551773071, 1.955399990081787, 1.9417999982833862, 1.9378000497817993, 1.9261000156402588, 1.920199990272522, 1.917099952697754, 1.9069000482559204, 1.9056999683380127, 1.9045000076293945, 1.8925000429153442, 1.6700999736785889, 1.798799991607666, 1.8039000034332275, 1.8174999952316284, 1.5654000043869019, 1.8210999965667725, 1.6480000019073486, 1.6950000524520874, 1.500499963760376, 1.6158000230789185, 1.590399980545044, 1.023300051689148, 1.4865000247955322, 1.527400016784668, 0.895799994468689, 0.6859999895095825, 1.3307000398635864, 0.8270000219345093, 1.057800054550171, 0.6912999749183655, 0.3944999873638153, 0.3384999930858612, 0.7286999821662903, 0.33219999074935913, 0.6657999753952026, 0.6531000137329102, 0.7368999719619751, 0.5842999815940857, 0.5867000222206116, 0.27950000762939453, 0.4616999924182892, 0.6169000267982483, 0.7750999927520752, 0.6890000104904175, 0.24940000474452972, 0.8646000027656555, 0.3474999964237213, 0.2980000078678131, -0.1145000010728836, -0.05040000006556511, 0.2535000145435333, 0.15049999952316284, 2.981600046157837, 2.898099899291992, 2.6113998889923096, 2.6008999347686768, 2.5560998916625977, 2.5378000736236572, 2.520900011062622, 2.5088999271392822, 2.4786999225616455, 2.441200017929077, 2.3963000774383545, 2.371799945831299, 2.357800006866455, 2.2625999450683594, 2.2330000400543213, 2.2030999660491943, 2.1147000789642334, 2.102400064468384, 2.088900089263916, 2.072000026702881, 2.061500072479248, 2.0599000453948975, 2.0445001125335693, 2.0409998893737793, 2.021899938583374, 2.0190000534057617, 2.0116000175476074, 2.0058999061584473, 2.000699996948242, 1.9986000061035156, 1.992400050163269, 1.8601000308990479, 1.9456000328063965, 1.7799999713897705, 1.6751999855041504, 1.896399974822998, 1.7451000213623047, 1.6949000358581543, 1.8039000034332275, 1.4910999536514282, 1.5831999778747559, 1.3301000595092773, 1.2598999738693237, 1.382099986076355, 1.2455999851226807, 1.6157000064849854, 1.0456000566482544, 0.8395000100135803, 1.1308000087738037, 1.1283999681472778, 1.2627999782562256, 1.2623000144958496, 1.3172999620437622, 0.6599000096321106, 0.8514000177383423, 0.6865000128746033, 0.6868000030517578, 0.8866999745368958, 0.6294000148773193, 0.7125999927520752, 0.15459999442100525, 0.641700029373169, 0.6184999942779541, 0.10890000313520432, 3.1960999965667725, 3.1470999717712402, 3.115799903869629, 2.9458999633789062, 2.8687000274658203, 2.843400001525879, 2.700000047683716, 2.6491000652313232, 2.588599920272827, 2.438999891281128, 2.4214000701904297, 2.3879001140594482, 2.385499954223633, 2.3712000846862793, 2.338599920272827, 2.316800117492676, 2.316200017929077, 2.309499979019165, 2.2922000885009766, 2.2911999225616455, 2.2878000736236572, 2.274199962615967, 2.2604000568389893, 2.2469000816345215, 2.2330000400543213, 2.214900016784668, 2.2095999717712402, 2.2004001140594482, 2.1907999515533447, 2.1840999126434326, 2.1538000106811523, 2.0806000232696533, 1.9407999515533447, 2.101900100708008, 1.6469999551773071, 1.5462000370025635, 2.1552000045776367, 1.2620999813079834, 1.6360000371932983, 1.5561000108718872, 1.0140999555587769, 0.8784999847412109, 1.18149995803833, 1.4882999658584595, 0.48240000009536743, 1.082200050354004, 0.4934999942779541, 0.30329999327659607, 0.4837000072002411, 0.5540000200271606, 0.5892000198364258, 0.5882999897003174, 0.1923000067472458, 0.1956000030040741, 0.2962999939918518, 0.6917999982833862, 0.7193999886512756, 0.31049999594688416, 0.37549999356269836, -0.6248999834060669, -0.6909000277519226, 3.069700002670288, 2.803499937057495, 2.750200033187866, 2.703399896621704, 2.661900043487549, 2.5917999744415283, 2.5861001014709473, 2.4126999378204346, 2.3929998874664307, 2.3808999061584473, 2.3671000003814697, 2.3508999347686768, 2.3373000621795654, 2.3348000049591064, 2.3336000442504883, 2.3229000568389893, 2.315700054168701, 2.314199924468994, 2.287100076675415, 2.286400079727173, 2.2588999271392822, 2.257999897003174, 2.219899892807007, 2.2135000228881836, 2.1977999210357666, 2.194999933242798, 2.175600051879883, 2.150399923324585, 2.1080000400543213, 2.0980000495910645, 2.073899984359741, 1.757599949836731, 1.8353999853134155, 1.7999999523162842, 1.8528000116348267, 1.058899998664856, 1.3358999490737915, 1.3133000135421753, 1.3675999641418457, 1.1220999956130981, 0.9721999764442444, 0.9031999707221985, 0.414000004529953, 0.6829000115394592, 1.365399956703186, 0.9796000123023987, 0.305400013923645, 0.6190999746322632, 0.5867000222206116, 0.29750001430511475, 0.13670000433921814, 0.7383000254631042, 0.8291000127792358, -0.09260000288486481, 0.4185999929904938, 0.460999995470047, 0.007000000216066837, 0.030799999833106995, 0.314300000667572, -0.41819998621940613, -0.12309999763965607, 0.1648000031709671, 3.044600009918213, 2.9911999702453613, 2.9463999271392822, 2.9151999950408936, 2.892699956893921, 2.892199993133545, 2.7393999099731445, 2.6672000885009766, 2.6226999759674072, 2.616499900817871, 2.5857999324798584, 2.567500114440918, 2.5388998985290527, 2.536799907684326, 2.519700050354004, 2.5141000747680664, 2.5081000328063965, 2.4964001178741455, 2.4758999347686768, 2.463399887084961, 2.4625000953674316, 2.456700086593628, 2.454400062561035, 2.439199924468994, 2.4386000633239746, 2.421799898147583, 2.421099901199341, 2.416100025177002, 2.4100000858306885, 2.398699998855591, 2.3922998905181885, 2.350800037384033, 2.0908000469207764, 2.3529000282287598, 2.2544000148773193, 2.2399001121520996, 2.223400115966797, 1.7976000308990479, 1.778499960899353, 1.7831000089645386, 1.6289000511169434, 2.138200044631958, 1.0140000581741333, 1.0937999486923218, 2.0411999225616455, 0.3474000096321106, 0.88919997215271, 1.4437999725341797, 1.4187999963760376, 0.15360000729560852, 0.4855000078678131, 0.42399999499320984, 1.1335999965667725, 1.468400001525879, 0.7297999858856201, -0.19249999523162842, 0.149399995803833, 1.0672999620437622, 1.0546000003814697, 0.2637999951839447, -0.09300000220537186, 0.2295999974012375, 0.8802000284194946, -0.36160001158714294, 0.037300001829862595, 0.035599999129772186, 0.05530000105500221, 0.10119999945163727, -0.6592000126838684, -0.3878999948501587, -0.2547999918460846, 3.7304999828338623, 3.703399896621704, 3.690200090408325, 3.6823999881744385, 3.670799970626831, 3.424499988555908, 3.3678998947143555, 3.2548000812530518, 3.222899913787842, 3.203700065612793, 3.141700029373169, 3.1280999183654785, 3.1217000484466553, 3.1187000274658203, 3.1184000968933105, 3.114300012588501, 3.0908000469207764, 3.0594000816345215, 2.976900100708008, 2.92330002784729, 2.9110000133514404, 2.890199899673462, 2.8889999389648438, 2.8743999004364014, 2.8066000938415527, 2.775399923324585, 2.7753000259399414, 2.757999897003174, 2.756200075149536, 2.7369000911712646, 2.7105000019073486, 2.639400005340576, 2.580399990081787, 2.6591999530792236, 2.2667999267578125, 2.3241000175476074, 2.7160000801086426, 2.050800085067749, 2.4883999824523926, 2.352799892425537, 2.31820011138916, 1.55239999294281, 1.4371000528335571, 1.8162000179290771, 0.3853999972343445, 1.1837999820709229, 0.5521000027656555, 0.4352000057697296, 1.8219000101089478, 0.7389000058174133, 0.28600001335144043, 1.0942000150680542, -0.486299991607666, -0.41510000824928284, 3.4305999279022217, 3.386199951171875, 3.2995998859405518, 3.2163000106811523, 3.174299955368042, 3.1064999103546143, 3.059299945831299, 2.8833999633789062, 2.7985999584198, 2.795799970626831, 2.794600009918213, 2.7683000564575195, 2.7637999057769775, 2.75570011138916, 2.73580002784729, 2.734499931335449, 2.6445999145507812, 2.637399911880493, 2.574399948120117, 2.565500020980835, 2.553299903869629, 2.5520999431610107, 2.5462000370025635, 2.5374999046325684, 2.5362000465393066, 2.5262999534606934, 2.4955999851226807, 2.48799991607666, 2.4835000038146973, 2.481800079345703, 2.4811999797821045, 2.480299949645996, 2.377700090408325, 2.404099941253662, 2.2172999382019043, 2.4240000247955322, 2.182800054550171, 2.2286999225616455, 2.272599935531616, 2.02620005607605, 1.631100058555603, 1.8127000331878662, 1.9515999555587769, 1.658400058746338, 1.4888999462127686, 1.687999963760376, 1.3996000289916992, 2.197999954223633, 0.6126999855041504, 1.8224999904632568, 0.6353999972343445, 0.5181999802589417, 0.01759999990463257, -0.05480000004172325, 0.6733999848365784, 0.4749000072479248, 0.8493000268936157, 0.501800000667572, 0.13660000264644623, -0.013899999670684338, 0.4519999921321869, 0.8452000021934509, 0.22429999709129333, 0.40700000524520874, -0.30730000138282776, -0.1736000031232834, 0.14790000021457672, 0.18060000240802765, 2.985599994659424, 2.953399896621704, 2.8652000427246094, 2.8338000774383545, 2.811300039291382, 2.7781999111175537, 2.763000011444092, 2.7400999069213867, 2.7274999618530273, 2.6867001056671143, 2.6617000102996826, 2.6350998878479004, 2.6154000759124756, 2.614000082015991, 2.5866000652313232, 2.5845999717712402, 2.581399917602539, 2.5739998817443848, 2.573199987411499, 2.5727999210357666, 2.5511999130249023, 2.54229998588562, 2.539400100708008, 2.4992001056671143, 2.4904000759124756, 2.4839999675750732, 2.476300001144409, 2.4728000164031982, 2.4639999866485596, 2.4375, 2.367000102996826, 2.4286000728607178, 2.307300090789795, 2.2448999881744385, 2.2276999950408936, 1.8602999448776245, 2.406599998474121, 2.3578999042510986, 1.885699987411499, 1.6964999437332153, 1.7563999891281128, 1.2028000354766846, 1.1726000308990479, 1.3380000591278076, 0.7269999980926514, 1.8941999673843384, 0.9617999792098999, 0.45509999990463257, 1.0673999786376953, 1.1512999534606934, 1.1262999773025513, 1.264299988746643, 0.9223999977111816, 0.11909999698400497, 1.5575000047683716, 0.6937999725341797, 0.86080002784729, 0.46630001068115234, 0.8995000123977661, -0.04410000145435333, -0.1088000014424324, 0.9362000226974487, 0.3296999931335449, 0.12780000269412994, 0.05510000139474869, 0.03799999877810478, -0.07590000331401825, 0.2295999974012375, 0.4115999937057495, 3.7411999702453613, 3.720599889755249, 3.6586999893188477, 3.5785000324249268, 3.565999984741211, 3.552000045776367, 3.526099920272827, 3.496500015258789, 3.4316999912261963, 3.425800085067749, 3.260499954223633, 3.253700017929077, 3.217600107192993, 3.1937999725341797, 3.1710000038146973, 3.1064999103546143, 3.0836000442504883, 3.082900047302246, 3.065500020980835, 3.053100109100342, 3.036400079727173, 3.021199941635132, 3.0183000564575195, 2.9928998947143555, 2.987600088119507, 2.979300022125244, 2.977299928665161, 2.977299928665161, 2.964200019836426, 2.9598000049591064, 2.9489998817443848, 2.7871999740600586, 2.87719988822937, 2.6875, 2.8912999629974365, 2.862499952316284, 2.3010001182556152, 2.72189998626709, 2.18969988822937, 2.137500047683716, 1.9386999607086182, 2.420099973678589, 2.335400104522705, 1.4670000076293945, 1.861799955368042, 2.112799882888794, 1.0195000171661377, 0.6388999819755554, 0.9847000241279602, 0.5640000104904175, 2.442500114440918, 0.26350000500679016, 0.16349999606609344, 0.43790000677108765, 0.8338000178337097, 1.5877000093460083, 0.765999972820282, 0.1695999950170517, -0.2831999957561493, 1.5708999633789062, 0.1876000016927719, 0.8776000142097473, 0.9692000150680542, 1.3387000560760498, 1.1535999774932861, 0.211899995803833, -0.120899997651577, 0.22869999706745148, 3.7646000385284424, 3.6993000507354736, 3.6438000202178955, 3.625499963760376, 3.5680999755859375, 3.456700086593628, 3.367300033569336, 3.334199905395508, 3.3285000324249268, 3.2957000732421875, 3.2936999797821045, 3.290600061416626, 3.289799928665161, 3.284899950027466, 3.2848000526428223, 3.2841999530792236, 3.281100034713745, 3.2774999141693115, 3.2713000774383545, 3.2709999084472656, 3.257999897003174, 3.2448999881744385, 3.2200000286102295, 3.2156999111175537, 3.2107999324798584, 3.210700035095215, 3.210599899291992, 3.202500104904175, 3.202399969100952, 3.1975998878479004, 3.1533000469207764, 3.129199981689453, 3.0394999980926514, 2.942199945449829, 2.8269999027252197, 2.660599946975708, 2.8245999813079834, 2.944499969482422, 2.4848999977111816, 2.9570000171661377, 2.898400068283081, 2.7014000415802, 2.8958001136779785, 2.469599962234497, 2.8315000534057617, 2.811500072479248, 2.5081000328063965, 1.9264999628067017, 2.414900064468384, 2.3678998947143555, 2.203900098800659, 2.044300079345703, 1.444000005722046, 0.5248000025749207, 0.27639999985694885, -0.10109999775886536, 0.8569999933242798, 1.417799949645996, 1.2401000261306763, 0.6134999990463257, 1.075700044631958, 1.0154000520706177, 0.3544999957084656, 0.4819999933242798, 0.2915000021457672, 0.006800000090152025, 0.8313000202178955], \"logprob\": [30.0, 29.0, 28.0, 27.0, 26.0, 25.0, 24.0, 23.0, 22.0, 21.0, 20.0, 19.0, 18.0, 17.0, 16.0, 15.0, 14.0, 13.0, 12.0, 11.0, 10.0, 9.0, 8.0, 7.0, 6.0, 5.0, 4.0, 3.0, 2.0, 1.0, -8.326800346374512, -7.904099941253662, -8.680100440979004, -8.520299911499023, -8.631099700927734, -8.748700141906738, -8.814399719238281, -8.815899848937988, -8.817299842834473, -8.636300086975098, -8.96619987487793, -8.23449993133545, -8.968700408935547, -8.642999649047852, -8.972000122070312, -9.05370044708252, -8.974200248718262, -9.055000305175781, -8.17490005493164, -9.055999755859375, -9.056300163269043, -9.05780029296875, -9.05780029296875, -9.060799598693848, -8.981200218200684, -9.061100006103516, -9.062700271606445, -9.152600288391113, -8.338500022888184, -8.465900421142578, -6.890699863433838, -7.427800178527832, -7.992199897766113, -8.036299705505371, -7.565499782562256, -7.629499912261963, -7.963399887084961, -6.4156999588012695, -7.428699970245361, -8.104999542236328, -8.067500114440918, -7.267300128936768, -7.45550012588501, -8.145600318908691, -7.652200222015381, -6.26140022277832, -6.985000133514404, -6.709499835968018, -7.337600231170654, -6.960000038146973, -7.019599914550781, -6.962800025939941, -7.493299961090088, -6.783699989318848, -6.299300193786621, -7.152500152587891, -6.0208001136779785, -6.322199821472168, -6.553599834442139, -5.488699913024902, -5.618899822235107, -7.302599906921387, -5.5071001052856445, -6.110300064086914, -6.604899883270264, -5.9095001220703125, -7.051400184631348, -6.588600158691406, -6.721399784088135, -6.07289981842041, -6.7129998207092285, -5.645500183105469, -5.092800140380859, -6.034900188446045, -5.882999897003174, -6.466899871826172, -5.640699863433838, -5.452499866485596, -5.411900043487549, -5.701499938964844, -5.5229997634887695, -6.00029993057251, -5.942599773406982, -5.910399913787842, -5.843699932098389, -5.68179988861084, -6.106200218200684, -5.900400161743164, -5.862100124359131, -5.9166998863220215, -5.836100101470947, -5.699399948120117, -6.017300128936768, -6.004899978637695, -6.081900119781494, -5.979100227355957, -6.060699939727783, -6.077499866485596, -6.468100070953369, -7.020299911499023, -7.472799777984619, -4.67549991607666, -6.703499794006348, -8.513099670410156, -7.063899993896484, -7.958799839019775, -6.163700103759766, -7.88040018081665, -5.935999870300293, -7.38539981842041, -6.93779993057251, -4.2692999839782715, -5.100900173187256, -7.470200061798096, -6.571599960327148, -6.328999996185303, -5.13070011138916, -7.458499908447266, -7.640200138092041, -8.247400283813477, -8.596400260925293, -7.6579999923706055, -5.4156999588012695, -5.76669979095459, -8.630800247192383, -5.103000164031982, -8.8125, -7.738699913024902, -8.0423002243042, -6.847300052642822, -5.714200019836426, -5.906400203704834, -4.978400230407715, -6.667900085449219, -5.639999866485596, -5.548600196838379, -5.450200080871582, -4.839700222015381, -4.973400115966797, -5.330599784851074, -5.356299877166748, -5.93779993057251, -5.828499794006348, -5.168700218200684, -5.447999954223633, -5.661799907684326, -5.7245001792907715, -5.729899883270264, -5.429900169372559, -5.553999900817871, -5.816500186920166, -5.614699840545654, -5.793300151824951, -5.666200160980225, -5.759099960327148, -5.859899997711182, -5.380899906158447, -6.39300012588501, -7.07859992980957, -7.469900131225586, -6.697199821472168, -4.660399913787842, -7.820400238037109, -6.526400089263916, -7.9232001304626465, -7.122099876403809, -7.583399772644043, -7.806300163269043, -7.688700199127197, -7.848400115966797, -6.914999961853027, -7.046999931335449, -8.045299530029297, -5.139500141143799, -7.9847002029418945, -6.069300174713135, -6.070199966430664, -7.761199951171875, -5.758500099182129, -7.447800159454346, -8.079400062561035, -5.588900089263916, -8.39780044555664, -7.58519983291626, -7.368199825286865, -8.101200103759766, -4.283899784088135, -6.549600124359131, -5.126800060272217, -6.889200210571289, -6.840199947357178, -5.054699897766113, -5.526400089263916, -4.797699928283691, -6.063300132751465, -6.960000038146973, -5.09630012512207, -4.976399898529053, -5.6178998947143555, -5.905099868774414, -5.977200031280518, -5.872799873352051, -5.587200164794922, -6.086400032043457, -5.1631999015808105, -5.961400032043457, -6.388199806213379, -5.474400043487549, -5.100800037384033, -5.109899997711182, -5.8028998374938965, -5.472499847412109, -5.6097002029418945, -5.593599796295166, -5.651400089263916, -5.8059000968933105, -5.850599765777588, -5.776299953460693, -5.727200031280518, -5.692800045013428, -5.815199851989746, -5.845699787139893, -4.387800216674805, -5.842700004577637, -6.561399936676025, -4.145100116729736, -6.716100215911865, -5.9197998046875, -7.502999782562256, -5.030099868774414, -5.637199878692627, -3.7548999786376953, -6.546299934387207, -7.531700134277344, -4.455999851226807, -6.9984002113342285, -5.386600017547607, -6.322000026702881, -6.600900173187256, -6.845699787139893, -7.863699913024902, -6.294899940490723, -6.45389986038208, -6.091300010681152, -7.20419979095459, -7.725200176239014, -6.895699977874756, -5.802199840545654, -6.049300193786621, -7.2846999168396, -7.378799915313721, -6.034800052642822, -5.359300136566162, -6.729300022125244, -4.634900093078613, -5.904799938201904, -5.9319000244140625, -5.1732001304626465, -4.6641998291015625, -6.417099952697754, -5.23799991607666, -5.536799907684326, -5.214600086212158, -5.603300094604492, -5.477200031280518, -5.097799777984619, -5.345799922943115, -5.311600208282471, -6.018700122833252, -5.504799842834473, -5.528900146484375, -5.700500011444092, -5.690400123596191, -5.735899925231934, -5.673299789428711, -5.756899833679199, -5.743800163269043, -5.83620023727417, -5.835899829864502, -6.6082000732421875, -6.966100215911865, -6.679900169372559, -7.047500133514404, -5.262599945068359, -5.696800231933594, -6.886499881744385, -7.7393999099731445, -7.166900157928467, -6.996699810028076, -6.482600212097168, -7.82889986038208, -7.621300220489502, -7.368500232696533, -7.835000038146973, -8.00160026550293, -6.696899890899658, -6.612299919128418, -7.895400047302246, -7.242499828338623, -7.8379998207092285, -7.313600063323975, -6.792399883270264, -7.308499813079834, -7.01039981842041, -8.26509952545166, -6.554299831390381, -8.14330005645752, -5.829999923706055, -8.284299850463867, -4.928999900817871, -6.463399887084961, -6.710599899291992, -5.861999988555908, -6.549099922180176, -5.58650016784668, -6.07859992980957, -5.999499797821045, -6.403900146484375, -5.147600173950195, -4.718699932098389, -5.066100120544434, -6.271299839019775, -4.856100082397461, -6.046800136566162, -5.604400157928467, -5.795300006866455, -5.586100101470947, -5.478099822998047, -5.630099773406982, -5.633999824523926, -5.72130012512207, -5.976799964904785, -5.615499973297119, -5.413599967956543, -5.773600101470947, -5.657899856567383, -5.536099910736084, -5.434599876403809, -5.7129998207092285, -5.652400016784668, -5.695799827575684, -5.80019998550415, -5.673299789428711, -5.8109002113342285, -5.758500099182129, -5.828199863433838, -5.831299781799316, -7.301700115203857, -7.695499897003174, -5.457600116729736, -7.059899806976318, -7.510000228881836, -5.441800117492676, -7.240600109100342, -7.768199920654297, -7.983699798583984, -7.480899810791016, -8.03439998626709, -7.542399883270264, -7.98769998550415, -7.952099800109863, -7.447999954223633, -8.003000259399414, -8.193099975585938, -4.165299892425537, -7.300300121307373, -7.8846001625061035, -7.918499946594238, -8.060600280761719, -7.938600063323975, -7.974899768829346, -8.188899993896484, -8.26710033416748, -8.025400161743164, -8.18690013885498, -8.105299949645996, -7.985799789428711, -7.90339994430542, -5.024600028991699, -6.671000003814697, -6.7459001541137695, -6.9131999015808105, -4.141200065612793, -7.109300136566162, -5.914100170135498, -6.725800037384033, -6.210000038146973, -6.830399990081787, -6.786900043487549, -5.19320011138916, -6.493800163269043, -6.650599956512451, -5.27209997177124, -5.04449987411499, -6.31850004196167, -5.435299873352051, -5.861199855804443, -5.387499809265137, -4.982699871063232, -4.955100059509277, -5.5742998123168945, -5.0553998947143555, -5.5295000076293945, -5.581200122833252, -5.684899806976318, -5.5183000564575195, -5.551599979400635, -5.247700214385986, -5.572500228881836, -5.73769998550415, -5.916600227355957, -5.884799957275391, -5.593100070953369, -6.015100002288818, -5.794899940490723, -5.828000068664551, -5.713099956512451, -5.80649995803833, -5.847499847412109, -5.8557000160217285, -5.805200099945068, -5.761899948120117, -6.444900035858154, -6.732999801635742, -5.913099765777588, -5.671899795532227, -5.052700042724609, -6.982999801635742, -7.269499778747559, -7.214000225067139, -7.719799995422363, -7.741300106048584, -6.275599956512451, -6.233500003814697, -7.21619987487793, -6.105299949645996, -7.903600215911865, -7.707699775695801, -8.09119987487793, -8.031299591064453, -7.251699924468994, -7.656000137329102, -8.060700416564941, -7.299200057983398, -7.787300109863281, -7.219299793243408, -7.59660005569458, -7.865499973297119, -5.121099948883057, -7.444200038909912, -7.334199905395508, -4.809899806976318, -6.5808000564575195, -4.736599922180176, -3.5576999187469482, -6.3140997886657715, -5.444699764251709, -5.161900043487549, -6.021399974822998, -4.743199825286865, -5.377600193023682, -4.5746002197265625, -4.446800231933594, -5.2677001953125, -4.890999794006348, -5.981500148773193, -4.800300121307373, -4.454100131988525, -5.02839994430542, -5.051199913024902, -5.281400203704834, -5.38040018081665, -5.503399848937988, -4.72760009765625, -4.991199970245361, -5.044099807739258, -5.0833001136779785, -5.238100051879883, -5.217100143432617, -5.3531999588012695, -5.222599983215332, -5.386000156402588, -5.519800186157227, -5.489799976348877, -5.74399995803833, -4.025599956512451, -6.107800006866455, -6.7866997718811035, -3.3403000831604004, -6.781799793243408, -7.165200233459473, -7.0269999504089355, -4.513899803161621, -5.617000102996826, -6.81850004196167, -3.626699924468994, -5.82420015335083, -7.807799816131592, -7.676499843597412, -6.887199878692627, -7.54640007019043, -7.252600193023682, -7.82480001449585, -7.506499767303467, -7.656300067901611, -7.8881001472473145, -7.756999969482422, -7.806300163269043, -5.334799766540527, -7.880300045013428, -6.85230016708374, -7.789000034332275, -7.3368000984191895, -7.978499889373779, -6.658999919891357, -6.304100036621094, -5.073400020599365, -6.962900161743164, -4.513299942016602, -5.274600028991699, -7.39139986038208, -4.78439998626709, -6.215099811553955, -6.122399806976318, -5.191800117492676, -5.200300216674805, -5.952499866485596, -6.405300140380859, -5.287700176239014, -5.957499980926514, -5.4095001220703125, -5.295300006866455, -5.5503997802734375, -5.659999847412109, -5.685400009155273, -5.735899925231934, -5.526199817657471, -5.532599925994873, -5.638800144195557, -5.813899993896484, -5.8597002029418945, -5.744200229644775, -5.928899765014648, -5.918499946594238, -5.923799991607666, -4.1417999267578125, -7.326600074768066, -7.093800067901611, -5.552999973297119, -4.801799774169922, -4.540900230407715, -5.604300022125244, -5.897799968719482, -7.218800067901611, -6.138500213623047, -7.759300231933594, -7.316500186920166, -7.722400188446045, -7.887199878692627, -7.713500022888184, -7.650199890136719, -7.6834001541137695, -6.0584001541137695, -6.948800086975098, -7.82289981842041, -4.906799793243408, -7.448800086975098, -7.994999885559082, -7.625100135803223, -7.849699974060059, -7.583099842071533, -7.728499889373779, -7.528600215911865, -8.006999969482422, -8.074799537658691, -6.286499977111816, -4.875400066375732, -6.041299819946289, -6.332200050354004, -6.729499816894531, -5.277900218963623, -6.003799915313721, -5.989299774169922, -6.143099784851074, -5.757699966430664, -5.533599853515625, -5.467100143432617, -4.8796000480651855, -5.36359977722168, -6.323200225830078, -5.8354997634887695, -5.082099914550781, -5.597300052642822, -5.60860013961792, -5.43310022354126, -5.390500068664551, -5.832799911499023, -5.912300109863281, -5.469900131225586, -5.719699859619141, -5.752999782562256, -5.71150016784668, -5.725299835205078, -5.788400173187256, -5.651100158691406, -5.85129976272583, -5.889900207519531, -4.576600074768066, -6.472300052642822, -6.8144001960754395, -7.354300022125244, -7.280099868774414, -7.274099826812744, -7.093299865722656, -6.489299774169922, -7.515399932861328, -7.608799934387207, -5.688399791717529, -7.361199855804443, -7.683800220489502, -7.610599994659424, -7.4583001136779785, -7.398499965667725, -7.638000011444092, -7.07889986038208, -7.591000080108643, -7.460999965667725, -7.775599956512451, -7.202400207519531, -6.806600093841553, -7.613999843597412, -7.80649995803833, -7.637700080871582, -7.578000068664551, -7.843599796295166, -6.355199813842773, -7.844600200653076, -6.817699909210205, -6.147799968719482, -5.2133002281188965, -7.225900173187256, -6.9334001541137695, -6.934999942779541, -6.886199951171875, -5.769800186157227, -5.951300144195557, -6.0096001625061035, -5.731100082397461, -6.929599761962891, -5.34060001373291, -5.491399765014648, -6.8678998947143555, -5.029799938201904, -5.692599773406982, -6.340000152587891, -6.361499786376953, -5.373600006103516, -5.6528000831604, -5.654799938201904, -6.159999847412109, -6.435200214385986, -6.0005998611450195, -5.486100196838379, -5.6930999755859375, -6.240799903869629, -6.260000228881836, -5.93149995803833, -5.849100112915039, -6.032800197601318, -6.249599933624268, -5.96019983291626, -6.063600063323975, -6.0671000480651855, -6.083000183105469, -6.115200042724609, -6.0467000007629395, -6.106400012969971, -6.157700061798096, -4.413099765777588, -4.116000175476074, -4.091300010681152, -4.819300174713135, -5.491799831390381, -5.261300086975098, -6.710400104522705, -6.534900188446045, -6.490499973297119, -6.462399959564209, -6.8769001960754395, -6.596700191497803, -6.6875, -6.682400226593018, -6.714300155639648, -3.7781999111175537, -5.842700004577637, -6.80210018157959, -5.708600044250488, -4.869500160217285, -6.376699924468994, -6.022900104522705, -5.917300224304199, -6.506100177764893, -5.048299789428711, -5.479400157928467, -5.008500099182129, -5.619100093841553, -7.235300064086914, -6.575300216674805, -5.69350004196167, -4.483399868011475, -5.207200050354004, -5.848299980163574, -5.247200012207031, -5.641600131988525, -6.189300060272217, -5.442500114440918, -5.9720001220703125, -5.940700054168701, -5.944799900054932, -5.506199836730957, -5.554699897766113, -5.804999828338623, -5.141900062561035, -5.5269999504089355, -5.615799903869629, -5.63070011138916, -5.865900039672852, -5.719799995422363, -5.720099925994873, -5.790599822998047, -5.779900074005127, -5.792399883270264, -5.827600002288818, -5.558000087738037, -6.6778998374938965, -6.765600204467773, -6.883600234985352, -6.367800235748291, -5.9120001792907715, -6.888599872589111, -7.234000205993652, -7.028200149536133, -7.360799789428711, -6.299600124359131, -7.437300205230713, -6.959400177001953, -7.181700229644775, -6.73769998550415, -7.0218000411987305, -7.183300018310547, -7.382900238037109, -6.1006999015808105, -7.581699848175049, -7.4899001121521, -7.6427001953125, -7.697999954223633, -7.482500076293945, -7.177999973297119, -7.692299842834473, -4.093900203704834, -7.278900146484375, -7.5777997970581055, -6.680699825286865, -6.934999942779541, -5.110099792480469, -6.724400043487549, -6.002699851989746, -7.040200233459473, -6.444799900054932, -6.577700138092041, -6.703000068664551, -6.267199993133545, -5.5015997886657715, -5.974800109863281, -6.238800048828125, -5.855599880218506, -5.676799774169922, -6.0005998611450195, -5.723199844360352, -6.603300094604492, -4.985899925231934, -6.305300235748291, -5.392300128936768, -5.560500144958496, -5.359600067138672, -5.348400115966797, -5.7881999015808105, -5.706099987030029, -5.887199878692627, -5.8684000968933105, -5.798500061035156, -5.769999980926514, -5.925099849700928, -6.033199787139893, -5.901599884033203, -5.948699951171875, -5.834499835968018, -5.892099857330322, -5.953000068664551, -5.957699775695801, -7.100200176239014, -6.53849983215332, -6.751100063323975, -7.296299934387207, -7.280700206756592, -6.946800231933594, -6.9166998863220215, -4.425600051879883, -7.499599933624268, -7.559899806976318, -7.320899963378906, -7.2692999839782715, -7.440299987792969, -7.071599960327148, -6.594799995422363, -7.036300182342529, -7.0777997970581055, -7.685699939727783, -7.658299922943115, -7.680200099945068, -7.6641998291015625, -6.789999961853027, -7.706900119781494, -7.656499862670898, -7.6645002365112305, -7.237800121307373, -7.661300182342529, -7.314000129699707, -7.27400016784668, -7.167600154876709, -6.293000221252441, -7.1407999992370605, -6.308499813079834, -6.0655999183654785, -6.02869987487793, -4.721499919891357, -7.073599815368652, -6.929699897766113, -5.82480001449585, -5.436200141906738, -5.731299877166748, -4.956399917602539, -4.965700149536133, -5.477099895477295, -4.80019998550415, -6.440800189971924, -5.432700157165527, -4.932400226593018, -5.60260009765625, -5.728499889373779, -5.821000099182129, -5.978000164031982, -5.741700172424316, -5.113900184631348, -6.264699935913086, -5.642899990081787, -5.77209997177124, -5.580100059509277, -5.836999893188477, -5.421299934387207, -5.402299880981445, -5.948599815368652, -5.700900077819824, -5.628300189971924, -5.651599884033203, -5.680500030517578, -5.674499988555908, -5.798099994659424, -5.943299770355225, -6.247000217437744, -6.18779993057251, -6.566500186920166, -6.557400226593018, -6.5625, -4.1585001945495605, -6.718999862670898, -6.270500183105469, -6.564199924468994, -6.164599895477295, -6.56689977645874, -5.923699855804443, -6.5584001541137695, -6.561299800872803, -6.557700157165527, -6.801400184631348, -6.75439977645874, -6.780399799346924, -6.8246002197265625, -6.54449987411499, -6.5584001541137695, -7.219200134277344, -6.5518999099731445, -6.816400051116943, -7.223899841308594, -7.219299793243408, -5.881400108337402, -7.225599765777588, -7.219799995422363, -7.2418999671936035, -6.164599895477295, -5.34060001373291, -6.397200107574463, -4.874599933624268, -6.5792999267578125, -6.558000087738037, -4.393700122833252, -6.036399841308594, -4.787600040435791, -5.473800182342529, -5.467299938201904, -6.040299892425537, -5.958000183105469, -5.203000068664551, -5.568999767303467, -5.8256001472473145, -5.139699935913086, -5.091599941253662, -5.319699764251709, -5.1545000076293945, -6.164599895477295, -5.124100208282471, -5.213699817657471, -5.332200050354004, -5.543300151824951, -5.825799942016602, -5.589000225067139, -5.428999900817871, -5.516200065612793, -5.886899948120117, -5.65500020980835, -5.7718000411987305, -5.809599876403809, -5.878699779510498, -5.877600193023682, -5.822199821472168, -5.848999977111816, -5.873899936676025, -6.380899906158447, -6.282899856567383, -6.279900074005127, -6.382999897003174, -6.280900001525879, -5.649600028991699, -5.605899810791016, -6.284800052642822, -5.886899948120117, -6.948299884796143, -6.946700096130371, -6.282400131225586, -6.945499897003174, -6.945499897003174, -6.942500114440918, -6.943399906158447, -6.942399978637695, -6.9394001960754395, -6.940000057220459, -6.945400238037109, -6.424499988555908, -6.942399978637695, -6.945000171661377, -6.939499855041504, -6.9446001052856445, -5.384900093078613, -7.01170015335083, -6.9440999031066895, -5.048600196838379, -6.944399833679199, -6.280200004577637, -6.281099796295166, -5.991499900817871, -5.602700233459473, -5.603700160980225, -5.049900054931641, -5.888500213623047, -6.203400135040283, -5.298900127410889, -6.278600215911865, -6.178699970245361, -5.883299827575684, -6.281599998474121, -5.6016998291015625, -6.283299922943115, -6.281700134277344, -5.890999794006348, -5.381700038909912, -5.888299942016602, -5.882900238037109, -5.8867998123168945, -5.887599945068359, -5.749499797821045, -5.509300231933594, -5.454100131988525, -5.478400230407715, -5.744699954986572, -5.882900238037109, -5.866700172424316, -5.763700008392334, -5.868500232696533, -5.8628997802734375, -5.787899971008301, -5.842100143432617, -5.834400177001953, -5.835700035095215, -5.863399982452393]}, \"token.table\": {\"Topic\": [2, 1, 2, 6, 8, 10, 2, 3, 5, 13, 1, 4, 7, 9, 10, 13, 14, 1, 5, 6, 7, 3, 4, 6, 2, 9, 1, 5, 6, 13, 14, 15, 1, 3, 9, 2, 3, 4, 5, 7, 12, 13, 1, 2, 4, 5, 7, 9, 10, 11, 1, 3, 5, 6, 9, 11, 13, 1, 2, 3, 4, 5, 8, 9, 1, 2, 3, 8, 2, 7, 8, 1, 12, 1, 2, 1, 2, 3, 4, 5, 6, 7, 8, 9, 10, 11, 12, 13, 15, 1, 5, 10, 12, 1, 2, 7, 10, 12, 1, 2, 7, 15, 1, 3, 6, 8, 2, 6, 1, 2, 5, 6, 10, 1, 2, 3, 4, 6, 9, 11, 1, 3, 4, 5, 6, 8, 9, 10, 1, 2, 3, 6, 7, 8, 10, 11, 13, 1, 3, 6, 9, 12, 13, 1, 2, 4, 7, 8, 13, 1, 5, 10, 11, 12, 13, 14, 1, 4, 5, 7, 8, 10, 14, 1, 4, 5, 10, 12, 1, 2, 3, 4, 5, 6, 7, 9, 10, 11, 13, 1, 5, 6, 12, 1, 2, 3, 10, 13, 1, 2, 3, 4, 5, 6, 7, 8, 9, 10, 11, 12, 13, 14, 15, 1, 5, 10, 12, 1, 1, 2, 7, 2, 3, 7, 8, 1, 2, 5, 7, 9, 1, 5, 6, 9, 10, 12, 13, 2, 7, 13, 1, 6, 1, 2, 3, 4, 5, 9, 13, 15, 1, 5, 7, 9, 1, 5, 10, 12, 13, 15, 1, 2, 5, 8, 13, 14, 1, 10, 11, 1, 10, 11, 2, 3, 5, 10, 1, 2, 3, 4, 5, 9, 3, 8, 1, 5, 6, 1, 2, 3, 4, 5, 6, 7, 8, 9, 10, 11, 12, 13, 14, 15, 1, 8, 9, 10, 1, 10, 11, 12, 3, 4, 5, 1, 2, 4, 5, 6, 10, 12, 14, 15, 2, 5, 6, 10, 13, 1, 2, 6, 7, 10, 1, 2, 3, 6, 10, 1, 12, 1, 2, 3, 4, 5, 6, 7, 8, 9, 10, 11, 14, 1, 2, 8, 3, 4, 5, 1, 2, 4, 5, 6, 7, 8, 9, 10, 11, 1, 3, 5, 12, 15, 2, 3, 7, 8, 1, 5, 6, 8, 9, 12, 13, 1, 2, 4, 5, 6, 1, 2, 4, 5, 6, 9, 10, 12, 13, 14, 15, 3, 1, 2, 4, 5, 10, 15, 1, 5, 6, 7, 10, 13, 15, 1, 2, 3, 4, 5, 6, 7, 8, 9, 10, 13, 1, 2, 3, 4, 6, 7, 9, 10, 11, 13, 1, 3, 5, 6, 10, 11, 12, 1, 2, 3, 4, 5, 2, 1, 5, 10, 11, 1, 6, 8, 15, 3, 4, 10, 12, 13, 2, 3, 4, 6, 7, 8, 9, 1, 2, 3, 4, 5, 6, 7, 8, 9, 10, 11, 12, 13, 14, 15, 2, 7, 13, 2, 7, 13, 1, 5, 10, 1, 4, 7, 11, 1, 2, 3, 4, 5, 6, 7, 8, 9, 10, 11, 12, 13, 14, 1, 5, 12, 1, 2, 4, 6, 7, 8, 10, 2, 3, 4, 5, 13, 1, 10, 11, 12, 13, 14, 1, 10, 11, 14, 1, 2, 3, 4, 5, 6, 7, 8, 9, 10, 11, 12, 13, 14, 15, 1, 2, 5, 6, 7, 8, 10, 11, 12, 13, 1, 2, 5, 6, 13, 14, 1, 2, 3, 4, 5, 6, 7, 8, 9, 10, 11, 12, 13, 2, 3, 4, 5, 6, 7, 8, 9, 12, 2, 4, 5, 7, 8, 9, 13, 1, 2, 3, 4, 5, 6, 7, 8, 9, 10, 11, 12, 13, 1, 3, 5, 6, 10, 12, 5, 9, 12, 13, 2, 7, 9, 2, 7, 1, 6, 10, 12, 1, 2, 3, 4, 5, 6, 10, 2, 7, 8, 1, 4, 5, 8, 10, 13, 2, 7, 3, 4, 5, 1, 2, 3, 4, 5, 7, 8, 9, 10, 12, 13, 2, 7, 8, 9, 1, 2, 3, 4, 5, 6, 7, 8, 9, 10, 11, 12, 13, 14, 15, 1, 5, 11, 12, 14, 1, 2, 5, 10, 12, 1, 2, 3, 4, 6, 12, 1, 2, 5, 6, 12, 1, 2, 4, 9, 13, 2, 4, 5, 2, 3, 4, 5, 6, 8, 9, 10, 13, 2, 7, 2, 3, 9, 10, 13, 1, 3, 4, 5, 14, 2, 3, 7, 8, 10, 1, 2, 6, 8, 9, 11, 12, 1, 5, 6, 9, 1, 2, 3, 4, 5, 6, 7, 8, 9, 10, 11, 12, 13, 1, 4, 5, 10, 12, 13, 1, 5, 11, 14, 1, 5, 6, 7, 11, 14, 1, 2, 3, 4, 5, 6, 7, 9, 2, 3, 4, 5, 9, 1, 2, 4, 5, 6, 7, 10, 11, 12, 13, 14, 15, 2, 3, 7, 8, 9, 2, 3, 7, 8, 1, 2, 3, 4, 5, 6, 7, 8, 9, 11, 12, 13, 1, 2, 3, 4, 5, 6, 7, 8, 9, 10, 11, 12, 13, 14, 15, 1, 5, 7, 1, 2, 3, 4, 5, 6, 7, 8, 9, 10, 11, 12, 13, 1, 2, 3, 4, 5, 6, 8, 9, 10, 11, 12, 13, 15, 1, 2, 3, 4, 5, 6, 7, 8, 9, 10, 11, 12, 13, 14, 1, 4, 9, 10, 1, 6, 11, 1, 2, 3, 4, 6, 3, 8, 2, 4, 5, 6, 7, 1, 11, 13, 1, 6, 5, 10, 1, 2, 6, 9, 15, 3, 4, 9, 1, 1, 1, 2, 3, 13, 15, 1, 5, 12, 1, 5, 6, 10, 1, 2, 3, 4, 5, 6, 7, 9, 13, 15, 1, 5, 6, 1, 2, 3, 4, 5, 6, 7, 8, 9, 14, 1, 2, 3, 4, 5, 6, 7, 8, 9, 11, 12, 14, 15, 1, 2, 11, 15, 1, 2, 3, 4, 5, 6, 7, 8, 9, 11, 12, 14, 1, 10, 11, 13, 1, 6, 11, 12, 13, 1, 6, 7, 9, 10, 1, 2, 3, 5, 11, 12, 1, 5, 10, 11, 12, 2, 7, 13, 1, 5, 9, 2, 1, 2, 3, 4, 5, 6, 7, 8, 9, 10, 11, 12, 13, 14, 1, 10, 15, 1, 2, 4, 5, 10, 11, 13, 15, 1, 3, 5, 6, 7, 9, 10, 12, 13, 1, 5, 10, 12, 1, 2, 3, 4, 5, 6, 7, 8, 9, 12, 13, 14, 1, 7, 1, 5, 6, 9, 11, 1, 2, 3, 4, 5, 6, 9, 10, 11, 12, 13, 1, 2, 3, 5, 6, 8, 9, 10, 11, 13, 1, 2, 3, 4, 5, 6, 8, 9, 10, 11, 15, 1, 6, 8, 13, 1, 2, 3, 5, 6, 9, 13, 1, 5, 6, 13, 15, 2, 3, 7, 8, 9, 11, 2, 3, 4, 5, 6, 8, 9, 1, 2, 3, 4, 5, 7, 9, 1, 10, 11, 12, 15, 2, 7, 9, 2, 7, 1, 5, 9, 10, 12, 2, 7, 8, 9, 13, 1, 2, 6, 10, 11, 12, 13, 15, 1, 6, 10, 12, 13, 1, 2, 3, 4, 8, 9, 1, 2, 3, 4, 5, 6, 7, 9, 10, 11, 12, 13, 1, 2, 5, 6, 9, 10, 11, 12, 13, 14, 1, 2, 7, 9, 10, 15, 2, 7, 1, 2, 3, 4, 5, 6, 7, 8, 9, 10, 13, 1, 3, 5, 6, 9, 10, 11, 12, 14, 15, 5, 10, 1, 5, 10, 11, 12, 14, 1, 2, 3, 4, 5, 6, 7, 8, 9, 10, 11, 12, 1, 2, 9, 12, 1, 10, 11, 12, 1, 5, 6, 10, 11, 12, 13, 14, 15, 1, 2, 3, 4, 5, 6, 7, 8, 9, 10, 11, 12, 13, 14, 15, 2, 6, 8, 10, 15, 1, 2, 6, 9, 15, 1, 2, 3, 4, 5, 8, 10, 12, 2, 3, 4, 5, 9, 1, 2, 3, 4, 8, 10, 1, 2, 5, 7, 14, 3, 7, 1, 2, 3, 4, 5, 6, 7, 8, 9, 11, 12, 2, 3, 1, 2, 3, 4, 5, 6, 7, 8, 9, 10, 11, 12, 13, 14, 15, 1, 2, 3, 4, 5, 6, 7, 8, 9, 10, 11, 12, 13, 14, 15, 1, 5, 6, 13, 14, 15, 1, 2, 3, 4, 5, 6, 7, 8, 9, 10, 11, 12, 13, 14, 1, 3, 5, 10, 1, 2, 5, 6, 7, 13, 14, 1, 2, 5, 7, 12, 13, 15, 1, 12, 1, 2, 3, 4, 5, 6, 7, 8, 9, 10, 11, 12, 13, 15, 2, 3, 1, 5, 6, 9, 10, 12, 13, 1, 2, 4, 5, 6, 10, 13, 1, 2, 3, 4, 5, 6, 7, 8, 9, 10, 11, 12, 13, 1, 5, 1, 2, 3, 5, 7, 9, 10, 1, 2, 5, 9, 15, 1, 2, 3, 4, 5, 6, 7, 8, 9, 10, 11, 12, 13, 14, 1, 2, 3, 4, 5, 6, 7, 8, 9, 10, 11, 12, 13, 15, 2, 3, 7, 1, 10, 12, 2, 5, 6, 10, 15, 1, 2, 3, 5, 6, 8, 10, 12, 14, 15, 3, 4, 1, 6, 10, 12, 1, 4, 5, 9, 10, 13, 1, 10, 11, 1, 2, 5, 7, 15, 1, 4, 9, 10, 13, 1, 7, 8, 10, 3, 6, 8, 3, 4, 2, 4, 5, 9, 10, 1, 3, 8, 1, 10, 11, 1, 6, 10, 11, 1, 2, 6, 7, 9, 10, 11, 1, 2, 3, 4, 5, 7, 9, 10, 11, 1, 4, 5, 9, 10, 11, 12, 13, 15, 1, 2, 3, 4, 5, 6, 7, 8, 9, 10, 11, 12, 13, 1, 2, 6, 3, 9, 10, 12, 13, 1, 5, 14, 1, 2, 4, 5, 6, 8, 9, 10, 11, 13, 15, 1, 4, 5, 14, 1, 2, 3, 4, 5, 8, 9, 10, 11, 12, 13, 15, 3, 4, 5, 9, 1, 5, 6, 1, 1, 2, 3, 4, 5, 6, 7, 9, 10, 11, 13, 14, 3, 4, 5, 6, 9, 10, 1, 1, 5, 6, 9, 10, 12, 13, 1, 10, 15, 1, 2, 3, 4, 5, 6, 7, 8, 9, 10, 11, 12, 2, 7, 1, 5, 6, 9, 12, 1, 2, 5, 6, 10, 14, 15, 1, 6, 9, 12, 14, 1, 2, 3, 4, 5, 6, 7, 8, 9, 10, 11, 12, 13, 15, 1, 2, 3, 5, 6, 11, 12, 13, 14, 1, 5, 6, 8, 9, 12, 13, 1, 2, 3, 4, 5, 6, 7, 8, 9, 10, 11, 12, 13, 15, 1, 2, 3, 5, 6, 10, 11, 12, 13, 15, 1, 2, 3, 4, 5, 6, 7, 8, 9, 10, 11, 12, 13, 14, 15, 1, 2, 4, 5, 6, 7, 8, 9, 13, 14, 1, 5, 6, 9, 12, 1, 2, 3, 4, 5, 6, 7, 8, 9, 10, 11, 12, 13, 14, 15, 1, 7, 8, 9, 3, 1, 2, 3, 5, 7, 8, 9, 2, 7, 1, 2, 3, 4, 5, 6, 7, 8, 9, 10, 13, 1, 2, 3, 4, 5, 6, 7, 8, 9, 10, 11, 12, 13, 1, 2, 5, 13, 15, 1, 2, 3, 4, 5, 6, 7, 8, 9, 10, 11, 12, 13, 14, 15, 1, 2, 3, 4, 5, 6, 7, 8, 9, 10, 11, 12, 13, 14, 1, 2, 3, 4, 5, 6, 7, 8, 9, 10, 11, 12, 13, 15, 1, 6, 15, 1, 6, 10, 1, 6, 11, 1, 2, 5, 6, 7, 12, 3, 4, 2, 7, 1, 2, 8, 10, 12, 1, 2, 3, 4, 5, 6, 7, 8, 9, 10, 11, 12, 13, 14, 15, 6, 8, 9, 10, 1, 2, 3, 4, 5, 6, 7, 8, 9, 10, 11, 12, 13, 1, 12, 13, 15, 1, 2, 3, 4, 5, 7, 8, 1, 2, 3, 4, 5, 6, 7, 8, 9, 10, 11, 12, 13, 14, 15, 1, 2, 3, 4, 5, 6, 7, 8, 9, 10, 11, 12, 13, 14, 1, 2, 5, 7, 10, 11, 14, 1, 5, 6, 10, 11, 3, 4, 5, 4, 13, 1, 11, 12, 14, 15, 1, 2, 3, 4, 5, 6, 7, 8, 9, 11, 13, 1, 12, 1, 2, 3, 5, 7, 14, 1, 2, 3, 4, 5, 6, 10, 1, 6, 10, 1, 3, 5, 6, 15, 1, 5, 6, 10, 14, 1, 2, 9, 1, 2, 3, 4, 5, 6, 7, 8, 9, 10, 11, 13, 1, 2, 3, 11, 13, 1, 2, 3, 4, 6, 7, 8, 14, 1, 6, 7, 13, 1, 5, 11, 2, 7, 1, 1, 2, 3, 4, 5, 6, 7, 8, 9, 10, 13, 14, 1, 6, 14, 1, 10, 11, 12, 14, 2, 3, 7, 8, 1, 11, 13, 1, 2, 3, 5, 6, 7, 8, 9, 10, 12, 13, 14, 15, 1, 2, 14, 3, 4, 3, 4, 2, 3, 4, 9, 1, 2, 3, 4, 5, 6, 7, 8, 9, 10, 11, 12, 13, 14, 15, 2, 7, 9, 1, 1, 2, 3, 4, 5, 6, 7, 8, 9, 10, 11, 12, 13, 1, 5, 10, 1, 2, 5, 6, 7, 10, 11, 14, 1, 4, 5, 10, 1, 2, 3, 4, 5, 6, 7, 8, 9, 10, 11, 14, 1, 2, 3, 4, 5, 6, 7, 8, 9, 10, 11, 12, 13, 14, 2, 3, 4, 5, 9, 1, 5, 7, 12, 13, 14, 1, 2, 8, 10, 1, 6, 9, 10, 13, 1, 13, 14, 1, 2, 3, 4, 5, 6, 7, 8, 9, 10, 12, 13, 14, 15, 1, 5, 1, 2, 3, 4, 5, 6, 7, 8, 9, 10, 11, 12, 13, 14, 15, 1, 10, 11, 12, 14, 1, 2, 7, 10, 11, 12, 1, 2, 3, 4, 5, 6, 7, 8, 9, 10, 11, 12, 13, 14, 15, 1, 2, 3, 4, 5, 6, 7, 8, 9, 10, 12, 13, 15, 1, 2, 3, 4, 5, 6, 7, 8, 9, 10, 12, 13, 2, 3, 6, 9, 15, 1, 1, 2, 3, 4, 5, 6, 7, 8, 9, 10, 11, 12, 13, 15, 1, 2, 3, 4, 5, 6, 7, 8, 9, 10, 11, 12, 13, 14, 1, 8, 10, 15, 1, 2, 3, 4, 5, 6, 7, 8, 9, 10, 11, 12, 13, 14, 15, 1, 2, 3, 4, 5, 6, 7, 9, 10, 11, 12, 13, 14, 15, 1, 2, 3, 4, 5, 6, 7, 8, 9, 10, 11, 12, 13, 1, 2, 3, 4, 5, 6, 7, 8, 9, 10, 11, 12, 13, 15, 3, 4, 5, 9, 1, 5, 6, 8, 9, 10, 11, 12, 14, 15, 1, 2, 3, 4, 5, 6, 7, 8, 9, 10, 11, 12, 13, 14, 15, 3, 4, 1, 2, 3, 4, 5, 6, 7, 8, 9, 10, 11, 12, 13, 14, 15, 1, 2, 3, 4, 5, 6, 7, 8, 9, 10, 11, 12, 13, 14, 15, 1, 4, 5, 10, 13, 1, 2, 3, 4, 5, 6, 7, 8, 9, 10, 11, 12, 13, 2, 3, 4, 9, 13, 1, 5, 6, 10, 13, 14, 15, 3, 4, 3, 4, 2, 3, 4, 6, 7, 1, 2, 3, 5, 6, 7, 8, 9, 10, 12, 13, 3, 4, 9, 5, 10, 14, 1, 2, 5, 6, 9, 10, 11, 12, 13, 1, 5, 6, 10, 11, 14, 15, 1, 2, 5, 10, 12, 1, 11, 2, 5, 6, 7, 8, 9, 1, 3, 4, 5, 6, 7, 8, 9, 10, 12, 13, 1, 2, 3, 4, 5, 6, 7, 8, 9, 10, 11, 12, 13, 1, 2, 3, 4, 5, 6, 7, 8, 9, 10, 11, 12, 13, 15, 2, 7, 9, 2, 3, 8, 9, 1, 3, 4, 5, 12, 2, 3, 7, 8, 9, 1, 2, 3, 4, 5, 6, 8, 9, 10, 13, 14, 1, 2, 3, 4, 5, 6, 7, 8, 9, 10, 12, 13, 14, 2, 1, 3, 4, 5, 6, 8, 10, 15, 1, 5, 6, 1, 5, 1, 2, 3, 4, 5, 6, 7, 9, 10, 11, 12, 13, 14, 1, 5, 6, 11, 12, 13, 1, 6, 11, 1, 2, 5, 9, 12, 15, 1, 2, 6, 7, 10, 12, 14, 3, 4, 2, 3, 7, 8, 2, 3, 7, 8, 1, 5, 6, 14, 15, 1, 2, 3, 4, 5, 6, 7, 8, 9, 10, 11, 12, 13, 14, 15, 1, 2, 3, 4, 5, 6, 8, 9, 1, 2, 3, 4, 5, 6, 7, 8, 9, 10, 11, 12, 13, 14, 15, 1, 2, 5, 6, 5, 1, 2, 3, 4, 5, 6, 7, 8, 9, 10, 11, 12, 13, 14, 1, 5, 6, 10, 11, 12, 13, 1, 5, 6, 10, 11, 12, 13, 15, 1, 2, 3, 4, 5, 6, 7, 8, 9, 10, 11, 12, 13, 15, 1, 2, 3, 4, 5, 6, 7, 8, 9, 10, 11, 12, 13, 1, 2, 9, 12, 13, 1, 1, 6, 14, 1, 5, 6, 8, 12, 1, 5, 6, 1, 11, 12, 14, 1, 2, 3, 4, 5, 6, 7, 8, 9, 10, 12, 13, 14, 3, 4, 1, 2, 3, 4, 5, 6, 7, 8, 9, 10, 11, 12, 13, 14, 15, 1, 2, 3, 4, 5, 6, 7, 8, 9, 10, 11, 12, 13, 14, 15, 2, 8, 9, 10, 11, 13, 1, 2, 3, 5, 15, 2, 3, 1, 10, 12, 13, 1, 2, 5, 6, 12, 13, 1, 2, 4, 7, 9, 11, 13, 1, 2, 3, 6, 9, 13, 15, 3, 4, 1, 2, 3, 4, 5, 6, 7, 8, 9, 10, 11, 12, 13, 14, 15, 1, 2, 3, 4, 5, 6, 7, 8, 9, 10, 11, 12, 13, 14, 1, 2, 3, 9, 10, 11, 1, 2, 3, 4, 5, 6, 7, 8, 9, 10, 11, 12, 13, 1, 2, 5, 9, 10, 14, 1, 5, 6, 8, 10, 13, 15, 1, 11, 12, 14, 2, 3, 1, 2, 3, 4, 5, 6, 7, 8, 9, 10, 12, 13, 1, 3, 6, 9, 1, 2, 3, 5, 6, 8, 9, 10, 11, 12, 15, 2, 3, 7, 8, 1, 2, 5, 7, 8, 9, 13, 1, 2, 3, 4, 5, 6, 9, 12, 13, 1, 2, 3, 4, 5, 7, 8, 9, 10, 12, 14, 1, 6, 10, 11, 12, 14, 15, 1, 5, 10, 12, 1, 5, 6, 9, 10, 12, 13, 1, 10, 13, 14, 15, 1, 6, 10, 11, 12, 13, 3, 4, 9, 1, 2, 3, 4, 5, 6, 8, 9, 10, 12, 15, 1, 2, 7, 10, 13, 1, 2, 5, 11, 15, 1, 2, 3, 4, 5, 6, 7, 8, 9, 10, 11, 12, 13, 14, 2, 7, 1, 5, 6, 13, 3, 4, 1, 5, 6, 9, 11, 12, 14, 1, 12, 13, 2, 4, 7, 1, 10, 1, 2, 5, 6, 7, 9, 14, 15, 1, 6, 10, 14, 1, 5, 6, 7, 12, 15, 1, 2, 3, 4, 5, 6, 7, 8, 9, 10, 11, 12, 13, 15, 5, 9, 13, 1, 2, 3, 4, 5, 6, 7, 8, 9, 10, 11, 12, 13, 1, 1, 5, 8, 1, 5, 11, 12, 13, 1, 2, 3, 4, 5, 6, 7, 9, 10, 13, 14, 1, 3, 5, 7, 8, 10, 11, 12, 14, 1, 4, 8, 10, 12, 1, 6, 9, 13, 1, 2, 6, 14, 1, 2, 3, 5, 6, 10, 11, 12, 1, 6, 10, 11, 12, 13, 15, 1, 2, 7, 9, 11, 1, 10, 11, 12, 14, 1, 2, 3, 4, 6, 7, 9, 10, 11, 13, 14, 15, 1, 5, 6, 7, 2, 7, 1, 1, 5, 6, 10, 1, 4, 5, 6, 9, 10, 12, 13, 15, 2, 3, 4, 1, 10, 12, 14, 3, 4, 6, 8, 13, 1, 4, 10, 11, 12, 1, 5, 6, 10, 15, 1, 9, 10, 1, 3, 4, 9, 13, 1, 1, 5, 10, 1, 3, 5, 6, 1, 2, 8, 1, 2, 4, 5, 6, 8, 9, 11, 13, 1, 2, 6, 9, 10, 13, 1, 6, 8, 10, 2, 3, 4, 5, 6, 8, 10, 15, 1, 10, 14, 1, 2, 3, 4, 5, 6, 7, 8, 9, 10, 11, 14, 2, 4, 9, 10, 13, 2, 3, 4, 1, 2, 3, 4, 5, 6, 7, 8, 9, 10, 11, 12, 13, 14, 15, 1, 2, 3, 4, 6, 7, 8, 9, 15, 1, 2, 6, 10, 1, 8, 11, 14, 1, 11, 1, 2, 3, 4, 5, 6, 7, 8, 9, 10, 11, 13, 14, 15, 1, 6, 1, 2, 3, 4, 5, 6, 9, 10, 13, 15, 1, 1, 2, 3, 4, 5, 6, 8, 9, 10, 11, 12, 14, 15, 1, 2, 3, 8, 13, 1, 4, 5, 6, 9, 10, 1, 5, 6, 7, 10, 13, 14, 15, 1, 2, 4, 5, 7, 9, 14, 1, 10, 1, 2, 3, 4, 5, 6, 7, 8, 9, 10, 11, 12, 13, 14, 15, 1, 2, 3, 4, 5, 6, 7, 8, 9, 10, 11, 12, 13, 14, 1, 13, 3, 4, 5, 1, 2, 3, 4, 5, 6, 7, 8, 9, 10, 11, 12, 13, 14, 1, 5, 9, 10, 12, 13, 1, 2, 5, 10, 13, 1, 6, 8, 10, 12, 1, 2, 4, 9, 13, 1, 5, 6, 10, 13, 1, 4, 5, 7, 10, 14, 1, 2, 3, 4, 5, 6, 7, 8, 9, 10, 11, 12, 13, 14, 15, 1, 2, 5, 10, 13, 14, 15, 1, 2, 3, 4, 5, 6, 7, 8, 9, 10, 11, 12, 13, 1, 2, 3, 4, 5, 6, 7, 9, 10, 11, 12, 13, 1, 4, 5, 6, 10, 12, 1, 5, 10, 15, 1, 5, 9, 1, 1, 2, 5, 6, 7, 8, 9, 10, 11, 12, 13, 15, 1, 4, 9, 10, 12, 1, 5, 8, 9, 10, 1, 3, 6, 9, 10, 11, 12, 13, 1, 4, 5, 1, 2, 3, 5, 6, 11, 1, 2, 3, 4, 5, 6, 7, 8, 9, 10, 11, 12, 13, 15, 1, 2, 4, 6, 7, 1, 5, 9, 1, 1, 2, 3, 4, 5, 6, 7, 8, 9, 10, 11, 12, 13, 14, 15, 1, 10, 2, 4, 7, 9, 1, 2, 9, 1, 5, 6, 7, 10, 11, 12, 13, 14, 15, 1, 2, 5, 6, 9, 14, 15, 1, 11, 14, 1, 2, 4, 5, 6, 14, 1, 2, 3, 4, 5, 6, 7, 8, 9, 11, 13, 14, 1, 2, 3, 4, 5, 6, 7, 8, 9, 10, 11, 12, 13, 1, 2, 3, 4, 5, 6, 8, 10, 11, 13, 1, 2, 5, 15, 1, 2, 3, 4, 5, 6, 7, 8, 9, 10, 11, 12, 13, 14, 1, 2, 5, 7, 8, 1, 2, 14, 1, 1, 5, 6, 9, 10, 12, 13, 1, 2, 3, 4, 5, 6, 7, 8, 9, 10, 11, 12, 13, 2, 3, 9, 12, 1, 2, 3, 4, 5, 6, 7, 8, 9, 10, 11, 12, 13, 14, 15, 1, 5, 6, 14, 1, 2, 3, 4, 5, 6, 7, 8, 9, 10, 11, 12, 14, 1, 10, 12, 15, 1, 2, 3, 4, 5, 6, 7, 8, 9, 10, 11, 12, 13, 15, 1, 5, 7, 2, 3, 6, 8, 11, 1, 2, 3, 4, 5, 6, 7, 8, 9, 10, 11, 12, 13, 1, 6, 10, 1, 3, 8, 10, 15, 1, 3, 4, 5, 6, 10, 3, 7, 2, 3, 7, 8, 1, 7, 8, 1, 2, 3, 5, 6, 8, 9, 10, 11, 15, 1, 2, 3, 4, 5, 6, 7, 8, 9, 10, 11, 12, 13, 14, 15, 1, 2, 6, 15, 1, 2, 5, 6, 14, 15, 1, 5, 8, 14, 1, 1, 2, 6, 9, 3, 6, 8, 11, 15, 1, 2, 5, 6, 10, 12, 1, 2, 7, 8, 9, 10, 12, 14, 1, 1, 6, 10, 1, 2, 3, 4, 5, 6, 7, 11, 13, 1, 2, 3, 4, 5, 6, 7, 8, 9, 10, 11, 13, 14, 15, 2, 7, 2, 7, 1, 2, 14, 1, 2, 3, 4, 5, 6, 7, 8, 9, 10, 11, 13, 15, 2, 7, 1, 2, 5, 10, 11, 12, 13, 1, 2, 5, 6, 10, 12, 13, 15, 1, 2, 3, 4, 5, 6, 8, 9, 10, 14, 1, 6, 1, 2, 3, 4, 5, 6, 7, 8, 9, 10, 11, 12, 13, 14, 15, 1, 2, 5, 6, 7, 9, 10, 1, 1, 1, 2, 4, 5, 9, 1, 6, 9, 12, 1, 2, 3, 4, 5, 6, 7, 8, 9, 10, 11, 12, 13, 14, 15, 1, 2, 3, 4, 5, 6, 7, 8, 9, 10, 11, 12, 13, 14, 15, 1, 5, 6, 13, 14, 15, 1, 2, 3, 4, 5, 6, 7, 8, 9, 10, 11, 12, 13, 14, 15, 1, 2, 3, 4, 5, 6, 7, 8, 9, 10, 11, 1, 2, 3, 4, 5, 6, 7, 8, 9, 10, 11, 12, 13, 14, 15, 1, 2, 4, 5, 6, 7, 8, 9, 10, 11, 12, 13, 15, 1, 10, 1, 3, 5, 12, 1, 4, 12, 13, 14, 1, 2, 3, 4, 5, 6, 7, 8, 9, 10, 11, 12, 13, 14, 15, 3, 5, 7, 8, 12, 1, 5, 6, 7, 9, 10, 12, 14, 1, 2, 3, 4, 5, 6, 7, 8, 9, 10, 11, 12, 13, 14, 15, 1, 10, 11, 12, 13, 1, 2, 3, 4, 5, 6, 7, 8, 9, 10, 12, 13, 14, 1, 2, 7, 8, 1, 2, 3, 5, 8, 9, 10, 12, 15, 1, 1, 2, 4, 5, 9, 10, 1, 2, 3, 4, 5, 8, 9, 1, 3, 4, 5, 6, 13, 1, 11, 12, 14, 2, 7, 9, 2, 3, 4, 7, 8, 1, 5, 15, 1, 2, 3, 4, 5, 6, 7, 8, 9, 10, 11, 12, 13, 14, 1, 2, 6, 12, 1, 5, 6, 10, 11, 1, 2, 7, 1, 9, 10, 11, 1, 2, 3, 5, 9, 10, 15, 1, 13, 1, 2, 3, 4, 5, 6, 7, 8, 9, 10, 11, 13, 14, 1, 5, 10, 11, 12, 1, 2, 3, 15, 1, 5, 10, 12, 1, 1, 2, 3, 4, 5, 6, 7, 8, 9, 10, 11, 12, 13, 14, 1, 2, 3, 4, 5, 6, 7, 8, 9, 10, 11, 12, 13, 15, 2, 7, 9, 2, 7, 2, 7, 1, 5, 9, 1, 2, 5, 11, 15, 1, 2, 4, 5, 6, 7, 8, 9, 10, 11, 12, 13, 15, 1, 2, 5, 6, 7, 10, 11, 12, 13, 1, 2, 5, 6, 7, 10, 2, 3, 4, 9, 1, 2, 3, 4, 5, 6, 7, 8, 9, 10, 11, 12, 1, 2, 3, 4, 5, 7, 11, 2, 3, 7, 8, 9, 1, 12, 13, 1, 2, 3, 4, 5, 6, 7, 8, 9, 10, 11, 12, 13, 14, 15, 1, 12, 1, 2, 3, 4, 5, 6, 7, 8, 9, 10, 11, 12, 13, 1, 2, 4, 5, 6, 9, 10, 11, 15, 2, 7, 9, 1, 2, 3, 5, 9, 1, 2, 3, 4, 5, 6, 7, 8, 9, 10, 11, 12, 13, 14, 15, 1, 2, 3, 4, 5, 6, 7, 8, 9, 10, 11, 12, 13, 14, 15, 1, 2, 3, 4, 5, 6, 7, 8, 9, 10, 11, 12, 13, 15, 1, 6, 8, 10, 12, 1, 2, 3, 4, 5, 6, 7, 8, 9, 10, 12, 13, 15, 1, 2, 3, 4, 5, 6, 7, 8, 9, 10, 11, 12, 13, 14, 1, 2, 3, 4, 5, 6, 7, 8, 9, 10, 11, 12, 13, 14, 1, 11], \"Freq\": [0.9508591890335083, 0.29007449746131897, 0.14503724873065948, 0.3625931143760681, 0.07251862436532974, 0.07251862436532974, 0.14996026456356049, 0.7498013377189636, 0.04998675733804703, 0.04998675733804703, 0.4685002267360687, 0.05856252834200859, 0.05856252834200859, 0.11712505668401718, 0.05856252834200859, 0.05856252834200859, 0.11712505668401718, 0.38830283284187317, 0.07766056805849075, 0.310642272233963, 0.07766056805849075, 0.06437881290912628, 0.7081668972969055, 0.12875762581825256, 0.813047468662262, 0.16260948777198792, 0.2101224660873413, 0.28794559836387634, 0.22568710148334503, 0.0856054499745369, 0.1478639543056488, 0.038911569863557816, 0.1749817132949829, 0.1749817132949829, 0.5249451398849487, 0.08120770752429962, 0.08120770752429962, 0.24362312257289886, 0.08120770752429962, 0.16241541504859924, 0.08120770752429962, 0.16241541504859924, 0.13027535378932953, 0.16749688982963562, 0.26055070757865906, 0.03722153231501579, 0.11166459321975708, 0.20471841096878052, 0.05583229660987854, 0.03722153231501579, 0.2310141921043396, 0.04620283842086792, 0.04620283842086792, 0.36962270736694336, 0.13860851526260376, 0.04620283842086792, 0.04620283842086792, 0.03630351647734642, 0.23597285151481628, 0.5627045035362244, 0.05445527285337448, 0.01815175823867321, 0.03630351647734642, 0.03630351647734642, 0.287343829870224, 0.1795898973941803, 0.1077539399266243, 0.3950977921485901, 0.2112140655517578, 0.15841054916381836, 0.580838680267334, 0.9064323306083679, 0.034862782806158066, 0.19064287841320038, 0.7625715136528015, 0.2809709310531616, 0.17420198023319244, 0.07586215436458588, 0.14329518377780914, 0.05619418993592262, 0.10957866907119751, 0.04214563965797424, 0.014048547483980656, 0.019667966291308403, 0.014048547483980656, 0.039335932582616806, 0.008429128676652908, 0.016858257353305817, 0.0028097094036638737, 0.42732056975364685, 0.21366028487682343, 0.2848803699016571, 0.07122009247541428, 0.3468870222568512, 0.11562900990247726, 0.3468870222568512, 0.11562900990247726, 0.05781450495123863, 0.3551074266433716, 0.039456382393836975, 0.5523893237113953, 0.039456382393836975, 0.2711227834224701, 0.2711227834224701, 0.09037426114082336, 0.2711227834224701, 0.27683308720588684, 0.6459438800811768, 0.14077742397785187, 0.07038871198892593, 0.14077742397785187, 0.3519435524940491, 0.28155484795570374, 0.10180511325597763, 0.18324920535087585, 0.54974764585495, 0.04072204604744911, 0.04072204604744911, 0.04072204604744911, 0.020361023023724556, 0.14368009567260742, 0.28736019134521484, 0.04789336398243904, 0.04789336398243904, 0.04789336398243904, 0.3352535665035248, 0.04789336398243904, 0.09578672796487808, 0.13552260398864746, 0.1016419529914856, 0.23716455698013306, 0.033880650997161865, 0.033880650997161865, 0.06776130199432373, 0.1016419529914856, 0.1016419529914856, 0.16940325498580933, 0.3723927438259125, 0.12413091212511063, 0.06206545606255531, 0.18619637191295624, 0.06206545606255531, 0.12413091212511063, 0.07263334840536118, 0.21790005266666412, 0.21790005266666412, 0.07263334840536118, 0.3631667494773865, 0.07263334840536118, 0.4078063666820526, 0.0453118160367012, 0.0453118160367012, 0.2265590876340866, 0.1812472641468048, 0.0453118160367012, 0.0453118160367012, 0.34984874725341797, 0.04997839406132698, 0.2498919665813446, 0.09995678812265396, 0.04997839406132698, 0.09995678812265396, 0.09995678812265396, 0.30171751976013184, 0.15085875988006592, 0.07542937994003296, 0.07542937994003296, 0.30171751976013184, 0.010874365456402302, 0.26642194390296936, 0.038060277700424194, 0.38060277700424194, 0.03262309730052948, 0.0815577432513237, 0.04893464595079422, 0.05980901047587395, 0.010874365456402302, 0.054371826350688934, 0.010874365456402302, 0.1864413172006607, 0.27966198325157166, 0.3728826344013214, 0.09322065860033035, 0.0591089241206646, 0.4728713929653168, 0.1773267686367035, 0.0591089241206646, 0.1182178482413292, 0.27513447403907776, 0.19361314177513123, 0.10918034613132477, 0.11791477352380753, 0.06987541913986206, 0.07860984653234482, 0.04512787610292435, 0.056773778051137924, 0.023291807621717453, 0.004367213696241379, 0.004367213696241379, 0.005822951905429363, 0.004367213696241379, 0.005822951905429363, 0.004367213696241379, 0.49512961506843567, 0.07073280215263367, 0.212198406457901, 0.212198406457901, 0.9252949953079224, 0.41798079013824463, 0.05971154198050499, 0.4776923358440399, 0.1539294570684433, 0.4068135619163513, 0.02198992297053337, 0.4068135619163513, 0.5092408061027527, 0.07834474742412567, 0.039172373712062836, 0.3133789896965027, 0.039172373712062836, 0.21270495653152466, 0.22688528895378113, 0.01418033055961132, 0.36868858337402344, 0.01418033055961132, 0.04254098981618881, 0.11344264447689056, 0.46827608346939087, 0.515782356262207, 0.006786609999835491, 0.5005158185958862, 0.41709649562835693, 0.2786281406879425, 0.11145125329494476, 0.05572562664747238, 0.11145125329494476, 0.05572562664747238, 0.2786281406879425, 0.05572562664747238, 0.05572562664747238, 0.17202182114124298, 0.17202182114124298, 0.43005457520484924, 0.08601091057062149, 0.7037951350212097, 0.012456551194190979, 0.05605447664856911, 0.13702206313610077, 0.07473930716514587, 0.0062282755970954895, 0.08101069927215576, 0.16202139854431152, 0.24303209781646729, 0.32404279708862305, 0.08101069927215576, 0.08101069927215576, 0.3499976694583893, 0.05833294615149498, 0.5249965190887451, 0.0649794340133667, 0.3898766040802002, 0.5198354721069336, 0.7467821836471558, 0.043928362429142, 0.087856724858284, 0.043928362429142, 0.9529147148132324, 0.002938660094514489, 0.11460774391889572, 0.8727820515632629, 0.005877320189028978, 0.002938660094514489, 0.7076751589775085, 0.21774619817733765, 0.015790706500411034, 0.805325984954834, 0.16580240428447723, 0.24495691061019897, 0.2741570770740509, 0.06488925218582153, 0.10706725716590881, 0.06975594162940979, 0.07137817144393921, 0.06326701492071152, 0.034066855907440186, 0.022711237892508507, 0.014600081369280815, 0.008111156523227692, 0.012977849692106247, 0.008111156523227692, 0.0032444624230265617, 0.0032444624230265617, 0.23023974895477295, 0.07674658298492432, 0.30698633193969727, 0.23023974895477295, 0.35075250267982483, 0.12379500269889832, 0.4332824945449829, 0.06189750134944916, 0.009275312535464764, 0.9831831455230713, 0.0030917709227651358, 0.7351557016372681, 0.016582459211349487, 0.005527486093342304, 0.11607721447944641, 0.005527486093342304, 0.06632983684539795, 0.022109944373369217, 0.016582459211349487, 0.005527486093342304, 0.03668314963579178, 0.4768809676170349, 0.03668314963579178, 0.25678205490112305, 0.11004945635795593, 0.9319515824317932, 0.48182910680770874, 0.3441636562347412, 0.06883273273706436, 0.06883273273706436, 0.18533450365066528, 0.09266725182533264, 0.09266725182533264, 0.4633362591266632, 0.09266725182533264, 0.7086005806922913, 0.19325470924377441, 0.051486287266016006, 0.6288682222366333, 0.018387960270047188, 0.003677592147141695, 0.018387960270047188, 0.003677592147141695, 0.20226755738258362, 0.025743143633008003, 0.018387960270047188, 0.011032775975763798, 0.00735518429428339, 0.003677592147141695, 0.3119314908981323, 0.23394861817359924, 0.3899143636226654, 0.023969972506165504, 0.8868889808654785, 0.07190991193056107, 0.16396084427833557, 0.20867744088172913, 0.029811063781380653, 0.16396084427833557, 0.05962212756276131, 0.029811063781380653, 0.014905531890690327, 0.2533940374851227, 0.029811063781380653, 0.014905531890690327, 0.2691860496997833, 0.0897286906838417, 0.3589147627353668, 0.1794573813676834, 0.0897286906838417, 0.020243298262357712, 0.6072989702224731, 0.03373883292078972, 0.3306405544281006, 0.2096197009086609, 0.1877843141555786, 0.02620246261358261, 0.008734154514968395, 0.4323406219482422, 0.06550615280866623, 0.06987323611974716, 0.21586483716964722, 0.28062430024147034, 0.06475945562124252, 0.12951891124248505, 0.3022107779979706, 0.7880430817604065, 0.008955035358667374, 0.008955035358667374, 0.008955035358667374, 0.08059531450271606, 0.008955035358667374, 0.017910070717334747, 0.026865104213356972, 0.008955035358667374, 0.017910070717334747, 0.008955035358667374, 0.937947154045105, 0.8060521483421326, 0.07676687091588974, 0.012794478796422482, 0.025588957592844963, 0.051177915185689926, 0.012794478796422482, 0.39634203910827637, 0.018015548586845398, 0.30626431107521057, 0.12610884010791779, 0.09007773548364639, 0.036031097173690796, 0.018015548586845398, 0.08547140657901764, 0.19145594537258148, 0.3555610477924347, 0.18461823463439941, 0.04444513097405434, 0.034188561141490936, 0.030769705772399902, 0.0034188563004136086, 0.02735085040330887, 0.0410262756049633, 0.0034188563004136086, 0.19975079596042633, 0.09987539798021317, 0.04993769899010658, 0.04993769899010658, 0.09987539798021317, 0.04993769899010658, 0.09987539798021317, 0.04993769899010658, 0.09987539798021317, 0.14981310069561005, 0.7975145578384399, 0.03277457132935524, 0.03277457132935524, 0.02184971421957016, 0.06554914265871048, 0.01092485710978508, 0.01092485710978508, 0.8335163593292236, 0.03205832093954086, 0.01602916046977043, 0.01602916046977043, 0.08014580607414246, 0.875497043132782, 0.2908433675765991, 0.07932091504335403, 0.13220152258872986, 0.5023658275604248, 0.8685227632522583, 0.06203734129667282, 0.03101867064833641, 0.03101867064833641, 0.38109782338142395, 0.19054891169071198, 0.09527445584535599, 0.09527445584535599, 0.19054891169071198, 0.24257676303386688, 0.173269122838974, 0.06930764764547348, 0.03465382382273674, 0.03465382382273674, 0.346538245677948, 0.06930764764547348, 0.36306068301200867, 0.13018111884593964, 0.12873466312885284, 0.06509055942296982, 0.09980552643537521, 0.02892913855612278, 0.07955513149499893, 0.02025039680302143, 0.01880393922328949, 0.011571655049920082, 0.008678741753101349, 0.023143310099840164, 0.015911025926470757, 0.0028929137624800205, 0.0014464568812400103, 0.10056580603122711, 0.7643001079559326, 0.1407921314239502, 0.6183843612670898, 0.3091921806335449, 0.038649022579193115, 0.853567361831665, 0.11064761877059937, 0.015806803479790688, 0.03692463040351868, 0.6646433472633362, 0.03692463040351868, 0.22154778242111206, 0.2777377665042877, 0.1949036866426468, 0.1754133254289627, 0.08770666271448135, 0.00487259216606617, 0.08770666271448135, 0.00974518433213234, 0.00974518433213234, 0.02923555299639702, 0.01949036866426468, 0.02436296083033085, 0.01949036866426468, 0.04385333135724068, 0.00974518433213234, 0.22477397322654724, 0.5993973016738892, 0.07492466270923615, 0.17599710822105408, 0.08799855411052704, 0.04399927705526352, 0.04399927705526352, 0.30799493193626404, 0.2199963927268982, 0.04399927705526352, 0.007313917391002178, 0.07313917577266693, 0.8557283282279968, 0.04388350620865822, 0.007313917391002178, 0.5647016167640686, 0.05841740593314171, 0.17525221407413483, 0.11683481186628342, 0.03894493728876114, 0.03894493728876114, 0.41090714931488037, 0.10272678732872009, 0.3081803619861603, 0.10272678732872009, 0.4055079221725464, 0.09109236299991608, 0.12929238379001617, 0.09696929156780243, 0.05583080276846886, 0.0764000415802002, 0.008815390057861805, 0.008815390057861805, 0.01763078011572361, 0.03526156023144722, 0.014692316763103008, 0.029384633526206017, 0.029384633526206017, 0.0029384633526206017, 0.0029384633526206017, 0.7692899107933044, 0.009497405961155891, 0.09497406333684921, 0.018994811922311783, 0.009497405961155891, 0.009497405961155891, 0.009497405961155891, 0.037989623844623566, 0.009497405961155891, 0.028492217883467674, 0.30598708987236023, 0.10199569165706635, 0.30598708987236023, 0.05099784582853317, 0.10199569165706635, 0.10199569165706635, 0.22835102677345276, 0.18745233118534088, 0.12951251864433289, 0.11928784847259521, 0.03749046474695206, 0.0443069152534008, 0.010224672965705395, 0.02044934593141079, 0.07838915288448334, 0.04089869186282158, 0.06816448271274567, 0.010224672965705395, 0.03067401796579361, 0.008454513736069202, 0.1859993040561676, 0.6509975790977478, 0.025363540276885033, 0.016909027472138405, 0.016909027472138405, 0.06763610988855362, 0.008454513736069202, 0.008454513736069202, 0.33067038655281067, 0.1803656667470932, 0.030060945078730583, 0.030060945078730583, 0.33067038655281067, 0.060121890157461166, 0.060121890157461166, 0.27467185258865356, 0.13224941492080688, 0.061038192361593246, 0.016955053433775902, 0.145813450217247, 0.11868537217378616, 0.013564042747020721, 0.037301115691661835, 0.09833930432796478, 0.013564042747020721, 0.020346064120531082, 0.020346064120531082, 0.040692128241062164, 0.5722216367721558, 0.03366009518504143, 0.03366009518504143, 0.06732019037008286, 0.20196057856082916, 0.03366009518504143, 0.669977605342865, 0.13399553298950195, 0.08933035284280777, 0.044665176421403885, 0.7490612268447876, 0.24043940007686615, 0.0046238345094025135, 0.7484840750694275, 0.22779950499534607, 0.8609367609024048, 0.015653396025300026, 0.04696018621325493, 0.0626135841012001, 0.21084611117839813, 0.026355763897299767, 0.05271152779459953, 0.1844903528690338, 0.1581345796585083, 0.3162691593170166, 0.026355763897299767, 0.035338446497917175, 0.1413537859916687, 0.7774458527565002, 0.31974515318870544, 0.18271151185035706, 0.1370336413383484, 0.045677877962589264, 0.09135575592517853, 0.1370336413383484, 0.4487317204475403, 0.5318301916122437, 0.06894487887620926, 0.8856765031814575, 0.037124164402484894, 0.006393461488187313, 0.028770577162504196, 0.5434442162513733, 0.022377116605639458, 0.05434442311525345, 0.15663981437683105, 0.1662300080060959, 0.006393461488187313, 0.0031967307440936565, 0.006393461488187313, 0.012786922976374626, 0.05878925696015358, 0.17636777460575104, 0.6466818451881409, 0.05878925696015358, 0.3269175887107849, 0.15624737739562988, 0.07091227173805237, 0.07451798021793365, 0.0985560342669487, 0.0637008547782898, 0.09735413640737534, 0.02283615432679653, 0.02764376625418663, 0.02644186280667782, 0.0072114174254238605, 0.008413320407271385, 0.008413320407271385, 0.004807611461728811, 0.0024038057308644056, 0.4280814230442047, 0.08561628311872482, 0.25684884190559387, 0.17123256623744965, 0.04280814155936241, 0.4395723044872284, 0.08791445940732956, 0.08791445940732956, 0.08791445940732956, 0.17582891881465912, 0.1853778213262558, 0.0926889106631279, 0.1853778213262558, 0.0926889106631279, 0.1853778213262558, 0.1853778213262558, 0.2151263803243637, 0.05378159508109093, 0.10756319016218185, 0.4302527606487274, 0.10756319016218185, 0.3856034278869629, 0.09640085697174072, 0.09640085697174072, 0.09640085697174072, 0.19280171394348145, 0.16181987524032593, 0.08090993762016296, 0.7281894683837891, 0.19698211550712585, 0.07879284769296646, 0.03939642384648323, 0.15758569538593292, 0.03939642384648323, 0.15758569538593292, 0.03939642384648323, 0.07879284769296646, 0.15758569538593292, 0.9010682106018066, 0.05005934461951256, 0.09959115087985992, 0.19918230175971985, 0.19918230175971985, 0.2987734377384186, 0.19918230175971985, 0.3006177842617035, 0.18037067353725433, 0.18037067353725433, 0.12024711072444916, 0.12024711072444916, 0.34539300203323364, 0.08634825050830841, 0.08634825050830841, 0.34539300203323364, 0.17269650101661682, 0.3680465519428253, 0.07360931485891342, 0.14721862971782684, 0.07360931485891342, 0.07360931485891342, 0.07360931485891342, 0.14721862971782684, 0.8889731168746948, 0.029632436111569405, 0.029632436111569405, 0.029632436111569405, 0.32359305024147034, 0.17468297481536865, 0.06300041824579239, 0.09163697063922882, 0.0773186907172203, 0.05154579505324364, 0.03436386212706566, 0.022909242659807205, 0.04581848531961441, 0.01718193106353283, 0.07159138470888138, 0.011454621329903603, 0.011454621329903603, 0.1978631317615509, 0.09893156588077545, 0.1978631317615509, 0.1978631317615509, 0.09893156588077545, 0.1978631317615509, 0.6193562746047974, 0.20645208656787872, 0.06881736218929291, 0.06881736218929291, 0.2984009087085724, 0.488292396068573, 0.027127355337142944, 0.05425471067428589, 0.10850942134857178, 0.027127355337142944, 0.04245205596089363, 0.18395891785621643, 0.014150685630738735, 0.2830137014389038, 0.07075342535972595, 0.014150685630738735, 0.3820685148239136, 0.014150685630738735, 0.0045628841035068035, 0.05931749567389488, 0.9239840507507324, 0.0022814420517534018, 0.0045628841035068035, 0.779180109500885, 0.026264498010277748, 0.008754832670092583, 0.052528996020555496, 0.030641915276646614, 0.004377416335046291, 0.0393967479467392, 0.008754832670092583, 0.02188708260655403, 0.008754832670092583, 0.008754832670092583, 0.004377416335046291, 0.07369918376207352, 0.6477770805358887, 0.0193945225328207, 0.2443709820508957, 0.0038789045065641403, 0.05321292579174042, 0.6651615500450134, 0.07981938868761063, 0.15963877737522125, 0.09432420134544373, 0.21404339373111725, 0.23581050336360931, 0.17776484787464142, 0.08706849813461304, 0.0072557078674435616, 0.029022831469774246, 0.02176712453365326, 0.050789956003427505, 0.029022831469774246, 0.0072557078674435616, 0.039906393736600876, 0.3512762784957886, 0.1779925376176834, 0.08758363127708435, 0.0828748345375061, 0.07345723360776901, 0.04426269233226776, 0.0461462140083313, 0.04708797112107277, 0.020718708634376526, 0.01600991003215313, 0.012242873199284077, 0.023543985560536385, 0.011301113292574883, 0.004708797205239534, 0.0009417594410479069, 0.42665180563926697, 0.17066071927547455, 0.3413214385509491, 0.05050807446241379, 0.37544336915016174, 0.13805541396141052, 0.1801454722881317, 0.028621243312954903, 0.023570435121655464, 0.12795379757881165, 0.026937641203403473, 0.03198844939470291, 0.001683602575212717, 0.003367205150425434, 0.008418012410402298, 0.001683602575212717, 0.468460351228714, 0.09515600651502609, 0.05855754390358925, 0.021959079429507256, 0.029278771951794624, 0.19031201303005219, 0.021959079429507256, 0.029278771951794624, 0.05123785138130188, 0.007319692987948656, 0.014639385975897312, 0.007319692987948656, 0.007319692987948656, 0.6998497247695923, 0.06561090797185898, 0.01093515194952488, 0.03280545398592949, 0.04920818284153938, 0.01093515194952488, 0.01093515194952488, 0.016402726992964745, 0.016402726992964745, 0.03280545398592949, 0.01093515194952488, 0.02187030389904976, 0.00546757597476244, 0.00546757597476244, 0.3555992841720581, 0.08889982104301453, 0.17779964208602905, 0.2666994631290436, 0.4569642245769501, 0.15232141315937042, 0.38080352544784546, 0.15193326771259308, 0.07596663385629654, 0.07596663385629654, 0.22789990901947021, 0.45579981803894043, 0.7258756756782532, 0.2209186851978302, 0.2538871169090271, 0.19041533768177032, 0.06347177922725677, 0.06347177922725677, 0.3173588812351227, 0.3112398087978363, 0.560231626033783, 0.06224796175956726, 0.5636894106864929, 0.31316077709198, 0.8860636949539185, 0.07088509202003479, 0.15494047105312347, 0.3873511850833893, 0.15494047105312347, 0.07747023552656174, 0.07747023552656174, 0.19283568859100342, 0.7327756285667419, 0.038567136973142624, 0.941067099571228, 0.9255449175834656, 0.0959290936589241, 0.2877872884273529, 0.4796454906463623, 0.0959290936589241, 0.0959290936589241, 0.8822897672653198, 0.03267740085721016, 0.06535480171442032, 0.5607035160064697, 0.05470278486609459, 0.06837847828865051, 0.3145410120487213, 0.4851363003253937, 0.07580254226922989, 0.015160509385168552, 0.030321018770337105, 0.07580254226922989, 0.24256815016269684, 0.015160509385168552, 0.030321018770337105, 0.015160509385168552, 0.015160509385168552, 0.8711313605308533, 0.058075424283742905, 0.03871694952249527, 0.04071829095482826, 0.24430973827838898, 0.0678638145327568, 0.14930039644241333, 0.42075565457344055, 0.01357276365160942, 0.02714552730321884, 0.01357276365160942, 0.02714552730321884, 0.01357276365160942, 0.14348655939102173, 0.2697547376155853, 0.028697311878204346, 0.16644440591335297, 0.14348655939102173, 0.028697311878204346, 0.08035247027873993, 0.05739462375640869, 0.011478925123810768, 0.022957850247621536, 0.011478925123810768, 0.028697311878204346, 0.005739462561905384, 0.6218870282173157, 0.08884100615978241, 0.08884100615978241, 0.08884100615978241, 0.09728216379880905, 0.2779490351676941, 0.18066687881946564, 0.07643599063158035, 0.04169235751032829, 0.006948726251721382, 0.20846177637577057, 0.048641081899404526, 0.03474362939596176, 0.013897452503442764, 0.006948726251721382, 0.006948726251721382, 0.314805269241333, 0.06296105682849884, 0.5036884546279907, 0.06296105682849884, 0.16511543095111847, 0.02063942886888981, 0.6811011433601379, 0.04127885773777962, 0.06191828474402428, 0.19046075642108917, 0.19046075642108917, 0.19046075642108917, 0.28569114208221436, 0.09523037821054459, 0.34289899468421936, 0.05714983493089676, 0.17144949734210968, 0.11429966986179352, 0.05714983493089676, 0.17144949734210968, 0.07826059311628342, 0.07826059311628342, 0.07826059311628342, 0.5478241443634033, 0.15652118623256683, 0.1141655221581459, 0.8219918012619019, 0.04566621035337448, 0.14357571303844452, 0.5743028521537781, 0.19143427908420563, 0.964931309223175, 0.6266826391220093, 0.04621553421020508, 0.03327518329024315, 0.03882104903459549, 0.12016038596630096, 0.014788970351219177, 0.05730726197361946, 0.027729319408535957, 0.0036972425878047943, 0.014788970351219177, 0.009243106469511986, 0.0036972425878047943, 0.0018486212939023972, 0.0036972425878047943, 0.9076319932937622, 0.02836349979043007, 0.02836349979043007, 0.4663742780685425, 0.08744517713785172, 0.05829678475856781, 0.05829678475856781, 0.08744517713785172, 0.11659356951713562, 0.029148392379283905, 0.05829678475856781, 0.3610929846763611, 0.0045136623084545135, 0.027081971988081932, 0.027081971988081932, 0.013540985994040966, 0.31144267320632935, 0.0045136623084545135, 0.054163943976163864, 0.19408747553825378, 0.6742396950721741, 0.08989863097667694, 0.04494931548833847, 0.13484793901443481, 0.2471088171005249, 0.1647392064332962, 0.05295189097523689, 0.10002023726701736, 0.2176910936832428, 0.03530126065015793, 0.04706834629178047, 0.06471897661685944, 0.023534173145890236, 0.011767086572945118, 0.005883543286472559, 0.029417715966701508, 0.9316455125808716, 0.03726582229137421, 0.3437596559524536, 0.05729327350854874, 0.1718798279762268, 0.2864663600921631, 0.05729327350854874, 0.2615669369697571, 0.2615669369697571, 0.11625196784734726, 0.10172046720981598, 0.014531495980918407, 0.014531495980918407, 0.014531495980918407, 0.04359448701143265, 0.07265748083591461, 0.014531495980918407, 0.0871889740228653, 0.046113260090351105, 0.009222651831805706, 0.8300386667251587, 0.03996482491493225, 0.01537108700722456, 0.0061484347097575665, 0.0338163897395134, 0.009222651831805706, 0.0030742173548787832, 0.0030742173548787832, 0.22532843053340912, 0.16690994799137115, 0.18360094726085663, 0.07510948181152344, 0.03338199108839035, 0.025036493316292763, 0.0667639821767807, 0.025036493316292763, 0.09180047363042831, 0.07510948181152344, 0.008345497772097588, 0.3499412536621094, 0.26245594024658203, 0.08748531341552734, 0.1749706268310547, 0.22604089975357056, 0.26371437311172485, 0.03767348453402519, 0.11302044987678528, 0.15069393813610077, 0.07534696906805038, 0.11302044987678528, 0.6751478314399719, 0.09644969552755356, 0.09644969552755356, 0.09644969552755356, 0.09644969552755356, 0.031405992805957794, 0.5624527931213379, 0.008565271273255348, 0.3825820982456207, 0.011420361697673798, 0.0014275452122092247, 0.016240829601883888, 0.016240829601883888, 0.35729825496673584, 0.22737161815166473, 0.24361245334148407, 0.09744498133659363, 0.016240829601883888, 0.0014746744418516755, 0.010322720743715763, 0.07815774530172348, 0.881855309009552, 0.010322720743715763, 0.002949348883703351, 0.011797395534813404, 0.37677815556526184, 0.037677813321352005, 0.41445595026016235, 0.11303344368934631, 0.037677813321352005, 0.827186107635498, 0.16705387830734253, 0.002694417256861925, 0.9110052585601807, 0.04555026441812515, 0.8786460161209106, 0.009248905815184116, 0.009248905815184116, 0.05549343302845955, 0.036995623260736465, 0.8755495548248291, 0.11818712949752808, 0.0012059911387041211, 0.0012059911387041211, 0.0012059911387041211, 0.5059590339660645, 0.02023836225271225, 0.0404767245054245, 0.0404767245054245, 0.18214525282382965, 0.161906898021698, 0.02023836225271225, 0.02023836225271225, 0.26705023646354675, 0.26705023646354675, 0.26705023646354675, 0.08901674300432205, 0.08901674300432205, 0.008562454953789711, 0.38531047105789185, 0.41099780797958374, 0.10274945199489594, 0.07706209272146225, 0.008562454953789711, 0.4443000257015228, 0.07140535861253738, 0.007933929562568665, 0.039669644087553024, 0.07140535861253738, 0.007933929562568665, 0.01586785912513733, 0.039669644087553024, 0.1348767876625061, 0.12694287300109863, 0.007933929562568665, 0.01586785912513733, 0.47997820377349854, 0.01729651167988777, 0.04324128106236458, 0.004324127919971943, 0.01729651167988777, 0.04756540805101395, 0.3113372027873993, 0.051889535039663315, 0.02162064053118229, 0.012972383759915829, 0.4714086651802063, 0.25141796469688416, 0.06285449117422104, 0.06285449117422104, 0.03142724558711052, 0.09428173303604126, 0.8472874164581299, 0.14121456444263458, 0.13435688614845276, 0.17914250493049622, 0.14331400394439697, 0.13435688614845276, 0.053742751479148865, 0.06269987672567368, 0.06269987672567368, 0.17914250493049622, 0.00895712524652481, 0.01791425049304962, 0.00895712524652481, 0.773621141910553, 0.014596625231206417, 0.04378987476229668, 0.05108818784356117, 0.014596625231206417, 0.03649156168103218, 0.03649156168103218, 0.014596625231206417, 0.0072983126156032085, 0.0072983126156032085, 0.9516777992248535, 0.0352473258972168, 0.46754345297813416, 0.008991220034658909, 0.0809209793806076, 0.3686400055885315, 0.053947318345308304, 0.008991220034658909, 0.2950737178325653, 0.0938870906829834, 0.13412441313266754, 0.013412442058324814, 0.013412442058324814, 0.013412442058324814, 0.013412442058324814, 0.026824884116649628, 0.013412442058324814, 0.013412442058324814, 0.3621359169483185, 0.04023732617497444, 0.24460893869400024, 0.08153631538152695, 0.3261452615261078, 0.1630726307630539, 0.5398315787315369, 0.07711879163980484, 0.33418142795562744, 0.02570626512169838, 0.519778311252594, 0.011813143268227577, 0.03543943166732788, 0.07087886333465576, 0.1771971434354782, 0.08269200474023819, 0.023626286536455154, 0.07087886333465576, 0.011813143268227577, 0.344639390707016, 0.19693680107593536, 0.022565674036741257, 0.1312911957502365, 0.0717998743057251, 0.018462825566530228, 0.043079923838377, 0.04513134807348251, 0.043079923838377, 0.01230855006724596, 0.026668524369597435, 0.020514249801635742, 0.010257124900817871, 0.010257124900817871, 0.004102849867194891, 0.20114977657794952, 0.10057488828897476, 0.10057488828897476, 0.40229955315589905, 0.10057488828897476, 0.601442277431488, 0.050120189785957336, 0.10024037957191467, 0.10024037957191467, 0.050120189785957336, 0.32950612902641296, 0.08237653225660324, 0.05491768568754196, 0.08237653225660324, 0.08237653225660324, 0.08237653225660324, 0.02745884284377098, 0.2745884358882904, 0.18213772773742676, 0.5744343996047974, 0.12609535455703735, 0.05604238063097, 0.04203178361058235, 0.13391569256782532, 0.13391569256782532, 0.20087355375289917, 0.06695784628391266, 0.3347892463207245, 0.06695784628391266, 0.3796106278896332, 0.0949026569724083, 0.0949026569724083, 0.1898053139448166, 0.0949026569724083, 0.6805595755577087, 0.24747620522975922, 0.4223175048828125, 0.12421102821826935, 0.062105514109134674, 0.012421103194355965, 0.04968441277742386, 0.22357985377311707, 0.012421103194355965, 0.012421103194355965, 0.02484220638871193, 0.037263307720422745, 0.012421103194355965, 0.14139464497566223, 0.7776705622673035, 0.5632380843162537, 0.058091819286346436, 0.005051462911069393, 0.022731581702828407, 0.07577194273471832, 0.058091819286346436, 0.02525731362402439, 0.027783045545220375, 0.040411703288555145, 0.06819474697113037, 0.020205851644277573, 0.012628656812012196, 0.012628656812012196, 0.005051462911069393, 0.0025257314555346966, 0.5135817527770996, 0.07781541347503662, 0.037351399660110474, 0.06225233152508736, 0.10116004198789597, 0.06380864232778549, 0.024900933727622032, 0.03112616576254368, 0.018675699830055237, 0.023344624787569046, 0.01711939089000225, 0.014006774872541428, 0.009337849915027618, 0.003112616715952754, 0.001556308357976377, 0.15640394389629364, 0.15640394389629364, 0.5962900519371033, 0.029325740411877632, 0.03910098597407341, 0.009775246493518353, 0.5214847326278687, 0.0722055733203888, 0.014039973728358746, 0.03209136798977852, 0.1063026562333107, 0.09226268529891968, 0.012034262530505657, 0.0180513933300972, 0.022062815725803375, 0.06418273597955704, 0.01604568399488926, 0.014039973728358746, 0.00802284199744463, 0.006017131265252829, 0.8739159107208252, 0.027309872210025787, 0.027309872210025787, 0.027309872210025787, 0.11272387206554413, 0.3546678125858307, 0.1649617701768875, 0.03849107772111893, 0.26668819785118103, 0.035741716623306274, 0.019245538860559464, 0.4401925206184387, 0.02751203253865242, 0.33014437556266785, 0.02751203253865242, 0.02751203253865242, 0.05502406507730484, 0.08253609389066696, 0.7142495512962341, 0.23808319866657257, 0.04375031217932701, 0.24191348254680634, 0.2753696143627167, 0.25992831587791443, 0.061765145510435104, 0.02573547698557377, 0.012867738492786884, 0.020588381215929985, 0.020588381215929985, 0.018014833331108093, 0.005147095303982496, 0.007720643188804388, 0.005147095303982496, 0.002573547651991248, 0.019909609109163284, 0.9556611776351929, 0.41528797149658203, 0.225442036986351, 0.05932684987783432, 0.20171129703521729, 0.023730739951133728, 0.03559610992670059, 0.023730739951133728, 0.21850813925266266, 0.054627034813165665, 0.054627034813165665, 0.1638811081647873, 0.054627034813165665, 0.2731351852416992, 0.1638811081647873, 0.06501934677362442, 0.3979972004890442, 0.1123061403632164, 0.13397926092147827, 0.07684104144573212, 0.02758396416902542, 0.04531651362776756, 0.0019702832214534283, 0.09260331094264984, 0.007881132885813713, 0.009851415641605854, 0.0039405664429068565, 0.025613680481910706, 0.3468632400035858, 0.6070106625556946, 0.05191468819975853, 0.20765875279903412, 0.1557440608739853, 0.10382937639951706, 0.3114881217479706, 0.10382937639951706, 0.05191468819975853, 0.44470953941345215, 0.1778838187456131, 0.08894190937280655, 0.08894190937280655, 0.08894190937280655, 0.2839300334453583, 0.2515520453453064, 0.08219027519226074, 0.04981228709220886, 0.044831059873104095, 0.07720904797315598, 0.029887372627854347, 0.04732167348265648, 0.06724658608436584, 0.019924914464354515, 0.014943686313927174, 0.019924914464354515, 0.004981228616088629, 0.004981228616088629, 0.3789343535900116, 0.1872381567955017, 0.1203673854470253, 0.08024492114782333, 0.03715042769908905, 0.05201059952378273, 0.016346188262104988, 0.047552548348903656, 0.03863644599914551, 0.019318222999572754, 0.011888137087225914, 0.007430085446685553, 0.0014860171359032393, 0.0014860171359032393, 0.007430111523717642, 0.9807747602462769, 0.007430111523717642, 0.5746061205863953, 0.21169699728488922, 0.21169699728488922, 0.45296287536621094, 0.2717777192592621, 0.09059257805347443, 0.09059257805347443, 0.09059257805347443, 0.7477636337280273, 0.019422432407736778, 0.029133647680282593, 0.029133647680282593, 0.019422432407736778, 0.029133647680282593, 0.07768972963094711, 0.009711216203868389, 0.019422432407736778, 0.019422432407736778, 0.3110174536705017, 0.6738711595535278, 0.5526039004325867, 0.050236716866493225, 0.30142030119895935, 0.050236716866493225, 0.5040654540061951, 0.05040654540061951, 0.05040654540061951, 0.05040654540061951, 0.25203272700309753, 0.05040654540061951, 0.16612683236598969, 0.08306341618299484, 0.6645073294639587, 0.49823373556137085, 0.21352873742580414, 0.07117624580860138, 0.07117624580860138, 0.07117624580860138, 0.44073089957237244, 0.17629235982894897, 0.08814617991447449, 0.08814617991447449, 0.17629235982894897, 0.3176359236240387, 0.3176359236240387, 0.1905815452337265, 0.0635271817445755, 0.3800213038921356, 0.2280127853155136, 0.304017037153244, 0.6783627271652222, 0.2664996385574341, 0.17667831480503082, 0.08833915740251541, 0.44169577956199646, 0.17667831480503082, 0.08833915740251541, 0.26362481713294983, 0.6590620279312134, 0.06590620428323746, 0.43095526099205017, 0.13520164787769318, 0.4140550494194031, 0.4960893988609314, 0.04134078323841095, 0.04134078323841095, 0.4134078323841095, 0.0302381943911314, 0.6090836524963379, 0.008639484643936157, 0.3067016899585724, 0.025918452069163322, 0.004319742321968079, 0.004319742321968079, 0.38704898953437805, 0.07740979641675949, 0.10321306437253952, 0.05160653218626976, 0.07740979641675949, 0.02580326609313488, 0.02580326609313488, 0.180622860789299, 0.07740979641675949, 0.5448587536811829, 0.006262744311243296, 0.15656861662864685, 0.006262744311243296, 0.04383920878171921, 0.17535683512687683, 0.03131372109055519, 0.025050977244973183, 0.006262744311243296, 0.09135378897190094, 0.42022743821144104, 0.07308303564786911, 0.21468141674995422, 0.02740613743662834, 0.036541517823934555, 0.022838447242975235, 0.03882536292076111, 0.022838447242975235, 0.015986913815140724, 0.009135379455983639, 0.01370306871831417, 0.01370306871831417, 0.312212198972702, 0.23415915668010712, 0.39026525616645813, 0.39186325669288635, 0.09796581417322159, 0.29389744997024536, 0.09796581417322159, 0.09796581417322159, 0.6308236122131348, 0.14018303155899048, 0.14018303155899048, 0.38737887144088745, 0.2944079637527466, 0.03099031001329422, 0.06198062002658844, 0.01549515500664711, 0.03099031001329422, 0.06198062002658844, 0.04648546501994133, 0.01549515500664711, 0.04648546501994133, 0.03099031001329422, 0.6623915433883667, 0.04906604066491127, 0.19626416265964508, 0.07359905540943146, 0.7193624377250671, 0.0856383815407753, 0.01712767593562603, 0.011418450623750687, 0.03425535187125206, 0.011418450623750687, 0.005709225311875343, 0.04567380249500275, 0.011418450623750687, 0.03425535187125206, 0.005709225311875343, 0.005709225311875343, 0.2921748459339142, 0.6145747303962708, 0.010074995458126068, 0.07052496820688248, 0.14032350480556488, 0.5612940192222595, 0.28064700961112976, 0.9257835745811462, 0.11981712281703949, 0.09867292642593384, 0.0211441982537508, 0.23963424563407898, 0.31716299057006836, 0.0211441982537508, 0.09162486344575882, 0.0211441982537508, 0.0070480662398040295, 0.014096132479608059, 0.0070480662398040295, 0.035240329802036285, 0.016630562022328377, 0.1829361915588379, 0.39913350343704224, 0.2993501126766205, 0.06652224808931351, 0.016630562022328377, 0.9257940649986267, 0.4411053955554962, 0.18379391729831696, 0.08270726352930069, 0.20217330753803253, 0.027569087222218513, 0.03675878420472145, 0.009189696051180363, 0.8762215375900269, 0.06042907014489174, 0.03021453507244587, 0.6313984394073486, 0.039190247654914856, 0.013063415884971619, 0.004354471806436777, 0.039190247654914856, 0.12627968192100525, 0.004354471806436777, 0.03483577445149422, 0.030481303110718727, 0.056608136743307114, 0.013063415884971619, 0.008708943612873554, 0.8710759878158569, 0.10452912002801895, 0.6644816994667053, 0.0664481669664383, 0.03322408348321915, 0.0664481669664383, 0.16612042486667633, 0.6529031991958618, 0.01865437813103199, 0.05596313253045082, 0.07461751252412796, 0.11192626506090164, 0.01865437813103199, 0.03730875626206398, 0.6105175018310547, 0.16066250205039978, 0.03213249891996384, 0.12852999567985535, 0.03213249891996384, 0.39080798625946045, 0.10029584914445877, 0.0691695511341095, 0.04496020823717117, 0.17292387783527374, 0.06571107357740402, 0.0691695511341095, 0.010375432670116425, 0.0138339102268219, 0.017292387783527374, 0.02075086534023285, 0.00691695511341095, 0.010375432670116425, 0.00691695511341095, 0.17864501476287842, 0.14616410434246063, 0.016240455210208893, 0.454732745885849, 0.08120227605104446, 0.06496182084083557, 0.016240455210208893, 0.032480910420417786, 0.016240455210208893, 0.08504752069711685, 0.15119560062885284, 0.02362431213259697, 0.004724862519651651, 0.6992796063423157, 0.018899450078606606, 0.014174587093293667, 0.21358101069927216, 0.30287477374076843, 0.14480069279670715, 0.1037738248705864, 0.05671360343694687, 0.019306758418679237, 0.07843370735645294, 0.02413344755768776, 0.02413344755768776, 0.010860051959753036, 0.00603336188942194, 0.009653379209339619, 0.003620017319917679, 0.0012066724011674523, 0.8103075623512268, 0.00942218117415905, 0.0565330870449543, 0.0188443623483181, 0.00942218117415905, 0.02826654352247715, 0.0188443623483181, 0.00942218117415905, 0.0188443623483181, 0.00942218117415905, 0.3827485740184784, 0.19053123891353607, 0.05901410058140755, 0.08936420828104019, 0.0775613859295845, 0.05395574867725372, 0.042152926325798035, 0.02360563911497593, 0.011802819557487965, 0.020233405753970146, 0.015175053849816322, 0.020233405753970146, 0.008430585265159607, 0.0016861171461641788, 0.0033722342923283577, 0.47418108582496643, 0.023130783811211586, 0.04626156762242317, 0.3238309919834137, 0.08095774799585342, 0.011565391905605793, 0.0057826959528028965, 0.0057826959528028965, 0.0057826959528028965, 0.023130783811211586, 0.29264020919799805, 0.07316005229949951, 0.14632010459899902, 0.10974008589982986, 0.4023803174495697, 0.6123396754264832, 0.0856306180357933, 0.025850752368569374, 0.017772391438484192, 0.0549328476190567, 0.033929113298654556, 0.016156719997525215, 0.04200747236609459, 0.03716045618057251, 0.03716045618057251, 0.02261940762400627, 0.008078359998762608, 0.0016156720230355859, 0.0016156720230355859, 0.0016156720230355859, 0.36750954389572144, 0.09187738597393036, 0.36750954389572144, 0.09187738597393036, 0.9206565022468567, 0.001995433820411563, 0.9657899737358093, 0.001995433820411563, 0.007981735281646252, 0.015963470563292503, 0.001995433820411563, 0.001995433820411563, 0.8893459439277649, 0.09737364202737808, 0.30085229873657227, 0.047502994537353516, 0.015834331512451172, 0.12667465209960938, 0.031668663024902344, 0.2691836357116699, 0.031668663024902344, 0.031668663024902344, 0.06333732604980469, 0.047502994537353516, 0.015834331512451172, 0.25917911529541016, 0.2869482934474945, 0.10737420618534088, 0.10182036459445953, 0.07775373011827469, 0.018512792885303497, 0.024066630750894547, 0.018512792885303497, 0.029620470479130745, 0.022215351462364197, 0.033323027193546295, 0.014810235239565372, 0.007405117619782686, 0.5537499189376831, 0.04259614646434784, 0.25557687878608704, 0.08519229292869568, 0.04259614646434784, 0.24487750232219696, 0.14547178149223328, 0.11637742817401886, 0.12365102022886276, 0.08000948280096054, 0.04849059507250786, 0.14789631962776184, 0.04364153742790222, 0.026669828221201897, 0.012122648768126965, 0.004849059507250786, 0.002424529753625393, 0.002424529753625393, 0.002424529753625393, 0.002424529753625393, 0.3665657341480255, 0.12909488379955292, 0.08128196746110916, 0.09403207898139954, 0.0956258475780487, 0.022312697023153305, 0.10040713846683502, 0.028687752783298492, 0.03346904739737511, 0.01912516914308071, 0.01275011245161295, 0.004781292285770178, 0.007968820631504059, 0.0015937640564516187, 0.4109945595264435, 0.12938718497753143, 0.09437652677297592, 0.035010647028684616, 0.03044404275715351, 0.09894313663244247, 0.006088808178901672, 0.0837211161851883, 0.0334884449839592, 0.035010647028684616, 0.009133212268352509, 0.021310828626155853, 0.007611010689288378, 0.001522202044725418, 0.8795616626739502, 0.047976091504096985, 0.047976091504096985, 0.378596693277359, 0.43268194794654846, 0.21634097397327423, 0.08585033565759659, 0.017170067876577377, 0.89284348487854, 0.4891912341117859, 0.061148904263973236, 0.061148904263973236, 0.061148904263973236, 0.061148904263973236, 0.24459561705589294, 0.18213121592998505, 0.796824038028717, 0.9051831960678101, 0.07473989576101303, 0.3255692720413208, 0.1627846360206604, 0.1627846360206604, 0.0813923180103302, 0.3255692720413208, 0.22817665338516235, 0.26484790444374084, 0.11001374572515488, 0.05908145755529404, 0.06723062694072723, 0.04278312250971794, 0.04685770720243454, 0.04278312250971794, 0.07945436984300613, 0.016298333182930946, 0.0020372916478663683, 0.020372916013002396, 0.018335623666644096, 0.0020372916478663683, 0.0020372916478663683, 0.09130266308784485, 0.09130266308784485, 0.27390798926353455, 0.45651331543922424, 0.19683095812797546, 0.26503971219062805, 0.1675986349582672, 0.134468674659729, 0.013641749508678913, 0.05846463888883591, 0.06625992804765701, 0.04482289031147957, 0.029232319444417953, 0.0077952854335308075, 0.0019488213583827019, 0.0077952854335308075, 0.0077952854335308075, 0.6803427338600159, 0.09719181805849075, 0.09719181805849075, 0.09719181805849075, 0.12318777292966843, 0.3167685568332672, 0.05279475823044777, 0.03519650548696518, 0.07039301097393036, 0.2991703152656555, 0.10558951646089554, 0.47797125577926636, 0.18383510410785675, 0.05055465176701546, 0.055150531232357025, 0.04595877602696419, 0.05285258963704109, 0.022979388013482094, 0.03676702082157135, 0.018383510410785675, 0.022979388013482094, 0.011489694006741047, 0.009191755205392838, 0.006893816404044628, 0.004595877602696419, 0.0022979388013482094, 0.34938332438468933, 0.16875873506069183, 0.1397533267736435, 0.08437936753034592, 0.09492678940296173, 0.02109484188258648, 0.018457986414432526, 0.047463394701480865, 0.013184276409447193, 0.018457986414432526, 0.017139559611678123, 0.01450270414352417, 0.01054742094129324, 0.00263685523532331, 0.6024124026298523, 0.08605891466140747, 0.043029457330703735, 0.043029457330703735, 0.043029457330703735, 0.08605891466140747, 0.08605891466140747, 0.17083027958869934, 0.18506614863872528, 0.01423585694283247, 0.48401913046836853, 0.13524064421653748, 0.07379019260406494, 0.8485872149467468, 0.03689509630203247, 0.9328251481056213, 0.025911809876561165, 0.37251946330070496, 0.39580193161964417, 0.11641233414411545, 0.04656493291258812, 0.02328246645629406, 0.10743242502212524, 0.27454954385757446, 0.20292791724205017, 0.1551801711320877, 0.027852851897478104, 0.015915915369987488, 0.0716216191649437, 0.10345344990491867, 0.01989489421248436, 0.015915915369987488, 0.007957957684993744, 0.7513831853866577, 0.18784579634666443, 0.18796221911907196, 0.09398110955953598, 0.28194332122802734, 0.09398110955953598, 0.18796221911907196, 0.09398110955953598, 0.038636256009340286, 0.2511356472969055, 0.5602257251739502, 0.038636256009340286, 0.019318128004670143, 0.038636256009340286, 0.038636256009340286, 0.27967000007629395, 0.46611669659614563, 0.1864466667175293, 0.10093607008457184, 0.6056164503097534, 0.10093607008457184, 0.05046803504228592, 0.05046803504228592, 0.02310837432742119, 0.7625763416290283, 0.13865023851394653, 0.03466255962848663, 0.02310837432742119, 0.4358292818069458, 0.08716586232185364, 0.34866344928741455, 0.2638078033924103, 0.10552311688661575, 0.11306048184633255, 0.15074731409549713, 0.06029892712831497, 0.030149463564157486, 0.030149463564157486, 0.16582204401493073, 0.030149463564157486, 0.0075373658910393715, 0.015074731782078743, 0.02261209674179554, 0.11001547425985336, 0.05500773712992668, 0.16502322256565094, 0.5500773787498474, 0.05500773712992668, 0.2048913538455963, 0.10244567692279816, 0.017074279487133026, 0.17074279487133026, 0.017074279487133026, 0.392708420753479, 0.03414855897426605, 0.017074279487133026, 0.04621361568570137, 0.13864083588123322, 0.5083497762680054, 0.23106807470321655, 0.8813802003860474, 0.03147786483168602, 0.03147786483168602, 0.9581475853919983, 0.029942112043499947, 0.9409985542297363, 0.09548121690750122, 0.1720760464668274, 0.04406825453042984, 0.2602125406265259, 0.02098488248884678, 0.23922766745090485, 0.1468941867351532, 0.001049244194291532, 0.0031477324664592743, 0.002098488388583064, 0.013640173710882664, 0.002098488388583064, 0.287640243768692, 0.575280487537384, 0.04794003814458847, 0.5855370163917542, 0.027882715687155724, 0.23700307309627533, 0.09758950024843216, 0.04182407259941101, 0.016948482021689415, 0.4830317199230194, 0.025422722101211548, 0.46608325839042664, 0.3343890309333801, 0.46814465522766113, 0.0668778046965599, 0.29080531001091003, 0.1890234500169754, 0.1244000494480133, 0.07431691139936447, 0.0904727652668953, 0.0775480791926384, 0.02100260555744171, 0.050083134323358536, 0.024233775213360786, 0.014540265314280987, 0.04038962721824646, 0.0016155850607901812, 0.0016155850607901812, 0.5279536247253418, 0.2639768123626709, 0.17598454654216766, 0.16036470234394073, 0.8018235564231873, 0.06385286152362823, 0.8939400911331177, 0.03841619938611984, 0.19208098948001862, 0.742713212966919, 0.025610798969864845, 0.44617000222206116, 0.1584358811378479, 0.09469730406999588, 0.052811961621046066, 0.060096368193626404, 0.030958734452724457, 0.02549542859196663, 0.030958734452724457, 0.029137633740901947, 0.0200321227312088, 0.02185322530567646, 0.012747714295983315, 0.01092661265283823, 0.0018211021088063717, 0.0018211021088063717, 0.8453911542892456, 0.14714086055755615, 0.0026752883568406105, 0.9313797950744629, 0.21658198535442352, 0.20478105545043945, 0.11939776688814163, 0.10829099267721176, 0.059698883444070816, 0.0701114758849144, 0.0964900553226471, 0.018742673099040985, 0.049286287277936935, 0.019436845555901527, 0.013883461244404316, 0.01180094201117754, 0.011106768622994423, 0.5670442581176758, 0.08100632578134537, 0.2430189698934555, 0.41444677114486694, 0.10361169278621674, 0.05180584639310837, 0.05180584639310837, 0.01726861484348774, 0.01726861484348774, 0.310835063457489, 0.01726861484348774, 0.12093660235404968, 0.06046830117702484, 0.3023415207862854, 0.4232781231403351, 0.08224745094776154, 0.10467857122421265, 0.07850892841815948, 0.22057269513607025, 0.2766505181789398, 0.007477040868252516, 0.1383252590894699, 0.007477040868252516, 0.007477040868252516, 0.003738520434126258, 0.033646684139966965, 0.03738520294427872, 0.12078303098678589, 0.12872928380966187, 0.19071003794670105, 0.2161380499601364, 0.18276378512382507, 0.02383875474333763, 0.0540345124900341, 0.036552757024765015, 0.01748175360262394, 0.011124752461910248, 0.0015892504015937448, 0.004767751321196556, 0.007946251891553402, 0.004767751321196556, 0.01739271730184555, 0.29567620158195496, 0.5391742587089539, 0.1043563038110733, 0.01739271730184555, 0.8701027631759644, 0.018127141520380974, 0.03625428304076195, 0.018127141520380974, 0.018127141520380974, 0.018127141520380974, 0.39080098271369934, 0.15632039308547974, 0.3126407861709595, 0.07816019654273987, 0.3931739926338196, 0.0982934981584549, 0.1965869963169098, 0.0982934981584549, 0.1965869963169098, 0.8951175808906555, 0.040687162429094315, 0.040687162429094315, 0.6457397937774658, 0.07232286036014557, 0.030995510518550873, 0.010331837460398674, 0.061991021037101746, 0.05165918543934822, 0.005165918730199337, 0.02582959271967411, 0.02582959271967411, 0.02582959271967411, 0.015497755259275436, 0.010331837460398674, 0.005165918730199337, 0.010331837460398674, 0.22381918132305145, 0.7460639476776123, 0.3943573534488678, 0.1444125473499298, 0.12034378945827484, 0.0722062736749649, 0.05739473178982735, 0.04443462938070297, 0.01851443015038967, 0.06294906139373779, 0.031474530696868896, 0.022217314690351486, 0.0055543286725878716, 0.011108657345175743, 0.009257215075194836, 0.0018514429684728384, 0.0018514429684728384, 0.37416312098503113, 0.10690374672412872, 0.08017781376838684, 0.37416312098503113, 0.05345187336206436, 0.515348494052887, 0.015157309360802174, 0.015157309360802174, 0.030314618721604347, 0.34861811995506287, 0.0757865458726883, 0.3260495364665985, 0.18018527328968048, 0.060061756521463394, 0.11368832737207413, 0.07722225785255432, 0.10510807484388351, 0.04290125519037247, 0.01930556446313858, 0.023595690727233887, 0.02574075385928154, 0.008580250665545464, 0.006435188464820385, 0.008580250665545464, 0.004290125332772732, 0.002145062666386366, 0.1376481056213379, 0.25196602940559387, 0.1563122570514679, 0.16331131756305695, 0.03499528020620346, 0.020997168496251106, 0.048993393778800964, 0.06999056041240692, 0.08632169663906097, 0.013998112641274929, 0.011665093712508678, 0.002333018695935607, 0.002333018695935607, 0.17512227594852448, 0.17512227594852448, 0.09136813879013062, 0.06852610409259796, 0.007614011876285076, 0.04568406939506531, 0.14466622471809387, 0.06852610409259796, 0.12943820655345917, 0.007614011876285076, 0.06852610409259796, 0.022842034697532654, 0.13649722933769226, 0.6142375469207764, 0.06824861466884613, 0.06824861466884613, 0.06824861466884613, 0.9412065744400024, 0.432718962430954, 0.14709024131298065, 0.06841406226158142, 0.051310546696186066, 0.044469140470027924, 0.09749004244804382, 0.01539316400885582, 0.013682812452316284, 0.05815195292234421, 0.03078632801771164, 0.01881386712193489, 0.010262109339237213, 0.011972460895776749, 0.0017103515565395355, 0.6722484827041626, 0.04221850633621216, 0.022733042016625404, 0.03572335094213486, 0.06495154649019241, 0.022733042016625404, 0.003247577231377363, 0.019485464319586754, 0.019485464319586754, 0.03897092863917351, 0.009742732159793377, 0.022733042016625404, 0.016237886622548103, 0.006495154462754726, 0.6723938584327698, 0.0960562601685524, 0.0960562601685524, 0.0960562601685524, 0.43246182799339294, 0.1358518898487091, 0.026415644213557243, 0.034717705100774765, 0.13283295929431915, 0.07396380603313446, 0.048302892595529556, 0.0060378615744411945, 0.029434574767947197, 0.03320823982357979, 0.014339921064674854, 0.012830455787479877, 0.012075723148882389, 0.004528396297246218, 0.002264198148623109, 0.37472960352897644, 0.08327323943376541, 0.020818309858441353, 0.12490986287593842, 0.13531902432441711, 0.05725035443902016, 0.026022888720035553, 0.026022888720035553, 0.06765951216220856, 0.010409154929220676, 0.026022888720035553, 0.026022888720035553, 0.005204577464610338, 0.015613732859492302, 0.5796116590499878, 0.03077584132552147, 0.03077584132552147, 0.02564653381705284, 0.0359051488339901, 0.11284475028514862, 0.005129307042807341, 0.0359051488339901, 0.010258614085614681, 0.0718102976679802, 0.03077584132552147, 0.020517228171229362, 0.010258614085614681, 0.38981279730796814, 0.08817194402217865, 0.1763438880443573, 0.01856251433491707, 0.07425005733966827, 0.07889068126678467, 0.02320314198732376, 0.01856251433491707, 0.055687543004751205, 0.013921885751187801, 0.027843771502375603, 0.004640628583729267, 0.013921885751187801, 0.009281257167458534, 0.08755762130022049, 0.885304868221283, 0.009728624485433102, 0.009728624485433102, 0.38914403319358826, 0.20799076557159424, 0.26166582107543945, 0.01341875921934843, 0.006709379609674215, 0.006709379609674215, 0.033546898514032364, 0.006709379609674215, 0.060384418815374374, 0.006709379609674215, 0.4246775805950165, 0.15713070333003998, 0.05414639413356781, 0.0870589092373848, 0.06582503020763397, 0.0435294546186924, 0.03397420793771744, 0.04246775805950165, 0.032912515103816986, 0.015925409272313118, 0.011678634211421013, 0.010616939514875412, 0.01274032797664404, 0.007431857753545046, 0.00106169399805367, 0.3337506055831909, 0.6459689140319824, 0.3336167633533478, 0.1668083816766739, 0.040532875806093216, 0.0545634888112545, 0.11536280065774918, 0.08886054158210754, 0.0545634888112545, 0.040532875806093216, 0.045209746807813644, 0.023384351283311844, 0.014030611142516136, 0.004676870536059141, 0.009353741072118282, 0.004676870536059141, 0.0015589568065479398, 0.4685518443584442, 0.10758290439844131, 0.05662257969379425, 0.08068718016147614, 0.08210274577140808, 0.058038145303726196, 0.039635807275772095, 0.0184023380279541, 0.025480160489678383, 0.016986774280667305, 0.02972685545682907, 0.004246693570166826, 0.004246693570166826, 0.004246693570166826, 0.0014155645621940494, 0.11471571773290634, 0.22943143546581268, 0.5353400111198425, 0.03823857381939888, 0.03823857381939888, 0.23582078516483307, 0.25154218077659607, 0.07686010748147964, 0.09782195091247559, 0.03144277259707451, 0.13799883425235748, 0.026202309876680374, 0.02096184715628624, 0.06113872304558754, 0.026202309876680374, 0.012227743864059448, 0.015721386298537254, 0.006987282540649176, 0.26145896315574646, 0.19609422981739044, 0.13072948157787323, 0.32682371139526367, 0.06536474078893661, 0.528037965297699, 0.05657549574971199, 0.22630198299884796, 0.018858499825000763, 0.07543399930000305, 0.018858499825000763, 0.05657549574971199, 0.05363265424966812, 0.9251632690429688, 0.06385112553834915, 0.8939157128334045, 0.2151709347963333, 0.2510327398777008, 0.14344727993011475, 0.035861819982528687, 0.32275640964508057, 0.17750930786132812, 0.007948177866637707, 0.48218944668769836, 0.04239027947187424, 0.04768906533718109, 0.00529878493398428, 0.007948177866637707, 0.18810687959194183, 0.00264939246699214, 0.00529878493398428, 0.0291433185338974, 0.6002067923545837, 0.38143980503082275, 0.01121881790459156, 0.8617491722106934, 0.05069112777709961, 0.05069112777709961, 0.6369026899337769, 0.0025174019392579794, 0.0327262245118618, 0.0025174019392579794, 0.005034803878515959, 0.05538284406065941, 0.0327262245118618, 0.1510441154241562, 0.08055686205625534, 0.4019591510295868, 0.03349659591913223, 0.04187074303627014, 0.1004897877573967, 0.36008840799331665, 0.016748297959566116, 0.03349659591913223, 0.5502431988716125, 0.11004863679409027, 0.055024318397045135, 0.055024318397045135, 0.165072962641716, 0.40370962023735046, 0.5767280459403992, 0.020784486085176468, 0.6235345602035522, 0.020784486085176468, 0.12470691651105881, 0.14549140632152557, 0.041568972170352936, 0.09053954482078552, 0.10562946647405624, 0.10562946647405624, 0.2112589329481125, 0.04526977241039276, 0.03017984703183174, 0.01508992351591587, 0.33197832107543945, 0.03017984703183174, 0.01508992351591587, 0.01508992351591587, 0.2601688802242279, 0.2700905501842499, 0.11024104803800583, 0.11134345829486847, 0.052915703505277634, 0.04740364849567413, 0.04299400746822357, 0.012126514688134193, 0.03307231515645981, 0.020945798605680466, 0.011024104431271553, 0.012126514688134193, 0.014331336133182049, 0.16398940980434418, 0.22138570249080658, 0.09839364141225815, 0.19405412673950195, 0.04646366462111473, 0.05466313660144806, 0.032797880470752716, 0.060129448771476746, 0.05466313660144806, 0.016398940235376358, 0.021865254268050194, 0.0054663135670125484, 0.030064724385738373, 0.0027331567835062742, 0.8164352178573608, 0.13062962889671326, 0.032657407224178314, 0.026613419875502586, 0.07984025776386261, 0.8516294360160828, 0.026613419875502586, 0.0789128914475441, 0.03945644572377205, 0.6313031315803528, 0.1578257828950882, 0.0789128914475441, 0.048550061881542206, 0.30343788862228394, 0.008669653907418251, 0.6172793507575989, 0.015605377033352852, 0.07460939139127731, 0.21316969394683838, 0.3837054371833801, 0.14388954639434814, 0.026646211743354797, 0.06395091116428375, 0.015987727791070938, 0.031975455582141876, 0.015987727791070938, 0.015987727791070938, 0.005329242441803217, 0.10837564617395401, 0.1725982427597046, 0.2970295548439026, 0.11238955706357956, 0.08027825504541397, 0.08429216593503952, 0.05218086391687393, 0.02809738926589489, 0.020069563761353493, 0.020069563761353493, 0.008027825504541397, 0.008027825504541397, 0.008027825504541397, 0.987571120262146, 0.30354204773902893, 0.06070840731263161, 0.22934286296367645, 0.2023613601922989, 0.04047227278351784, 0.006745378486812115, 0.14165295660495758, 0.006745378486812115, 0.14501303434371948, 0.16112558543682098, 0.6767274737358093, 0.4145881235599518, 0.5527841448783875, 0.4356740713119507, 0.044056929647922516, 0.004895214457064867, 0.07832343131303787, 0.23007507622241974, 0.10279950499534607, 0.034266501665115356, 0.004895214457064867, 0.019580857828259468, 0.019580857828259468, 0.014685642905533314, 0.009790428914129734, 0.009790428914129734, 0.2270258069038391, 0.09081032127141953, 0.18162064254283905, 0.09081032127141953, 0.272430956363678, 0.04540516063570976, 0.09190598875284195, 0.008355089463293552, 0.8939946293830872, 0.26914316415786743, 0.35885754227638245, 0.08971438556909561, 0.08971438556909561, 0.08971438556909561, 0.08971438556909561, 0.4523886442184448, 0.13571660220623016, 0.13571660220623016, 0.09047772735357285, 0.04523886367678642, 0.04523886367678642, 0.09047772735357285, 0.19780176877975464, 0.7747235894203186, 0.09581878781318665, 0.6324040293693542, 0.12456443160772324, 0.1341463029384613, 0.14873521029949188, 0.44620564579963684, 0.04957840219140053, 0.347048819065094, 0.10730259865522385, 0.6438155770301819, 0.10730259865522385, 0.07153506577014923, 0.035767532885074615, 0.3032035231590271, 0.25092706084251404, 0.08886999636888504, 0.04704882204532623, 0.04356372728943825, 0.06273176521062851, 0.01916803978383541, 0.06098921597003937, 0.05227646976709366, 0.015682941302657127, 0.02788078412413597, 0.005227647256106138, 0.015682941302657127, 0.005227647256106138, 0.0017425490077584982, 0.09163319319486618, 0.27489957213401794, 0.09163319319486618, 0.1221775934100151, 0.015272199176251888, 0.04581659659743309, 0.27489957213401794, 0.07636099308729172, 0.10257159173488617, 0.26786214113235474, 0.0627189353108406, 0.15745066106319427, 0.09995830804109573, 0.022866278886795044, 0.22212956845760345, 0.017639700323343277, 0.021559635177254677, 0.003919933456927538, 0.00065332226222381, 0.00261328904889524, 0.013719767332077026, 0.0032666113693267107, 0.00065332226222381, 0.14890173077583313, 0.14890173077583313, 0.5211560130119324, 0.07445086538791656, 0.9545572996139526, 0.35953038930892944, 0.1970503032207489, 0.07259748131036758, 0.07259748131036758, 0.04321278631687164, 0.03802725300192833, 0.041484273970127106, 0.09679663926362991, 0.02247064933180809, 0.02247064933180809, 0.006914045661687851, 0.01209957990795374, 0.008642557077109814, 0.005185534246265888, 0.4361972212791443, 0.006869247183203697, 0.006869247183203697, 0.02747698873281479, 0.5014550685882568, 0.017173118889331818, 0.0034346235916018486, 0.7749847769737244, 0.04008542001247406, 0.04008542001247406, 0.02672361396253109, 0.013361806981265545, 0.013361806981265545, 0.013361806981265545, 0.0668090358376503, 0.3034992516040802, 0.22178791463375092, 0.07976582646369934, 0.10894844681024551, 0.06420176476240158, 0.04280117526650429, 0.05058320611715317, 0.06225625425577164, 0.021400587633252144, 0.017509572207927704, 0.0019455079454928637, 0.009727539494633675, 0.009727539494633675, 0.0038910158909857273, 0.08548050373792648, 0.07516389340162277, 0.2903389632701874, 0.12527315318584442, 0.08105909824371338, 0.03094983845949173, 0.06926868855953217, 0.12379935383796692, 0.06484728306531906, 0.008842810988426208, 0.02063322626054287, 0.0029476035851985216, 0.01915942318737507, 0.2916143238544464, 0.2916143238544464, 0.0972047746181488, 0.1944095492362976, 0.0972047746181488, 0.9447594881057739, 0.8195404410362244, 0.05122127756476402, 0.10244255512952805, 0.18957623839378357, 0.47394058108329773, 0.09478811919689178, 0.09478811919689178, 0.09478811919689178, 0.07889815419912338, 0.4733889400959015, 0.3944907784461975, 0.7169483304023743, 0.08272480964660645, 0.1102997437119484, 0.0275749359279871, 0.3384818732738495, 0.29012730717658997, 0.07253182679414749, 0.036265913397073746, 0.09670910239219666, 0.042310234159231186, 0.030221594497561455, 0.006044318899512291, 0.042310234159231186, 0.006044318899512291, 0.006044318899512291, 0.006044318899512291, 0.018132956698536873, 0.025707565248012543, 0.9511799216270447, 0.41312921047210693, 0.10497545450925827, 0.057567182928323746, 0.04402196407318115, 0.10497545450925827, 0.09481653571128845, 0.05418087914586067, 0.02031783014535904, 0.023704133927822113, 0.016931524500250816, 0.006772609893232584, 0.03047674521803856, 0.016931524500250816, 0.003386304946616292, 0.006772609893232584, 0.6159305572509766, 0.05106160044670105, 0.015956750139594078, 0.043083224445581436, 0.09414482861757278, 0.06701835244894028, 0.02233945019543171, 0.03510484844446182, 0.015956750139594078, 0.007978375069797039, 0.0015956750139594078, 0.015956750139594078, 0.009574050083756447, 0.0015956750139594078, 0.0031913500279188156, 0.24638286232948303, 0.16425524652004242, 0.08212762326002121, 0.24638286232948303, 0.16425524652004242, 0.08212762326002121, 0.5943942666053772, 0.06604380905628204, 0.06604380905628204, 0.1320876181125641, 0.06604380905628204, 0.20163771510124207, 0.7698894143104553, 0.6949234008789062, 0.13898468017578125, 0.11582056432962418, 0.023164112120866776, 0.2728995680809021, 0.04548326134681702, 0.5003158450126648, 0.06822489202022552, 0.04548326134681702, 0.02274163067340851, 0.07833877205848694, 0.2741857171058655, 0.09792346507310867, 0.43086326122283936, 0.019584693014621735, 0.058754079043865204, 0.019584693014621735, 0.08421672135591507, 0.16843344271183014, 0.16843344271183014, 0.08421672135591507, 0.16843344271183014, 0.16843344271183014, 0.08421672135591507, 0.17415043711662292, 0.7836769223213196, 0.13692688941955566, 0.23473182320594788, 0.06757431477308273, 0.11025282740592957, 0.06046122685074806, 0.09602665156126022, 0.18494021892547607, 0.024895798414945602, 0.04090024158358574, 0.012447899207472801, 0.010669628158211708, 0.0071130855940282345, 0.0071130855940282345, 0.005334814079105854, 0.0017782713985070586, 0.4028286933898926, 0.15445245802402496, 0.0459182970225811, 0.008348781615495682, 0.15236525237560272, 0.06470305472612381, 0.048005491495132446, 0.010435976088047028, 0.025046342983841896, 0.01878475770354271, 0.02713353931903839, 0.008348781615495682, 0.03339512646198273, 0.0020871954038739204, 0.12000446766614914, 0.12000446766614914, 0.6000223159790039, 0.04000148922204971, 0.04000148922204971, 0.08000297844409943, 0.4716709554195404, 0.0836835578083992, 0.0152151919901371, 0.0380379781126976, 0.1293291300535202, 0.0380379781126976, 0.02282278798520565, 0.00760759599506855, 0.00760759599506855, 0.0152151919901371, 0.1369367241859436, 0.0152151919901371, 0.0152151919901371, 0.33500802516937256, 0.06700160354375839, 0.26800641417503357, 0.06700160354375839, 0.13400320708751678, 0.06700160354375839, 0.26169005036354065, 0.05233800783753395, 0.15701402723789215, 0.05233800783753395, 0.15701402723789215, 0.2093520313501358, 0.05233800783753395, 0.25390392541885376, 0.5078078508377075, 0.12695196270942688, 0.06347598135471344, 0.21324944496154785, 0.7108314633369446, 0.35452067852020264, 0.2256040722131729, 0.08594440668821335, 0.06445830315351486, 0.02685762755572796, 0.03222915157675743, 0.010743050836026669, 0.048343729227781296, 0.1235450878739357, 0.005371525418013334, 0.010743050836026669, 0.005371525418013334, 0.25706928968429565, 0.08568976819515228, 0.25706928968429565, 0.34275907278060913, 0.7974804043769836, 0.027981767430901527, 0.013990883715450764, 0.041972652077674866, 0.03497720882296562, 0.013990883715450764, 0.006995441857725382, 0.013990883715450764, 0.006995441857725382, 0.041972652077674866, 0.006995441857725382, 0.02564106322824955, 0.0641026571393013, 0.5256417989730835, 0.384615957736969, 0.02432241477072239, 0.13985389471054077, 0.29794958233833313, 0.03040301986038685, 0.006080603692680597, 0.46212589740753174, 0.03040301986038685, 0.48108145594596863, 0.07697303593158722, 0.09621629118919373, 0.03848651796579361, 0.057729773223400116, 0.03848651796579361, 0.019243258982896805, 0.03848651796579361, 0.11545954644680023, 0.07496387511491776, 0.3511465787887573, 0.09074574708938599, 0.1933278888463974, 0.10652761161327362, 0.11836401373147964, 0.01972733624279499, 0.007890934124588966, 0.01183640118688345, 0.003945467062294483, 0.01183640118688345, 0.5271390080451965, 0.01647309400141239, 0.049419280141592026, 0.26356950402259827, 0.08236546814441681, 0.049419280141592026, 0.01647309400141239, 0.8386762738227844, 0.00548154441639781, 0.12059397250413895, 0.027407720685005188, 0.201215460896492, 0.21379142999649048, 0.01257596630603075, 0.42758285999298096, 0.01257596630603075, 0.08803176134824753, 0.037727899849414825, 0.5476542711257935, 0.1217009499669075, 0.06085047498345375, 0.1217009499669075, 0.06085047498345375, 0.05206838250160217, 0.008678063750267029, 0.008678063750267029, 0.902518630027771, 0.008678063750267029, 0.008678063750267029, 0.10672033578157425, 0.8181892037391663, 0.053360167890787125, 0.3931780457496643, 0.03276483714580536, 0.13105934858322144, 0.03276483714580536, 0.03276483714580536, 0.06552967429161072, 0.03276483714580536, 0.06552967429161072, 0.09829451143741608, 0.06552967429161072, 0.06552967429161072, 0.09826228767633438, 0.3930491507053375, 0.09826228767633438, 0.09826228767633438, 0.19652457535266876, 0.6104236841201782, 0.15260592103004456, 0.09156355261802673, 0.061042364686727524, 0.061042364686727524, 0.15649673342704773, 0.2568908631801605, 0.09153582155704498, 0.10629966855049133, 0.09744136035442352, 0.041338760405778885, 0.09744136035442352, 0.008858305402100086, 0.07381921261548996, 0.005905536934733391, 0.017716610804200172, 0.023622147738933563, 0.014763842336833477, 0.005905536934733391, 0.7057206630706787, 0.2822882831096649, 0.19365689158439636, 0.3873137831687927, 0.19365689158439636, 0.19365689158439636, 0.059586863964796066, 0.9235963821411133, 0.4247623085975647, 0.038614753633737564, 0.038614753633737564, 0.038614753633737564, 0.3475327789783478, 0.038614753633737564, 0.038614753633737564, 0.6691416501998901, 0.055761806666851044, 0.22304722666740417, 0.2690538167953491, 0.11957947164773941, 0.568002462387085, 0.6278328895568848, 0.3304383456707001, 0.6659731268882751, 0.035051215440034866, 0.035051215440034866, 0.07010243088006973, 0.035051215440034866, 0.035051215440034866, 0.035051215440034866, 0.07010243088006973, 0.39258986711502075, 0.09814746677875519, 0.29444238543510437, 0.09814746677875519, 0.5772290229797363, 0.05247536674141884, 0.10495073348283768, 0.05247536674141884, 0.05247536674141884, 0.05247536674141884, 0.2163889855146408, 0.23184533417224884, 0.08611398190259933, 0.16560381650924683, 0.04416101798415184, 0.057409320026636124, 0.07286567986011505, 0.03974491357803345, 0.024288559332489967, 0.028704660013318062, 0.01104025449603796, 0.006624152418226004, 0.01104025449603796, 0.004416101612150669, 0.3761463463306427, 0.48361673951148987, 0.12090418487787247, 0.13334910571575165, 0.35132360458374023, 0.14617112278938293, 0.02820846438407898, 0.09231860935688019, 0.07436776906251907, 0.053852520883083344, 0.030772868543863297, 0.017950840294361115, 0.02051524631679058, 0.02820846438407898, 0.0025644057895988226, 0.015386434271931648, 0.9255080819129944, 0.15968653559684753, 0.6387461423873901, 0.15968653559684753, 0.5815944075584412, 0.058159440755844116, 0.11631888151168823, 0.058159440755844116, 0.17447832226753235, 0.038520172238349915, 0.07704034447669983, 0.6355828046798706, 0.04815021529793739, 0.019260086119174957, 0.11556051671504974, 0.009630043059587479, 0.009630043059587479, 0.028890129178762436, 0.009630043059587479, 0.009630043059587479, 0.5104064345359802, 0.04438316822052002, 0.04438316822052002, 0.02219158411026001, 0.02219158411026001, 0.02219158411026001, 0.17753267288208008, 0.06657475233078003, 0.06657475233078003, 0.1952497512102127, 0.1952497512102127, 0.29287463426589966, 0.14643731713294983, 0.14643731713294983, 0.4832954704761505, 0.08054924756288528, 0.32219699025154114, 0.08054924756288528, 0.5645511746406555, 0.1881837248802185, 0.09409186244010925, 0.09409186244010925, 0.6127427816390991, 0.010044964030385017, 0.010044964030385017, 0.060269780457019806, 0.010044964030385017, 0.04017985612154007, 0.23103415966033936, 0.020089928060770035, 0.6074491143226624, 0.019182603806257248, 0.038365207612514496, 0.217402845621109, 0.06394201517105103, 0.038365207612514496, 0.006394201423972845, 0.34068581461906433, 0.08517145365476608, 0.34068581461906433, 0.08517145365476608, 0.08517145365476608, 0.482681542634964, 0.06228148937225342, 0.32697781920433044, 0.07785186171531677, 0.03114074468612671, 0.49596497416496277, 0.09537787735462189, 0.07630230486392975, 0.019075576215982437, 0.05722672864794731, 0.05722672864794731, 0.038151152431964874, 0.019075576215982437, 0.038151152431964874, 0.019075576215982437, 0.038151152431964874, 0.019075576215982437, 0.47283580899238586, 0.06754796952009201, 0.06754796952009201, 0.33773985505104065, 0.8371842503547668, 0.14908760786056519, 0.9316140413284302, 0.3399588167667389, 0.20397527515888214, 0.3399588167667389, 0.06799176335334778, 0.6607686281204224, 0.028318654745817184, 0.03775820881128311, 0.08495596796274185, 0.028318654745817184, 0.10383506864309311, 0.03775820881128311, 0.009439552202820778, 0.009439552202820778, 0.18578405678272247, 0.7431362271308899, 0.06192801892757416, 0.7005210518836975, 0.07005210965871811, 0.07005210965871811, 0.07005210965871811, 0.1342451423406601, 0.1342451423406601, 0.06712257117033005, 0.5369805693626404, 0.06712257117033005, 0.5451216697692871, 0.060569070279598236, 0.12113814055919647, 0.12113814055919647, 0.12113814055919647, 0.038948822766542435, 0.45180636644363403, 0.4829654097557068, 0.007789764553308487, 0.007789764553308487, 0.4795299172401428, 0.2877179682254791, 0.09590598195791245, 0.07286163419485092, 0.6193239092826843, 0.21858491003513336, 0.03643081709742546, 0.03643081709742546, 0.9324732422828674, 0.4891566038131714, 0.2445783019065857, 0.2445783019065857, 0.09215293079614639, 0.09215293079614639, 0.2764587700366974, 0.46076464653015137, 0.4224386215209961, 0.16897545754909515, 0.3379509150981903, 0.15526020526885986, 0.05175340175628662, 0.15526020526885986, 0.15526020526885986, 0.15526020526885986, 0.05175340175628662, 0.05175340175628662, 0.05175340175628662, 0.15526020526885986, 0.2692815065383911, 0.17952100932598114, 0.08976050466299057, 0.2692815065383911, 0.08976050466299057, 0.17952100932598114, 0.1894443780183792, 0.6314812302589417, 0.0631481260061264, 0.1262962520122528, 0.30514582991600037, 0.1307767778635025, 0.04359225928783417, 0.1307767778635025, 0.1307767778635025, 0.1307767778635025, 0.04359225928783417, 0.04359225928783417, 0.6734539270401001, 0.09620770066976547, 0.19241540133953094, 0.07332073897123337, 0.23688238859176636, 0.2425224483013153, 0.18894191086292267, 0.03948039934039116, 0.016920169815421104, 0.06486065685749054, 0.062040627002716064, 0.03948039934039116, 0.008460084907710552, 0.022560227662324905, 0.002820028457790613, 0.22647491097450256, 0.3774581849575043, 0.07549163699150085, 0.07549163699150085, 0.1509832739830017, 0.26612141728401184, 0.598773181438446, 0.06653035432100296, 0.3544483482837677, 0.18807463347911835, 0.10850459337234497, 0.08680367469787598, 0.03255137801170349, 0.03616819903254509, 0.054252296686172485, 0.07957003265619278, 0.014467279426753521, 0.010850459337234497, 0.0072336397133767605, 0.0036168198566883802, 0.0036168198566883802, 0.010850459337234497, 0.0072336397133767605, 0.27135488390922546, 0.1507527083158493, 0.06030108034610748, 0.03015054017305374, 0.03015054017305374, 0.03015054017305374, 0.3015054166316986, 0.06030108034610748, 0.03015054017305374, 0.28791433572769165, 0.09597145020961761, 0.28791433572769165, 0.28791433572769165, 0.7110377550125122, 0.06463979929685593, 0.06463979929685593, 0.12927959859371185, 0.04800514504313469, 0.9240990281105042, 0.3655188977718353, 0.14794813096523285, 0.11313680559396744, 0.043514154851436615, 0.09573113918304443, 0.02610849402844906, 0.017405662685632706, 0.017405662685632706, 0.05221698805689812, 0.02610849402844906, 0.017405662685632706, 0.06091981753706932, 0.017405662685632706, 0.008702831342816353, 0.6003046035766602, 0.33350256085395813, 0.44539734721183777, 0.02120939828455448, 0.14846578240394592, 0.04241879656910896, 0.08483759313821793, 0.02120939828455448, 0.1272563934326172, 0.02120939828455448, 0.02120939828455448, 0.04241879656910896, 0.9315901398658752, 0.5122319459915161, 0.06829759478569031, 0.022765865549445152, 0.045531731098890305, 0.056914664804935455, 0.07968053221702576, 0.045531731098890305, 0.045531731098890305, 0.022765865549445152, 0.045531731098890305, 0.022765865549445152, 0.011382932774722576, 0.022765865549445152, 0.4083951413631439, 0.058342162519693375, 0.11668432503938675, 0.17502649128437042, 0.17502649128437042, 0.47921597957611084, 0.017114857211709023, 0.10268913954496384, 0.15403370559215546, 0.017114857211709023, 0.23960798978805542, 0.25927191972732544, 0.4001805782318115, 0.2649082541465759, 0.0028181730303913355, 0.0028181730303913355, 0.0169090386480093, 0.042272597551345825, 0.005636346060782671, 0.3069978654384613, 0.12279914319515228, 0.12279914319515228, 0.18419872224330902, 0.06139957159757614, 0.06139957159757614, 0.12279914319515228, 0.9209643006324768, 0.04604821652173996, 0.35549038648605347, 0.09502101689577103, 0.0424799844622612, 0.13638310134410858, 0.13861890137195587, 0.026829464361071587, 0.0827241763472557, 0.057012610137462616, 0.026829464361071587, 0.011178943328559399, 0.008943154476583004, 0.004471577238291502, 0.005589471664279699, 0.006707366090267897, 0.0011178943095728755, 0.7190006971359253, 0.025678597390651703, 0.02139883115887642, 0.02139883115887642, 0.04707742854952812, 0.051357194781303406, 0.025678597390651703, 0.02139883115887642, 0.004279766231775284, 0.02139883115887642, 0.02139883115887642, 0.008559532463550568, 0.008559532463550568, 0.008559532463550568, 0.9291373491287231, 0.02732756920158863, 0.13462264835834503, 0.7692722678184509, 0.07692722231149673, 0.6021126508712769, 0.0784146711230278, 0.01960366778075695, 0.033606287091970444, 0.06161152571439743, 0.028005238622426987, 0.053209953010082245, 0.033606287091970444, 0.01960366778075695, 0.016803143545985222, 0.028005238622426987, 0.014002619311213493, 0.008401571772992611, 0.005601047538220882, 0.8345649838447571, 0.01368139311671257, 0.02736278623342514, 0.02736278623342514, 0.04104417935013771, 0.05472557246685028, 0.2690356969833374, 0.2690356969833374, 0.1793571263551712, 0.0896785631775856, 0.1793571263551712, 0.27262112498283386, 0.3407764136791229, 0.13631056249141693, 0.06815528124570847, 0.13631056249141693, 0.08369948714971542, 0.25109848380088806, 0.08369948714971542, 0.16739897429943085, 0.25109848380088806, 0.27215248346328735, 0.09071749448776245, 0.09071749448776245, 0.45358747243881226, 0.09071749448776245, 0.1529938280582428, 0.0764969140291214, 0.4589814841747284, 0.0764969140291214, 0.0764969140291214, 0.1529938280582428, 0.48212915658950806, 0.08349722623825073, 0.05117572098970413, 0.0808037668466568, 0.0888841450214386, 0.04309534281492233, 0.0242411307990551, 0.0484822615981102, 0.0323215089738369, 0.021547671407461166, 0.01616075448691845, 0.008080377243459225, 0.008080377243459225, 0.010773835703730583, 0.005386917851865292, 0.4049329161643982, 0.033744409680366516, 0.30369967222213745, 0.033744409680366516, 0.033744409680366516, 0.10123322904109955, 0.033744409680366516, 0.3983551263809204, 0.12512436509132385, 0.08554420620203018, 0.08809776604175568, 0.08809776604175568, 0.04085693508386612, 0.04213371500372887, 0.057455066591501236, 0.03064270131289959, 0.017874909564852715, 0.01021423377096653, 0.008937454782426357, 0.006383896339684725, 0.13965532183647156, 0.0785561203956604, 0.0785561203956604, 0.10474149137735367, 0.17456914484500885, 0.06982766091823578, 0.25312528014183044, 0.008728457614779472, 0.052370745688676834, 0.008728457614779472, 0.008728457614779472, 0.008728457614779472, 0.8548752665519714, 0.019428983330726624, 0.019428983330726624, 0.019428983330726624, 0.019428983330726624, 0.019428983330726624, 0.44268450140953064, 0.35414761304855347, 0.08853690326213837, 0.08853690326213837, 0.4187314510345459, 0.20936572551727295, 0.27915430068969727, 0.9485360383987427, 0.5069252252578735, 0.05272022262215614, 0.17032687366008759, 0.0648864284157753, 0.004055401775985956, 0.004055401775985956, 0.024332411587238312, 0.004055401775985956, 0.10544044524431229, 0.03244321420788765, 0.03244321420788765, 0.004055401775985956, 0.3576502799987793, 0.0715300515294075, 0.0715300515294075, 0.28612020611763, 0.143060103058815, 0.3691597878932953, 0.06152663379907608, 0.12305326759815216, 0.3076331615447998, 0.12305326759815216, 0.4021988809108734, 0.044688764959573746, 0.08937752991914749, 0.022344382479786873, 0.26813259720802307, 0.08937752991914749, 0.044688764959573746, 0.044688764959573746, 0.1291246861219406, 0.1291246861219406, 0.6456234455108643, 0.07107849419116974, 0.07107849419116974, 0.6397064924240112, 0.07107849419116974, 0.07107849419116974, 0.07107849419116974, 0.3437609374523163, 0.16964825987815857, 0.08259191364049911, 0.11830733716487885, 0.08259191364049911, 0.024554353207349777, 0.03571542352437973, 0.017857711762189865, 0.051340918987989426, 0.024554353207349777, 0.013393282890319824, 0.024554353207349777, 0.006696641445159912, 0.002232213970273733, 0.08436871320009232, 0.25310614705085754, 0.08436871320009232, 0.33747485280036926, 0.16873742640018463, 0.40260258316993713, 0.1610410362482071, 0.3220820724964142, 0.896485447883606, 0.23425894975662231, 0.2159910500049591, 0.09133949875831604, 0.11175656318664551, 0.049430787563323975, 0.09886157512664795, 0.082742840051651, 0.027939140796661377, 0.044057875871658325, 0.013969570398330688, 0.010745823383331299, 0.005372911691665649, 0.0042983293533325195, 0.007522076368331909, 0.0032237470149993896, 0.5773667097091675, 0.28868335485458374, 0.8813928365707397, 0.027543526142835617, 0.027543526142835617, 0.027543526142835617, 0.3738822340965271, 0.22432933747768402, 0.29910579323768616, 0.6991086006164551, 0.05377758666872978, 0.035851724445819855, 0.017925862222909927, 0.017925862222909927, 0.05377758666872978, 0.017925862222909927, 0.017925862222909927, 0.017925862222909927, 0.05377758666872978, 0.6656306982040405, 0.03169669955968857, 0.0950901061296463, 0.03169669955968857, 0.03169669955968857, 0.06339339911937714, 0.03169669955968857, 0.553976833820343, 0.2769884169101715, 0.0923294723033905, 0.03991064056754112, 0.1596425622701645, 0.11973191797733307, 0.5188383460044861, 0.07982128113508224, 0.03991064056754112, 0.09733932465314865, 0.1121876984834671, 0.06764258444309235, 0.0824909508228302, 0.05444402992725372, 0.3662598431110382, 0.12868589162826538, 0.026397105306386948, 0.006599276326596737, 0.0032996381632983685, 0.0412454754114151, 0.011548733338713646, 0.014863717369735241, 0.08422773331403732, 0.38975968956947327, 0.23947100341320038, 0.014863717369735241, 0.026424387469887733, 0.008257620967924595, 0.18166765570640564, 0.031378958374261856, 0.0033030484337359667, 0.0016515242168679833, 0.0016515242168679833, 0.0016515242168679833, 0.0628589391708374, 0.1152413859963417, 0.34048590064048767, 0.3247711658477783, 0.0419059582054615, 0.01571473479270935, 0.005238244775682688, 0.06809718161821365, 0.005238244775682688, 0.01571473479270935, 0.4821164011955261, 0.2892698347568512, 0.09642328321933746, 0.09642328321933746, 0.3299817144870758, 0.12895837426185608, 0.04172182455658913, 0.06827207654714584, 0.06447918713092804, 0.04930761456489563, 0.07585786283016205, 0.026550253853201866, 0.06447918713092804, 0.026550253853201866, 0.09482233226299286, 0.003792893374338746, 0.015171573497354984, 0.007585786748677492, 0.017991919070482254, 0.8366242051124573, 0.017991919070482254, 0.10795151442289352, 0.017991919070482254, 0.6114556193351746, 0.17470160126686096, 0.17470160126686096, 0.9569920897483826, 0.2621263563632965, 0.20970109105110168, 0.03495018184185028, 0.3495018184185028, 0.05242527276277542, 0.01747509092092514, 0.05242527276277542, 0.16563129425048828, 0.2380949854850769, 0.2018631398677826, 0.025879889726638794, 0.07246369123458862, 0.04658380150794983, 0.04658380150794983, 0.005175977945327759, 0.11904749274253845, 0.025879889726638794, 0.010351955890655518, 0.020703911781311035, 0.020703911781311035, 0.09278015047311783, 0.5566809177398682, 0.09278015047311783, 0.18556030094623566, 0.18117745220661163, 0.23906846344470978, 0.17581717669963837, 0.14901576936244965, 0.052530739456415176, 0.03859401121735573, 0.04717046022415161, 0.04288223758339882, 0.02894550934433937, 0.010720559395849705, 0.015008782967925072, 0.0032161676790565252, 0.009648502804338932, 0.0032161676790565252, 0.0021441117860376835, 0.3345978558063507, 0.4089529514312744, 0.11153262108564377, 0.07435508072376251, 0.7079964876174927, 0.056892577558755875, 0.006321397144347429, 0.03792838379740715, 0.03160698711872101, 0.012642794288694859, 0.018964191898703575, 0.03160698711872101, 0.012642794288694859, 0.056892577558755875, 0.006321397144347429, 0.012642794288694859, 0.012642794288694859, 0.5882248282432556, 0.1960749328136444, 0.0980374664068222, 0.0980374664068222, 0.24927586317062378, 0.21589070558547974, 0.07789871096611023, 0.09347844868898392, 0.07122167199850082, 0.07567302882671356, 0.04228787124156952, 0.057867612689733505, 0.04228787124156952, 0.015579741448163986, 0.04673922434449196, 0.0044513544999063015, 0.0044513544999063015, 0.0022256772499531507, 0.39852064847946167, 0.13284021615982056, 0.39852064847946167, 0.09035006165504456, 0.27105018496513367, 0.09035006165504456, 0.3614002466201782, 0.09035006165504456, 0.15303851664066315, 0.3410572409629822, 0.1705286204814911, 0.09619563072919846, 0.026235172525048256, 0.004372528754174709, 0.017490115016698837, 0.11368574947118759, 0.034980230033397675, 0.008745057508349419, 0.008745057508349419, 0.013117586262524128, 0.008745057508349419, 0.5259827375411987, 0.07514038681983948, 0.3005615472793579, 0.19342882931232452, 0.19342882931232452, 0.290143221616745, 0.19342882931232452, 0.09671441465616226, 0.6479564905166626, 0.00518365204334259, 0.02591826021671295, 0.04146921634674072, 0.07775478065013885, 0.18661147356033325, 0.878077507019043, 0.07526379078626633, 0.03199544548988342, 0.5759180188179016, 0.2879590094089508, 0.06399089097976685, 0.4598538875579834, 0.3678830862045288, 0.0919707715511322, 0.6757218837738037, 0.02815507911145687, 0.02815507911145687, 0.04223261773586273, 0.09854277968406677, 0.014077539555728436, 0.014077539555728436, 0.07038769870996475, 0.014077539555728436, 0.02815507911145687, 0.6928313970565796, 0.04905001074075699, 0.024525005370378494, 0.030656255781650543, 0.10116564482450485, 0.04291876032948494, 0.0030656256712973118, 0.0030656256712973118, 0.012262502685189247, 0.0061312513425946236, 0.0030656256712973118, 0.015328127890825272, 0.0061312513425946236, 0.012262502685189247, 0.0030656256712973118, 0.5725381970405579, 0.1908460557460785, 0.09542302787303925, 0.09542302787303925, 0.39076268672943115, 0.09769067168235779, 0.19538134336471558, 0.09769067168235779, 0.09769067168235779, 0.09769067168235779, 0.6558241844177246, 0.09368916600942612, 0.09368916600942612, 0.09368916600942612, 0.9258115887641907, 0.17234785854816437, 0.17234785854816437, 0.34469571709632874, 0.25852179527282715, 0.18526695668697357, 0.37053391337394714, 0.09263347834348679, 0.18526695668697357, 0.09263347834348679, 0.44326236844062805, 0.06819421052932739, 0.06819421052932739, 0.10229131579399109, 0.20458263158798218, 0.10229131579399109, 0.7997384071350098, 0.028906207531690598, 0.00963540282100439, 0.01927080564200878, 0.00963540282100439, 0.04817701131105423, 0.04817701131105423, 0.00963540282100439, 0.9519731402397156, 0.3946932256221771, 0.3946932256221771, 0.15787729620933533, 0.08036717027425766, 0.5893592238426208, 0.01785936951637268, 0.1339452713727951, 0.05357811227440834, 0.01785936951637268, 0.03571873903274536, 0.044648427516222, 0.01785936951637268, 0.14677610993385315, 0.2725841999053955, 0.1693570613861084, 0.10967885702848434, 0.058065276592969894, 0.027419714257121086, 0.14516319334506989, 0.01612924411892891, 0.025806790217757225, 0.008064622059464455, 0.011290470138192177, 0.006451697554439306, 0.0016129243886098266, 0.0016129243886098266, 0.8242822885513306, 0.13738037645816803, 0.7898316979408264, 0.18955960869789124, 0.4572857618331909, 0.39195922017097473, 0.06532654166221619, 0.31865137815475464, 0.2039368748664856, 0.01274605467915535, 0.057357244193553925, 0.06373026967048645, 0.044611189514398575, 0.1019684374332428, 0.006373027339577675, 0.1274605393409729, 0.03823816403746605, 0.01274605467915535, 0.006373027339577675, 0.006373027339577675, 0.9031776189804077, 0.061580292880535126, 0.5814321041107178, 0.013521676883101463, 0.04056503251194954, 0.05408670753240585, 0.22986851632595062, 0.027043353766202927, 0.027043353766202927, 0.6995159983634949, 0.03886199742555618, 0.01295399945229292, 0.03886199742555618, 0.02590799890458584, 0.11658599227666855, 0.03886199742555618, 0.01295399945229292, 0.4206092357635498, 0.10281559079885483, 0.08412184566259384, 0.009346871636807919, 0.018693743273615837, 0.11216246336698532, 0.1588968187570572, 0.05608123168349266, 0.018693743273615837, 0.009346871636807919, 0.3581271767616272, 0.5730035305023193, 0.26337727904319763, 0.12803062796592712, 0.10974053293466568, 0.08047638833522797, 0.07316035777330399, 0.11339855194091797, 0.060357291251420975, 0.04755423218011856, 0.045725222676992416, 0.029264142736792564, 0.025606123730540276, 0.0036580178420990705, 0.007316035684198141, 0.0036580178420990705, 0.0018290089210495353, 0.07942066341638565, 0.23826198279857635, 0.039710331708192825, 0.19855165481567383, 0.3176826536655426, 0.07942066341638565, 0.039710331708192825, 0.9259348511695862, 0.9649826288223267, 0.3646809756755829, 0.10419456660747528, 0.05209728330373764, 0.05209728330373764, 0.3646809756755829, 0.4406317472457886, 0.05507896840572357, 0.33047381043434143, 0.11015793681144714, 0.08441488444805145, 0.45660775899887085, 0.10360008478164673, 0.026859279721975327, 0.03453335911035538, 0.0511605329811573, 0.15731863677501678, 0.03453335911035538, 0.024301253259181976, 0.005116053391247988, 0.007674080319702625, 0.005116053391247988, 0.006395066622644663, 0.001279013347811997, 0.001279013347811997, 0.16242273151874542, 0.273754745721817, 0.13268335163593292, 0.09608104825019836, 0.06710422784090042, 0.06939186900854111, 0.08083008974790573, 0.017538605257868767, 0.04422778636217117, 0.012200768105685711, 0.013725864700973034, 0.00457528792321682, 0.019826248288154602, 0.005337836220860481, 0.0007625480066053569, 0.3873322606086731, 0.33636748790740967, 0.22424498200416565, 0.02038590796291828, 0.02038590796291828, 0.01019295398145914, 0.3647794723510742, 0.1999272108078003, 0.07278051972389221, 0.049104928970336914, 0.059627413749694824, 0.06576552987098694, 0.037705570459365845, 0.017537474632263184, 0.036828696727752686, 0.027183085680007935, 0.03244432806968689, 0.009645611047744751, 0.025429338216781616, 0.0008768737316131592, 0.0008768737316131592, 0.10581214725971222, 0.15519113838672638, 0.46557343006134033, 0.10581214725971222, 0.0070541431196033955, 0.04232485592365265, 0.014108286239206791, 0.0070541431196033955, 0.014108286239206791, 0.06348728388547897, 0.0070541431196033955, 0.27085810899734497, 0.18311534821987152, 0.09918747842311859, 0.1258918046951294, 0.06866825371980667, 0.049593739211559296, 0.06103844940662384, 0.05150119215250015, 0.04005648195743561, 0.013352161273360252, 0.005722354631870985, 0.00762980617582798, 0.01144470926374197, 0.01144470926374197, 0.001907451543956995, 0.46886733174324036, 0.21210666000843048, 0.022327017039060593, 0.05581754073500633, 0.044654034078121185, 0.044654034078121185, 0.011163508519530296, 0.022327017039060593, 0.022327017039060593, 0.022327017039060593, 0.022327017039060593, 0.022327017039060593, 0.03349052369594574, 0.6173179745674133, 0.3527531027793884, 0.4621727466583252, 0.05777159333229065, 0.17331477999687195, 0.17331477999687195, 0.4554942846298218, 0.15183143317699432, 0.07591571658849716, 0.07591571658849716, 0.15183143317699432, 0.2413821518421173, 0.18488846719264984, 0.16434529423713684, 0.0950121283531189, 0.08987633138895035, 0.056493695825338364, 0.06933317333459854, 0.03595053404569626, 0.02311105839908123, 0.010271580889821053, 0.002567895222455263, 0.007703685667365789, 0.007703685667365789, 0.005135790444910526, 0.005135790444910526, 0.222234308719635, 0.05555857717990875, 0.1111171543598175, 0.5000271797180176, 0.05555857717990875, 0.5065054297447205, 0.06331317871809006, 0.12662635743618011, 0.03165658935904503, 0.03165658935904503, 0.09496977180242538, 0.03165658935904503, 0.06331317871809006, 0.4634706676006317, 0.07624192535877228, 0.08627375960350037, 0.06821645796298981, 0.08025465905666351, 0.05216553062200546, 0.03611459583044052, 0.030095497146248817, 0.02608276531100273, 0.022070031613111496, 0.012038199231028557, 0.01805729791522026, 0.01805729791522026, 0.008025466464459896, 0.004012733232229948, 0.3486155569553375, 0.2440308928489685, 0.278892457485199, 0.03486155718564987, 0.03486155718564987, 0.144107386469841, 0.07411237061023712, 0.3293883204460144, 0.1646941602230072, 0.04529089108109474, 0.01646941527724266, 0.07411237061023712, 0.09469913691282272, 0.01646941527724266, 0.012352061457931995, 0.004117353819310665, 0.01646941527724266, 0.004117353819310665, 0.501933217048645, 0.06274165213108063, 0.06274165213108063, 0.37644991278648376, 0.8051348924636841, 0.02713937871158123, 0.009046459570527077, 0.02713937871158123, 0.018092919141054153, 0.02713937871158123, 0.03618583828210831, 0.03618583828210831, 0.009046459570527077, 0.9264406561851501, 0.09746979922056198, 0.09746979922056198, 0.09746979922056198, 0.19493959844112396, 0.09746979922056198, 0.29240939021110535, 0.07030092179775238, 0.07030092179775238, 0.2812036871910095, 0.21090276539325714, 0.023433640599250793, 0.3046373128890991, 0.023433640599250793, 0.10515710711479187, 0.10515710711479187, 0.052578553557395935, 0.36804988980293274, 0.1577356606721878, 0.1577356606721878, 0.4144946336746216, 0.38858872652053833, 0.1036236584186554, 0.0518118292093277, 0.7289405465126038, 0.08099339157342911, 0.08099339157342911, 0.3129269480705261, 0.07823173701763153, 0.07823173701763153, 0.3129269480705261, 0.15646347403526306, 0.6676133275032043, 0.19074666500091553, 0.09537333250045776, 0.31367847323417664, 0.23288249969482422, 0.08079596608877182, 0.11406489461660385, 0.061785150319337845, 0.004752703942358494, 0.057032447308301926, 0.04752704128623009, 0.028516223654150963, 0.004752703942358494, 0.014258111827075481, 0.014258111827075481, 0.009505407884716988, 0.014258111827075481, 0.37553340196609497, 0.075106680393219, 0.150213360786438, 0.37553340196609497, 0.2903510332107544, 0.539223313331604, 0.0829574316740036, 0.0414787158370018, 0.0207393579185009, 0.9184207916259766, 0.8124451637268066, 0.17409539222717285, 0.40427538752555847, 0.044919487088918686, 0.44919487833976746, 0.044919487088918686, 0.5591497421264648, 0.055914975702762604, 0.055914975702762604, 0.055914975702762604, 0.11182995140552521, 0.11182995140552521, 0.055914975702762604, 0.7678920030593872, 0.1396167278289795, 0.47200194001197815, 0.10544724762439728, 0.05774492025375366, 0.025106487795710564, 0.07783010601997375, 0.06778751313686371, 0.027617136016488075, 0.07280880957841873, 0.015063892118632793, 0.022595837712287903, 0.03765973076224327, 0.007531946059316397, 0.007531946059316397, 0.5379922986030579, 0.016812259331345558, 0.05884290486574173, 0.29421451687812805, 0.07565516233444214, 0.6642051935195923, 0.09488645941019058, 0.09488645941019058, 0.09488645941019058, 0.8477320671081543, 0.05216812714934349, 0.05216812714934349, 0.026084063574671745, 0.9254264235496521, 0.3089750111103058, 0.22919271886348724, 0.060924649238586426, 0.10879401117563248, 0.0957387313246727, 0.03481408581137657, 0.04351760447025299, 0.026110563427209854, 0.033363498747348785, 0.02030821517109871, 0.00580234732478857, 0.01160469464957714, 0.017407042905688286, 0.002901173662394285, 0.41763317584991455, 0.07429052144289017, 0.09637688845396042, 0.07228266447782516, 0.12247896194458008, 0.03614133223891258, 0.03413348272442818, 0.04015703871846199, 0.024094222113490105, 0.01807066611945629, 0.02610207349061966, 0.01807066611945629, 0.014054963365197182, 0.002007851842790842, 0.7429200410842896, 0.24764001369476318, 0.004716952797025442, 0.43135297298431396, 0.43135297298431396, 0.4897003471851349, 0.4897003471851349, 0.39433255791664124, 0.06572209298610687, 0.525776743888855, 0.45274972915649414, 0.07545828819274902, 0.07545828819274902, 0.22637486457824707, 0.07545828819274902, 0.7276721596717834, 0.01702157035470009, 0.008510785177350044, 0.10212942212820053, 0.021276963874697685, 0.004255392588675022, 0.01702157035470009, 0.008510785177350044, 0.038298532366752625, 0.012766177766025066, 0.025532355532050133, 0.004255392588675022, 0.008510785177350044, 0.28045621514320374, 0.16827373206615448, 0.11218249052762985, 0.056091245263814926, 0.11218249052762985, 0.056091245263814926, 0.056091245263814926, 0.056091245263814926, 0.16827373206615448, 0.4122978746891022, 0.03748162463307381, 0.07496324926614761, 0.37481626868247986, 0.03748162463307381, 0.03748162463307381, 0.004924227949231863, 0.38408979773521423, 0.5909073948860168, 0.009848455898463726, 0.208079993724823, 0.3033030331134796, 0.10227660834789276, 0.11285694688558578, 0.03174101561307907, 0.14459796249866486, 0.042321354150772095, 0.017633898183703423, 0.010580338537693024, 0.010580338537693024, 0.014107118360698223, 0.0035267795901745558, 0.05504613369703293, 0.13211071491241455, 0.01100922655314207, 0.4623875319957733, 0.1211014911532402, 0.15412917733192444, 0.05504613369703293, 0.0863630399107933, 0.0772721916437149, 0.00909084640443325, 0.8181761503219604, 0.004545423202216625, 0.7209412455558777, 0.16020917892456055, 0.08010458946228027, 0.18667656183242798, 0.2628710865974426, 0.11429177224636078, 0.11429177224636078, 0.05143129825592041, 0.10286259651184082, 0.049526434391736984, 0.03047780692577362, 0.04000211879611015, 0.017143765464425087, 0.017143765464425087, 0.0019048629328608513, 0.0038097258657217026, 0.005714588798582554, 0.0019048629328608513, 0.770473301410675, 0.19261832535266876, 0.27524030208587646, 0.32393667101860046, 0.11221335828304291, 0.07833762466907501, 0.0486963614821434, 0.04657912999391556, 0.012703399173915386, 0.006351699586957693, 0.027524029836058617, 0.02328956499695778, 0.019055098295211792, 0.012703399173915386, 0.012703399173915386, 0.7881683707237244, 0.013358785770833492, 0.013358785770833492, 0.013358785770833492, 0.013358785770833492, 0.05343514308333397, 0.05343514308333397, 0.013358785770833492, 0.026717571541666985, 0.7655938267707825, 0.2253696173429489, 0.003314258996397257, 0.42932596802711487, 0.07155432552099228, 0.07155432552099228, 0.07155432552099228, 0.32199448347091675, 0.27718374133110046, 0.17979486286640167, 0.08240597695112228, 0.08490312844514847, 0.05244016647338867, 0.09988602995872498, 0.0948917344212532, 0.027468658983707428, 0.014982905238866806, 0.024971507489681244, 0.03995441272854805, 0.012485753744840622, 0.002497150795534253, 0.002497150795534253, 0.002497150795534253, 0.3855198621749878, 0.151871457695961, 0.0467296801507473, 0.04965028539299965, 0.0817769393324852, 0.09637996554374695, 0.01752362959086895, 0.0350472591817379, 0.0350472591817379, 0.0467296801507473, 0.0350472591817379, 0.011682420037686825, 0.002920605009421706, 0.002920605009421706, 0.002920605009421706, 0.2374226301908493, 0.21823696792125702, 0.1966530978679657, 0.081539086997509, 0.038371335715055466, 0.07674267143011093, 0.04796416684985161, 0.028778500854969025, 0.019185667857527733, 0.016787458211183548, 0.011991041712462902, 0.011991041712462902, 0.011991041712462902, 0.004796416964381933, 0.5991235971450806, 0.09459846466779709, 0.03153282031416893, 0.2207297533750534, 0.03153282031416893, 0.2670208215713501, 0.17165623605251312, 0.13351041078567505, 0.03178819268941879, 0.1049010381102562, 0.08582811802625656, 0.03496701270341873, 0.012715277262032032, 0.08582811802625656, 0.009536458179354668, 0.009536458179354668, 0.04768228903412819, 0.003178819315508008, 0.22963671386241913, 0.1863718181848526, 0.04326488822698593, 0.08819381147623062, 0.11814641952514648, 0.121474489569664, 0.07155346870422363, 0.0282885804772377, 0.038272783160209656, 0.018304375931620598, 0.038272783160209656, 0.001664034090936184, 0.011648238636553288, 0.004992102272808552, 0.16829665005207062, 0.270476758480072, 0.11269864439964294, 0.12321718782186508, 0.10518540441989899, 0.016529135406017303, 0.08414832502603531, 0.018031783401966095, 0.030052972957491875, 0.010518540628254414, 0.0345609188079834, 0.010518540628254414, 0.013523837551474571, 0.0015026485780254006, 0.09973709285259247, 0.864388108253479], \"Term\": [\"abbey\", \"abhorred\", \"abhorred\", \"abhorred\", \"abhorred\", \"abhorred\", \"abilities\", \"abilities\", \"abilities\", \"abilities\", \"accents\", \"accents\", \"accents\", \"accents\", \"accents\", \"accents\", \"accents\", \"accord\", \"accord\", \"accord\", \"accord\", \"acquaintances\", \"acquaintances\", \"acquaintances\", \"acquit\", \"acquit\", \"adele\", \"adele\", \"adele\", \"adele\", \"adele\", \"adele\", \"adieu\", \"adieu\", \"adieu\", \"admirable\", \"admirable\", \"admirable\", \"admirable\", \"admirable\", \"admirable\", \"admirable\", \"admire\", \"admire\", \"admire\", \"admire\", \"admire\", \"admire\", \"admire\", \"admire\", \"adopted\", \"adopted\", \"adopted\", \"adopted\", \"adopted\", \"adopted\", \"adopted\", \"affectionate\", \"affectionate\", \"affectionate\", \"affectionate\", \"affectionate\", \"affectionate\", \"affectionate\", \"affliction\", \"affliction\", \"affliction\", \"affliction\", \"allenham\", \"allenham\", \"allenham\", \"alley\", \"alley\", \"amiss\", \"amiss\", \"answer\", \"answer\", \"answer\", \"answer\", \"answer\", \"answer\", \"answer\", \"answer\", \"answer\", \"answer\", \"answer\", \"answer\", \"answer\", \"answer\", \"antipathy\", \"antipathy\", \"antipathy\", \"antipathy\", \"apple\", \"apple\", \"apple\", \"apple\", \"apple\", \"apples\", \"apples\", \"apples\", \"apples\", \"apprehensions\", \"apprehensions\", \"apprehensions\", \"apprehensions\", \"asks\", \"asks\", \"associations\", \"associations\", \"associations\", \"associations\", \"associations\", \"assurance\", \"assurance\", \"assurance\", \"assurance\", \"assurance\", \"assurance\", \"assurance\", \"attempting\", \"attempting\", \"attempting\", \"attempting\", \"attempting\", \"attempting\", \"attempting\", \"attempting\", \"attendance\", \"attendance\", \"attendance\", \"attendance\", \"attendance\", \"attendance\", \"attendance\", \"attendance\", \"attendance\", \"attract\", \"attract\", \"attract\", \"attract\", \"attract\", \"attract\", \"attribute\", \"attribute\", \"attribute\", \"attribute\", \"attribute\", \"attribute\", \"au\", \"au\", \"au\", \"au\", \"au\", \"au\", \"au\", \"audible\", \"audible\", \"audible\", \"audible\", \"audible\", \"audible\", \"audible\", \"audience\", \"audience\", \"audience\", \"audience\", \"audience\", \"aunt\", \"aunt\", \"aunt\", \"aunt\", \"aunt\", \"aunt\", \"aunt\", \"aunt\", \"aunt\", \"aunt\", \"aunt\", \"aversion\", \"aversion\", \"aversion\", \"aversion\", \"avoided\", \"avoided\", \"avoided\", \"avoided\", \"avoided\", \"away\", \"away\", \"away\", \"away\", \"away\", \"away\", \"away\", \"away\", \"away\", \"away\", \"away\", \"away\", \"away\", \"away\", \"away\", \"azure\", \"azure\", \"azure\", \"azure\", \"bade\", \"baked\", \"baked\", \"baked\", \"barton\", \"barton\", \"barton\", \"barton\", \"basket\", \"basket\", \"basket\", \"basket\", \"basket\", \"bassompierre\", \"bassompierre\", \"bassompierre\", \"bassompierre\", \"bassompierre\", \"bassompierre\", \"bassompierre\", \"bates\", \"bates\", \"bates\", \"beating\", \"beating\", \"beauties\", \"beauties\", \"beauties\", \"beauties\", \"beauties\", \"beauties\", \"beauties\", \"beauties\", \"beautifully\", \"beautifully\", \"beautifully\", \"beautifully\", \"beck\", \"beck\", \"beck\", \"beck\", \"beck\", \"beck\", \"begging\", \"begging\", \"begging\", \"begging\", \"begging\", \"begging\", \"belgian\", \"belgian\", \"belgian\", \"belgium\", \"belgium\", \"belgium\", \"belong\", \"belong\", \"belong\", \"belong\", \"benches\", \"bennet\", \"bennet\", \"bennet\", \"bennet\", \"bennet\", \"berkeley\", \"berkeley\", \"bessie\", \"bessie\", \"bessie\", \"better\", \"better\", \"better\", \"better\", \"better\", \"better\", \"better\", \"better\", \"better\", \"better\", \"better\", \"better\", \"better\", \"better\", \"better\", \"bidding\", \"bidding\", \"bidding\", \"bidding\", \"bien\", \"bien\", \"bien\", \"bien\", \"bingley\", \"bingley\", \"bingley\", \"black\", \"black\", \"black\", \"black\", \"black\", \"black\", \"black\", \"black\", \"black\", \"blanche\", \"blanche\", \"blanche\", \"blanche\", \"blanche\", \"blaze\", \"blunder\", \"blunder\", \"blunder\", \"blunder\", \"blunt\", \"blunt\", \"blunt\", \"blunt\", \"blunt\", \"boarders\", \"boarders\", \"body\", \"body\", \"body\", \"body\", \"body\", \"body\", \"body\", \"body\", \"body\", \"body\", \"body\", \"body\", \"bond\", \"bond\", \"bond\", \"bourgh\", \"bourgh\", \"bourgh\", \"boy\", \"boy\", \"boy\", \"boy\", \"boy\", \"boy\", \"boy\", \"boy\", \"boy\", \"boy\", \"brains\", \"brains\", \"brains\", \"brains\", \"brains\", \"brandon\", \"brandon\", \"brandon\", \"brandon\", \"bretton\", \"bretton\", \"bretton\", \"bretton\", \"bretton\", \"bretton\", \"bretton\", \"bride\", \"bride\", \"bride\", \"bride\", \"bride\", \"bright\", \"bright\", \"bright\", \"bright\", \"bright\", \"bright\", \"bright\", \"bright\", \"bright\", \"bright\", \"bright\", \"brighton\", \"broad\", \"broad\", \"broad\", \"broad\", \"broad\", \"broad\", \"brocklehurst\", \"brocklehurst\", \"brocklehurst\", \"brocklehurst\", \"brocklehurst\", \"brocklehurst\", \"brocklehurst\", \"brother\", \"brother\", \"brother\", \"brother\", \"brother\", \"brother\", \"brother\", \"brother\", \"brother\", \"brother\", \"brother\", \"brothers\", \"brothers\", \"brothers\", \"brothers\", \"brothers\", \"brothers\", \"brothers\", \"brothers\", \"brothers\", \"brothers\", \"brow\", \"brow\", \"brow\", \"brow\", \"brow\", \"brow\", \"brow\", \"brown\", \"brown\", \"brown\", \"brown\", \"brown\", \"brunswick\", \"brussels\", \"brussels\", \"brussels\", \"brussels\", \"burns\", \"burns\", \"burns\", \"burns\", \"busily\", \"busily\", \"busily\", \"busily\", \"busily\", \"calmness\", \"calmness\", \"calmness\", \"calmness\", \"calmness\", \"calmness\", \"calmness\", \"came\", \"came\", \"came\", \"came\", \"came\", \"came\", \"came\", \"came\", \"came\", \"came\", \"came\", \"came\", \"came\", \"came\", \"came\", \"campbell\", \"campbell\", \"campbell\", \"campbells\", \"campbells\", \"campbells\", \"candle\", \"candle\", \"candle\", \"caroline\", \"caroline\", \"caroline\", \"caroline\", \"case\", \"case\", \"case\", \"case\", \"case\", \"case\", \"case\", \"case\", \"case\", \"case\", \"case\", \"case\", \"case\", \"case\", \"cat\", \"cat\", \"cat\", \"catching\", \"catching\", \"catching\", \"catching\", \"catching\", \"catching\", \"catching\", \"catherine\", \"catherine\", \"catherine\", \"catherine\", \"catherine\", \"ce\", \"ce\", \"ce\", \"ce\", \"ce\", \"ce\", \"cela\", \"cela\", \"cela\", \"cela\", \"certain\", \"certain\", \"certain\", \"certain\", \"certain\", \"certain\", \"certain\", \"certain\", \"certain\", \"certain\", \"certain\", \"certain\", \"certain\", \"certain\", \"certain\", \"chamber\", \"chamber\", \"chamber\", \"chamber\", \"chamber\", \"chamber\", \"chamber\", \"chamber\", \"chamber\", \"chamber\", \"chambers\", \"chambers\", \"chambers\", \"chambers\", \"chambers\", \"chambers\", \"character\", \"character\", \"character\", \"character\", \"character\", \"character\", \"character\", \"character\", \"character\", \"character\", \"character\", \"character\", \"character\", \"charlotte\", \"charlotte\", \"charlotte\", \"charlotte\", \"charlotte\", \"charlotte\", \"charlotte\", \"charlotte\", \"charlotte\", \"cheerfulness\", \"cheerfulness\", \"cheerfulness\", \"cheerfulness\", \"cheerfulness\", \"cheerfulness\", \"cheerfulness\", \"child\", \"child\", \"child\", \"child\", \"child\", \"child\", \"child\", \"child\", \"child\", \"child\", \"child\", \"child\", \"child\", \"chin\", \"chin\", \"chin\", \"chin\", \"chin\", \"chin\", \"cholmondeley\", \"cholmondeley\", \"cholmondeley\", \"cholmondeley\", \"churchill\", \"churchill\", \"churchill\", \"chuse\", \"chuse\", \"classe\", \"classe\", \"classe\", \"classe\", \"clergyman\", \"clergyman\", \"clergyman\", \"clergyman\", \"clergyman\", \"clergyman\", \"clergyman\", \"cleveland\", \"cleveland\", \"cleveland\", \"coat\", \"coat\", \"coat\", \"coat\", \"coat\", \"coat\", \"cole\", \"cole\", \"collins\", \"collins\", \"collins\", \"colonel\", \"colonel\", \"colonel\", \"colonel\", \"colonel\", \"colonel\", \"colonel\", \"colonel\", \"colonel\", \"colonel\", \"colonel\", \"combe\", \"combe\", \"combe\", \"combe\", \"come\", \"come\", \"come\", \"come\", \"come\", \"come\", \"come\", \"come\", \"come\", \"come\", \"come\", \"come\", \"come\", \"come\", \"come\", \"comme\", \"comme\", \"comme\", \"comme\", \"comme\", \"compact\", \"compact\", \"compact\", \"compact\", \"compact\", \"comprised\", \"comprised\", \"comprised\", \"comprised\", \"comprised\", \"comprised\", \"concert\", \"concert\", \"concert\", \"concert\", \"concert\", \"condemn\", \"condemn\", \"condemn\", \"condemn\", \"condemn\", \"condescension\", \"condescension\", \"condescension\", \"confession\", \"confession\", \"confession\", \"confession\", \"confession\", \"confession\", \"confession\", \"confession\", \"confession\", \"connexion\", \"connexion\", \"considerations\", \"considerations\", \"considerations\", \"considerations\", \"considerations\", \"conversing\", \"conversing\", \"conversing\", \"conversing\", \"conversing\", \"convincing\", \"convincing\", \"convincing\", \"convincing\", \"convincing\", \"copy\", \"copy\", \"copy\", \"copy\", \"copy\", \"copy\", \"copy\", \"couch\", \"couch\", \"couch\", \"couch\", \"course\", \"course\", \"course\", \"course\", \"course\", \"course\", \"course\", \"course\", \"course\", \"course\", \"course\", \"course\", \"course\", \"courteous\", \"courteous\", \"courteous\", \"courteous\", \"courteous\", \"courteous\", \"cups\", \"cups\", \"cups\", \"cups\", \"curls\", \"curls\", \"curls\", \"curls\", \"curls\", \"curls\", \"dancing\", \"dancing\", \"dancing\", \"dancing\", \"dancing\", \"dancing\", \"dancing\", \"dancing\", \"darcy\", \"darcy\", \"darcy\", \"darcy\", \"darcy\", \"dark\", \"dark\", \"dark\", \"dark\", \"dark\", \"dark\", \"dark\", \"dark\", \"dark\", \"dark\", \"dark\", \"dark\", \"dashwood\", \"dashwood\", \"dashwood\", \"dashwood\", \"dashwood\", \"dashwoods\", \"dashwoods\", \"dashwoods\", \"dashwoods\", \"daughter\", \"daughter\", \"daughter\", \"daughter\", \"daughter\", \"daughter\", \"daughter\", \"daughter\", \"daughter\", \"daughter\", \"daughter\", \"daughter\", \"day\", \"day\", \"day\", \"day\", \"day\", \"day\", \"day\", \"day\", \"day\", \"day\", \"day\", \"day\", \"day\", \"day\", \"day\", \"deaf\", \"deaf\", \"deaf\", \"dear\", \"dear\", \"dear\", \"dear\", \"dear\", \"dear\", \"dear\", \"dear\", \"dear\", \"dear\", \"dear\", \"dear\", \"dear\", \"death\", \"death\", \"death\", \"death\", \"death\", \"death\", \"death\", \"death\", \"death\", \"death\", \"death\", \"death\", \"death\", \"deep\", \"deep\", \"deep\", \"deep\", \"deep\", \"deep\", \"deep\", \"deep\", \"deep\", \"deep\", \"deep\", \"deep\", \"deep\", \"deep\", \"defined\", \"defined\", \"defined\", \"defined\", \"definite\", \"definite\", \"definite\", \"defy\", \"defy\", \"defy\", \"defy\", \"defy\", \"delaford\", \"delaford\", \"delightfully\", \"delightfully\", \"delightfully\", \"delightfully\", \"delightfully\", \"demoiselles\", \"demoiselles\", \"demoiselles\", \"demon\", \"demon\", \"dent\", \"dent\", \"deprived\", \"deprived\", \"deprived\", \"deprived\", \"deprived\", \"derbyshire\", \"derbyshire\", \"derbyshire\", \"desks\", \"despite\", \"detain\", \"detain\", \"detain\", \"detain\", \"detain\", \"dew\", \"dew\", \"dew\", \"diana\", \"diana\", \"diana\", \"diana\", \"die\", \"die\", \"die\", \"die\", \"die\", \"die\", \"die\", \"die\", \"die\", \"die\", \"dim\", \"dim\", \"dim\", \"dining\", \"dining\", \"dining\", \"dining\", \"dining\", \"dining\", \"dining\", \"dining\", \"dining\", \"dining\", \"dinner\", \"dinner\", \"dinner\", \"dinner\", \"dinner\", \"dinner\", \"dinner\", \"dinner\", \"dinner\", \"dinner\", \"dinner\", \"dinner\", \"dinner\", \"dint\", \"dint\", \"dint\", \"dint\", \"directly\", \"directly\", \"directly\", \"directly\", \"directly\", \"directly\", \"directly\", \"directly\", \"directly\", \"directly\", \"directly\", \"directly\", \"director\", \"director\", \"director\", \"director\", \"directress\", \"directress\", \"directress\", \"directress\", \"directress\", \"discovering\", \"discovering\", \"discovering\", \"discovering\", \"discovering\", \"discussed\", \"discussed\", \"discussed\", \"discussed\", \"discussed\", \"discussed\", \"dit\", \"dit\", \"dit\", \"dit\", \"dit\", \"dixon\", \"dixon\", \"dixon\", \"doll\", \"doll\", \"doll\", \"donwell\", \"door\", \"door\", \"door\", \"door\", \"door\", \"door\", \"door\", \"door\", \"door\", \"door\", \"door\", \"door\", \"door\", \"door\", \"dormitory\", \"dormitory\", \"dormitory\", \"dozen\", \"dozen\", \"dozen\", \"dozen\", \"dozen\", \"dozen\", \"dozen\", \"dozen\", \"dr\", \"dr\", \"dr\", \"dr\", \"dr\", \"dr\", \"dr\", \"dr\", \"dr\", \"drawers\", \"drawers\", \"drawers\", \"drawers\", \"drawing\", \"drawing\", \"drawing\", \"drawing\", \"drawing\", \"drawing\", \"drawing\", \"drawing\", \"drawing\", \"drawing\", \"drawing\", \"drawing\", \"dreams\", \"dreams\", \"dumb\", \"dumb\", \"dumb\", \"dumb\", \"dumb\", \"education\", \"education\", \"education\", \"education\", \"education\", \"education\", \"education\", \"education\", \"education\", \"education\", \"education\", \"edward\", \"edward\", \"edward\", \"edward\", \"edward\", \"edward\", \"edward\", \"edward\", \"edward\", \"edward\", \"effect\", \"effect\", \"effect\", \"effect\", \"effect\", \"effect\", \"effect\", \"effect\", \"effect\", \"effect\", \"effect\", \"effected\", \"effected\", \"effected\", \"effected\", \"eighteen\", \"eighteen\", \"eighteen\", \"eighteen\", \"eighteen\", \"eighteen\", \"eighteen\", \"elf\", \"elf\", \"elf\", \"elf\", \"elf\", \"elinor\", \"elinor\", \"elinor\", \"elinor\", \"elinor\", \"elinor\", \"eliza\", \"eliza\", \"eliza\", \"eliza\", \"eliza\", \"eliza\", \"eliza\", \"elizabeth\", \"elizabeth\", \"elizabeth\", \"elizabeth\", \"elizabeth\", \"elizabeth\", \"elizabeth\", \"elle\", \"elle\", \"elle\", \"elle\", \"elle\", \"elton\", \"elton\", \"elton\", \"eltons\", \"eltons\", \"emanuel\", \"emanuel\", \"emanuel\", \"emanuel\", \"emanuel\", \"emma\", \"emma\", \"emma\", \"emma\", \"emma\", \"en\", \"en\", \"en\", \"en\", \"en\", \"en\", \"en\", \"en\", \"energies\", \"energies\", \"energies\", \"energies\", \"energies\", \"engagement\", \"engagement\", \"engagement\", \"engagement\", \"engagement\", \"engagement\", \"england\", \"england\", \"england\", \"england\", \"england\", \"england\", \"england\", \"england\", \"england\", \"england\", \"england\", \"england\", \"english\", \"english\", \"english\", \"english\", \"english\", \"english\", \"english\", \"english\", \"english\", \"english\", \"enjoyed\", \"enjoyed\", \"enjoyed\", \"enjoyed\", \"enjoyed\", \"enjoyed\", \"enscombe\", \"enscombe\", \"equally\", \"equally\", \"equally\", \"equally\", \"equally\", \"equally\", \"equally\", \"equally\", \"equally\", \"equally\", \"equally\", \"ere\", \"ere\", \"ere\", \"ere\", \"ere\", \"ere\", \"ere\", \"ere\", \"ere\", \"ere\", \"eshton\", \"eshton\", \"est\", \"est\", \"est\", \"est\", \"est\", \"est\", \"establishment\", \"establishment\", \"establishment\", \"establishment\", \"establishment\", \"establishment\", \"establishment\", \"establishment\", \"establishment\", \"establishment\", \"establishment\", \"establishment\", \"estimate\", \"estimate\", \"estimate\", \"estimate\", \"estrade\", \"estrade\", \"estrade\", \"estrade\", \"et\", \"et\", \"et\", \"et\", \"et\", \"et\", \"et\", \"et\", \"et\", \"evening\", \"evening\", \"evening\", \"evening\", \"evening\", \"evening\", \"evening\", \"evening\", \"evening\", \"evening\", \"evening\", \"evening\", \"evening\", \"evening\", \"evening\", \"eventually\", \"eventually\", \"eventually\", \"eventually\", \"eventually\", \"evinced\", \"evinced\", \"evinced\", \"evinced\", \"evinced\", \"examination\", \"examination\", \"examination\", \"examination\", \"examination\", \"examination\", \"examination\", \"examination\", \"exceedingly\", \"exceedingly\", \"exceedingly\", \"exceedingly\", \"exceedingly\", \"excess\", \"excess\", \"excess\", \"excess\", \"excess\", \"excess\", \"excursion\", \"excursion\", \"excursion\", \"excursion\", \"excursion\", \"exeter\", \"exeter\", \"existence\", \"existence\", \"existence\", \"existence\", \"existence\", \"existence\", \"existence\", \"existence\", \"existence\", \"existence\", \"existence\", \"expenses\", \"expenses\", \"eye\", \"eye\", \"eye\", \"eye\", \"eye\", \"eye\", \"eye\", \"eye\", \"eye\", \"eye\", \"eye\", \"eye\", \"eye\", \"eye\", \"eye\", \"eyes\", \"eyes\", \"eyes\", \"eyes\", \"eyes\", \"eyes\", \"eyes\", \"eyes\", \"eyes\", \"eyes\", \"eyes\", \"eyes\", \"eyes\", \"eyes\", \"eyes\", \"eyre\", \"eyre\", \"eyre\", \"eyre\", \"eyre\", \"eyre\", \"face\", \"face\", \"face\", \"face\", \"face\", \"face\", \"face\", \"face\", \"face\", \"face\", \"face\", \"face\", \"face\", \"face\", \"faculties\", \"faculties\", \"faculties\", \"faculties\", \"fairfax\", \"fairfax\", \"fairfax\", \"fairfax\", \"fairfax\", \"fairfax\", \"fairfax\", \"fairy\", \"fairy\", \"fairy\", \"fairy\", \"fairy\", \"fairy\", \"fairy\", \"fait\", \"fait\", \"family\", \"family\", \"family\", \"family\", \"family\", \"family\", \"family\", \"family\", \"family\", \"family\", \"family\", \"family\", \"family\", \"family\", \"fanny\", \"fanny\", \"fanshawe\", \"fanshawe\", \"fanshawe\", \"fanshawe\", \"fanshawe\", \"fanshawe\", \"fanshawe\", \"fat\", \"fat\", \"fat\", \"fat\", \"fat\", \"fat\", \"fat\", \"father\", \"father\", \"father\", \"father\", \"father\", \"father\", \"father\", \"father\", \"father\", \"father\", \"father\", \"father\", \"father\", \"featured\", \"featured\", \"february\", \"february\", \"february\", \"february\", \"february\", \"february\", \"february\", \"feed\", \"feed\", \"feed\", \"feed\", \"feed\", \"feel\", \"feel\", \"feel\", \"feel\", \"feel\", \"feel\", \"feel\", \"feel\", \"feel\", \"feel\", \"feel\", \"feel\", \"feel\", \"feel\", \"felt\", \"felt\", \"felt\", \"felt\", \"felt\", \"felt\", \"felt\", \"felt\", \"felt\", \"felt\", \"felt\", \"felt\", \"felt\", \"felt\", \"ferrars\", \"ferrars\", \"ferrars\", \"fete\", \"fete\", \"fete\", \"fewer\", \"fewer\", \"fewer\", \"fewer\", \"fewer\", \"filled\", \"filled\", \"filled\", \"filled\", \"filled\", \"filled\", \"filled\", \"filled\", \"filled\", \"filled\", \"fitzwilliam\", \"fitzwilliam\", \"flash\", \"flash\", \"flash\", \"flash\", \"flat\", \"flat\", \"flat\", \"flat\", \"flat\", \"flat\", \"flemish\", \"flemish\", \"flemish\", \"fly\", \"fly\", \"fly\", \"fly\", \"fly\", \"flying\", \"flying\", \"flying\", \"flying\", \"flying\", \"fondly\", \"fondly\", \"fondly\", \"fondly\", \"forgiveness\", \"forgiveness\", \"forgiveness\", \"forster\", \"forster\", \"fortunes\", \"fortunes\", \"fortunes\", \"fortunes\", \"fortunes\", \"founded\", \"founded\", \"founded\", \"frances\", \"frances\", \"frances\", \"francs\", \"francs\", \"francs\", \"francs\", \"frank\", \"frank\", \"frank\", \"frank\", \"frank\", \"frank\", \"frank\", \"freedom\", \"freedom\", \"freedom\", \"freedom\", \"freedom\", \"freedom\", \"freedom\", \"freedom\", \"freedom\", \"french\", \"french\", \"french\", \"french\", \"french\", \"french\", \"french\", \"french\", \"french\", \"friend\", \"friend\", \"friend\", \"friend\", \"friend\", \"friend\", \"friend\", \"friend\", \"friend\", \"friend\", \"friend\", \"friend\", \"friend\", \"frightful\", \"frightful\", \"frightful\", \"frivolous\", \"frivolous\", \"frivolous\", \"frivolous\", \"frivolous\", \"frock\", \"frock\", \"frock\", \"fully\", \"fully\", \"fully\", \"fully\", \"fully\", \"fully\", \"fully\", \"fully\", \"fully\", \"fully\", \"fully\", \"gallery\", \"gallery\", \"gallery\", \"gallery\", \"garden\", \"garden\", \"garden\", \"garden\", \"garden\", \"garden\", \"garden\", \"garden\", \"garden\", \"garden\", \"garden\", \"garden\", \"gardiner\", \"gardiner\", \"gardiner\", \"gardiner\", \"gateshead\", \"gateshead\", \"gateshead\", \"gem\", \"gentlemen\", \"gentlemen\", \"gentlemen\", \"gentlemen\", \"gentlemen\", \"gentlemen\", \"gentlemen\", \"gentlemen\", \"gentlemen\", \"gentlemen\", \"gentlemen\", \"gentlemen\", \"georgiana\", \"georgiana\", \"georgiana\", \"georgiana\", \"georgiana\", \"georgiana\", \"ghastly\", \"ginevra\", \"ginevra\", \"ginevra\", \"ginevra\", \"ginevra\", \"ginevra\", \"ginevra\", \"gleam\", \"gleam\", \"gleam\", \"god\", \"god\", \"god\", \"god\", \"god\", \"god\", \"god\", \"god\", \"god\", \"god\", \"god\", \"god\", \"goddard\", \"goddard\", \"godmother\", \"godmother\", \"godmother\", \"godmother\", \"godmother\", \"gold\", \"gold\", \"gold\", \"gold\", \"gold\", \"gold\", \"gold\", \"golden\", \"golden\", \"golden\", \"golden\", \"golden\", \"got\", \"got\", \"got\", \"got\", \"got\", \"got\", \"got\", \"got\", \"got\", \"got\", \"got\", \"got\", \"got\", \"got\", \"governess\", \"governess\", \"governess\", \"governess\", \"governess\", \"governess\", \"governess\", \"governess\", \"governess\", \"graham\", \"graham\", \"graham\", \"graham\", \"graham\", \"graham\", \"graham\", \"great\", \"great\", \"great\", \"great\", \"great\", \"great\", \"great\", \"great\", \"great\", \"great\", \"great\", \"great\", \"great\", \"great\", \"green\", \"green\", \"green\", \"green\", \"green\", \"green\", \"green\", \"green\", \"green\", \"green\", \"half\", \"half\", \"half\", \"half\", \"half\", \"half\", \"half\", \"half\", \"half\", \"half\", \"half\", \"half\", \"half\", \"half\", \"half\", \"hall\", \"hall\", \"hall\", \"hall\", \"hall\", \"hall\", \"hall\", \"hall\", \"hall\", \"hall\", \"hamal\", \"hamal\", \"hamal\", \"hamal\", \"hamal\", \"hand\", \"hand\", \"hand\", \"hand\", \"hand\", \"hand\", \"hand\", \"hand\", \"hand\", \"hand\", \"hand\", \"hand\", \"hand\", \"hand\", \"hand\", \"hardened\", \"hardened\", \"hardened\", \"hardened\", \"harley\", \"harriet\", \"harriet\", \"harriet\", \"harriet\", \"harriet\", \"harriet\", \"harriet\", \"hartfield\", \"hartfield\", \"hate\", \"hate\", \"hate\", \"hate\", \"hate\", \"hate\", \"hate\", \"hate\", \"hate\", \"hate\", \"hate\", \"having\", \"having\", \"having\", \"having\", \"having\", \"having\", \"having\", \"having\", \"having\", \"having\", \"having\", \"having\", \"having\", \"hay\", \"hay\", \"hay\", \"hay\", \"hay\", \"hear\", \"hear\", \"hear\", \"hear\", \"hear\", \"hear\", \"hear\", \"hear\", \"hear\", \"hear\", \"hear\", \"hear\", \"hear\", \"hear\", \"hear\", \"heard\", \"heard\", \"heard\", \"heard\", \"heard\", \"heard\", \"heard\", \"heard\", \"heard\", \"heard\", \"heard\", \"heard\", \"heard\", \"heard\", \"heart\", \"heart\", \"heart\", \"heart\", \"heart\", \"heart\", \"heart\", \"heart\", \"heart\", \"heart\", \"heart\", \"heart\", \"heart\", \"heart\", \"helen\", \"helen\", \"helen\", \"hell\", \"hell\", \"hell\", \"henri\", \"henri\", \"henri\", \"hero\", \"hero\", \"hero\", \"hero\", \"hero\", \"hero\", \"hertfordshire\", \"hertfordshire\", \"highbury\", \"highbury\", \"holidays\", \"holidays\", \"holidays\", \"holidays\", \"holidays\", \"home\", \"home\", \"home\", \"home\", \"home\", \"home\", \"home\", \"home\", \"home\", \"home\", \"home\", \"home\", \"home\", \"home\", \"home\", \"homely\", \"homely\", \"homely\", \"homely\", \"hope\", \"hope\", \"hope\", \"hope\", \"hope\", \"hope\", \"hope\", \"hope\", \"hope\", \"hope\", \"hope\", \"hope\", \"hope\", \"horn\", \"horn\", \"horn\", \"horn\", \"horses\", \"horses\", \"horses\", \"horses\", \"horses\", \"horses\", \"horses\", \"hour\", \"hour\", \"hour\", \"hour\", \"hour\", \"hour\", \"hour\", \"hour\", \"hour\", \"hour\", \"hour\", \"hour\", \"hour\", \"hour\", \"hour\", \"house\", \"house\", \"house\", \"house\", \"house\", \"house\", \"house\", \"house\", \"house\", \"house\", \"house\", \"house\", \"house\", \"house\", \"hungry\", \"hungry\", \"hungry\", \"hungry\", \"hungry\", \"hungry\", \"hungry\", \"hunsden\", \"hunsden\", \"hunsden\", \"hunsden\", \"hunsden\", \"hunsford\", \"hunsford\", \"hunsford\", \"hurst\", \"hurst\", \"il\", \"il\", \"il\", \"il\", \"il\", \"immediately\", \"immediately\", \"immediately\", \"immediately\", \"immediately\", \"immediately\", \"immediately\", \"immediately\", \"immediately\", \"immediately\", \"immediately\", \"impart\", \"impart\", \"impudence\", \"impudence\", \"impudence\", \"impudence\", \"impudence\", \"impudence\", \"income\", \"income\", \"income\", \"income\", \"income\", \"income\", \"income\", \"india\", \"india\", \"india\", \"inform\", \"inform\", \"inform\", \"inform\", \"inform\", \"ingram\", \"ingram\", \"ingram\", \"ingram\", \"ingram\", \"innocence\", \"innocence\", \"innocence\", \"instantly\", \"instantly\", \"instantly\", \"instantly\", \"instantly\", \"instantly\", \"instantly\", \"instantly\", \"instantly\", \"instantly\", \"instantly\", \"instantly\", \"instruction\", \"instruction\", \"instruction\", \"instruction\", \"instruction\", \"instrument\", \"instrument\", \"instrument\", \"instrument\", \"instrument\", \"instrument\", \"instrument\", \"instrument\", \"ireland\", \"ireland\", \"ireland\", \"ireland\", \"iron\", \"iron\", \"iron\", \"isabella\", \"isabella\", \"ivy\", \"jane\", \"jane\", \"jane\", \"jane\", \"jane\", \"jane\", \"jane\", \"jane\", \"jane\", \"jane\", \"jane\", \"jane\", \"janet\", \"janet\", \"janet\", \"je\", \"je\", \"je\", \"je\", \"je\", \"jennings\", \"jennings\", \"jennings\", \"jennings\", \"jeune\", \"jeune\", \"jeune\", \"john\", \"john\", \"john\", \"john\", \"john\", \"john\", \"john\", \"john\", \"john\", \"john\", \"john\", \"john\", \"john\", \"joyous\", \"joyous\", \"joyous\", \"judgement\", \"judgement\", \"kent\", \"kent\", \"kitty\", \"kitty\", \"kitty\", \"kitty\", \"knew\", \"knew\", \"knew\", \"knew\", \"knew\", \"knew\", \"knew\", \"knew\", \"knew\", \"knew\", \"knew\", \"knew\", \"knew\", \"knew\", \"knew\", \"knightley\", \"knightley\", \"knightley\", \"knot\", \"know\", \"know\", \"know\", \"know\", \"know\", \"know\", \"know\", \"know\", \"know\", \"know\", \"know\", \"know\", \"know\", \"labassecour\", \"labassecour\", \"labassecour\", \"lace\", \"lace\", \"lace\", \"lace\", \"lace\", \"lace\", \"lace\", \"lace\", \"lad\", \"lad\", \"lad\", \"lad\", \"ladies\", \"ladies\", \"ladies\", \"ladies\", \"ladies\", \"ladies\", \"ladies\", \"ladies\", \"ladies\", \"ladies\", \"ladies\", \"ladies\", \"lady\", \"lady\", \"lady\", \"lady\", \"lady\", \"lady\", \"lady\", \"lady\", \"lady\", \"lady\", \"lady\", \"lady\", \"lady\", \"lady\", \"ladyship\", \"ladyship\", \"ladyship\", \"ladyship\", \"ladyship\", \"lamp\", \"lamp\", \"lamp\", \"lamp\", \"lamp\", \"lamp\", \"languid\", \"languid\", \"languid\", \"languid\", \"lapse\", \"lapse\", \"lapse\", \"lapse\", \"lapse\", \"lattice\", \"lattice\", \"lattice\", \"lay\", \"lay\", \"lay\", \"lay\", \"lay\", \"lay\", \"lay\", \"lay\", \"lay\", \"lay\", \"lay\", \"lay\", \"lay\", \"lay\", \"leah\", \"leah\", \"left\", \"left\", \"left\", \"left\", \"left\", \"left\", \"left\", \"left\", \"left\", \"left\", \"left\", \"left\", \"left\", \"left\", \"left\", \"les\", \"les\", \"les\", \"les\", \"les\", \"lessons\", \"lessons\", \"lessons\", \"lessons\", \"lessons\", \"lessons\", \"let\", \"let\", \"let\", \"let\", \"let\", \"let\", \"let\", \"let\", \"let\", \"let\", \"let\", \"let\", \"let\", \"let\", \"let\", \"letter\", \"letter\", \"letter\", \"letter\", \"letter\", \"letter\", \"letter\", \"letter\", \"letter\", \"letter\", \"letter\", \"letter\", \"letter\", \"letters\", \"letters\", \"letters\", \"letters\", \"letters\", \"letters\", \"letters\", \"letters\", \"letters\", \"letters\", \"letters\", \"letters\", \"liberality\", \"liberality\", \"liberality\", \"liberality\", \"liberality\", \"lid\", \"life\", \"life\", \"life\", \"life\", \"life\", \"life\", \"life\", \"life\", \"life\", \"life\", \"life\", \"life\", \"life\", \"life\", \"light\", \"light\", \"light\", \"light\", \"light\", \"light\", \"light\", \"light\", \"light\", \"light\", \"light\", \"light\", \"light\", \"light\", \"lightly\", \"lightly\", \"lightly\", \"lightly\", \"like\", \"like\", \"like\", \"like\", \"like\", \"like\", \"like\", \"like\", \"like\", \"like\", \"like\", \"like\", \"like\", \"like\", \"like\", \"liked\", \"liked\", \"liked\", \"liked\", \"liked\", \"liked\", \"liked\", \"liked\", \"liked\", \"liked\", \"liked\", \"liked\", \"liked\", \"liked\", \"lips\", \"lips\", \"lips\", \"lips\", \"lips\", \"lips\", \"lips\", \"lips\", \"lips\", \"lips\", \"lips\", \"lips\", \"lips\", \"live\", \"live\", \"live\", \"live\", \"live\", \"live\", \"live\", \"live\", \"live\", \"live\", \"live\", \"live\", \"live\", \"live\", \"lizzy\", \"lizzy\", \"lizzy\", \"lizzy\", \"ll\", \"ll\", \"ll\", \"ll\", \"ll\", \"ll\", \"ll\", \"ll\", \"ll\", \"ll\", \"long\", \"long\", \"long\", \"long\", \"long\", \"long\", \"long\", \"long\", \"long\", \"long\", \"long\", \"long\", \"long\", \"long\", \"long\", \"longbourn\", \"longbourn\", \"look\", \"look\", \"look\", \"look\", \"look\", \"look\", \"look\", \"look\", \"look\", \"look\", \"look\", \"look\", \"look\", \"look\", \"look\", \"looked\", \"looked\", \"looked\", \"looked\", \"looked\", \"looked\", \"looked\", \"looked\", \"looked\", \"looked\", \"looked\", \"looked\", \"looked\", \"looked\", \"looked\", \"louisa\", \"louisa\", \"louisa\", \"louisa\", \"louisa\", \"love\", \"love\", \"love\", \"love\", \"love\", \"love\", \"love\", \"love\", \"love\", \"love\", \"love\", \"love\", \"love\", \"lovers\", \"lovers\", \"lovers\", \"lovers\", \"lovers\", \"lowood\", \"lowood\", \"lowood\", \"lowood\", \"lowood\", \"lowood\", \"lowood\", \"lucas\", \"lucas\", \"lucases\", \"lucases\", \"lucky\", \"lucky\", \"lucky\", \"lucky\", \"lucky\", \"lucy\", \"lucy\", \"lucy\", \"lucy\", \"lucy\", \"lucy\", \"lucy\", \"lucy\", \"lucy\", \"lucy\", \"lucy\", \"lydia\", \"lydia\", \"lydia\", \"lynn\", \"lynn\", \"lynn\", \"madame\", \"madame\", \"madame\", \"madame\", \"madame\", \"madame\", \"madame\", \"madame\", \"madame\", \"mademoiselle\", \"mademoiselle\", \"mademoiselle\", \"mademoiselle\", \"mademoiselle\", \"mademoiselle\", \"mademoiselle\", \"main\", \"main\", \"main\", \"main\", \"main\", \"maitresse\", \"maitresse\", \"mama\", \"mama\", \"mama\", \"mama\", \"mama\", \"mama\", \"mamma\", \"mamma\", \"mamma\", \"mamma\", \"mamma\", \"mamma\", \"mamma\", \"mamma\", \"mamma\", \"mamma\", \"mamma\", \"man\", \"man\", \"man\", \"man\", \"man\", \"man\", \"man\", \"man\", \"man\", \"man\", \"man\", \"man\", \"man\", \"manner\", \"manner\", \"manner\", \"manner\", \"manner\", \"manner\", \"manner\", \"manner\", \"manner\", \"manner\", \"manner\", \"manner\", \"manner\", \"manner\", \"maple\", \"maple\", \"maple\", \"margaret\", \"margaret\", \"margaret\", \"margaret\", \"maria\", \"maria\", \"maria\", \"maria\", \"maria\", \"marianne\", \"marianne\", \"marianne\", \"marianne\", \"marianne\", \"marriage\", \"marriage\", \"marriage\", \"marriage\", \"marriage\", \"marriage\", \"marriage\", \"marriage\", \"marriage\", \"marriage\", \"marriage\", \"married\", \"married\", \"married\", \"married\", \"married\", \"married\", \"married\", \"married\", \"married\", \"married\", \"married\", \"married\", \"married\", \"martin\", \"mary\", \"mary\", \"mary\", \"mary\", \"mary\", \"mary\", \"mary\", \"mary\", \"mason\", \"mason\", \"mason\", \"massive\", \"massive\", \"master\", \"master\", \"master\", \"master\", \"master\", \"master\", \"master\", \"master\", \"master\", \"master\", \"master\", \"master\", \"master\", \"masters\", \"masters\", \"masters\", \"masters\", \"masters\", \"masters\", \"mdlle\", \"mdlle\", \"mdlle\", \"meadows\", \"meadows\", \"meadows\", \"meadows\", \"meadows\", \"meadows\", \"mercy\", \"mercy\", \"mercy\", \"mercy\", \"mercy\", \"mercy\", \"mercy\", \"meryton\", \"meryton\", \"middleton\", \"middleton\", \"middleton\", \"middleton\", \"middletons\", \"middletons\", \"middletons\", \"middletons\", \"millcote\", \"millcote\", \"millcote\", \"millcote\", \"millcote\", \"mind\", \"mind\", \"mind\", \"mind\", \"mind\", \"mind\", \"mind\", \"mind\", \"mind\", \"mind\", \"mind\", \"mind\", \"mind\", \"mind\", \"mind\", \"misery\", \"misery\", \"misery\", \"misery\", \"misery\", \"misery\", \"misery\", \"misery\", \"miss\", \"miss\", \"miss\", \"miss\", \"miss\", \"miss\", \"miss\", \"miss\", \"miss\", \"miss\", \"miss\", \"miss\", \"miss\", \"miss\", \"miss\", \"misses\", \"misses\", \"misses\", \"misses\", \"missis\", \"moment\", \"moment\", \"moment\", \"moment\", \"moment\", \"moment\", \"moment\", \"moment\", \"moment\", \"moment\", \"moment\", \"moment\", \"moment\", \"moment\", \"monsieur\", \"monsieur\", \"monsieur\", \"monsieur\", \"monsieur\", \"monsieur\", \"monsieur\", \"moon\", \"moon\", \"moon\", \"moon\", \"moon\", \"moon\", \"moon\", \"moon\", \"morning\", \"morning\", \"morning\", \"morning\", \"morning\", \"morning\", \"morning\", \"morning\", \"morning\", \"morning\", \"morning\", \"morning\", \"morning\", \"morning\", \"mother\", \"mother\", \"mother\", \"mother\", \"mother\", \"mother\", \"mother\", \"mother\", \"mother\", \"mother\", \"mother\", \"mother\", \"mother\", \"motherly\", \"motherly\", \"motherly\", \"motherly\", \"motherly\", \"mountain\", \"murmur\", \"murmur\", \"murmur\", \"mysterious\", \"mysterious\", \"mysterious\", \"mysterious\", \"mysterious\", \"naughty\", \"naughty\", \"naughty\", \"ne\", \"ne\", \"ne\", \"ne\", \"need\", \"need\", \"need\", \"need\", \"need\", \"need\", \"need\", \"need\", \"need\", \"need\", \"need\", \"need\", \"need\", \"netherfield\", \"netherfield\", \"new\", \"new\", \"new\", \"new\", \"new\", \"new\", \"new\", \"new\", \"new\", \"new\", \"new\", \"new\", \"new\", \"new\", \"new\", \"night\", \"night\", \"night\", \"night\", \"night\", \"night\", \"night\", \"night\", \"night\", \"night\", \"night\", \"night\", \"night\", \"night\", \"night\", \"nineteen\", \"nineteen\", \"nineteen\", \"nineteen\", \"nineteen\", \"nineteen\", \"nodded\", \"nodded\", \"nodded\", \"nodded\", \"nodded\", \"norland\", \"norland\", \"nun\", \"nun\", \"nun\", \"nun\", \"nursery\", \"nursery\", \"nursery\", \"nursery\", \"nursery\", \"nursery\", \"obliging\", \"obliging\", \"obliging\", \"obliging\", \"obliging\", \"obliging\", \"obliging\", \"observant\", \"observant\", \"observant\", \"observant\", \"observant\", \"observant\", \"observant\", \"officers\", \"officers\", \"oh\", \"oh\", \"oh\", \"oh\", \"oh\", \"oh\", \"oh\", \"oh\", \"oh\", \"oh\", \"oh\", \"oh\", \"oh\", \"oh\", \"oh\", \"old\", \"old\", \"old\", \"old\", \"old\", \"old\", \"old\", \"old\", \"old\", \"old\", \"old\", \"old\", \"old\", \"old\", \"opposition\", \"opposition\", \"opposition\", \"opposition\", \"opposition\", \"opposition\", \"order\", \"order\", \"order\", \"order\", \"order\", \"order\", \"order\", \"order\", \"order\", \"order\", \"order\", \"order\", \"order\", \"ornament\", \"ornament\", \"ornament\", \"ornament\", \"ornament\", \"ornament\", \"orphan\", \"orphan\", \"orphan\", \"orphan\", \"orphan\", \"orphan\", \"orphan\", \"oui\", \"oui\", \"oui\", \"oui\", \"oxford\", \"oxford\", \"pain\", \"pain\", \"pain\", \"pain\", \"pain\", \"pain\", \"pain\", \"pain\", \"pain\", \"pain\", \"pain\", \"pain\", \"painfully\", \"painfully\", \"painfully\", \"painfully\", \"pale\", \"pale\", \"pale\", \"pale\", \"pale\", \"pale\", \"pale\", \"pale\", \"pale\", \"pale\", \"pale\", \"palmer\", \"palmer\", \"palmer\", \"palmer\", \"papa\", \"papa\", \"papa\", \"papa\", \"papa\", \"papa\", \"papa\", \"parents\", \"parents\", \"parents\", \"parents\", \"parents\", \"parents\", \"parents\", \"parents\", \"parents\", \"party\", \"party\", \"party\", \"party\", \"party\", \"party\", \"party\", \"party\", \"party\", \"party\", \"party\", \"pas\", \"pas\", \"pas\", \"pas\", \"pas\", \"pas\", \"pas\", \"paul\", \"paul\", \"paul\", \"paul\", \"paulina\", \"paulina\", \"paulina\", \"paulina\", \"paulina\", \"paulina\", \"paulina\", \"pearl\", \"pearl\", \"pearl\", \"pearl\", \"pearl\", \"pelet\", \"pelet\", \"pelet\", \"pelet\", \"pelet\", \"pelet\", \"pemberley\", \"pemberley\", \"pemberley\", \"pen\", \"pen\", \"pen\", \"pen\", \"pen\", \"pen\", \"pen\", \"pen\", \"pen\", \"pen\", \"pen\", \"penance\", \"penance\", \"penance\", \"penance\", \"penance\", \"pencil\", \"pencil\", \"pencil\", \"pencil\", \"pencil\", \"people\", \"people\", \"people\", \"people\", \"people\", \"people\", \"people\", \"people\", \"people\", \"people\", \"people\", \"people\", \"people\", \"people\", \"perry\", \"perry\", \"pet\", \"pet\", \"pet\", \"pet\", \"phillips\", \"phillips\", \"phrases\", \"phrases\", \"phrases\", \"phrases\", \"phrases\", \"phrases\", \"phrases\", \"physician\", \"physician\", \"physician\", \"pianoforte\", \"pianoforte\", \"pianoforte\", \"pierre\", \"pierre\", \"pink\", \"pink\", \"pink\", \"pink\", \"pink\", \"pink\", \"pink\", \"pink\", \"piquant\", \"piquant\", \"piquant\", \"piquant\", \"plants\", \"plants\", \"plants\", \"plants\", \"plants\", \"plants\", \"pleasure\", \"pleasure\", \"pleasure\", \"pleasure\", \"pleasure\", \"pleasure\", \"pleasure\", \"pleasure\", \"pleasure\", \"pleasure\", \"pleasure\", \"pleasure\", \"pleasure\", \"pleasure\", \"polly\", \"polly\", \"polly\", \"poor\", \"poor\", \"poor\", \"poor\", \"poor\", \"poor\", \"poor\", \"poor\", \"poor\", \"poor\", \"poor\", \"poor\", \"poor\", \"porcelain\", \"porter\", \"porter\", \"porter\", \"portress\", \"portress\", \"portress\", \"portress\", \"portress\", \"pounds\", \"pounds\", \"pounds\", \"pounds\", \"pounds\", \"pounds\", \"pounds\", \"pounds\", \"pounds\", \"pounds\", \"pounds\", \"pour\", \"pour\", \"pour\", \"pour\", \"pour\", \"pour\", \"pour\", \"pour\", \"pour\", \"preceding\", \"preceding\", \"preceding\", \"preceding\", \"preceding\", \"propensities\", \"propensities\", \"propensities\", \"propensities\", \"protracted\", \"protracted\", \"protracted\", \"protracted\", \"pupil\", \"pupil\", \"pupil\", \"pupil\", \"pupil\", \"pupil\", \"pupil\", \"pupil\", \"pupils\", \"pupils\", \"pupils\", \"pupils\", \"pupils\", \"pupils\", \"pupils\", \"quarrelling\", \"quarrelling\", \"quarrelling\", \"quarrelling\", \"quarrelling\", \"que\", \"que\", \"que\", \"que\", \"que\", \"quickly\", \"quickly\", \"quickly\", \"quickly\", \"quickly\", \"quickly\", \"quickly\", \"quickly\", \"quickly\", \"quickly\", \"quickly\", \"quickly\", \"rained\", \"rained\", \"rained\", \"rained\", \"randalls\", \"randalls\", \"ranks\", \"raw\", \"raw\", \"raw\", \"raw\", \"reader\", \"reader\", \"reader\", \"reader\", \"reader\", \"reader\", \"reader\", \"reader\", \"reader\", \"reasonably\", \"reasonably\", \"reasonably\", \"recess\", \"recess\", \"recess\", \"recess\", \"recovery\", \"recovery\", \"recovery\", \"recovery\", \"recovery\", \"recreation\", \"recreation\", \"recreation\", \"recreation\", \"recreation\", \"reed\", \"reed\", \"reed\", \"reed\", \"reed\", \"regain\", \"regain\", \"regain\", \"regiment\", \"regiment\", \"regiment\", \"regiment\", \"regiment\", \"reigned\", \"reiterated\", \"reiterated\", \"reiterated\", \"relatives\", \"relatives\", \"relatives\", \"relatives\", \"release\", \"release\", \"release\", \"remind\", \"remind\", \"remind\", \"remind\", \"remind\", \"remind\", \"remind\", \"remind\", \"remind\", \"remonstrance\", \"remonstrance\", \"remonstrance\", \"remonstrance\", \"remonstrance\", \"remonstrance\", \"remorse\", \"remorse\", \"remorse\", \"remorse\", \"remove\", \"remove\", \"remove\", \"remove\", \"remove\", \"remove\", \"remove\", \"remove\", \"repast\", \"repast\", \"repast\", \"replied\", \"replied\", \"replied\", \"replied\", \"replied\", \"replied\", \"replied\", \"replied\", \"replied\", \"replied\", \"replied\", \"replied\", \"resigned\", \"resigned\", \"resigned\", \"resigned\", \"resigned\", \"resolving\", \"resolving\", \"resolving\", \"rest\", \"rest\", \"rest\", \"rest\", \"rest\", \"rest\", \"rest\", \"rest\", \"rest\", \"rest\", \"rest\", \"rest\", \"rest\", \"rest\", \"rest\", \"restored\", \"restored\", \"restored\", \"restored\", \"restored\", \"restored\", \"restored\", \"restored\", \"restored\", \"results\", \"results\", \"results\", \"results\", \"retreat\", \"retreat\", \"retreat\", \"retreat\", \"reuter\", \"reuter\", \"rich\", \"rich\", \"rich\", \"rich\", \"rich\", \"rich\", \"rich\", \"rich\", \"rich\", \"rich\", \"rich\", \"rich\", \"rich\", \"rich\", \"rigid\", \"rigid\", \"ring\", \"ring\", \"ring\", \"ring\", \"ring\", \"ring\", \"ring\", \"ring\", \"ring\", \"ring\", \"ripe\", \"rising\", \"rising\", \"rising\", \"rising\", \"rising\", \"rising\", \"rising\", \"rising\", \"rising\", \"rising\", \"rising\", \"rising\", \"rising\", \"rival\", \"rival\", \"rival\", \"rival\", \"rival\", \"rivers\", \"rivers\", \"rivers\", \"rivers\", \"rivers\", \"rivers\", \"rochester\", \"rochester\", \"rochester\", \"rochester\", \"rochester\", \"rochester\", \"rochester\", \"rochester\", \"rode\", \"rode\", \"rode\", \"rode\", \"rode\", \"rode\", \"rode\", \"rolled\", \"rolled\", \"room\", \"room\", \"room\", \"room\", \"room\", \"room\", \"room\", \"room\", \"room\", \"room\", \"room\", \"room\", \"room\", \"room\", \"room\", \"rose\", \"rose\", \"rose\", \"rose\", \"rose\", \"rose\", \"rose\", \"rose\", \"rose\", \"rose\", \"rose\", \"rose\", \"rose\", \"rose\", \"rosine\", \"rosine\", \"rosings\", \"rosings\", \"rosings\", \"round\", \"round\", \"round\", \"round\", \"round\", \"round\", \"round\", \"round\", \"round\", \"round\", \"round\", \"round\", \"round\", \"round\", \"rue\", \"rue\", \"rue\", \"rue\", \"rue\", \"rue\", \"rumour\", \"rumour\", \"rumour\", \"rumour\", \"rumour\", \"sadness\", \"sadness\", \"sadness\", \"sadness\", \"sadness\", \"sanction\", \"sanction\", \"sanction\", \"sanction\", \"sanction\", \"sarcasm\", \"sarcasm\", \"sarcasm\", \"sarcasm\", \"sarcasm\", \"sash\", \"sash\", \"sash\", \"sash\", \"sash\", \"sash\", \"sat\", \"sat\", \"sat\", \"sat\", \"sat\", \"sat\", \"sat\", \"sat\", \"sat\", \"sat\", \"sat\", \"sat\", \"sat\", \"sat\", \"sat\", \"satin\", \"satin\", \"satin\", \"satin\", \"satin\", \"satin\", \"satin\", \"saw\", \"saw\", \"saw\", \"saw\", \"saw\", \"saw\", \"saw\", \"saw\", \"saw\", \"saw\", \"saw\", \"saw\", \"saw\", \"says\", \"says\", \"says\", \"says\", \"says\", \"says\", \"says\", \"says\", \"says\", \"says\", \"says\", \"says\", \"scarce\", \"scarce\", \"scarce\", \"scarce\", \"scarce\", \"scarce\", \"scarf\", \"scarf\", \"scarf\", \"scarf\", \"scarlet\", \"scarlet\", \"scarlet\", \"scholars\", \"school\", \"school\", \"school\", \"school\", \"school\", \"school\", \"school\", \"school\", \"school\", \"school\", \"school\", \"school\", \"science\", \"science\", \"science\", \"science\", \"science\", \"scissors\", \"scissors\", \"scissors\", \"scissors\", \"scissors\", \"scorn\", \"scorn\", \"scorn\", \"scorn\", \"scorn\", \"scorn\", \"scorn\", \"scorn\", \"scotch\", \"scotch\", \"scotch\", \"scotland\", \"scotland\", \"scotland\", \"scotland\", \"scotland\", \"scotland\", \"seen\", \"seen\", \"seen\", \"seen\", \"seen\", \"seen\", \"seen\", \"seen\", \"seen\", \"seen\", \"seen\", \"seen\", \"seen\", \"seen\", \"sends\", \"sends\", \"sends\", \"sends\", \"sends\", \"severely\", \"severely\", \"severely\", \"shaded\", \"shall\", \"shall\", \"shall\", \"shall\", \"shall\", \"shall\", \"shall\", \"shall\", \"shall\", \"shall\", \"shall\", \"shall\", \"shall\", \"shall\", \"shall\", \"shell\", \"shell\", \"shew\", \"shew\", \"shew\", \"shew\", \"shyness\", \"shyness\", \"shyness\", \"silk\", \"silk\", \"silk\", \"silk\", \"silk\", \"silk\", \"silk\", \"silk\", \"silk\", \"silk\", \"silver\", \"silver\", \"silver\", \"silver\", \"silver\", \"silver\", \"silver\", \"silvery\", \"silvery\", \"silvery\", \"sing\", \"sing\", \"sing\", \"sing\", \"sing\", \"sing\", \"sir\", \"sir\", \"sir\", \"sir\", \"sir\", \"sir\", \"sir\", \"sir\", \"sir\", \"sir\", \"sir\", \"sir\", \"sister\", \"sister\", \"sister\", \"sister\", \"sister\", \"sister\", \"sister\", \"sister\", \"sister\", \"sister\", \"sister\", \"sister\", \"sister\", \"sisters\", \"sisters\", \"sisters\", \"sisters\", \"sisters\", \"sisters\", \"sisters\", \"sisters\", \"sisters\", \"sisters\", \"slice\", \"slice\", \"slice\", \"slice\", \"smile\", \"smile\", \"smile\", \"smile\", \"smile\", \"smile\", \"smile\", \"smile\", \"smile\", \"smile\", \"smile\", \"smile\", \"smile\", \"smile\", \"smith\", \"smith\", \"smith\", \"smith\", \"smith\", \"smoothed\", \"smoothed\", \"smoothed\", \"snatched\", \"snowe\", \"snowe\", \"snowe\", \"snowe\", \"snowe\", \"snowe\", \"snowe\", \"son\", \"son\", \"son\", \"son\", \"son\", \"son\", \"son\", \"son\", \"son\", \"son\", \"son\", \"son\", \"son\", \"sons\", \"sons\", \"sons\", \"sons\", \"soon\", \"soon\", \"soon\", \"soon\", \"soon\", \"soon\", \"soon\", \"soon\", \"soon\", \"soon\", \"soon\", \"soon\", \"soon\", \"soon\", \"soon\", \"sophie\", \"sophie\", \"sophie\", \"sophie\", \"sound\", \"sound\", \"sound\", \"sound\", \"sound\", \"sound\", \"sound\", \"sound\", \"sound\", \"sound\", \"sound\", \"sound\", \"sound\", \"southern\", \"southern\", \"southern\", \"southern\", \"speak\", \"speak\", \"speak\", \"speak\", \"speak\", \"speak\", \"speak\", \"speak\", \"speak\", \"speak\", \"speak\", \"speak\", \"speak\", \"speak\", \"spectacles\", \"spectacles\", \"spectacles\", \"speedy\", \"speedy\", \"speedy\", \"speedy\", \"speedy\", \"spirits\", \"spirits\", \"spirits\", \"spirits\", \"spirits\", \"spirits\", \"spirits\", \"spirits\", \"spirits\", \"spirits\", \"spirits\", \"spirits\", \"spirits\", \"spiritual\", \"spiritual\", \"spiritual\", \"sprung\", \"sprung\", \"sprung\", \"sprung\", \"sprung\", \"st\", \"st\", \"st\", \"st\", \"st\", \"st\", \"steele\", \"steele\", \"steeles\", \"steeles\", \"steeles\", \"steeles\", \"stockings\", \"stockings\", \"stockings\", \"stone\", \"stone\", \"stone\", \"stone\", \"stone\", \"stone\", \"stone\", \"stone\", \"stone\", \"stone\", \"stood\", \"stood\", \"stood\", \"stood\", \"stood\", \"stood\", \"stood\", \"stood\", \"stood\", \"stood\", \"stood\", \"stood\", \"stood\", \"stood\", \"stood\", \"stores\", \"stores\", \"stores\", \"stores\", \"stories\", \"stories\", \"stories\", \"stories\", \"stories\", \"stories\", \"streamed\", \"streamed\", \"streamed\", \"streamed\", \"strode\", \"struggled\", \"struggled\", \"struggled\", \"struggled\", \"stubborn\", \"stubborn\", \"stubborn\", \"stubborn\", \"stubborn\", \"sufficed\", \"sufficed\", \"sufficed\", \"sufficed\", \"sufficed\", \"sufficed\", \"sun\", \"sun\", \"sun\", \"sun\", \"sun\", \"sun\", \"sun\", \"sun\", \"sunny\", \"sunrise\", \"sunrise\", \"sunrise\", \"superior\", \"superior\", \"superior\", \"superior\", \"superior\", \"superior\", \"superior\", \"superior\", \"superior\", \"sure\", \"sure\", \"sure\", \"sure\", \"sure\", \"sure\", \"sure\", \"sure\", \"sure\", \"sure\", \"sure\", \"sure\", \"sure\", \"sure\", \"surprize\", \"surprize\", \"surprized\", \"surprized\", \"sweep\", \"sweep\", \"sweep\", \"taste\", \"taste\", \"taste\", \"taste\", \"taste\", \"taste\", \"taste\", \"taste\", \"taste\", \"taste\", \"taste\", \"taste\", \"taste\", \"taylor\", \"taylor\", \"teacher\", \"teacher\", \"teacher\", \"teacher\", \"teacher\", \"teacher\", \"teacher\", \"teachers\", \"teachers\", \"teachers\", \"teachers\", \"teachers\", \"teachers\", \"teachers\", \"teachers\", \"tears\", \"tears\", \"tears\", \"tears\", \"tears\", \"tears\", \"tears\", \"tears\", \"tears\", \"tears\", \"tease\", \"tease\", \"tell\", \"tell\", \"tell\", \"tell\", \"tell\", \"tell\", \"tell\", \"tell\", \"tell\", \"tell\", \"tell\", \"tell\", \"tell\", \"tell\", \"tell\", \"tells\", \"tells\", \"tells\", \"tells\", \"tells\", \"tells\", \"tells\", \"tempest\", \"temples\", \"tenderly\", \"tenderly\", \"tenderly\", \"tenderly\", \"tenderly\", \"terrasse\", \"terrasse\", \"terrasse\", \"terrasse\", \"thing\", \"thing\", \"thing\", \"thing\", \"thing\", \"thing\", \"thing\", \"thing\", \"thing\", \"thing\", \"thing\", \"thing\", \"thing\", \"thing\", \"thing\", \"think\", \"think\", \"think\", \"think\", \"think\", \"think\", \"think\", \"think\", \"think\", \"think\", \"think\", \"think\", \"think\", \"think\", \"think\", \"thornfield\", \"thornfield\", \"thornfield\", \"thornfield\", \"thornfield\", \"thornfield\", \"thought\", \"thought\", \"thought\", \"thought\", \"thought\", \"thought\", \"thought\", \"thought\", \"thought\", \"thought\", \"thought\", \"thought\", \"thought\", \"thought\", \"thought\", \"thousand\", \"thousand\", \"thousand\", \"thousand\", \"thousand\", \"thousand\", \"thousand\", \"thousand\", \"thousand\", \"thousand\", \"thousand\", \"till\", \"till\", \"till\", \"till\", \"till\", \"till\", \"till\", \"till\", \"till\", \"till\", \"till\", \"till\", \"till\", \"till\", \"till\", \"tired\", \"tired\", \"tired\", \"tired\", \"tired\", \"tired\", \"tired\", \"tired\", \"tired\", \"tired\", \"tired\", \"tired\", \"tired\", \"toil\", \"toil\", \"toilet\", \"toilet\", \"toilet\", \"toilet\", \"toilette\", \"toilette\", \"toilette\", \"toilette\", \"toilette\", \"told\", \"told\", \"told\", \"told\", \"told\", \"told\", \"told\", \"told\", \"told\", \"told\", \"told\", \"told\", \"told\", \"told\", \"told\", \"tomorrow\", \"tomorrow\", \"tomorrow\", \"tomorrow\", \"tomorrow\", \"tones\", \"tones\", \"tones\", \"tones\", \"tones\", \"tones\", \"tones\", \"tones\", \"took\", \"took\", \"took\", \"took\", \"took\", \"took\", \"took\", \"took\", \"took\", \"took\", \"took\", \"took\", \"took\", \"took\", \"took\", \"tout\", \"tout\", \"tout\", \"tout\", \"tout\", \"town\", \"town\", \"town\", \"town\", \"town\", \"town\", \"town\", \"town\", \"town\", \"town\", \"town\", \"town\", \"town\", \"travelled\", \"travelled\", \"travelled\", \"travelled\", \"trees\", \"trees\", \"trees\", \"trees\", \"trees\", \"trees\", \"trees\", \"trees\", \"trees\", \"trite\", \"triumphant\", \"triumphant\", \"triumphant\", \"triumphant\", \"triumphant\", \"triumphant\", \"unable\", \"unable\", \"unable\", \"unable\", \"unable\", \"unable\", \"unable\", \"uncles\", \"uncles\", \"uncles\", \"uncles\", \"uncles\", \"uncles\", \"une\", \"une\", \"une\", \"une\", \"unreserve\", \"unreserve\", \"unreserve\", \"unwell\", \"unwell\", \"unwell\", \"unwell\", \"unwell\", \"unwonted\", \"unwonted\", \"unwonted\", \"usual\", \"usual\", \"usual\", \"usual\", \"usual\", \"usual\", \"usual\", \"usual\", \"usual\", \"usual\", \"usual\", \"usual\", \"usual\", \"usual\", \"vacation\", \"vacation\", \"vacation\", \"vacation\", \"ve\", \"ve\", \"ve\", \"ve\", \"ve\", \"veiled\", \"vicarage\", \"vicarage\", \"victor\", \"victor\", \"victor\", \"victor\", \"vigour\", \"vigour\", \"vigour\", \"vigour\", \"vigour\", \"vigour\", \"vigour\", \"visions\", \"visions\", \"voice\", \"voice\", \"voice\", \"voice\", \"voice\", \"voice\", \"voice\", \"voice\", \"voice\", \"voice\", \"voice\", \"voice\", \"voice\", \"vous\", \"vous\", \"vous\", \"vous\", \"vous\", \"vowed\", \"vowed\", \"vowed\", \"vowed\", \"wall\", \"wall\", \"wall\", \"wall\", \"waves\", \"way\", \"way\", \"way\", \"way\", \"way\", \"way\", \"way\", \"way\", \"way\", \"way\", \"way\", \"way\", \"way\", \"way\", \"went\", \"went\", \"went\", \"went\", \"went\", \"went\", \"went\", \"went\", \"went\", \"went\", \"went\", \"went\", \"went\", \"went\", \"weston\", \"weston\", \"weston\", \"westons\", \"westons\", \"weymouth\", \"weymouth\", \"whilst\", \"whilst\", \"whilst\", \"whispers\", \"whispers\", \"whispers\", \"whispers\", \"whispers\", \"white\", \"white\", \"white\", \"white\", \"white\", \"white\", \"white\", \"white\", \"white\", \"white\", \"white\", \"white\", \"white\", \"wholesome\", \"wholesome\", \"wholesome\", \"wholesome\", \"wholesome\", \"wholesome\", \"wholesome\", \"wholesome\", \"wholesome\", \"wicked\", \"wicked\", \"wicked\", \"wicked\", \"wicked\", \"wicked\", \"wickham\", \"wickham\", \"wickham\", \"wickham\", \"wife\", \"wife\", \"wife\", \"wife\", \"wife\", \"wife\", \"wife\", \"wife\", \"wife\", \"wife\", \"wife\", \"wife\", \"william\", \"william\", \"william\", \"william\", \"william\", \"william\", \"william\", \"willoughby\", \"willoughby\", \"willoughby\", \"willoughby\", \"willoughby\", \"wing\", \"wing\", \"wing\", \"wish\", \"wish\", \"wish\", \"wish\", \"wish\", \"wish\", \"wish\", \"wish\", \"wish\", \"wish\", \"wish\", \"wish\", \"wish\", \"wish\", \"wish\", \"woke\", \"woke\", \"woman\", \"woman\", \"woman\", \"woman\", \"woman\", \"woman\", \"woman\", \"woman\", \"woman\", \"woman\", \"woman\", \"woman\", \"woman\", \"wood\", \"wood\", \"wood\", \"wood\", \"wood\", \"wood\", \"wood\", \"wood\", \"wood\", \"woodhouse\", \"woodhouse\", \"woodhouse\", \"woods\", \"woods\", \"woods\", \"woods\", \"woods\", \"word\", \"word\", \"word\", \"word\", \"word\", \"word\", \"word\", \"word\", \"word\", \"word\", \"word\", \"word\", \"word\", \"word\", \"word\", \"words\", \"words\", \"words\", \"words\", \"words\", \"words\", \"words\", \"words\", \"words\", \"words\", \"words\", \"words\", \"words\", \"words\", \"words\", \"world\", \"world\", \"world\", \"world\", \"world\", \"world\", \"world\", \"world\", \"world\", \"world\", \"world\", \"world\", \"world\", \"world\", \"wrought\", \"wrought\", \"wrought\", \"wrought\", \"wrought\", \"years\", \"years\", \"years\", \"years\", \"years\", \"years\", \"years\", \"years\", \"years\", \"years\", \"years\", \"years\", \"years\", \"yes\", \"yes\", \"yes\", \"yes\", \"yes\", \"yes\", \"yes\", \"yes\", \"yes\", \"yes\", \"yes\", \"yes\", \"yes\", \"yes\", \"young\", \"young\", \"young\", \"young\", \"young\", \"young\", \"young\", \"young\", \"young\", \"young\", \"young\", \"young\", \"young\", \"young\", \"zoraide\", \"zoraide\"]}, \"R\": 30, \"lambda.step\": 0.01, \"plot.opts\": {\"xlab\": \"PC1\", \"ylab\": \"PC2\"}, \"topic.order\": [12, 5, 2, 9, 3, 10, 6, 1, 11, 7, 8, 13, 14, 4, 15]};\n",
       "\n",
       "function LDAvis_load_lib(url, callback){\n",
       "  var s = document.createElement('script');\n",
       "  s.src = url;\n",
       "  s.async = true;\n",
       "  s.onreadystatechange = s.onload = callback;\n",
       "  s.onerror = function(){console.warn(\"failed to load library \" + url);};\n",
       "  document.getElementsByTagName(\"head\")[0].appendChild(s);\n",
       "}\n",
       "\n",
       "if(typeof(LDAvis) !== \"undefined\"){\n",
       "   // already loaded: just create the visualization\n",
       "   !function(LDAvis){\n",
       "       new LDAvis(\"#\" + \"ldavis_el482801121795956884884495538\", ldavis_el482801121795956884884495538_data);\n",
       "   }(LDAvis);\n",
       "}else if(typeof define === \"function\" && define.amd){\n",
       "   // require.js is available: use it to load d3/LDAvis\n",
       "   require.config({paths: {d3: \"https://cdnjs.cloudflare.com/ajax/libs/d3/3.5.5/d3.min\"}});\n",
       "   require([\"d3\"], function(d3){\n",
       "      window.d3 = d3;\n",
       "      LDAvis_load_lib(\"https://cdn.rawgit.com/bmabey/pyLDAvis/files/ldavis.v1.0.0.js\", function(){\n",
       "        new LDAvis(\"#\" + \"ldavis_el482801121795956884884495538\", ldavis_el482801121795956884884495538_data);\n",
       "      });\n",
       "    });\n",
       "}else{\n",
       "    // require.js not available: dynamically load d3 & LDAvis\n",
       "    LDAvis_load_lib(\"https://cdnjs.cloudflare.com/ajax/libs/d3/3.5.5/d3.min.js\", function(){\n",
       "         LDAvis_load_lib(\"https://cdn.rawgit.com/bmabey/pyLDAvis/files/ldavis.v1.0.0.js\", function(){\n",
       "                 new LDAvis(\"#\" + \"ldavis_el482801121795956884884495538\", ldavis_el482801121795956884884495538_data);\n",
       "            })\n",
       "         });\n",
       "}\n",
       "</script>"
      ],
      "text/plain": [
       "PreparedData(topic_coordinates=              x         y  topics  cluster       Freq\n",
       "topic                                                \n",
       "11     0.083353 -0.002954       1        1  32.533436\n",
       "4     -0.096960 -0.001643       2        1  18.099958\n",
       "1     -0.142513  0.019571       3        1   9.962238\n",
       "8     -0.124742  0.003269       4        1   8.912828\n",
       "2      0.025856 -0.030816       5        1   6.869116\n",
       "9      0.014822 -0.020306       6        1   4.988802\n",
       "5     -0.109538 -0.037573       7        1   4.160623\n",
       "0     -0.103589 -0.006377       8        1   3.509147\n",
       "10    -0.042874  0.016049       9        1   3.245846\n",
       "6      0.085583  0.048188      10        1   2.321386\n",
       "7      0.090051  0.167063      11        1   2.225315\n",
       "12     0.085432  0.055225      12        1   1.254993\n",
       "13     0.020987  0.013558      13        1   1.243002\n",
       "3      0.106342 -0.129130      14        1   0.414113\n",
       "14     0.107788 -0.094124      15        1   0.259195, topic_info=     Category         Freq          Term        Total  loglift  logprob\n",
       "2275  Default   700.000000        elinor   700.000000  30.0000  30.0000\n",
       "2294  Default   576.000000      marianne   576.000000  29.0000  29.0000\n",
       "992   Default  1530.000000          miss  1530.000000  28.0000  28.0000\n",
       "1426  Default   678.000000     elizabeth   678.000000  27.0000  27.0000\n",
       "77    Default   829.000000          emma   829.000000  26.0000  26.0000\n",
       "377   Default  1324.000000          like  1324.000000  25.0000  25.0000\n",
       "745   Default   953.000000          jane   953.000000  24.0000  24.0000\n",
       "568   Default   397.000000        madame   397.000000  23.0000  23.0000\n",
       "802   Default   354.000000     rochester   354.000000  22.0000  22.0000\n",
       "1052  Default   606.000000           sir   606.000000  21.0000  21.0000\n",
       "452   Default  1311.000000         think  1311.000000  20.0000  20.0000\n",
       "1807  Default   438.000000         darcy   438.000000  19.0000  19.0000\n",
       "2102  Default   291.000000      monsieur   291.000000  18.0000  18.0000\n",
       "607   Default   930.000000         shall   930.000000  17.0000  17.0000\n",
       "151   Default  1440.000000          know  1440.000000  16.0000  16.0000\n",
       "248   Default  1140.000000       thought  1140.000000  15.0000  15.0000\n",
       "465   Default   424.000000        weston   424.000000  14.0000  14.0000\n",
       "321   Default  1061.000000           day  1061.000000  13.0000  13.0000\n",
       "1792  Default   323.000000       bingley   323.000000  12.0000  12.0000\n",
       "160   Default   941.000000          long   941.000000  11.0000  11.0000\n",
       "1132  Default   363.000000       fairfax   363.000000  10.0000  10.0000\n",
       "230   Default   605.000000        sister   605.000000   9.0000   9.0000\n",
       "221   Default   894.000000          room   894.000000   8.0000   8.0000\n",
       "1399  Default   340.000000        bennet   340.000000   7.0000   7.0000\n",
       "120   Default   501.000000       harriet   501.000000   6.0000   6.0000\n",
       "3180  Default   220.000000    willoughby   220.000000   5.0000   5.0000\n",
       "49    Default   832.000000          come   832.000000   4.0000   4.0000\n",
       "146   Default   618.000000          john   618.000000   3.0000   3.0000\n",
       "76    Default   371.000000         elton   371.000000   2.0000   2.0000\n",
       "516   Default   221.000000            dr   221.000000   1.0000   1.0000\n",
       "...       ...          ...           ...          ...      ...      ...\n",
       "3410  Topic15     1.503186           pen    30.520525   2.9445  -6.2034\n",
       "1587  Topic15     3.714158  mademoiselle   119.415123   2.4849  -5.2989\n",
       "1589  Topic15     1.394325      millcote    27.958317   2.9570  -6.2786\n",
       "2218  Topic15     1.540913        pencil    32.764130   2.8984  -6.1787\n",
       "1143  Topic15     2.070335          gold    53.606720   2.7014  -5.8833\n",
       "1198  Topic15     1.390188         satin    29.634539   2.8958  -6.2816\n",
       "1224  Topic15     2.743819         tired    89.577576   2.4696  -5.6017\n",
       "2674  Topic15     1.387800        silver    31.549025   2.8315  -6.2833\n",
       "4919  Topic15     1.389968         burns    32.238647   2.8115  -6.2817\n",
       "106   Topic15     2.054481         fully    64.536301   2.5081  -5.8910\n",
       "562   Topic15     3.419018         liked   192.138550   1.9265  -5.3817\n",
       "2621  Topic15     2.060062         stone    71.035141   2.4149  -5.8883\n",
       "871   Topic15     2.071240          wood    74.857101   2.3679  -5.8829\n",
       "801   Topic15     2.063095        rising    87.850822   2.2039  -5.8868\n",
       "1555  Topic15     2.061480        filled   102.973717   2.0443  -5.8876\n",
       "984   Topic15     2.366755          live   215.488052   1.4440  -5.7495\n",
       "29    Topic15     3.009292          away   686.936829   0.5248  -5.5093\n",
       "607   Topic15     3.180149         shall   930.594116   0.2764  -5.4541\n",
       "377   Topic15     3.103914          like  1324.972412  -0.1011  -5.4784\n",
       "251   Topic15     2.378084          told   389.423981   0.8570  -5.7447\n",
       "981   Topic15     2.071149           lay   193.576416   1.4178  -5.8829\n",
       "466   Topic15     2.105062         white   234.995941   1.2401  -5.8667\n",
       "337   Topic15     2.333410       evening   487.466034   0.6135  -5.7637\n",
       "796   Topic15     2.101142          rest   276.485992   1.0757  -5.8685\n",
       "773   Topic15     2.112991           new   295.307129   1.0154  -5.8629\n",
       "31    Topic15     2.277516        better   616.434937   0.3545  -5.7879\n",
       "771   Topic15     2.157471       morning   514.004578   0.4820  -5.8421\n",
       "392   Topic15     2.174021         night   626.694031   0.2915  -5.8344\n",
       "49    Topic15     2.171220          come   832.013977   0.0068  -5.8357\n",
       "802   Topic15     2.112065     rochester   354.839813   0.8313  -5.8634\n",
       "\n",
       "[1034 rows x 6 columns], token_table=      Topic      Freq           Term\n",
       "term                                \n",
       "0         2  0.950859          abbey\n",
       "4804      1  0.290074       abhorred\n",
       "4804      2  0.145037       abhorred\n",
       "4804      6  0.362593       abhorred\n",
       "4804      8  0.072519       abhorred\n",
       "4804     10  0.072519       abhorred\n",
       "3083      2  0.149960      abilities\n",
       "3083      3  0.749801      abilities\n",
       "3083      5  0.049987      abilities\n",
       "3083     13  0.049987      abilities\n",
       "1516      1  0.468500        accents\n",
       "1516      4  0.058563        accents\n",
       "1516      7  0.058563        accents\n",
       "1516      9  0.117125        accents\n",
       "1516     10  0.058563        accents\n",
       "1516     13  0.058563        accents\n",
       "1516     14  0.117125        accents\n",
       "3636      1  0.388303         accord\n",
       "3636      5  0.077661         accord\n",
       "3636      6  0.310642         accord\n",
       "3636      7  0.077661         accord\n",
       "1782      3  0.064379  acquaintances\n",
       "1782      4  0.708167  acquaintances\n",
       "1782      6  0.128758  acquaintances\n",
       "4835      2  0.813047         acquit\n",
       "4835      9  0.162609         acquit\n",
       "654       1  0.210122          adele\n",
       "654       5  0.287946          adele\n",
       "654       6  0.225687          adele\n",
       "654      13  0.085605          adele\n",
       "...     ...       ...            ...\n",
       "473       1  0.229637            yes\n",
       "473       2  0.186372            yes\n",
       "473       3  0.043265            yes\n",
       "473       4  0.088194            yes\n",
       "473       5  0.118146            yes\n",
       "473       6  0.121474            yes\n",
       "473       7  0.071553            yes\n",
       "473       8  0.028289            yes\n",
       "473       9  0.038273            yes\n",
       "473      10  0.018304            yes\n",
       "473      11  0.038273            yes\n",
       "473      12  0.001664            yes\n",
       "473      13  0.011648            yes\n",
       "473      14  0.004992            yes\n",
       "474       1  0.168297          young\n",
       "474       2  0.270477          young\n",
       "474       3  0.112699          young\n",
       "474       4  0.123217          young\n",
       "474       5  0.105185          young\n",
       "474       6  0.016529          young\n",
       "474       7  0.084148          young\n",
       "474       8  0.018032          young\n",
       "474       9  0.030053          young\n",
       "474      10  0.010519          young\n",
       "474      11  0.034561          young\n",
       "474      12  0.010519          young\n",
       "474      13  0.013524          young\n",
       "474      14  0.001503          young\n",
       "4064      1  0.099737        zoraide\n",
       "4064     11  0.864388        zoraide\n",
       "\n",
       "[4556 rows x 3 columns], R=30, lambda_step=0.01, plot_opts={'xlab': 'PC1', 'ylab': 'PC2'}, topic_order=[12, 5, 2, 9, 3, 10, 6, 1, 11, 7, 8, 13, 14, 4, 15])"
      ]
     },
     "execution_count": 50,
     "metadata": {},
     "output_type": "execute_result"
    }
   ],
   "source": [
    "pyLDAvis.gensim.prepare(lda, corpus, id2word)"
   ]
  },
  {
   "cell_type": "markdown",
   "metadata": {},
   "source": [
    "### Overall Model / Documents"
   ]
  },
  {
   "cell_type": "code",
   "execution_count": 51,
   "metadata": {},
   "outputs": [
    {
     "data": {
      "text/plain": [
       "[(4, 0.99732375)]"
      ]
     },
     "execution_count": 51,
     "metadata": {},
     "output_type": "execute_result"
    }
   ],
   "source": [
    "lda[corpus[0]]"
   ]
  },
  {
   "cell_type": "code",
   "execution_count": 52,
   "metadata": {},
   "outputs": [],
   "source": [
    "distro = [lda[d] for d in corpus]"
   ]
  },
  {
   "cell_type": "code",
   "execution_count": 55,
   "metadata": {},
   "outputs": [
    {
     "data": {
      "text/plain": [
       "[(4, 0.99732375)]"
      ]
     },
     "execution_count": 55,
     "metadata": {},
     "output_type": "execute_result"
    }
   ],
   "source": [
    "distro[0]"
   ]
  },
  {
   "cell_type": "code",
   "execution_count": 60,
   "metadata": {},
   "outputs": [],
   "source": [
    "distro = [lda[d] for d in corpus]\n",
    "\n",
    "def update(doc):\n",
    "        d_dist = {k:0 for k in range(0,15)}\n",
    "        for t in doc:\n",
    "            d_dist[t[0]] = t[1]\n",
    "        return d_dist\n",
    "    \n",
    "new_distro = [update(d) for d in distro]"
   ]
  },
  {
   "cell_type": "code",
   "execution_count": 67,
   "metadata": {},
   "outputs": [],
   "source": [
    "df = pd.DataFrame.from_records(new_distro, index=titles)\n",
    "df.columns = topics\n",
    "df['author'] = df.reset_index()['index'].apply(lambda x: x.split('_')[0]).tolist()"
   ]
  },
  {
   "cell_type": "code",
   "execution_count": 68,
   "metadata": {},
   "outputs": [
    {
     "data": {
      "text/html": [
       "<div>\n",
       "<style scoped>\n",
       "    .dataframe tbody tr th:only-of-type {\n",
       "        vertical-align: middle;\n",
       "    }\n",
       "\n",
       "    .dataframe tbody tr th {\n",
       "        vertical-align: top;\n",
       "    }\n",
       "\n",
       "    .dataframe thead th {\n",
       "        text-align: right;\n",
       "    }\n",
       "</style>\n",
       "<table border=\"1\" class=\"dataframe\">\n",
       "  <thead>\n",
       "    <tr style=\"text-align: right;\">\n",
       "      <th></th>\n",
       "      <th>marianne elinor willoughby sister jennings</th>\n",
       "      <th>elinor edward sister mother lucy</th>\n",
       "      <th>like miss rochester room lady</th>\n",
       "      <th>adele rochester ladies ll shall</th>\n",
       "      <th>emma harriet miss think thing</th>\n",
       "      <th>miss jane know thing think</th>\n",
       "      <th>hunsden like st face thought</th>\n",
       "      <th>monsieur mdlle pelet reuter english</th>\n",
       "      <th>elizabeth darcy bingley bennet jane</th>\n",
       "      <th>jane sir know like rochester</th>\n",
       "      <th>graham bretton papa lucy know</th>\n",
       "      <th>like thought long night hand</th>\n",
       "      <th>madame day beck know like</th>\n",
       "      <th>dr madame thought think sir</th>\n",
       "      <th>moon adele mademoiselle liked lowood</th>\n",
       "      <th>author</th>\n",
       "    </tr>\n",
       "  </thead>\n",
       "  <tbody>\n",
       "    <tr>\n",
       "      <th>Austen_Emma0026</th>\n",
       "      <td>0.0</td>\n",
       "      <td>0.0</td>\n",
       "      <td>0.000000</td>\n",
       "      <td>0.0</td>\n",
       "      <td>0.997324</td>\n",
       "      <td>0.0</td>\n",
       "      <td>0.0</td>\n",
       "      <td>0.0</td>\n",
       "      <td>0.000000</td>\n",
       "      <td>0.0</td>\n",
       "      <td>0.000000</td>\n",
       "      <td>0.000000</td>\n",
       "      <td>0.0</td>\n",
       "      <td>0.0</td>\n",
       "      <td>0.0</td>\n",
       "      <td>Austen</td>\n",
       "    </tr>\n",
       "    <tr>\n",
       "      <th>Austen_Emma0032</th>\n",
       "      <td>0.0</td>\n",
       "      <td>0.0</td>\n",
       "      <td>0.000000</td>\n",
       "      <td>0.0</td>\n",
       "      <td>0.997278</td>\n",
       "      <td>0.0</td>\n",
       "      <td>0.0</td>\n",
       "      <td>0.0</td>\n",
       "      <td>0.000000</td>\n",
       "      <td>0.0</td>\n",
       "      <td>0.000000</td>\n",
       "      <td>0.000000</td>\n",
       "      <td>0.0</td>\n",
       "      <td>0.0</td>\n",
       "      <td>0.0</td>\n",
       "      <td>Austen</td>\n",
       "    </tr>\n",
       "    <tr>\n",
       "      <th>CBronte_Villette0086</th>\n",
       "      <td>0.0</td>\n",
       "      <td>0.0</td>\n",
       "      <td>0.000000</td>\n",
       "      <td>0.0</td>\n",
       "      <td>0.000000</td>\n",
       "      <td>0.0</td>\n",
       "      <td>0.0</td>\n",
       "      <td>0.0</td>\n",
       "      <td>0.000000</td>\n",
       "      <td>0.0</td>\n",
       "      <td>0.376080</td>\n",
       "      <td>0.621456</td>\n",
       "      <td>0.0</td>\n",
       "      <td>0.0</td>\n",
       "      <td>0.0</td>\n",
       "      <td>CBronte</td>\n",
       "    </tr>\n",
       "    <tr>\n",
       "      <th>CBronte_Jane0099</th>\n",
       "      <td>0.0</td>\n",
       "      <td>0.0</td>\n",
       "      <td>0.000000</td>\n",
       "      <td>0.0</td>\n",
       "      <td>0.000000</td>\n",
       "      <td>0.0</td>\n",
       "      <td>0.0</td>\n",
       "      <td>0.0</td>\n",
       "      <td>0.000000</td>\n",
       "      <td>0.0</td>\n",
       "      <td>0.000000</td>\n",
       "      <td>0.992563</td>\n",
       "      <td>0.0</td>\n",
       "      <td>0.0</td>\n",
       "      <td>0.0</td>\n",
       "      <td>CBronte</td>\n",
       "    </tr>\n",
       "    <tr>\n",
       "      <th>CBronte_Villette0092</th>\n",
       "      <td>0.0</td>\n",
       "      <td>0.0</td>\n",
       "      <td>0.087376</td>\n",
       "      <td>0.0</td>\n",
       "      <td>0.040360</td>\n",
       "      <td>0.0</td>\n",
       "      <td>0.0</td>\n",
       "      <td>0.0</td>\n",
       "      <td>0.028385</td>\n",
       "      <td>0.0</td>\n",
       "      <td>0.096506</td>\n",
       "      <td>0.745723</td>\n",
       "      <td>0.0</td>\n",
       "      <td>0.0</td>\n",
       "      <td>0.0</td>\n",
       "      <td>CBronte</td>\n",
       "    </tr>\n",
       "  </tbody>\n",
       "</table>\n",
       "</div>"
      ],
      "text/plain": [
       "                      marianne elinor willoughby sister jennings  \\\n",
       "Austen_Emma0026                                              0.0   \n",
       "Austen_Emma0032                                              0.0   \n",
       "CBronte_Villette0086                                         0.0   \n",
       "CBronte_Jane0099                                             0.0   \n",
       "CBronte_Villette0092                                         0.0   \n",
       "\n",
       "                      elinor edward sister mother lucy  \\\n",
       "Austen_Emma0026                                    0.0   \n",
       "Austen_Emma0032                                    0.0   \n",
       "CBronte_Villette0086                               0.0   \n",
       "CBronte_Jane0099                                   0.0   \n",
       "CBronte_Villette0092                               0.0   \n",
       "\n",
       "                      like miss rochester room lady  \\\n",
       "Austen_Emma0026                            0.000000   \n",
       "Austen_Emma0032                            0.000000   \n",
       "CBronte_Villette0086                       0.000000   \n",
       "CBronte_Jane0099                           0.000000   \n",
       "CBronte_Villette0092                       0.087376   \n",
       "\n",
       "                      adele rochester ladies ll shall  \\\n",
       "Austen_Emma0026                                   0.0   \n",
       "Austen_Emma0032                                   0.0   \n",
       "CBronte_Villette0086                              0.0   \n",
       "CBronte_Jane0099                                  0.0   \n",
       "CBronte_Villette0092                              0.0   \n",
       "\n",
       "                      emma harriet miss think thing  \\\n",
       "Austen_Emma0026                            0.997324   \n",
       "Austen_Emma0032                            0.997278   \n",
       "CBronte_Villette0086                       0.000000   \n",
       "CBronte_Jane0099                           0.000000   \n",
       "CBronte_Villette0092                       0.040360   \n",
       "\n",
       "                      miss jane know thing think  \\\n",
       "Austen_Emma0026                              0.0   \n",
       "Austen_Emma0032                              0.0   \n",
       "CBronte_Villette0086                         0.0   \n",
       "CBronte_Jane0099                             0.0   \n",
       "CBronte_Villette0092                         0.0   \n",
       "\n",
       "                      hunsden like st face thought  \\\n",
       "Austen_Emma0026                                0.0   \n",
       "Austen_Emma0032                                0.0   \n",
       "CBronte_Villette0086                           0.0   \n",
       "CBronte_Jane0099                               0.0   \n",
       "CBronte_Villette0092                           0.0   \n",
       "\n",
       "                      monsieur mdlle pelet reuter english  \\\n",
       "Austen_Emma0026                                       0.0   \n",
       "Austen_Emma0032                                       0.0   \n",
       "CBronte_Villette0086                                  0.0   \n",
       "CBronte_Jane0099                                      0.0   \n",
       "CBronte_Villette0092                                  0.0   \n",
       "\n",
       "                      elizabeth darcy bingley bennet jane  \\\n",
       "Austen_Emma0026                                  0.000000   \n",
       "Austen_Emma0032                                  0.000000   \n",
       "CBronte_Villette0086                             0.000000   \n",
       "CBronte_Jane0099                                 0.000000   \n",
       "CBronte_Villette0092                             0.028385   \n",
       "\n",
       "                      jane sir know like rochester  \\\n",
       "Austen_Emma0026                                0.0   \n",
       "Austen_Emma0032                                0.0   \n",
       "CBronte_Villette0086                           0.0   \n",
       "CBronte_Jane0099                               0.0   \n",
       "CBronte_Villette0092                           0.0   \n",
       "\n",
       "                      graham bretton papa lucy know  \\\n",
       "Austen_Emma0026                            0.000000   \n",
       "Austen_Emma0032                            0.000000   \n",
       "CBronte_Villette0086                       0.376080   \n",
       "CBronte_Jane0099                           0.000000   \n",
       "CBronte_Villette0092                       0.096506   \n",
       "\n",
       "                      like thought long night hand  madame day beck know like  \\\n",
       "Austen_Emma0026                           0.000000                        0.0   \n",
       "Austen_Emma0032                           0.000000                        0.0   \n",
       "CBronte_Villette0086                      0.621456                        0.0   \n",
       "CBronte_Jane0099                          0.992563                        0.0   \n",
       "CBronte_Villette0092                      0.745723                        0.0   \n",
       "\n",
       "                      dr madame thought think sir  \\\n",
       "Austen_Emma0026                               0.0   \n",
       "Austen_Emma0032                               0.0   \n",
       "CBronte_Villette0086                          0.0   \n",
       "CBronte_Jane0099                              0.0   \n",
       "CBronte_Villette0092                          0.0   \n",
       "\n",
       "                      moon adele mademoiselle liked lowood   author  \n",
       "Austen_Emma0026                                        0.0   Austen  \n",
       "Austen_Emma0032                                        0.0   Austen  \n",
       "CBronte_Villette0086                                   0.0  CBronte  \n",
       "CBronte_Jane0099                                       0.0  CBronte  \n",
       "CBronte_Villette0092                                   0.0  CBronte  "
      ]
     },
     "execution_count": 68,
     "metadata": {},
     "output_type": "execute_result"
    }
   ],
   "source": [
    "df.head()"
   ]
  },
  {
   "cell_type": "code",
   "execution_count": 69,
   "metadata": {},
   "outputs": [
    {
     "data": {
      "text/html": [
       "<div>\n",
       "<style scoped>\n",
       "    .dataframe tbody tr th:only-of-type {\n",
       "        vertical-align: middle;\n",
       "    }\n",
       "\n",
       "    .dataframe tbody tr th {\n",
       "        vertical-align: top;\n",
       "    }\n",
       "\n",
       "    .dataframe thead th {\n",
       "        text-align: right;\n",
       "    }\n",
       "</style>\n",
       "<table border=\"1\" class=\"dataframe\">\n",
       "  <thead>\n",
       "    <tr style=\"text-align: right;\">\n",
       "      <th></th>\n",
       "      <th>marianne elinor willoughby sister jennings</th>\n",
       "      <th>elinor edward sister mother lucy</th>\n",
       "      <th>like miss rochester room lady</th>\n",
       "      <th>adele rochester ladies ll shall</th>\n",
       "      <th>emma harriet miss think thing</th>\n",
       "      <th>miss jane know thing think</th>\n",
       "      <th>hunsden like st face thought</th>\n",
       "      <th>monsieur mdlle pelet reuter english</th>\n",
       "      <th>elizabeth darcy bingley bennet jane</th>\n",
       "      <th>jane sir know like rochester</th>\n",
       "      <th>graham bretton papa lucy know</th>\n",
       "      <th>like thought long night hand</th>\n",
       "      <th>madame day beck know like</th>\n",
       "      <th>dr madame thought think sir</th>\n",
       "      <th>moon adele mademoiselle liked lowood</th>\n",
       "    </tr>\n",
       "    <tr>\n",
       "      <th>author</th>\n",
       "      <th></th>\n",
       "      <th></th>\n",
       "      <th></th>\n",
       "      <th></th>\n",
       "      <th></th>\n",
       "      <th></th>\n",
       "      <th></th>\n",
       "      <th></th>\n",
       "      <th></th>\n",
       "      <th></th>\n",
       "      <th></th>\n",
       "      <th></th>\n",
       "      <th></th>\n",
       "      <th></th>\n",
       "      <th></th>\n",
       "    </tr>\n",
       "  </thead>\n",
       "  <tbody>\n",
       "    <tr>\n",
       "      <th>Austen</th>\n",
       "      <td>0.071713</td>\n",
       "      <td>0.208254</td>\n",
       "      <td>0.010205</td>\n",
       "      <td>0.000000</td>\n",
       "      <td>0.380388</td>\n",
       "      <td>0.085653</td>\n",
       "      <td>0.000099</td>\n",
       "      <td>0.000079</td>\n",
       "      <td>0.203246</td>\n",
       "      <td>0.001405</td>\n",
       "      <td>0.022159</td>\n",
       "      <td>0.011784</td>\n",
       "      <td>0.000028</td>\n",
       "      <td>0.002325</td>\n",
       "      <td>0.0000</td>\n",
       "    </tr>\n",
       "    <tr>\n",
       "      <th>CBronte</th>\n",
       "      <td>0.000076</td>\n",
       "      <td>0.009987</td>\n",
       "      <td>0.119843</td>\n",
       "      <td>0.007553</td>\n",
       "      <td>0.009064</td>\n",
       "      <td>0.002825</td>\n",
       "      <td>0.043100</td>\n",
       "      <td>0.038763</td>\n",
       "      <td>0.000294</td>\n",
       "      <td>0.097633</td>\n",
       "      <td>0.040166</td>\n",
       "      <td>0.581370</td>\n",
       "      <td>0.021017</td>\n",
       "      <td>0.020656</td>\n",
       "      <td>0.0048</td>\n",
       "    </tr>\n",
       "  </tbody>\n",
       "</table>\n",
       "</div>"
      ],
      "text/plain": [
       "         marianne elinor willoughby sister jennings  \\\n",
       "author                                                \n",
       "Austen                                     0.071713   \n",
       "CBronte                                    0.000076   \n",
       "\n",
       "         elinor edward sister mother lucy  like miss rochester room lady  \\\n",
       "author                                                                     \n",
       "Austen                           0.208254                       0.010205   \n",
       "CBronte                          0.009987                       0.119843   \n",
       "\n",
       "         adele rochester ladies ll shall  emma harriet miss think thing  \\\n",
       "author                                                                    \n",
       "Austen                          0.000000                       0.380388   \n",
       "CBronte                         0.007553                       0.009064   \n",
       "\n",
       "         miss jane know thing think  hunsden like st face thought  \\\n",
       "author                                                              \n",
       "Austen                     0.085653                      0.000099   \n",
       "CBronte                    0.002825                      0.043100   \n",
       "\n",
       "         monsieur mdlle pelet reuter english  \\\n",
       "author                                         \n",
       "Austen                              0.000079   \n",
       "CBronte                             0.038763   \n",
       "\n",
       "         elizabeth darcy bingley bennet jane  jane sir know like rochester  \\\n",
       "author                                                                       \n",
       "Austen                              0.203246                      0.001405   \n",
       "CBronte                             0.000294                      0.097633   \n",
       "\n",
       "         graham bretton papa lucy know  like thought long night hand  \\\n",
       "author                                                                 \n",
       "Austen                        0.022159                      0.011784   \n",
       "CBronte                       0.040166                      0.581370   \n",
       "\n",
       "         madame day beck know like  dr madame thought think sir  \\\n",
       "author                                                            \n",
       "Austen                    0.000028                     0.002325   \n",
       "CBronte                   0.021017                     0.020656   \n",
       "\n",
       "         moon adele mademoiselle liked lowood  \n",
       "author                                         \n",
       "Austen                                 0.0000  \n",
       "CBronte                                0.0048  "
      ]
     },
     "execution_count": 69,
     "metadata": {},
     "output_type": "execute_result"
    }
   ],
   "source": [
    "df.groupby('author').mean()"
   ]
  },
  {
   "cell_type": "markdown",
   "metadata": {},
   "source": [
    "## Challenge\n",
    "### *Can we see if one of the authors focus more on men than women?*\n",
    "\n",
    "*  Use Spacy for text prepocessing\n",
    "*  Extract the Named Entities from the documents using Spacy (command is fairly straight forward)\n",
    "*  Create unique list of names from the authors (you'll find that there are different types of named entities not all people)\n",
    "*  Label the names with genders (can you this by hand or you use the US census name lists)\n",
    "*  Customize your processing to replace the proper name with your gender from the previous step's lookup table\n",
    "*  Then follow the rest of the LDA flow\n"
   ]
  },
  {
   "cell_type": "markdown",
   "metadata": {},
   "source": [
    "# Selecting the Number of Topics (Learn)\n",
    "<a id=\"#p4\"></a>"
   ]
  },
  {
   "cell_type": "markdown",
   "metadata": {},
   "source": [
    "## Overview"
   ]
  },
  {
   "cell_type": "markdown",
   "metadata": {},
   "source": [
    "## Follow Along"
   ]
  },
  {
   "cell_type": "code",
   "execution_count": 118,
   "metadata": {},
   "outputs": [],
   "source": [
    "from gensim.models.coherencemodel import CoherenceModel\n",
    "\n",
    "def compute_coherence_values(dictionary, corpus, path, limit, start=2, step=3, passes=5):\n",
    "    \"\"\"\n",
    "    Compute c_v coherence for various number of topics\n",
    "\n",
    "    Parameters:\n",
    "    ----------\n",
    "    dictionary : Gensim dictionary\n",
    "    corpus : Gensim corpus\n",
    "    path : path to input texts\n",
    "    limit : Max num of topics\n",
    "    passes: the number of times the entire lda model & coherence values are calculated\n",
    "\n",
    "    Returns:\n",
    "    -------\n",
    "    coherence_values : Coherence values corresponding to the LDA model with respective number of topics\n",
    "    \"\"\"\n",
    "    \n",
    "    coherence_values = []\n",
    "    \n",
    "    tokens = list(doc_stream(path))\n",
    "    \n",
    "    for iter_ in range(passes):\n",
    "        for num_topics in range(start, limit, step):\n",
    "            stream = doc_stream(path)\n",
    "            model = LdaMulticore(corpus=corpus, num_topics=num_topics, id2word=dictionary, workers=4)\n",
    "            coherencemodel = CoherenceModel(model=model,dictionary=dictionary,corpus=corpus, coherence='u_mass')\n",
    "            coherence_values.append({'pass': iter_, \n",
    "                                     'num_topics': num_topics, \n",
    "                                     'coherence_score': coherencemodel.get_coherence()\n",
    "                                    })\n",
    "\n",
    "    return coherence_values"
   ]
  },
  {
   "cell_type": "code",
   "execution_count": 122,
   "metadata": {},
   "outputs": [],
   "source": [
    "# Can take a long time to run.\n",
    "coherence_values = compute_coherence_values(dictionary=id2word, \n",
    "                                                        corpus=corpus, \n",
    "                                                        path=path, \n",
    "                                                        start=2, \n",
    "                                                        limit=40, \n",
    "                                                        step=6,\n",
    "                                                        passes=40)"
   ]
  },
  {
   "cell_type": "code",
   "execution_count": 123,
   "metadata": {},
   "outputs": [],
   "source": [
    "topic_coherence = pd.DataFrame.from_records(coherence_values)"
   ]
  },
  {
   "cell_type": "code",
   "execution_count": 115,
   "metadata": {},
   "outputs": [
    {
     "ename": "NameError",
     "evalue": "name 'coherencemodel' is not defined",
     "output_type": "error",
     "traceback": [
      "\u001b[0;31m---------------------------------------------------------------------------\u001b[0m",
      "\u001b[0;31mNameError\u001b[0m                                 Traceback (most recent call last)",
      "\u001b[0;32m<ipython-input-115-463aad305d7a>\u001b[0m in \u001b[0;36m<module>\u001b[0;34m\u001b[0m\n\u001b[0;32m----> 1\u001b[0;31m \u001b[0mcoherencemodel\u001b[0m\u001b[0;34m\u001b[0m\u001b[0;34m\u001b[0m\u001b[0m\n\u001b[0m",
      "\u001b[0;31mNameError\u001b[0m: name 'coherencemodel' is not defined"
     ]
    }
   ],
   "source": []
  },
  {
   "cell_type": "code",
   "execution_count": 124,
   "metadata": {},
   "outputs": [
    {
     "data": {
      "text/html": [
       "<div>\n",
       "<style scoped>\n",
       "    .dataframe tbody tr th:only-of-type {\n",
       "        vertical-align: middle;\n",
       "    }\n",
       "\n",
       "    .dataframe tbody tr th {\n",
       "        vertical-align: top;\n",
       "    }\n",
       "\n",
       "    .dataframe thead th {\n",
       "        text-align: right;\n",
       "    }\n",
       "</style>\n",
       "<table border=\"1\" class=\"dataframe\">\n",
       "  <thead>\n",
       "    <tr style=\"text-align: right;\">\n",
       "      <th></th>\n",
       "      <th>coherence_score</th>\n",
       "      <th>num_topics</th>\n",
       "      <th>pass</th>\n",
       "    </tr>\n",
       "  </thead>\n",
       "  <tbody>\n",
       "    <tr>\n",
       "      <th>0</th>\n",
       "      <td>-0.935416</td>\n",
       "      <td>2</td>\n",
       "      <td>0</td>\n",
       "    </tr>\n",
       "    <tr>\n",
       "      <th>1</th>\n",
       "      <td>-0.939436</td>\n",
       "      <td>8</td>\n",
       "      <td>0</td>\n",
       "    </tr>\n",
       "    <tr>\n",
       "      <th>2</th>\n",
       "      <td>-0.952264</td>\n",
       "      <td>14</td>\n",
       "      <td>0</td>\n",
       "    </tr>\n",
       "    <tr>\n",
       "      <th>3</th>\n",
       "      <td>-0.912855</td>\n",
       "      <td>20</td>\n",
       "      <td>0</td>\n",
       "    </tr>\n",
       "    <tr>\n",
       "      <th>4</th>\n",
       "      <td>-0.905050</td>\n",
       "      <td>26</td>\n",
       "      <td>0</td>\n",
       "    </tr>\n",
       "  </tbody>\n",
       "</table>\n",
       "</div>"
      ],
      "text/plain": [
       "   coherence_score  num_topics  pass\n",
       "0        -0.935416           2     0\n",
       "1        -0.939436           8     0\n",
       "2        -0.952264          14     0\n",
       "3        -0.912855          20     0\n",
       "4        -0.905050          26     0"
      ]
     },
     "execution_count": 124,
     "metadata": {},
     "output_type": "execute_result"
    }
   ],
   "source": [
    "topic_coherence.head()"
   ]
  },
  {
   "cell_type": "code",
   "execution_count": 125,
   "metadata": {},
   "outputs": [
    {
     "data": {
      "image/png": "[encoded data removed]",
      "text/plain": [
       "<Figure size 432x288 with 1 Axes>"
      ]
     },
     "metadata": {
      "needs_background": "light"
     },
     "output_type": "display_data"
    }
   ],
   "source": [
    "import seaborn as sns\n",
    "\n",
    "ax = sns.lineplot(x=\"num_topics\", y=\"coherence_score\", data=topic_coherence)"
   ]
  },
  {
   "cell_type": "code",
   "execution_count": 76,
   "metadata": {},
   "outputs": [
    {
     "name": "stdout",
     "output_type": "stream",
     "text": [
      "Num Topics = 2  has Coherence Value of 0.2785\n",
      "Num Topics = 8  has Coherence Value of 0.3029\n",
      "Num Topics = 14  has Coherence Value of 0.2887\n",
      "Num Topics = 20  has Coherence Value of 0.2852\n",
      "Num Topics = 26  has Coherence Value of 0.2846\n",
      "Num Topics = 32  has Coherence Value of 0.2914\n",
      "Num Topics = 38  has Coherence Value of 0.2878\n"
     ]
    }
   ],
   "source": [
    "# Print the coherence scores\n",
    "for m, cv in zip(x, coherence_values):\n",
    "    print(\"Num Topics =\", m, \" has Coherence Value of\", round(cv, 4))"
   ]
  },
  {
   "cell_type": "code",
   "execution_count": 89,
   "metadata": {},
   "outputs": [
    {
     "data": {
      "text/plain": [
       "[(0, 0.02226036),\n",
       " (1, 0.022260414),\n",
       " (2, 0.022260347),\n",
       " (3, 0.022260347),\n",
       " (4, 0.022260392),\n",
       " (5, 0.0222604),\n",
       " (6, 0.022260347),\n",
       " (7, 0.35487327),\n",
       " (8, 0.022260398),\n",
       " (9, 0.022260517),\n",
       " (10, 0.022260416),\n",
       " (11, 0.022260422),\n",
       " (12, 0.3557417),\n",
       " (13, 0.022260347),\n",
       " (14, 0.022260347)]"
      ]
     },
     "execution_count": 89,
     "metadata": {},
     "output_type": "execute_result"
    }
   ],
   "source": [
    "lda[id2word.doc2bow(tokenize(\"This is a sample document to score with a topic distribution.\"))]"
   ]
  },
  {
   "cell_type": "markdown",
   "metadata": {},
   "source": [
    "## Challenge\n",
    "### *Can we see if one of the authors focus more on men than women?*\n",
    "\n",
    "*  Use Spacy for text prepocessing\n",
    "*  Extract the Named Entities from the documents using Spacy (command is fairly straight forward)\n",
    "*  Create unique list of names from the authors (you'll find that there are different types of named entities not all people)\n",
    "*  Label the names with genders (can you this by hand or you use the US census name lists)\n",
    "*  Customize your processing to replace the proper name with your gender from the previous step's lookup table\n",
    "*  Then follow the rest of the LDA flow"
   ]
  },
  {
   "cell_type": "code",
   "execution_count": 78,
   "metadata": {},
   "outputs": [
    {
     "name": "stderr",
     "output_type": "stream",
     "text": [
      "/Users/jonathansokoll/anaconda3/envs/U4-S1-NLP/lib/python3.7/site-packages/thinc/neural/train.py:7: DeprecationWarning: Using or importing the ABCs from 'collections' instead of from 'collections.abc' is deprecated, and in 3.8 it will stop working\n",
      "  from .optimizers import Adam, linear_decay\n",
      "/Users/jonathansokoll/anaconda3/envs/U4-S1-NLP/lib/python3.7/site-packages/thinc/check.py:4: DeprecationWarning: Using or importing the ABCs from 'collections' instead of from 'collections.abc' is deprecated, and in 3.8 it will stop working\n",
      "  from collections import Sequence, Sized, Iterable, Callable\n",
      "/Users/jonathansokoll/anaconda3/envs/U4-S1-NLP/lib/python3.7/site-packages/thinc/check.py:4: DeprecationWarning: Using or importing the ABCs from 'collections' instead of from 'collections.abc' is deprecated, and in 3.8 it will stop working\n",
      "  from collections import Sequence, Sized, Iterable, Callable\n"
     ]
    }
   ],
   "source": [
    "import spacy\n",
    "\n",
    "nlp = spacy.load('en_core_web_lg')"
   ]
  },
  {
   "cell_type": "code",
   "execution_count": 79,
   "metadata": {},
   "outputs": [],
   "source": [
    "test = \"Ned asked me a question about England today.\""
   ]
  },
  {
   "cell_type": "code",
   "execution_count": 80,
   "metadata": {},
   "outputs": [
    {
     "name": "stdout",
     "output_type": "stream",
     "text": [
      "Ned Ned PROPN\n",
      "asked ask VERB\n",
      "me -PRON- PRON\n",
      "a a DET\n",
      "question question NOUN\n",
      "about about ADP\n",
      "England England PROPN\n",
      "today today NOUN\n",
      ". . PUNCT\n"
     ]
    }
   ],
   "source": [
    "doc = nlp(test)\n",
    "\n",
    "for token in doc:\n",
    "    print(token.text, token.lemma_, token.pos_)"
   ]
  },
  {
   "cell_type": "code",
   "execution_count": 81,
   "metadata": {},
   "outputs": [
    {
     "name": "stdout",
     "output_type": "stream",
     "text": [
      "Ned PERSON\n",
      "England GPE\n",
      "today DATE\n"
     ]
    }
   ],
   "source": [
    "for ent in doc.ents:\n",
    "    print(ent.text, ent.label_)"
   ]
  },
  {
   "cell_type": "code",
   "execution_count": 82,
   "metadata": {},
   "outputs": [],
   "source": [
    "def doc_stream(path):\n",
    "    for f in os.listdir(path):\n",
    "        with open(os.path.join(path,f)) as t:\n",
    "            text = t.read().strip('\\n')\n",
    "            yield text\n",
    "\n",
    "def get_people(docstream):\n",
    "    \n",
    "    ppl = []\n",
    "    \n",
    "    for d in docstream:\n",
    "        \n",
    "        doc = nlp(d)\n",
    "        \n",
    "        for ent in doc.ents:\n",
    "            \n",
    "            if ent.label_ == \"PERSON\":\n",
    "                ppl.append(ent.lemma_)\n",
    "                \n",
    "    return set(ppl)"
   ]
  },
  {
   "cell_type": "code",
   "execution_count": 129,
   "metadata": {},
   "outputs": [],
   "source": [
    "people = get_people(doc_stream(path))"
   ]
  },
  {
   "cell_type": "code",
   "execution_count": 126,
   "metadata": {},
   "outputs": [],
   "source": [
    "doc = nlp(next(doc_stream(path)))"
   ]
  },
  {
   "cell_type": "code",
   "execution_count": 128,
   "metadata": {},
   "outputs": [
    {
     "data": {
      "text/plain": [
       "'yesterday'"
      ]
     },
     "execution_count": 128,
     "metadata": {},
     "output_type": "execute_result"
    }
   ],
   "source": [
    "doc.ents[0].lemma_"
   ]
  },
  {
   "cell_type": "markdown",
   "metadata": {},
   "source": [
    "# Sources\n",
    "\n",
    "### *References*\n",
    "* [Andrew Ng et al paper on LDA](https://ai.stanford.edu/~ang/papers/jair03-lda.pdf)\n",
    "* On [Coherence](https://pdfs.semanticscholar.org/1521/8d9c029cbb903ae7c729b2c644c24994c201.pdf)\n",
    "\n",
    "### *Resources*\n",
    "\n",
    "* [Gensim](https://radimrehurek.com/gensim/): Python package for topic modeling, nlp, word vectorization, and few other things. Well maintained and well documented.\n",
    "* [Topic Modeling with Gensim](http://www.machinelearningplus.com/nlp/topic-modeling-gensim-python/#11createthedictionaryandcorpusneededfortopicmodeling): A kind of cookbook for LDA with gensim. Excellent overview, but the you need to be aware of missing import statements and assumed prior knowledge.\n",
    "* [Chinese Restuarant Process](https://en.wikipedia.org/wiki/Chinese_restaurant_process): That really obscure stats thing I mentioned... \n",
    "* [PyLDAvis](https://github.com/bmabey/pyLDAvis): Library for visualizing the topic model and performing some exploratory work. Works well. Has a direct parrell implementation in R as well. \n",
    "* [Rare Technologies](https://rare-technologies.com/): The people that made & maintain gensim and a few other libraries.\n",
    "* [Jane Austen v. Charlotte Bronte](https://www.literaryladiesguide.com/literary-musings/jane-austen-charlotte-bronte-different-alike/)"
   ]
  }
 ],
 "metadata": {
  "kernelspec": {
   "display_name": "U4S1",
   "language": "python",
   "name": "u4s1"
  },
  "language_info": {
   "codemirror_mode": {
    "name": "ipython",
    "version": 3
   },
   "file_extension": ".py",
   "mimetype": "text/x-python",
   "name": "python",
   "nbconvert_exporter": "python",
   "pygments_lexer": "ipython3",
   "version": "3.7.3"
  }
 },
 "nbformat": 4,
 "nbformat_minor": 2
}

{
 "cells": [
  {
   "cell_type": "markdown",
   "metadata": {
    "colab_type": "text",
    "id": "HJzTIkYAsLxw"
   },
   "source": [
    "# Lets Use Libraries!\n",
    "\n",
    "The objective of the last two days has been to familiarize you with the fundamentals of neural networks: terminology, structure of networks, forward propagation, error/cost functions, backpropagation, epochs, and gradient descent. We have tried to reinforce these topics by requiring to you code some of the simplest neural networks by hand including Perceptrons (single node neural networks) and Multi-Layer Perceptrons also known as Feed-Forward Neural Networks. Continuing to do things by hand would not be the best use of our limited time. You're ready to graduate from doing things by hand and start using some powerful libraries to build cutting-edge predictive models. "
   ]
  },
  {
   "cell_type": "markdown",
   "metadata": {
    "colab_type": "text",
    "id": "MFYCXc5KdkPE"
   },
   "source": [
    "# Keras\n",
    "\n",
    "> \"Keras is a high-level neural networks API, written in Python and capable of running on top of TensorFlow, CNTK, or Theano. It was developed with a focus on enabling fast experimentation. Being able to go from idea to result with the least possible delay is key to doing good research. Use Keras if you need a deep learning library that:\n",
    "\n",
    "> Allows for easy and fast prototyping (through user friendliness, modularity, and extensibility).\n",
    "Supports both convolutional networks and recurrent networks, as well as combinations of the two.\n",
    "Runs seamlessly on CPU and GPU.\" \n",
    "\n",
    "## Installation\n",
    "\n",
    "The Keras API is particularly straightforward and it already comes pre-installed on Google Colab! \n",
    "\n",
    "<img src=\"http://www.ryanleeallred.com/wp-content/uploads/2019/04/pip-freeze-keras.png\" width=\"300\">\n",
    "\n",
    "If you're not on Google Colab you'll need to install one of the \"backend\" engines that Keras runs on top of. I recommend Tensorflow:\n",
    "\n",
    "> `pip install tensorflow`\n",
    "\n",
    "Google Colab does not have the latest Tensorflow 2.0 installation, so you'll need to upgrade to that if you want to experiment with it. However Tensorflow 2.0 was just released last month and is still in \"alpha\" so if you **really** want to use the latest and greatest be prepared for odd bugs that you don't have control over every once in a while. <https://www.tensorflow.org/install/>"
   ]
  },
  {
   "cell_type": "code",
   "execution_count": null,
   "metadata": {
    "colab": {},
    "colab_type": "code",
    "id": "QEncs0SOsFMT"
   },
   "outputs": [],
   "source": [
    "# Use pip freeze to see what packages/libraries your notebook has access to\n",
    "# !pip freeze"
   ]
  },
  {
   "cell_type": "markdown",
   "metadata": {
    "colab_type": "text",
    "id": "VxgUUpIKn54a"
   },
   "source": [
    "## Our First Keras Model - Perceptron, Batch epochs\n",
    "\n",
    "1) Load Data\n",
    "\n",
    "2) Define Model\n",
    "\n",
    "3) Compile Model\n",
    "\n",
    "4) Fit Model\n",
    "\n",
    "5) Evaluate Model"
   ]
  },
  {
   "cell_type": "markdown",
   "metadata": {
    "colab_type": "text",
    "id": "Md5D67XwqVAf"
   },
   "source": [
    "### Load Data\n",
    "\n",
    "Our life is going to be easier if our data is already cleaned up and numeric, so lets use this dataset from Jason Brownlee that is already numeric and has no column headers so we'll need to slice off the last column of data to act as our y values."
   ]
  },
  {
   "cell_type": "code",
   "execution_count": 1,
   "metadata": {
    "colab": {
     "base_uri": "https://localhost:8080/",
     "height": 109,
     "resources": {
      "http://localhost:8080/nbextensions/google.colab/files.js": {
       "data": "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",
       "headers": [
        [
         "content-type",
         "application/javascript"
        ]
       ],
       "ok": true,
       "status": 200,
       "status_text": ""
      }
     }
    },
    "colab_type": "code",
    "id": "bn09phMBpY1J",
    "outputId": "1c45fb6a-e3cb-4ec1-fb85-de52b3c60bae"
   },
   "outputs": [
    {
     "ename": "ModuleNotFoundError",
     "evalue": "No module named 'google.colab'",
     "output_type": "error",
     "traceback": [
      "\u001b[0;31m---------------------------------------------------------------------------\u001b[0m",
      "\u001b[0;31mModuleNotFoundError\u001b[0m                       Traceback (most recent call last)",
      "\u001b[0;32m<ipython-input-1-db5411aa1c0a>\u001b[0m in \u001b[0;36m<module>\u001b[0;34m\u001b[0m\n\u001b[1;32m      1\u001b[0m \u001b[0;31m# https://raw.githubusercontent.com/jbrownlee/Datasets/master/pima-indians-diabetes.data.csv\u001b[0m\u001b[0;34m\u001b[0m\u001b[0;34m\u001b[0m\u001b[0;34m\u001b[0m\u001b[0m\n\u001b[0;32m----> 2\u001b[0;31m \u001b[0;32mfrom\u001b[0m \u001b[0mgoogle\u001b[0m\u001b[0;34m.\u001b[0m\u001b[0mcolab\u001b[0m \u001b[0;32mimport\u001b[0m \u001b[0mfiles\u001b[0m\u001b[0;34m\u001b[0m\u001b[0;34m\u001b[0m\u001b[0m\n\u001b[0m\u001b[1;32m      3\u001b[0m \u001b[0mfiles\u001b[0m\u001b[0;34m.\u001b[0m\u001b[0mupload\u001b[0m\u001b[0;34m(\u001b[0m\u001b[0;34m)\u001b[0m\u001b[0;34m\u001b[0m\u001b[0;34m\u001b[0m\u001b[0m\n",
      "\u001b[0;31mModuleNotFoundError\u001b[0m: No module named 'google.colab'"
     ]
    }
   ],
   "source": [
    "# https://raw.githubusercontent.com/jbrownlee/Datasets/master/pima-indians-diabetes.data.csv\n",
    "from google.colab import files\n",
    "files.upload()"
   ]
  },
  {
   "cell_type": "code",
   "execution_count": 20,
   "metadata": {
    "colab": {
     "base_uri": "https://localhost:8080/",
     "height": 725
    },
    "colab_type": "code",
    "id": "FKuofD3Pogil",
    "outputId": "16c2f4fa-93c8-491d-b339-9f35f7918621"
   },
   "outputs": [
    {
     "name": "stdout",
     "output_type": "stream",
     "text": [
      "(768, 8)\n",
      "[[  6.    148.     72.    ...  33.6     0.627  50.   ]\n",
      " [  1.     85.     66.    ...  26.6     0.351  31.   ]\n",
      " [  8.    183.     64.    ...  23.3     0.672  32.   ]\n",
      " ...\n",
      " [  5.    121.     72.    ...  26.2     0.245  30.   ]\n",
      " [  1.    126.     60.    ...  30.1     0.349  47.   ]\n",
      " [  1.     93.     70.    ...  30.4     0.315  23.   ]]\n",
      "(768,)\n",
      "[1. 0. 1. 0. 1. 0. 1. 0. 1. 1. 0. 1. 0. 1. 1. 1. 1. 1. 0. 1. 0. 0. 1. 1.\n",
      " 1. 1. 1. 0. 0. 0. 0. 1. 0. 0. 0. 0. 0. 1. 1. 1. 0. 0. 0. 1. 0. 1. 0. 0.\n",
      " 1. 0. 0. 0. 0. 1. 0. 0. 1. 0. 0. 0. 0. 1. 0. 0. 1. 0. 1. 0. 0. 0. 1. 0.\n",
      " 1. 0. 0. 0. 0. 0. 1. 0. 0. 0. 0. 0. 1. 0. 0. 0. 1. 0. 0. 0. 0. 1. 0. 0.\n",
      " 0. 0. 0. 1. 1. 0. 0. 0. 0. 0. 0. 0. 0. 1. 1. 1. 0. 0. 1. 1. 1. 0. 0. 0.\n",
      " 1. 0. 0. 0. 1. 1. 0. 0. 1. 1. 1. 1. 1. 0. 0. 0. 0. 0. 0. 0. 0. 0. 0. 1.\n",
      " 0. 0. 0. 0. 0. 0. 0. 0. 1. 0. 1. 1. 0. 0. 0. 1. 0. 0. 0. 0. 1. 1. 0. 0.\n",
      " 0. 0. 1. 1. 0. 0. 0. 1. 0. 1. 0. 1. 0. 0. 0. 0. 0. 1. 1. 1. 1. 1. 0. 0.\n",
      " 1. 1. 0. 1. 0. 1. 1. 1. 0. 0. 0. 0. 0. 0. 1. 1. 0. 1. 0. 0. 0. 1. 1. 1.\n",
      " 1. 0. 1. 1. 1. 1. 0. 0. 0. 0. 0. 1. 0. 0. 1. 1. 0. 0. 0. 1. 1. 1. 1. 0.\n",
      " 0. 0. 1. 1. 0. 1. 0. 0. 0. 0. 0. 0. 0. 0. 1. 1. 0. 0. 0. 1. 0. 1. 0. 0.\n",
      " 1. 0. 1. 0. 0. 1. 1. 0. 0. 0. 0. 0. 1. 0. 0. 0. 1. 0. 0. 1. 1. 0. 0. 1.\n",
      " 0. 0. 0. 1. 1. 1. 0. 0. 1. 0. 1. 0. 1. 1. 0. 1. 0. 0. 1. 0. 1. 1. 0. 0.\n",
      " 1. 0. 1. 0. 0. 1. 0. 1. 0. 1. 1. 1. 0. 0. 1. 0. 1. 0. 0. 0. 1. 0. 0. 0.\n",
      " 0. 1. 1. 1. 0. 0. 0. 0. 0. 0. 0. 0. 0. 1. 0. 0. 0. 0. 0. 1. 1. 1. 0. 1.\n",
      " 1. 0. 0. 1. 0. 0. 1. 0. 0. 1. 1. 0. 0. 0. 0. 1. 0. 0. 1. 0. 0. 0. 0. 0.\n",
      " 0. 0. 1. 1. 1. 0. 0. 1. 0. 0. 1. 0. 0. 1. 0. 1. 1. 0. 1. 0. 1. 0. 1. 0.\n",
      " 1. 1. 0. 0. 0. 0. 1. 1. 0. 1. 0. 1. 0. 0. 0. 0. 1. 1. 0. 1. 0. 1. 0. 0.\n",
      " 0. 0. 0. 1. 0. 0. 0. 0. 1. 0. 0. 1. 1. 1. 0. 0. 1. 0. 0. 1. 0. 0. 0. 1.\n",
      " 0. 0. 1. 0. 0. 0. 0. 0. 0. 0. 0. 0. 1. 0. 0. 0. 0. 0. 0. 0. 1. 0. 0. 0.\n",
      " 1. 0. 0. 0. 1. 1. 0. 0. 0. 0. 0. 0. 0. 1. 0. 0. 0. 0. 1. 0. 0. 0. 1. 0.\n",
      " 0. 0. 1. 0. 0. 0. 1. 0. 0. 0. 0. 1. 1. 0. 0. 0. 0. 0. 0. 1. 0. 0. 0. 0.\n",
      " 0. 0. 0. 0. 0. 0. 0. 1. 0. 0. 0. 1. 1. 1. 1. 0. 0. 1. 1. 0. 0. 0. 0. 0.\n",
      " 0. 0. 0. 0. 0. 0. 0. 0. 1. 1. 0. 0. 0. 0. 0. 0. 0. 1. 0. 0. 0. 0. 0. 0.\n",
      " 0. 1. 0. 1. 1. 0. 0. 0. 1. 0. 1. 0. 1. 0. 1. 0. 1. 0. 0. 1. 0. 0. 1. 0.\n",
      " 0. 0. 0. 1. 1. 0. 1. 0. 0. 0. 0. 1. 1. 0. 1. 0. 0. 0. 1. 1. 0. 0. 0. 0.\n",
      " 0. 0. 0. 0. 0. 0. 1. 0. 0. 0. 0. 1. 0. 0. 1. 0. 0. 0. 1. 0. 0. 0. 1. 1.\n",
      " 1. 0. 0. 0. 0. 0. 0. 1. 0. 0. 0. 1. 0. 1. 1. 1. 1. 0. 1. 1. 0. 0. 0. 0.\n",
      " 0. 0. 0. 1. 1. 0. 1. 0. 0. 1. 0. 1. 0. 0. 0. 0. 0. 1. 0. 1. 0. 1. 0. 1.\n",
      " 1. 0. 0. 0. 0. 1. 1. 0. 0. 0. 1. 0. 1. 1. 0. 0. 1. 0. 0. 1. 1. 0. 0. 1.\n",
      " 0. 0. 1. 0. 0. 0. 0. 0. 0. 0. 1. 1. 1. 0. 0. 0. 0. 0. 0. 1. 1. 0. 0. 1.\n",
      " 0. 0. 1. 0. 1. 1. 1. 0. 0. 1. 1. 1. 0. 1. 0. 1. 0. 1. 0. 0. 0. 0. 1. 0.]\n"
     ]
    }
   ],
   "source": [
    "# Load Pima Indians Dataset\n",
    "dataset = numpy.loadtxt('pima-indians-diabetes.csv', delimiter=',')\n",
    "# Split into X and Y variables\n",
    "X = dataset[:,0:8]\n",
    "print(X.shape)\n",
    "print(X)\n",
    "Y = dataset[:,-1]\n",
    "print(Y.shape)\n",
    "print(Y)"
   ]
  },
  {
   "cell_type": "markdown",
   "metadata": {
    "colab_type": "text",
    "id": "o0xMqOyTs5xt"
   },
   "source": [
    "### Define Model"
   ]
  },
  {
   "cell_type": "code",
   "execution_count": null,
   "metadata": {
    "colab": {},
    "colab_type": "code",
    "id": "Bp9USczrfu6M"
   },
   "outputs": [],
   "source": [
    "from keras.models import Sequential\n",
    "from keras.layers import Dense\n",
    "import numpy\n",
    "# fix random seed for reproducibility\n",
    "numpy.random.seed(42)"
   ]
  },
  {
   "cell_type": "markdown",
   "metadata": {
    "colab_type": "text",
    "id": "wAzHLg27thoN"
   },
   "source": [
    "I'll instantiate my model as a \"sequential\" model. This just means that I'm going to tell Keras what my model's architecture should be one layer at a time."
   ]
  },
  {
   "cell_type": "code",
   "execution_count": null,
   "metadata": {
    "colab": {},
    "colab_type": "code",
    "id": "DSNsL49Xp6KI"
   },
   "outputs": [],
   "source": [
    "# https://keras.io/getting-started/sequential-model-guide/\n",
    "model = Sequential()"
   ]
  },
  {
   "cell_type": "markdown",
   "metadata": {
    "colab_type": "text",
    "id": "ZCYX6QzJtvpG"
   },
   "source": [
    "Adding a \"Dense\" layer to our model is how we add \"vanilla\" perceptron-based layers to our neural network. These are also called \"fully-connected\" or \"densely-connected\" layers. They're used as a layer type in lots of other Neural Net Architectures but they're not referred to as perceptrons or multi-layer perceptrons very often in those situations even though that's what they are.\n",
    "\n",
    " > [\"Just your regular densely-connected NN layer.\"](https://keras.io/layers/core/)\n",
    " \n",
    " The first argument is how many neurons we want to have in that layer. To create a perceptron model we will just set it to 1. We will tell it that there will be 8 inputs coming into this layer from our dataset and set it to use the sigmoid activation function."
   ]
  },
  {
   "cell_type": "code",
   "execution_count": 25,
   "metadata": {
    "colab": {
     "base_uri": "https://localhost:8080/",
     "height": 89
    },
    "colab_type": "code",
    "id": "GNzOLidxtvFa",
    "outputId": "35b1457d-0189-49f1-aa6d-3ef15b29bd6e"
   },
   "outputs": [
    {
     "name": "stdout",
     "output_type": "stream",
     "text": [
      "WARNING:tensorflow:From /usr/local/lib/python3.6/dist-packages/tensorflow/python/framework/op_def_library.py:263: colocate_with (from tensorflow.python.framework.ops) is deprecated and will be removed in a future version.\n",
      "Instructions for updating:\n",
      "Colocations handled automatically by placer.\n"
     ]
    }
   ],
   "source": [
    "model.add(Dense(1, input_dim=8, activation=\"sigmoid\"))"
   ]
  },
  {
   "cell_type": "markdown",
   "metadata": {
    "colab_type": "text",
    "id": "EnI3jwKMtBL2"
   },
   "source": [
    "### Compile Model\n",
    "Using binary_crossentropy as the loss function here is just telling keras that I'm doing binary classification so that it can use the appropriate loss function accordingly. If we were predicting non-binary categories we might assign something like `categorical_crossentropy`. We're also telling keras that we want it to report model accuracy as our main error metric for each epoch. We will also be able to see the overall accuracy once the model has finished training."
   ]
  },
  {
   "cell_type": "code",
   "execution_count": null,
   "metadata": {
    "colab": {},
    "colab_type": "code",
    "id": "qp6xwYaqurRO"
   },
   "outputs": [],
   "source": [
    "model.compile(loss='binary_crossentropy', optimizer='adam', metrics=['accuracy'])"
   ]
  },
  {
   "cell_type": "markdown",
   "metadata": {
    "colab_type": "text",
    "id": "5dW8SZ2Ls9SX"
   },
   "source": [
    "### Fit Model\n",
    "\n",
    "Lets train it up! `model.fit()` has a `batch_size` parameter that we can use if we want to do mini-batch epochs, but since this tabular dataset is pretty small we're just going to delete that parameter. Keras' default `batch_size` is `None` so omiting it will tell Keras to do batch epochs. "
   ]
  },
  {
   "cell_type": "code",
   "execution_count": 27,
   "metadata": {
    "colab": {
     "base_uri": "https://localhost:8080/",
     "height": 5288
    },
    "colab_type": "code",
    "id": "nJxdmX_-u5MJ",
    "outputId": "ae78a80d-5b9a-46e0-a8c2-45b41e40bdfd"
   },
   "outputs": [
    {
     "name": "stdout",
     "output_type": "stream",
     "text": [
      "WARNING:tensorflow:From /usr/local/lib/python3.6/dist-packages/tensorflow/python/ops/math_ops.py:3066: to_int32 (from tensorflow.python.ops.math_ops) is deprecated and will be removed in a future version.\n",
      "Instructions for updating:\n",
      "Use tf.cast instead.\n",
      "Epoch 1/150\n",
      "768/768 [==============================] - 1s 852us/step - loss: 9.9188 - acc: 0.3581\n",
      "Epoch 2/150\n",
      "768/768 [==============================] - 0s 36us/step - loss: 9.8753 - acc: 0.3607\n",
      "Epoch 3/150\n",
      "768/768 [==============================] - 0s 37us/step - loss: 9.8506 - acc: 0.3620\n",
      "Epoch 4/150\n",
      "768/768 [==============================] - 0s 36us/step - loss: 9.7781 - acc: 0.3646\n",
      "Epoch 5/150\n",
      "768/768 [==============================] - 0s 37us/step - loss: 9.5696 - acc: 0.3685\n",
      "Epoch 6/150\n",
      "768/768 [==============================] - 0s 40us/step - loss: 9.3599 - acc: 0.3815\n",
      "Epoch 7/150\n",
      "768/768 [==============================] - 0s 38us/step - loss: 9.3026 - acc: 0.3815\n",
      "Epoch 8/150\n",
      "768/768 [==============================] - 0s 38us/step - loss: 9.2862 - acc: 0.3880\n",
      "Epoch 9/150\n",
      "768/768 [==============================] - 0s 42us/step - loss: 9.2856 - acc: 0.3880\n",
      "Epoch 10/150\n",
      "768/768 [==============================] - 0s 38us/step - loss: 9.2799 - acc: 0.3893\n",
      "Epoch 11/150\n",
      "768/768 [==============================] - 0s 38us/step - loss: 9.2835 - acc: 0.3867\n",
      "Epoch 12/150\n",
      "768/768 [==============================] - 0s 36us/step - loss: 9.2727 - acc: 0.3919\n",
      "Epoch 13/150\n",
      "768/768 [==============================] - 0s 37us/step - loss: 9.2570 - acc: 0.3945\n",
      "Epoch 14/150\n",
      "768/768 [==============================] - 0s 37us/step - loss: 9.2538 - acc: 0.3932\n",
      "Epoch 15/150\n",
      "768/768 [==============================] - 0s 40us/step - loss: 9.2348 - acc: 0.3945\n",
      "Epoch 16/150\n",
      "768/768 [==============================] - 0s 35us/step - loss: 9.2211 - acc: 0.3958\n",
      "Epoch 17/150\n",
      "768/768 [==============================] - 0s 39us/step - loss: 9.2085 - acc: 0.3971\n",
      "Epoch 18/150\n",
      "768/768 [==============================] - 0s 37us/step - loss: 9.1888 - acc: 0.3984\n",
      "Epoch 19/150\n",
      "768/768 [==============================] - 0s 38us/step - loss: 9.1478 - acc: 0.4010\n",
      "Epoch 20/150\n",
      "768/768 [==============================] - 0s 37us/step - loss: 9.1018 - acc: 0.4010\n",
      "Epoch 21/150\n",
      "768/768 [==============================] - 0s 38us/step - loss: 9.0177 - acc: 0.4089\n",
      "Epoch 22/150\n",
      "768/768 [==============================] - 0s 36us/step - loss: 8.8486 - acc: 0.4180\n",
      "Epoch 23/150\n",
      "768/768 [==============================] - 0s 38us/step - loss: 8.6570 - acc: 0.4219\n",
      "Epoch 24/150\n",
      "768/768 [==============================] - 0s 38us/step - loss: 8.3712 - acc: 0.4427\n",
      "Epoch 25/150\n",
      "768/768 [==============================] - 0s 37us/step - loss: 8.1474 - acc: 0.4596\n",
      "Epoch 26/150\n",
      "768/768 [==============================] - 0s 37us/step - loss: 7.9325 - acc: 0.4753\n",
      "Epoch 27/150\n",
      "768/768 [==============================] - 0s 49us/step - loss: 7.7703 - acc: 0.4909\n",
      "Epoch 28/150\n",
      "768/768 [==============================] - 0s 47us/step - loss: 7.6964 - acc: 0.4974\n",
      "Epoch 29/150\n",
      "768/768 [==============================] - 0s 40us/step - loss: 7.6199 - acc: 0.5026\n",
      "Epoch 30/150\n",
      "768/768 [==============================] - 0s 47us/step - loss: 7.5632 - acc: 0.5117\n",
      "Epoch 31/150\n",
      "768/768 [==============================] - 0s 43us/step - loss: 7.5084 - acc: 0.5182\n",
      "Epoch 32/150\n",
      "768/768 [==============================] - 0s 46us/step - loss: 7.4527 - acc: 0.5156\n",
      "Epoch 33/150\n",
      "768/768 [==============================] - 0s 41us/step - loss: 7.4044 - acc: 0.5156\n",
      "Epoch 34/150\n",
      "768/768 [==============================] - 0s 41us/step - loss: 7.3755 - acc: 0.5143\n",
      "Epoch 35/150\n",
      "768/768 [==============================] - 0s 44us/step - loss: 7.3435 - acc: 0.5117\n",
      "Epoch 36/150\n",
      "768/768 [==============================] - 0s 48us/step - loss: 7.2927 - acc: 0.5104\n",
      "Epoch 37/150\n",
      "768/768 [==============================] - 0s 48us/step - loss: 7.0288 - acc: 0.5143\n",
      "Epoch 38/150\n",
      "768/768 [==============================] - 0s 37us/step - loss: 5.8692 - acc: 0.5326\n",
      "Epoch 39/150\n",
      "768/768 [==============================] - 0s 45us/step - loss: 4.9045 - acc: 0.5885\n",
      "Epoch 40/150\n",
      "768/768 [==============================] - 0s 37us/step - loss: 4.8330 - acc: 0.5911\n",
      "Epoch 41/150\n",
      "768/768 [==============================] - 0s 38us/step - loss: 4.7845 - acc: 0.5872\n",
      "Epoch 42/150\n",
      "768/768 [==============================] - 0s 38us/step - loss: 4.7337 - acc: 0.5911\n",
      "Epoch 43/150\n",
      "768/768 [==============================] - 0s 40us/step - loss: 4.6784 - acc: 0.5898\n",
      "Epoch 44/150\n",
      "768/768 [==============================] - 0s 38us/step - loss: 4.6197 - acc: 0.5911\n",
      "Epoch 45/150\n",
      "768/768 [==============================] - 0s 38us/step - loss: 4.5706 - acc: 0.5898\n",
      "Epoch 46/150\n",
      "768/768 [==============================] - 0s 39us/step - loss: 4.5075 - acc: 0.5807\n",
      "Epoch 47/150\n",
      "768/768 [==============================] - 0s 38us/step - loss: 4.4164 - acc: 0.5872\n",
      "Epoch 48/150\n",
      "768/768 [==============================] - 0s 39us/step - loss: 4.3319 - acc: 0.5898\n",
      "Epoch 49/150\n",
      "768/768 [==============================] - 0s 35us/step - loss: 4.2477 - acc: 0.5911\n",
      "Epoch 50/150\n",
      "768/768 [==============================] - 0s 36us/step - loss: 4.1476 - acc: 0.5820\n",
      "Epoch 51/150\n",
      "768/768 [==============================] - 0s 36us/step - loss: 4.0454 - acc: 0.5807\n",
      "Epoch 52/150\n",
      "768/768 [==============================] - 0s 36us/step - loss: 3.9327 - acc: 0.5833\n",
      "Epoch 53/150\n",
      "768/768 [==============================] - 0s 37us/step - loss: 3.8294 - acc: 0.5833\n",
      "Epoch 54/150\n",
      "768/768 [==============================] - 0s 37us/step - loss: 3.7213 - acc: 0.5781\n",
      "Epoch 55/150\n",
      "768/768 [==============================] - 0s 39us/step - loss: 3.6197 - acc: 0.5977\n",
      "Epoch 56/150\n",
      "768/768 [==============================] - 0s 36us/step - loss: 3.5212 - acc: 0.5846\n",
      "Epoch 57/150\n",
      "768/768 [==============================] - 0s 36us/step - loss: 3.4429 - acc: 0.5911\n",
      "Epoch 58/150\n",
      "768/768 [==============================] - 0s 36us/step - loss: 3.3584 - acc: 0.6003\n",
      "Epoch 59/150\n",
      "768/768 [==============================] - 0s 37us/step - loss: 3.2876 - acc: 0.5990\n",
      "Epoch 60/150\n",
      "768/768 [==============================] - 0s 41us/step - loss: 3.2309 - acc: 0.6094\n",
      "Epoch 61/150\n",
      "768/768 [==============================] - 0s 36us/step - loss: 3.1867 - acc: 0.6172\n",
      "Epoch 62/150\n",
      "768/768 [==============================] - 0s 39us/step - loss: 3.1506 - acc: 0.6263\n",
      "Epoch 63/150\n",
      "768/768 [==============================] - 0s 39us/step - loss: 3.1218 - acc: 0.6172\n",
      "Epoch 64/150\n",
      "768/768 [==============================] - 0s 39us/step - loss: 3.0945 - acc: 0.6328\n",
      "Epoch 65/150\n",
      "768/768 [==============================] - 0s 40us/step - loss: 3.0868 - acc: 0.6354\n",
      "Epoch 66/150\n",
      "768/768 [==============================] - 0s 38us/step - loss: 3.0682 - acc: 0.6354\n",
      "Epoch 67/150\n",
      "768/768 [==============================] - 0s 45us/step - loss: 3.0603 - acc: 0.6445\n",
      "Epoch 68/150\n",
      "768/768 [==============================] - 0s 40us/step - loss: 3.0531 - acc: 0.6458\n",
      "Epoch 69/150\n",
      "768/768 [==============================] - 0s 37us/step - loss: 3.0476 - acc: 0.6576\n",
      "Epoch 70/150\n",
      "768/768 [==============================] - 0s 39us/step - loss: 3.0418 - acc: 0.6615\n",
      "Epoch 71/150\n",
      "768/768 [==============================] - 0s 40us/step - loss: 3.0404 - acc: 0.6615\n",
      "Epoch 72/150\n",
      "768/768 [==============================] - 0s 48us/step - loss: 3.0407 - acc: 0.6602\n",
      "Epoch 73/150\n",
      "768/768 [==============================] - 0s 40us/step - loss: 3.0329 - acc: 0.6719\n",
      "Epoch 74/150\n",
      "768/768 [==============================] - 0s 43us/step - loss: 3.0352 - acc: 0.6745\n",
      "Epoch 75/150\n",
      "768/768 [==============================] - 0s 41us/step - loss: 3.0332 - acc: 0.6745\n",
      "Epoch 76/150\n",
      "768/768 [==============================] - 0s 36us/step - loss: 3.0328 - acc: 0.6771\n",
      "Epoch 77/150\n",
      "768/768 [==============================] - 0s 36us/step - loss: 3.0330 - acc: 0.6784\n",
      "Epoch 78/150\n",
      "768/768 [==============================] - 0s 42us/step - loss: 3.0337 - acc: 0.6641\n",
      "Epoch 79/150\n",
      "768/768 [==============================] - 0s 44us/step - loss: 3.0248 - acc: 0.6654\n",
      "Epoch 80/150\n",
      "768/768 [==============================] - 0s 40us/step - loss: 3.0242 - acc: 0.6745\n",
      "Epoch 81/150\n",
      "768/768 [==============================] - 0s 35us/step - loss: 3.0252 - acc: 0.6771\n",
      "Epoch 82/150\n",
      "768/768 [==============================] - 0s 37us/step - loss: 3.0233 - acc: 0.6732\n",
      "Epoch 83/150\n",
      "768/768 [==============================] - 0s 35us/step - loss: 3.0215 - acc: 0.6797\n",
      "Epoch 84/150\n",
      "768/768 [==============================] - 0s 39us/step - loss: 3.0254 - acc: 0.6745\n",
      "Epoch 85/150\n",
      "768/768 [==============================] - 0s 38us/step - loss: 3.0267 - acc: 0.6745\n",
      "Epoch 86/150\n",
      "768/768 [==============================] - 0s 37us/step - loss: 3.0194 - acc: 0.6836\n",
      "Epoch 87/150\n",
      "768/768 [==============================] - 0s 39us/step - loss: 3.0217 - acc: 0.6732\n",
      "Epoch 88/150\n",
      "768/768 [==============================] - 0s 36us/step - loss: 3.0203 - acc: 0.6888\n",
      "Epoch 89/150\n",
      "768/768 [==============================] - 0s 38us/step - loss: 3.0188 - acc: 0.6758\n",
      "Epoch 90/150\n",
      "768/768 [==============================] - 0s 36us/step - loss: 3.0175 - acc: 0.6862\n",
      "Epoch 91/150\n",
      "768/768 [==============================] - 0s 37us/step - loss: 3.0196 - acc: 0.6823\n",
      "Epoch 92/150\n",
      "768/768 [==============================] - 0s 48us/step - loss: 3.0201 - acc: 0.6849\n",
      "Epoch 93/150\n",
      "768/768 [==============================] - 0s 35us/step - loss: 3.0183 - acc: 0.6797\n",
      "Epoch 94/150\n",
      "768/768 [==============================] - 0s 36us/step - loss: 3.0175 - acc: 0.6836\n",
      "Epoch 95/150\n",
      "768/768 [==============================] - 0s 37us/step - loss: 3.0166 - acc: 0.6836\n",
      "Epoch 96/150\n",
      "768/768 [==============================] - 0s 36us/step - loss: 3.0213 - acc: 0.6849\n",
      "Epoch 97/150\n",
      "768/768 [==============================] - 0s 36us/step - loss: 3.0184 - acc: 0.6875\n",
      "Epoch 98/150\n",
      "768/768 [==============================] - 0s 36us/step - loss: 3.0145 - acc: 0.6849\n",
      "Epoch 99/150\n",
      "768/768 [==============================] - 0s 36us/step - loss: 3.0157 - acc: 0.6810\n",
      "Epoch 100/150\n",
      "768/768 [==============================] - 0s 36us/step - loss: 3.0156 - acc: 0.6875\n",
      "Epoch 101/150\n",
      "768/768 [==============================] - 0s 38us/step - loss: 3.0170 - acc: 0.6797\n",
      "Epoch 102/150\n",
      "768/768 [==============================] - 0s 37us/step - loss: 3.0151 - acc: 0.6849\n",
      "Epoch 103/150\n",
      "768/768 [==============================] - 0s 38us/step - loss: 3.0145 - acc: 0.6836\n",
      "Epoch 104/150\n",
      "768/768 [==============================] - 0s 37us/step - loss: 3.0135 - acc: 0.6810\n",
      "Epoch 105/150\n",
      "768/768 [==============================] - 0s 36us/step - loss: 3.0145 - acc: 0.6888\n",
      "Epoch 106/150\n",
      "768/768 [==============================] - 0s 40us/step - loss: 3.0134 - acc: 0.6862\n",
      "Epoch 107/150\n",
      "768/768 [==============================] - 0s 36us/step - loss: 3.0130 - acc: 0.6862\n",
      "Epoch 108/150\n",
      "768/768 [==============================] - 0s 37us/step - loss: 3.0195 - acc: 0.6784\n",
      "Epoch 109/150\n",
      "768/768 [==============================] - 0s 36us/step - loss: 3.0151 - acc: 0.6914\n",
      "Epoch 110/150\n",
      "768/768 [==============================] - 0s 40us/step - loss: 3.0140 - acc: 0.6810\n",
      "Epoch 111/150\n",
      "768/768 [==============================] - 0s 39us/step - loss: 3.0155 - acc: 0.6888\n",
      "Epoch 112/150\n",
      "768/768 [==============================] - 0s 38us/step - loss: 3.0161 - acc: 0.6836\n",
      "Epoch 113/150\n",
      "768/768 [==============================] - 0s 38us/step - loss: 3.0158 - acc: 0.6758\n",
      "Epoch 114/150\n",
      "768/768 [==============================] - 0s 36us/step - loss: 3.0136 - acc: 0.6888\n",
      "Epoch 115/150\n",
      "768/768 [==============================] - 0s 37us/step - loss: 3.0154 - acc: 0.6940\n",
      "Epoch 116/150\n",
      "768/768 [==============================] - 0s 37us/step - loss: 3.0133 - acc: 0.6927\n",
      "Epoch 117/150\n",
      "768/768 [==============================] - 0s 36us/step - loss: 3.0163 - acc: 0.6823\n",
      "Epoch 118/150\n",
      "768/768 [==============================] - 0s 38us/step - loss: 3.0303 - acc: 0.6602\n",
      "Epoch 119/150\n",
      "768/768 [==============================] - 0s 39us/step - loss: 3.0197 - acc: 0.6862\n",
      "Epoch 120/150\n",
      "768/768 [==============================] - 0s 34us/step - loss: 3.0128 - acc: 0.6849\n",
      "Epoch 121/150\n",
      "768/768 [==============================] - 0s 39us/step - loss: 3.0102 - acc: 0.6901\n",
      "Epoch 122/150\n",
      "768/768 [==============================] - 0s 35us/step - loss: 3.0156 - acc: 0.6849\n",
      "Epoch 123/150\n",
      "768/768 [==============================] - 0s 35us/step - loss: 3.0136 - acc: 0.6914\n",
      "Epoch 124/150\n",
      "768/768 [==============================] - 0s 39us/step - loss: 3.0102 - acc: 0.6823\n",
      "Epoch 125/150\n",
      "768/768 [==============================] - 0s 36us/step - loss: 3.0121 - acc: 0.6901\n",
      "Epoch 126/150\n",
      "768/768 [==============================] - 0s 38us/step - loss: 3.0115 - acc: 0.6927\n",
      "Epoch 127/150\n",
      "768/768 [==============================] - 0s 39us/step - loss: 3.0140 - acc: 0.6836\n",
      "Epoch 128/150\n",
      "768/768 [==============================] - 0s 38us/step - loss: 3.0120 - acc: 0.6810\n",
      "Epoch 129/150\n",
      "768/768 [==============================] - 0s 40us/step - loss: 3.0105 - acc: 0.6914\n",
      "Epoch 130/150\n",
      "768/768 [==============================] - 0s 39us/step - loss: 3.0111 - acc: 0.6836\n",
      "Epoch 131/150\n",
      "768/768 [==============================] - 0s 36us/step - loss: 3.0109 - acc: 0.6875\n",
      "Epoch 132/150\n",
      "768/768 [==============================] - 0s 36us/step - loss: 3.0142 - acc: 0.6810\n",
      "Epoch 133/150\n",
      "768/768 [==============================] - 0s 36us/step - loss: 3.0095 - acc: 0.6953\n",
      "Epoch 134/150\n",
      "768/768 [==============================] - 0s 35us/step - loss: 3.0106 - acc: 0.6836\n",
      "Epoch 135/150\n",
      "768/768 [==============================] - 0s 35us/step - loss: 3.0113 - acc: 0.6940\n",
      "Epoch 136/150\n",
      "768/768 [==============================] - 0s 37us/step - loss: 3.0109 - acc: 0.6849\n",
      "Epoch 137/150\n",
      "768/768 [==============================] - 0s 35us/step - loss: 3.0099 - acc: 0.6914\n",
      "Epoch 138/150\n",
      "768/768 [==============================] - 0s 41us/step - loss: 3.0120 - acc: 0.6784\n",
      "Epoch 139/150\n",
      "768/768 [==============================] - 0s 37us/step - loss: 3.0103 - acc: 0.6914\n",
      "Epoch 140/150\n",
      "768/768 [==============================] - 0s 36us/step - loss: 3.0093 - acc: 0.6953\n",
      "Epoch 141/150\n",
      "768/768 [==============================] - 0s 36us/step - loss: 3.0111 - acc: 0.6875\n",
      "Epoch 142/150\n",
      "768/768 [==============================] - 0s 41us/step - loss: 3.0073 - acc: 0.6901\n",
      "Epoch 143/150\n",
      "768/768 [==============================] - 0s 38us/step - loss: 3.0099 - acc: 0.6836\n",
      "Epoch 144/150\n",
      "768/768 [==============================] - 0s 36us/step - loss: 3.0069 - acc: 0.6953\n",
      "Epoch 145/150\n",
      "768/768 [==============================] - 0s 37us/step - loss: 3.0118 - acc: 0.6862\n",
      "Epoch 146/150\n",
      "768/768 [==============================] - 0s 39us/step - loss: 3.0138 - acc: 0.6875\n",
      "Epoch 147/150\n",
      "768/768 [==============================] - 0s 38us/step - loss: 3.0143 - acc: 0.6823\n",
      "Epoch 148/150\n",
      "768/768 [==============================] - 0s 38us/step - loss: 3.0110 - acc: 0.6888\n",
      "Epoch 149/150\n",
      "768/768 [==============================] - 0s 35us/step - loss: 3.0067 - acc: 0.6901\n",
      "Epoch 150/150\n",
      "768/768 [==============================] - 0s 39us/step - loss: 3.0107 - acc: 0.6836\n"
     ]
    },
    {
     "data": {
      "text/plain": [
       "<keras.callbacks.History at 0x7f180365e438>"
      ]
     },
     "execution_count": 27,
     "metadata": {
      "tags": []
     },
     "output_type": "execute_result"
    }
   ],
   "source": [
    "model.fit(X, Y, epochs=150)"
   ]
  },
  {
   "cell_type": "markdown",
   "metadata": {
    "colab_type": "text",
    "id": "BSybwWEJtGFm"
   },
   "source": [
    "### Evaluate Model"
   ]
  },
  {
   "cell_type": "code",
   "execution_count": 30,
   "metadata": {
    "colab": {
     "base_uri": "https://localhost:8080/",
     "height": 52
    },
    "colab_type": "code",
    "id": "34wh8z9MvFMp",
    "outputId": "f55fa2e8-59fe-4072-a8d3-6f2b9b8aa9c0"
   },
   "outputs": [
    {
     "name": "stdout",
     "output_type": "stream",
     "text": [
      "768/768 [==============================] - 0s 28us/step\n",
      "acc: 69.27083333333334%\n"
     ]
    }
   ],
   "source": [
    "scores = model.evaluate(X, Y)\n",
    "print(f\"{model.metrics_names[1]}: {scores[1]*100}\")"
   ]
  },
  {
   "cell_type": "markdown",
   "metadata": {
    "colab_type": "text",
    "id": "AIJoRBxHy27n"
   },
   "source": [
    "# Keras Perceptron Model in 4 lines of code:"
   ]
  },
  {
   "cell_type": "code",
   "execution_count": 36,
   "metadata": {
    "colab": {
     "base_uri": "https://localhost:8080/",
     "height": 5216
    },
    "colab_type": "code",
    "id": "TQxyONqKvFxB",
    "outputId": "12966e66-2297-4f82-85b3-c275a9c38563"
   },
   "outputs": [
    {
     "name": "stdout",
     "output_type": "stream",
     "text": [
      "Epoch 1/150\n",
      "768/768 [==============================] - 0s 415us/step - loss: 7.9936 - acc: 0.3984\n",
      "Epoch 2/150\n",
      "768/768 [==============================] - 0s 37us/step - loss: 7.5918 - acc: 0.4336\n",
      "Epoch 3/150\n",
      "768/768 [==============================] - 0s 40us/step - loss: 7.0022 - acc: 0.4661\n",
      "Epoch 4/150\n",
      "768/768 [==============================] - 0s 42us/step - loss: 6.2710 - acc: 0.4922\n",
      "Epoch 5/150\n",
      "768/768 [==============================] - 0s 42us/step - loss: 5.6661 - acc: 0.5469\n",
      "Epoch 6/150\n",
      "768/768 [==============================] - 0s 40us/step - loss: 5.2267 - acc: 0.5768\n",
      "Epoch 7/150\n",
      "768/768 [==============================] - 0s 46us/step - loss: 4.8732 - acc: 0.6055\n",
      "Epoch 8/150\n",
      "768/768 [==============================] - 0s 47us/step - loss: 4.6400 - acc: 0.6250\n",
      "Epoch 9/150\n",
      "768/768 [==============================] - 0s 37us/step - loss: 4.5347 - acc: 0.6172\n",
      "Epoch 10/150\n",
      "768/768 [==============================] - 0s 41us/step - loss: 4.4936 - acc: 0.6159\n",
      "Epoch 11/150\n",
      "768/768 [==============================] - 0s 43us/step - loss: 4.4815 - acc: 0.6198\n",
      "Epoch 12/150\n",
      "768/768 [==============================] - 0s 35us/step - loss: 4.4625 - acc: 0.6185\n",
      "Epoch 13/150\n",
      "768/768 [==============================] - 0s 44us/step - loss: 4.4444 - acc: 0.6237\n",
      "Epoch 14/150\n",
      "768/768 [==============================] - 0s 39us/step - loss: 4.4206 - acc: 0.6224\n",
      "Epoch 15/150\n",
      "768/768 [==============================] - 0s 48us/step - loss: 4.4001 - acc: 0.6211\n",
      "Epoch 16/150\n",
      "768/768 [==============================] - 0s 41us/step - loss: 4.3810 - acc: 0.6211\n",
      "Epoch 17/150\n",
      "768/768 [==============================] - 0s 35us/step - loss: 4.3679 - acc: 0.6198\n",
      "Epoch 18/150\n",
      "768/768 [==============================] - 0s 40us/step - loss: 4.3424 - acc: 0.6211\n",
      "Epoch 19/150\n",
      "768/768 [==============================] - 0s 38us/step - loss: 4.3205 - acc: 0.6198\n",
      "Epoch 20/150\n",
      "768/768 [==============================] - 0s 37us/step - loss: 4.3036 - acc: 0.6250\n",
      "Epoch 21/150\n",
      "768/768 [==============================] - 0s 37us/step - loss: 4.2856 - acc: 0.6185\n",
      "Epoch 22/150\n",
      "768/768 [==============================] - 0s 37us/step - loss: 4.2640 - acc: 0.6237\n",
      "Epoch 23/150\n",
      "768/768 [==============================] - 0s 36us/step - loss: 4.2337 - acc: 0.6198\n",
      "Epoch 24/150\n",
      "768/768 [==============================] - 0s 38us/step - loss: 4.2074 - acc: 0.6172\n",
      "Epoch 25/150\n",
      "768/768 [==============================] - 0s 39us/step - loss: 4.1836 - acc: 0.6172\n",
      "Epoch 26/150\n",
      "768/768 [==============================] - 0s 40us/step - loss: 4.1549 - acc: 0.6198\n",
      "Epoch 27/150\n",
      "768/768 [==============================] - 0s 39us/step - loss: 4.1246 - acc: 0.6172\n",
      "Epoch 28/150\n",
      "768/768 [==============================] - 0s 38us/step - loss: 4.0928 - acc: 0.6172\n",
      "Epoch 29/150\n",
      "768/768 [==============================] - 0s 48us/step - loss: 4.0710 - acc: 0.6198\n",
      "Epoch 30/150\n",
      "768/768 [==============================] - 0s 38us/step - loss: 4.0325 - acc: 0.6159\n",
      "Epoch 31/150\n",
      "768/768 [==============================] - 0s 46us/step - loss: 3.9979 - acc: 0.6159\n",
      "Epoch 32/150\n",
      "768/768 [==============================] - 0s 41us/step - loss: 3.9632 - acc: 0.6172\n",
      "Epoch 33/150\n",
      "768/768 [==============================] - 0s 44us/step - loss: 3.9280 - acc: 0.6146\n",
      "Epoch 34/150\n",
      "768/768 [==============================] - 0s 36us/step - loss: 3.8915 - acc: 0.6133\n",
      "Epoch 35/150\n",
      "768/768 [==============================] - 0s 49us/step - loss: 3.8547 - acc: 0.6146\n",
      "Epoch 36/150\n",
      "768/768 [==============================] - 0s 35us/step - loss: 3.8311 - acc: 0.6120\n",
      "Epoch 37/150\n",
      "768/768 [==============================] - 0s 39us/step - loss: 3.7842 - acc: 0.6094\n",
      "Epoch 38/150\n",
      "768/768 [==============================] - 0s 37us/step - loss: 3.7484 - acc: 0.6068\n",
      "Epoch 39/150\n",
      "768/768 [==============================] - 0s 46us/step - loss: 3.7032 - acc: 0.6120\n",
      "Epoch 40/150\n",
      "768/768 [==============================] - 0s 37us/step - loss: 3.6651 - acc: 0.6016\n",
      "Epoch 41/150\n",
      "768/768 [==============================] - 0s 37us/step - loss: 3.6011 - acc: 0.6068\n",
      "Epoch 42/150\n",
      "768/768 [==============================] - 0s 41us/step - loss: 3.5087 - acc: 0.5990\n",
      "Epoch 43/150\n",
      "768/768 [==============================] - 0s 41us/step - loss: 3.1149 - acc: 0.5898\n",
      "Epoch 44/150\n",
      "768/768 [==============================] - 0s 41us/step - loss: 1.9003 - acc: 0.5000\n",
      "Epoch 45/150\n",
      "768/768 [==============================] - 0s 40us/step - loss: 1.6671 - acc: 0.5456\n",
      "Epoch 46/150\n",
      "768/768 [==============================] - 0s 37us/step - loss: 1.5055 - acc: 0.5365\n",
      "Epoch 47/150\n",
      "768/768 [==============================] - 0s 45us/step - loss: 1.4111 - acc: 0.5273\n",
      "Epoch 48/150\n",
      "768/768 [==============================] - 0s 41us/step - loss: 1.3060 - acc: 0.5273\n",
      "Epoch 49/150\n",
      "768/768 [==============================] - 0s 42us/step - loss: 1.2272 - acc: 0.5534\n",
      "Epoch 50/150\n",
      "768/768 [==============================] - 0s 46us/step - loss: 1.1318 - acc: 0.5508\n",
      "Epoch 51/150\n",
      "768/768 [==============================] - 0s 41us/step - loss: 1.0748 - acc: 0.5352\n",
      "Epoch 52/150\n",
      "768/768 [==============================] - 0s 45us/step - loss: 1.0015 - acc: 0.5716\n",
      "Epoch 53/150\n",
      "768/768 [==============================] - 0s 42us/step - loss: 0.9331 - acc: 0.5846\n",
      "Epoch 54/150\n",
      "768/768 [==============================] - 0s 39us/step - loss: 0.8887 - acc: 0.5742\n",
      "Epoch 55/150\n",
      "768/768 [==============================] - 0s 47us/step - loss: 0.8251 - acc: 0.5742\n",
      "Epoch 56/150\n",
      "768/768 [==============================] - 0s 39us/step - loss: 0.8036 - acc: 0.5742\n",
      "Epoch 57/150\n",
      "768/768 [==============================] - 0s 40us/step - loss: 0.7534 - acc: 0.6380\n",
      "Epoch 58/150\n",
      "768/768 [==============================] - 0s 52us/step - loss: 0.7141 - acc: 0.6250\n",
      "Epoch 59/150\n",
      "768/768 [==============================] - 0s 43us/step - loss: 0.6884 - acc: 0.6341\n",
      "Epoch 60/150\n",
      "768/768 [==============================] - 0s 36us/step - loss: 0.6751 - acc: 0.6589\n",
      "Epoch 61/150\n",
      "768/768 [==============================] - 0s 43us/step - loss: 0.6690 - acc: 0.6354\n",
      "Epoch 62/150\n",
      "768/768 [==============================] - 0s 36us/step - loss: 0.6484 - acc: 0.6510\n",
      "Epoch 63/150\n",
      "768/768 [==============================] - 0s 38us/step - loss: 0.6198 - acc: 0.6706\n",
      "Epoch 64/150\n",
      "768/768 [==============================] - 0s 38us/step - loss: 0.6216 - acc: 0.6745\n",
      "Epoch 65/150\n",
      "768/768 [==============================] - 0s 40us/step - loss: 0.6152 - acc: 0.6797\n",
      "Epoch 66/150\n",
      "768/768 [==============================] - 0s 35us/step - loss: 0.6067 - acc: 0.6966\n",
      "Epoch 67/150\n",
      "768/768 [==============================] - 0s 37us/step - loss: 0.6047 - acc: 0.6992\n",
      "Epoch 68/150\n",
      "768/768 [==============================] - 0s 37us/step - loss: 0.6014 - acc: 0.6914\n",
      "Epoch 69/150\n",
      "768/768 [==============================] - 0s 40us/step - loss: 0.5973 - acc: 0.7005\n",
      "Epoch 70/150\n",
      "768/768 [==============================] - 0s 37us/step - loss: 0.6043 - acc: 0.6836\n",
      "Epoch 71/150\n",
      "768/768 [==============================] - 0s 36us/step - loss: 0.6004 - acc: 0.6927\n",
      "Epoch 72/150\n",
      "768/768 [==============================] - 0s 36us/step - loss: 0.6068 - acc: 0.6940\n",
      "Epoch 73/150\n",
      "768/768 [==============================] - 0s 37us/step - loss: 0.6009 - acc: 0.6966\n",
      "Epoch 74/150\n",
      "768/768 [==============================] - 0s 37us/step - loss: 0.6024 - acc: 0.7018\n",
      "Epoch 75/150\n",
      "768/768 [==============================] - 0s 35us/step - loss: 0.5960 - acc: 0.6992\n",
      "Epoch 76/150\n",
      "768/768 [==============================] - 0s 39us/step - loss: 0.5901 - acc: 0.7122\n",
      "Epoch 77/150\n",
      "768/768 [==============================] - 0s 35us/step - loss: 0.5886 - acc: 0.7122\n",
      "Epoch 78/150\n",
      "768/768 [==============================] - 0s 36us/step - loss: 0.5982 - acc: 0.6901\n",
      "Epoch 79/150\n",
      "768/768 [==============================] - 0s 35us/step - loss: 0.5982 - acc: 0.6927\n",
      "Epoch 80/150\n",
      "768/768 [==============================] - 0s 36us/step - loss: 0.5958 - acc: 0.6953\n",
      "Epoch 81/150\n",
      "768/768 [==============================] - 0s 37us/step - loss: 0.5897 - acc: 0.6992\n",
      "Epoch 82/150\n",
      "768/768 [==============================] - 0s 39us/step - loss: 0.5950 - acc: 0.6914\n",
      "Epoch 83/150\n",
      "768/768 [==============================] - 0s 37us/step - loss: 0.5900 - acc: 0.6979\n",
      "Epoch 84/150\n",
      "768/768 [==============================] - 0s 37us/step - loss: 0.5920 - acc: 0.7070\n",
      "Epoch 85/150\n",
      "768/768 [==============================] - 0s 39us/step - loss: 0.5918 - acc: 0.7083\n",
      "Epoch 86/150\n",
      "768/768 [==============================] - 0s 38us/step - loss: 0.5975 - acc: 0.6862\n",
      "Epoch 87/150\n",
      "768/768 [==============================] - 0s 34us/step - loss: 0.5958 - acc: 0.6940\n",
      "Epoch 88/150\n",
      "768/768 [==============================] - 0s 36us/step - loss: 0.5956 - acc: 0.6992\n",
      "Epoch 89/150\n",
      "768/768 [==============================] - 0s 36us/step - loss: 0.5896 - acc: 0.7018\n",
      "Epoch 90/150\n",
      "768/768 [==============================] - 0s 42us/step - loss: 0.5966 - acc: 0.6953\n",
      "Epoch 91/150\n",
      "768/768 [==============================] - 0s 36us/step - loss: 0.5935 - acc: 0.7044\n",
      "Epoch 92/150\n",
      "768/768 [==============================] - 0s 36us/step - loss: 0.5916 - acc: 0.6914\n",
      "Epoch 93/150\n",
      "768/768 [==============================] - 0s 38us/step - loss: 0.5946 - acc: 0.6927\n",
      "Epoch 94/150\n",
      "768/768 [==============================] - 0s 34us/step - loss: 0.5908 - acc: 0.7031\n",
      "Epoch 95/150\n",
      "768/768 [==============================] - 0s 38us/step - loss: 0.5902 - acc: 0.7018\n",
      "Epoch 96/150\n",
      "768/768 [==============================] - 0s 36us/step - loss: 0.5945 - acc: 0.6888\n",
      "Epoch 97/150\n",
      "768/768 [==============================] - 0s 37us/step - loss: 0.5887 - acc: 0.6953\n",
      "Epoch 98/150\n",
      "768/768 [==============================] - 0s 38us/step - loss: 0.5925 - acc: 0.6966\n",
      "Epoch 99/150\n",
      "768/768 [==============================] - 0s 36us/step - loss: 0.5892 - acc: 0.7005\n",
      "Epoch 100/150\n",
      "768/768 [==============================] - 0s 42us/step - loss: 0.5852 - acc: 0.7174\n",
      "Epoch 101/150\n",
      "768/768 [==============================] - 0s 38us/step - loss: 0.5855 - acc: 0.7057\n",
      "Epoch 102/150\n",
      "768/768 [==============================] - 0s 39us/step - loss: 0.5819 - acc: 0.7148\n",
      "Epoch 103/150\n",
      "768/768 [==============================] - 0s 37us/step - loss: 0.5877 - acc: 0.7044\n",
      "Epoch 104/150\n",
      "768/768 [==============================] - 0s 38us/step - loss: 0.5876 - acc: 0.7057\n",
      "Epoch 105/150\n",
      "768/768 [==============================] - 0s 37us/step - loss: 0.5877 - acc: 0.7057\n",
      "Epoch 106/150\n",
      "768/768 [==============================] - 0s 36us/step - loss: 0.5863 - acc: 0.7044\n",
      "Epoch 107/150\n",
      "768/768 [==============================] - 0s 36us/step - loss: 0.5829 - acc: 0.7031\n",
      "Epoch 108/150\n",
      "768/768 [==============================] - 0s 35us/step - loss: 0.5846 - acc: 0.7057\n",
      "Epoch 109/150\n",
      "768/768 [==============================] - 0s 36us/step - loss: 0.5824 - acc: 0.7083\n",
      "Epoch 110/150\n",
      "768/768 [==============================] - 0s 37us/step - loss: 0.5824 - acc: 0.7070\n",
      "Epoch 111/150\n",
      "768/768 [==============================] - 0s 38us/step - loss: 0.5845 - acc: 0.7122\n",
      "Epoch 112/150\n",
      "768/768 [==============================] - 0s 35us/step - loss: 0.5855 - acc: 0.7214\n",
      "Epoch 113/150\n",
      "768/768 [==============================] - 0s 37us/step - loss: 0.5834 - acc: 0.7031\n",
      "Epoch 114/150\n",
      "768/768 [==============================] - 0s 36us/step - loss: 0.5819 - acc: 0.7188\n",
      "Epoch 115/150\n",
      "768/768 [==============================] - 0s 37us/step - loss: 0.5810 - acc: 0.7083\n",
      "Epoch 116/150\n",
      "768/768 [==============================] - 0s 38us/step - loss: 0.5840 - acc: 0.7135\n",
      "Epoch 117/150\n",
      "768/768 [==============================] - 0s 38us/step - loss: 0.5779 - acc: 0.7227\n",
      "Epoch 118/150\n",
      "768/768 [==============================] - 0s 39us/step - loss: 0.5810 - acc: 0.7083\n",
      "Epoch 119/150\n",
      "768/768 [==============================] - 0s 38us/step - loss: 0.5887 - acc: 0.6836\n",
      "Epoch 120/150\n",
      "768/768 [==============================] - 0s 36us/step - loss: 0.5787 - acc: 0.7096\n",
      "Epoch 121/150\n",
      "768/768 [==============================] - 0s 35us/step - loss: 0.5818 - acc: 0.7044\n",
      "Epoch 122/150\n",
      "768/768 [==============================] - 0s 37us/step - loss: 0.5823 - acc: 0.7044\n",
      "Epoch 123/150\n",
      "768/768 [==============================] - 0s 38us/step - loss: 0.5807 - acc: 0.7122\n",
      "Epoch 124/150\n",
      "768/768 [==============================] - 0s 42us/step - loss: 0.5778 - acc: 0.7148\n",
      "Epoch 125/150\n",
      "768/768 [==============================] - 0s 36us/step - loss: 0.5839 - acc: 0.7214\n",
      "Epoch 126/150\n",
      "768/768 [==============================] - 0s 37us/step - loss: 0.5800 - acc: 0.7096\n",
      "Epoch 127/150\n",
      "768/768 [==============================] - 0s 35us/step - loss: 0.5751 - acc: 0.7201\n",
      "Epoch 128/150\n",
      "768/768 [==============================] - 0s 36us/step - loss: 0.5785 - acc: 0.7109\n",
      "Epoch 129/150\n",
      "768/768 [==============================] - 0s 36us/step - loss: 0.5770 - acc: 0.7161\n",
      "Epoch 130/150\n",
      "768/768 [==============================] - 0s 35us/step - loss: 0.5844 - acc: 0.7109\n",
      "Epoch 131/150\n",
      "768/768 [==============================] - 0s 38us/step - loss: 0.5795 - acc: 0.7083\n",
      "Epoch 132/150\n",
      "768/768 [==============================] - 0s 39us/step - loss: 0.5812 - acc: 0.7070\n",
      "Epoch 133/150\n",
      "768/768 [==============================] - 0s 35us/step - loss: 0.5795 - acc: 0.7057\n",
      "Epoch 134/150\n",
      "768/768 [==============================] - 0s 40us/step - loss: 0.5757 - acc: 0.7148\n",
      "Epoch 135/150\n",
      "768/768 [==============================] - 0s 38us/step - loss: 0.5755 - acc: 0.7253\n",
      "Epoch 136/150\n",
      "768/768 [==============================] - 0s 36us/step - loss: 0.5762 - acc: 0.7135\n",
      "Epoch 137/150\n",
      "768/768 [==============================] - 0s 35us/step - loss: 0.5772 - acc: 0.7161\n",
      "Epoch 138/150\n",
      "768/768 [==============================] - 0s 35us/step - loss: 0.5764 - acc: 0.7096\n",
      "Epoch 139/150\n",
      "768/768 [==============================] - 0s 36us/step - loss: 0.5776 - acc: 0.7135\n",
      "Epoch 140/150\n",
      "768/768 [==============================] - 0s 36us/step - loss: 0.5713 - acc: 0.7253\n",
      "Epoch 141/150\n",
      "768/768 [==============================] - 0s 36us/step - loss: 0.5797 - acc: 0.7096\n",
      "Epoch 142/150\n",
      "768/768 [==============================] - 0s 37us/step - loss: 0.5749 - acc: 0.7174\n",
      "Epoch 143/150\n",
      "768/768 [==============================] - 0s 36us/step - loss: 0.5801 - acc: 0.7096\n",
      "Epoch 144/150\n",
      "768/768 [==============================] - 0s 36us/step - loss: 0.5764 - acc: 0.7109\n",
      "Epoch 145/150\n",
      "768/768 [==============================] - 0s 37us/step - loss: 0.5801 - acc: 0.7135\n",
      "Epoch 146/150\n",
      "768/768 [==============================] - 0s 35us/step - loss: 0.5798 - acc: 0.7070\n",
      "Epoch 147/150\n",
      "768/768 [==============================] - 0s 35us/step - loss: 0.5834 - acc: 0.7188\n",
      "Epoch 148/150\n",
      "768/768 [==============================] - 0s 39us/step - loss: 0.5844 - acc: 0.7070\n",
      "Epoch 149/150\n",
      "768/768 [==============================] - 0s 35us/step - loss: 0.5716 - acc: 0.7201\n",
      "Epoch 150/150\n",
      "768/768 [==============================] - 0s 36us/step - loss: 0.5747 - acc: 0.7161\n"
     ]
    },
    {
     "data": {
      "text/plain": [
       "<keras.callbacks.History at 0x7f17fe0860f0>"
      ]
     },
     "execution_count": 36,
     "metadata": {
      "tags": []
     },
     "output_type": "execute_result"
    }
   ],
   "source": [
    "model = Sequential()\n",
    "model.add(Dense(1, input_dim=8, activation='sigmoid'))\n",
    "model.compile(loss='binary_crossentropy', optimizer='adam', metrics=['accuracy'])\n",
    "model.fit(X, Y, epochs=150)"
   ]
  },
  {
   "cell_type": "code",
   "execution_count": 37,
   "metadata": {
    "colab": {
     "base_uri": "https://localhost:8080/",
     "height": 69
    },
    "colab_type": "code",
    "id": "Z1wfKUxszPKa",
    "outputId": "0cdacd1d-6e5a-4bbe-fabb-568cd94724be"
   },
   "outputs": [
    {
     "name": "stdout",
     "output_type": "stream",
     "text": [
      "768/768 [==============================] - 0s 134us/step\n",
      "\n",
      "acc: 73.83%\n"
     ]
    }
   ],
   "source": [
    "# evaluate the model\n",
    "scores = model.evaluate(X, Y)\n",
    "print(f\"{model.metrics_names[1]}: {scores[1]*100}\")"
   ]
  },
  {
   "cell_type": "markdown",
   "metadata": {
    "colab_type": "text",
    "id": "zHYB7k9q3O8T"
   },
   "source": [
    "### Why are we getting such different results if we re-run the model?\n",
    "\n",
    "<https://machinelearningmastery.com/randomness-in-machine-learning/>"
   ]
  },
  {
   "cell_type": "markdown",
   "metadata": {
    "colab_type": "text",
    "id": "ueDVpctAzvy8"
   },
   "source": [
    "# What architecture should we try?"
   ]
  },
  {
   "cell_type": "code",
   "execution_count": null,
   "metadata": {
    "colab": {},
    "colab_type": "code",
    "id": "6W2Sc7-LzQo_"
   },
   "outputs": [],
   "source": [
    "#### Tell me your amazing ideas"
   ]
  },
  {
   "cell_type": "markdown",
   "metadata": {
    "colab_type": "text",
    "id": "tcjMuxtn6wIQ"
   },
   "source": [
    "# Activation Functions\n",
    "\n",
    "What is an activation function and how does it work?\n",
    "\n",
    "- Takes in a weighted sum of inputs + a bias from the previous layer and outputs an \"activation\" value.\n",
    "- Based its inputs the neuron decides how 'activated' it should be. This can be thought of as the neuron deciding how strongly to fire. You can also think of it as if the neuron is deciding how much of the signal that it has received to pass onto the next layer. \n",
    "- Our choice of activation function does not only affect signal that is passed forward but also affects the backpropagation algorithm. It affects how we update weights in reverse order since activated weight/input sums become the inputs of the next layer. \n"
   ]
  },
  {
   "cell_type": "markdown",
   "metadata": {
    "colab_type": "text",
    "id": "n_b0u8Ch60bA"
   },
   "source": [
    "## Step Function\n",
    "\n",
    "![Heaviside Step Function](https://upload.wikimedia.org/wikipedia/commons/thumb/d/d9/Dirac_distribution_CDF.svg/325px-Dirac_distribution_CDF.svg.png)\n",
    "\n",
    "All or nothing, a little extreme, which is fine, but makes updating weights through backpropagation impossible. Why? remember that during backpropagation we use derivatives in order to determine how much to update or not update weights. What is the derivative of the step function?"
   ]
  },
  {
   "cell_type": "markdown",
   "metadata": {
    "colab_type": "text",
    "id": "vKR0YhIVEnXZ"
   },
   "source": [
    "## Linear Function\n",
    "\n",
    "![Linear Function](http://www.roconnell.net/Parent%20function/linear.gif)\n",
    "\n",
    "The linear function takes the opposite tact from the step function and passes the signal onto the next layer by a constant factor. There are problems with this but the biggest problems again lie in backpropagation. The derivative of any linear function is a horizontal line which would indicate that we should update all weights by a constant amount every time -which on balance wouldn't change the behavior of our network. Linear functions are typically only used for very simple tasks where interpretability is important, but if interpretability is your highest priority, you probably shouldn't be using neural networks in the first place."
   ]
  },
  {
   "cell_type": "markdown",
   "metadata": {
    "colab_type": "text",
    "id": "JFurIVL6EkQ8"
   },
   "source": [
    "## Sigmoid Function\n",
    "\n",
    "![Sigmoid Function](https://upload.wikimedia.org/wikipedia/commons/thumb/8/88/Logistic-curve.svg/480px-Logistic-curve.svg.png)\n",
    "\n",
    "The sigmoid function works great as an activation function! it's continuously differentiable, its derivative doesn't have a constant slope, and having the higher slope in the middle pushes y value predictions towards extremes which is particularly useful for binary classification problems. I mean, this is why we use it as the squishifier in logistic regression as well. It constrains output, but over repeated epochs pushes predictions towards a strong binary prediction. \n",
    "\n",
    "What's the biggest problem with the sigmoid function? The fact that its slope gets pretty flat so quickly after its departure from zero. This means that updating weights based on its gradient really diminishes the size of our weight updates as our model gets more confident about its classifications. This is why even after so many iterations with our test score example we couldn't reach the levels of fit that our gradient descent based model could reach in just a few epochs."
   ]
  },
  {
   "cell_type": "markdown",
   "metadata": {
    "colab_type": "text",
    "id": "hm6p1HWbEhYi"
   },
   "source": [
    "## Tanh Function\n",
    "\n",
    "![Tanh Function](http://mathworld.wolfram.com/images/interactive/TanhReal.gif)\n",
    "\n",
    "What if the sigmoid function didn't get so flat quite as soon when moving away from zero and was a little bit steeper in the middle? That's basically the Tanh function. The Tanh function can actually be created by scaling the sigmoid function by 2 in the y dimension and subtracting 1 from all values. It has basically the same properties as the sigmoid, still struggles from diminishingly flat gradients as we move away from 0, but its derivative is higher around 0 causing weights to move to the extremes a little faster. "
   ]
  },
  {
   "cell_type": "markdown",
   "metadata": {
    "colab_type": "text",
    "id": "sFOn_L6gEcz1"
   },
   "source": [
    "## ReLU Function\n",
    "\n",
    "![ReLU Function](https://cdn-images-1.medium.com/max/937/1*oePAhrm74RNnNEolprmTaQ.png)\n",
    "\n",
    "ReLU stands for Rectified Linear Units it is by far the most commonly used activation function in modern neural networks. It doesn't activate neurons that are being passed a negative signal and passes on positive signals. Think about why this might be useful. Remember how a lot of our initial weights got set to negative numbers by chance? This would have dealt with those negative weights a lot faster than the sigmoid function updating. What does the derivative of this function look like? It looks like the step function! This means that not all neurons are activated. With sigmoid basically all of our neurons are passing some amount of signal even if it's small making it hard for the network to differentiate important and less important connections. ReLU turns off a portion of our less important neurons which decreases computational load, but also helps the network learn what the most important connections are faster. \n",
    "\n",
    "What's the problem with relu? Well the left half of its derivative function shows that for neurons that are initialized with weights that cause them to have no activation, our gradient will not update those neuron's weights, this can lead to dead neurons that never fire and whose weights never get updated. We would probably want to update the weights of neurons that didn't fire even if it's just by a little bit in case we got unlucky with our initial weights and want to give those neurons a chance of turning back on in the future."
   ]
  },
  {
   "cell_type": "markdown",
   "metadata": {
    "colab_type": "text",
    "id": "XWdvWOBIETwk"
   },
   "source": [
    "## Leaky ReLU\n",
    "\n",
    "![Leaky ReLU](https://cdn-images-1.medium.com/max/1600/1*ypsvQH7kvtI2BhzR2eT_Sw.png)\n",
    "\n",
    "Leaky ReLU accomplishes exactly that! it avoids having a gradient of 0 on the left side of its derivative function. This means that even \"dead\" neurons have a chance of being revived over enough iterations. In some specifications the slope of the leaky left-hand side can also be experimented with as a hyperparameter of the model!"
   ]
  },
  {
   "cell_type": "markdown",
   "metadata": {
    "colab_type": "text",
    "id": "FcAxkNFREMFb"
   },
   "source": [
    "## Softmax Function\n",
    "\n",
    "![Softmax Function](https://cdn-images-1.medium.com/max/800/1*670CdxchunD-yAuUWdI7Bw.png)\n",
    "\n",
    "Like the sigmoid function but more useful for multi-class classification problems. The softmax function can take any set of inputs and translate them into probabilities that sum up to 1. This means that we can throw any list of outputs at it and it will translate them into probabilities, this is extremely useful for multi-class classification problems. Like MNIST for example..."
   ]
  },
  {
   "cell_type": "markdown",
   "metadata": {
    "colab_type": "text",
    "id": "23-XRRXKHs34"
   },
   "source": [
    "## Major takeaways\n",
    "\n",
    "- ReLU is generally better at obtaining the optimal model fit.\n",
    "- Sigmoid and its derivatives are usually better at classification problems.\n",
    "- Softmax for multi-class classification problems. \n",
    "\n",
    "You'll typically see ReLU used for all initial layers and then the final layer being sigmoid or softmax for classification problems. But you can experiment and tune these selections as hyperparameters as well!"
   ]
  },
  {
   "cell_type": "markdown",
   "metadata": {
    "colab_type": "text",
    "id": "TWuoXZCCKCI7"
   },
   "source": [
    "## MNIST with Keras \n",
    "\n",
    "### This will be a good chance to bring up dropout regularization. :)"
   ]
  },
  {
   "cell_type": "code",
   "execution_count": null,
   "metadata": {
    "colab": {},
    "colab_type": "code",
    "id": "jmJ_5azs04pU"
   },
   "outputs": [],
   "source": [
    "### Let's do it!"
   ]
  },
  {
   "cell_type": "markdown",
   "metadata": {
    "colab_type": "text",
    "id": "CKmx8153w9Ci"
   },
   "source": [
    "## What if we use dropout techniques to prevent overfitting? How does that affect our model?\n",
    "\n",
    "![Regularization](https://upload.wikimedia.org/wikipedia/commons/thumb/0/02/Regularization.svg/354px-Regularization.svg.png)"
   ]
  },
  {
   "cell_type": "code",
   "execution_count": null,
   "metadata": {
    "colab": {},
    "colab_type": "code",
    "id": "CWDopERJ16yJ"
   },
   "outputs": [],
   "source": [
    "### Try it with dropout"
   ]
  }
 ],
 "metadata": {
  "colab": {
   "collapsed_sections": [],
   "name": "LS_DS_433_Keras_Lecture.ipynb",
   "provenance": [],
   "version": "0.3.2"
  },
  "kernelspec": {
   "display_name": "Python 3",
   "language": "python",
   "name": "python3"
  },
  "language_info": {
   "codemirror_mode": {
    "name": "ipython",
    "version": 3
   },
   "file_extension": ".py",
   "mimetype": "text/x-python",
   "name": "python",
   "nbconvert_exporter": "python",
   "pygments_lexer": "ipython3",
   "version": "3.7.3"
  }
 },
 "nbformat": 4,
 "nbformat_minor": 2
}

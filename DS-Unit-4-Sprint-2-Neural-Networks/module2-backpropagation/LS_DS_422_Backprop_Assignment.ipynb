{
 "cells": [
  {
   "cell_type": "markdown",
   "metadata": {
    "colab_type": "text",
    "id": "NGGrt9EYlCqY"
   },
   "source": [
    "<img align=\"left\" src=\"https://lever-client-logos.s3.amazonaws.com/864372b1-534c-480e-acd5-9711f850815c-1524247202159.png\" width=200>\n",
    "<br></br>\n",
    "\n",
    "# Backpropagation Practice\n",
    "\n",
    "## *Data Science Unit 4 Sprint 2 Assignment 2*\n",
    "\n",
    "Implement a 3 input, 4 node hidden-layer, 1 output node Multilayer Perceptron on the following dataset:\n",
    "\n",
    "| x1 | x2 | x3 | y |\n",
    "|----|----|----|---|\n",
    "| 0  | 0  | 1  | 0 |\n",
    "| 0  | 1  | 1  | 1 |\n",
    "| 1  | 0  | 1  | 1 |\n",
    "| 0  | 1  | 0  | 1 |\n",
    "| 1  | 0  | 0  | 1 |\n",
    "| 1  | 1  | 1  | 0 |\n",
    "| 0  | 0  | 0  | 0 |\n",
    "\n",
    "If you look at the data you'll notice that the first two columns behave like an XOR gate while the last column is mostly just noise. Remember that creating an XOR gate was what the perceptron was criticized for not being able to learn. "
   ]
  },
  {
   "cell_type": "code",
   "execution_count": 1,
   "metadata": {},
   "outputs": [],
   "source": [
    "import numpy as np\n",
    "import pandas as pd\n",
    "from tensorflow.keras.datasets import mnist\n",
    "from tensorflow.keras.utils import to_categorical\n",
    "import random"
   ]
  },
  {
   "cell_type": "code",
   "execution_count": 2,
   "metadata": {
    "colab": {},
    "colab_type": "code",
    "id": "nEREYT-3wI1f"
   },
   "outputs": [],
   "source": [
    "# input\n",
    "X = np.array(([0, 0, 1],\n",
    "              [0, 1, 1],\n",
    "              [1, 0, 1],\n",
    "              [0, 1, 0],\n",
    "              [1, 0, 0],\n",
    "              [1, 1, 1],\n",
    "              [0, 0, 0]), dtype=float)\n",
    "\n",
    "# output\n",
    "y = np.array(([0],\n",
    "              [1],\n",
    "              [1],\n",
    "              [1],\n",
    "              [1],\n",
    "              [0],\n",
    "              [0]), dtype=float)"
   ]
  },
  {
   "cell_type": "code",
   "execution_count": 3,
   "metadata": {},
   "outputs": [],
   "source": [
    "# defines sigmoid and derivative function\n",
    "def sigmoid(s):\n",
    "    return 1 / (1+np.exp(-s))\n",
    "def sigmoidPrime(s):\n",
    "    return s * (1-s)\n",
    "\n",
    "# setts initial weights\n",
    "inputWeights = np.random.randn(3, 4)\n",
    "hiddenWeights = np.random.randn(4, 1)"
   ]
  },
  {
   "cell_type": "code",
   "execution_count": 4,
   "metadata": {},
   "outputs": [
    {
     "data": {
      "text/plain": [
       "array([[0., 0., 1.],\n",
       "       [0., 1., 1.],\n",
       "       [1., 0., 1.],\n",
       "       [0., 1., 0.],\n",
       "       [1., 0., 0.],\n",
       "       [1., 1., 1.],\n",
       "       [0., 0., 0.]])"
      ]
     },
     "execution_count": 4,
     "metadata": {},
     "output_type": "execute_result"
    }
   ],
   "source": [
    "# shows X to compare with the dot product in a later cell\n",
    "X"
   ]
  },
  {
   "cell_type": "code",
   "execution_count": 5,
   "metadata": {},
   "outputs": [
    {
     "data": {
      "text/plain": [
       "array([[-0.74263146, -0.24268876,  0.54229065,  0.5439284 ],\n",
       "       [-0.15148208, -0.01477208, -1.01325626, -0.27265018],\n",
       "       [ 0.04328582,  1.24773111,  0.45641554, -0.19573693]])"
      ]
     },
     "execution_count": 5,
     "metadata": {},
     "output_type": "execute_result"
    }
   ],
   "source": [
    "# initial weights for the inputs\n",
    "# 3x4 matrix for the 3 inputs to have an individual weight for each of the 4 hidden nodes\n",
    "inputWeights"
   ]
  },
  {
   "cell_type": "code",
   "execution_count": 6,
   "metadata": {},
   "outputs": [
    {
     "data": {
      "text/plain": [
       "array([[ 0.04328582,  1.24773111,  0.45641554, -0.19573693],\n",
       "       [-0.10819626,  1.23295902, -0.55684071, -0.46838711],\n",
       "       [-0.69934564,  1.00504234,  0.99870619,  0.34819147],\n",
       "       [-0.15148208, -0.01477208, -1.01325626, -0.27265018],\n",
       "       [-0.74263146, -0.24268876,  0.54229065,  0.5439284 ],\n",
       "       [-0.85082772,  0.99027026, -0.01455006,  0.07554129],\n",
       "       [ 0.        ,  0.        ,  0.        ,  0.        ]])"
      ]
     },
     "execution_count": 6,
     "metadata": {},
     "output_type": "execute_result"
    }
   ],
   "source": [
    "# a matrix of the weighted sums\n",
    "# each row represents one observation from the input\n",
    "# each column represents one of the 4 hidden nodes\n",
    "hiddenSum = np.dot(X, inputWeights)\n",
    "hiddenSum"
   ]
  },
  {
   "cell_type": "code",
   "execution_count": 7,
   "metadata": {},
   "outputs": [
    {
     "data": {
      "text/plain": [
       "array([[0.51081977, 0.77690686, 0.6121635 , 0.45122141],\n",
       "       [0.47297729, 0.77433605, 0.36427877, 0.38499806],\n",
       "       [0.33195732, 0.73204881, 0.73080412, 0.58617895],\n",
       "       [0.46220173, 0.49630705, 0.26634308, 0.4322566 ],\n",
       "       [0.32242898, 0.43962385, 0.63234512, 0.63272579],\n",
       "       [0.29925925, 0.7291413 , 0.49636255, 0.51887635],\n",
       "       [0.5       , 0.5       , 0.5       , 0.5       ]])"
      ]
     },
     "execution_count": 7,
     "metadata": {},
     "output_type": "execute_result"
    }
   ],
   "source": [
    "# applying the activation sigmoid function to the each of the sums in the hidden layer\n",
    "hiddenActv = sigmoid(hiddenSum)\n",
    "hiddenActv"
   ]
  },
  {
   "cell_type": "code",
   "execution_count": 8,
   "metadata": {},
   "outputs": [
    {
     "data": {
      "text/plain": [
       "array([[-0.38140672],\n",
       "       [ 0.69070355],\n",
       "       [ 1.77215819],\n",
       "       [-0.24780804]])"
      ]
     },
     "execution_count": 8,
     "metadata": {},
     "output_type": "execute_result"
    }
   ],
   "source": [
    "# initial hidden weights\n",
    "# 4x1 matrix for one for each each hidden weight going to the one output\n",
    "hiddenWeights"
   ]
  },
  {
   "cell_type": "code",
   "execution_count": 9,
   "metadata": {},
   "outputs": [
    {
     "data": {
      "text/plain": [
       "array([[1.3148165 ],\n",
       "       [0.90459394],\n",
       "       [1.52885862],\n",
       "       [0.5313996 ],\n",
       "       [1.14449422],\n",
       "       [1.14053222],\n",
       "       [0.91682349]])"
      ]
     },
     "execution_count": 9,
     "metadata": {},
     "output_type": "execute_result"
    }
   ],
   "source": [
    "# vector of weighted sums\n",
    "outputSum = np.dot(hiddenActv, hiddenWeights)\n",
    "outputSum"
   ]
  },
  {
   "cell_type": "code",
   "execution_count": 11,
   "metadata": {},
   "outputs": [
    {
     "data": {
      "text/plain": [
       "array([[0.78831801],\n",
       "       [0.71189264],\n",
       "       [0.82183925],\n",
       "       [0.62980949],\n",
       "       [0.75850383],\n",
       "       [0.75777734],\n",
       "       [0.71439443]])"
      ]
     },
     "execution_count": 11,
     "metadata": {},
     "output_type": "execute_result"
    }
   ],
   "source": [
    "# geting activation values by applying sigmoid to the output weighted sums\n",
    "outputActv = sigmoid(outputSum)\n",
    "outputActv"
   ]
  },
  {
   "cell_type": "code",
   "execution_count": 36,
   "metadata": {},
   "outputs": [
    {
     "data": {
      "text/plain": [
       "array([[0.],\n",
       "       [1.],\n",
       "       [1.],\n",
       "       [1.],\n",
       "       [1.],\n",
       "       [0.],\n",
       "       [0.]])"
      ]
     },
     "execution_count": 36,
     "metadata": {},
     "output_type": "execute_result"
    }
   ],
   "source": [
    "# showing y for future cell calculation\n",
    "y"
   ]
  },
  {
   "cell_type": "code",
   "execution_count": 12,
   "metadata": {},
   "outputs": [
    {
     "data": {
      "text/plain": [
       "array([[-0.78831801],\n",
       "       [ 0.28810736],\n",
       "       [ 0.17816075],\n",
       "       [ 0.37019051],\n",
       "       [ 0.24149617],\n",
       "       [-0.75777734],\n",
       "       [-0.71439443]])"
      ]
     },
     "execution_count": 12,
     "metadata": {},
     "output_type": "execute_result"
    }
   ],
   "source": [
    "# taking the difference between the actual result and activated output\n",
    "# is this the cost?\n",
    "outputError = y - outputActv \n",
    "outputError"
   ]
  },
  {
   "cell_type": "code",
   "execution_count": 13,
   "metadata": {},
   "outputs": [
    {
     "data": {
      "text/plain": [
       "array([[0.16687272],\n",
       "       [0.20510151],\n",
       "       [0.14641949],\n",
       "       [0.2331495 ],\n",
       "       [0.18317577],\n",
       "       [0.18355084],\n",
       "       [0.20403503]])"
      ]
     },
     "execution_count": 13,
     "metadata": {},
     "output_type": "execute_result"
    }
   ],
   "source": [
    "# shows derivative of activated output\n",
    "sigmoidPrime(outputActv) # is this the gradient?"
   ]
  },
  {
   "cell_type": "code",
   "execution_count": 14,
   "metadata": {},
   "outputs": [
    {
     "data": {
      "text/plain": [
       "array([[-0.13154877],\n",
       "       [ 0.05909125],\n",
       "       [ 0.02608621],\n",
       "       [ 0.08630973],\n",
       "       [ 0.04423625],\n",
       "       [-0.13909067],\n",
       "       [-0.14576149]])"
      ]
     },
     "execution_count": 14,
     "metadata": {},
     "output_type": "execute_result"
    }
   ],
   "source": [
    "# gets the derivative of the activated output multiplied by the error\n",
    "outputDelta = outputError * sigmoidPrime(outputActv) # is this where I need to put the learning rate?\n",
    "outputDelta"
   ]
  },
  {
   "cell_type": "code",
   "execution_count": 15,
   "metadata": {},
   "outputs": [
    {
     "data": {
      "text/plain": [
       "array([[-0.38140672,  0.69070355,  1.77215819, -0.24780804]])"
      ]
     },
     "execution_count": 15,
     "metadata": {},
     "output_type": "execute_result"
    }
   ],
   "source": [
    "# shows hidden weights transposed for next cell\n",
    "hiddenWeights.T"
   ]
  },
  {
   "cell_type": "code",
   "execution_count": 16,
   "metadata": {},
   "outputs": [
    {
     "data": {
      "text/plain": [
       "array([[ 0.05017359, -0.0908612 , -0.23312524,  0.03259884],\n",
       "       [-0.0225378 ,  0.04081454,  0.10471905, -0.01464329],\n",
       "       [-0.00994945,  0.01801784,  0.04622888, -0.00646437],\n",
       "       [-0.03291911,  0.05961444,  0.1529545 , -0.02138825],\n",
       "       [-0.016872  ,  0.03055413,  0.07839363, -0.0109621 ],\n",
       "       [ 0.05305012, -0.09607042, -0.24649067,  0.03446779],\n",
       "       [ 0.05559441, -0.10067798, -0.25831242,  0.03612087]])"
      ]
     },
     "execution_count": 16,
     "metadata": {},
     "output_type": "execute_result"
    }
   ],
   "source": [
    "# takes the dot product of the output delta and hidden weights\n",
    "# this gives the error for each of the first weighted sums\n",
    "HiddenError = outputDelta.dot(hiddenWeights.T)\n",
    "HiddenError"
   ]
  },
  {
   "cell_type": "code",
   "execution_count": 17,
   "metadata": {},
   "outputs": [
    {
     "data": {
      "text/plain": [
       "array([[0.24988293, 0.17332259, 0.23741935, 0.24762065],\n",
       "       [0.24926977, 0.17473973, 0.23157975, 0.23677455],\n",
       "       [0.22176166, 0.19615335, 0.19672946, 0.24257319],\n",
       "       [0.24857129, 0.24998636, 0.19540444, 0.24541083],\n",
       "       [0.21846853, 0.24635472, 0.23248477, 0.23238386],\n",
       "       [0.20970315, 0.19749426, 0.24998677, 0.24964368],\n",
       "       [0.25      , 0.25      , 0.25      , 0.25      ]])"
      ]
     },
     "execution_count": 17,
     "metadata": {},
     "output_type": "execute_result"
    }
   ],
   "source": [
    "# shows the derivative of the activated hidden sums\n",
    "sigmoidPrime(hiddenActv)"
   ]
  },
  {
   "cell_type": "code",
   "execution_count": 18,
   "metadata": {},
   "outputs": [
    {
     "data": {
      "text/plain": [
       "array([[ 0.01253752, -0.0157483 , -0.05534844,  0.00807215],\n",
       "       [-0.00561799,  0.00713192,  0.02425081, -0.00346716],\n",
       "       [-0.00220641,  0.00353426,  0.00909458, -0.00156808],\n",
       "       [-0.00818275,  0.0149028 ,  0.02988799, -0.00524891],\n",
       "       [-0.003686  ,  0.00752715,  0.01822532, -0.00254741],\n",
       "       [ 0.01112478, -0.01897336, -0.06161941,  0.00860467],\n",
       "       [ 0.0138986 , -0.02516949, -0.0645781 ,  0.00903022]])"
      ]
     },
     "execution_count": 18,
     "metadata": {},
     "output_type": "execute_result"
    }
   ],
   "source": [
    "# gets delta value for multiplying error from first weighted sums by derivative of \n",
    "# the activated values from the hidden sums\n",
    "HiddenDelta = HiddenError * sigmoidPrime(hiddenActv)\n",
    "HiddenDelta"
   ]
  },
  {
   "cell_type": "code",
   "execution_count": 19,
   "metadata": {},
   "outputs": [
    {
     "data": {
      "text/plain": [
       "array([[0.51081977, 0.47297729, 0.33195732, 0.46220173, 0.32242898,\n",
       "        0.29925925, 0.5       ],\n",
       "       [0.77690686, 0.77433605, 0.73204881, 0.49630705, 0.43962385,\n",
       "        0.7291413 , 0.5       ],\n",
       "       [0.6121635 , 0.36427877, 0.73080412, 0.26634308, 0.63234512,\n",
       "        0.49636255, 0.5       ],\n",
       "       [0.45122141, 0.38499806, 0.58617895, 0.4322566 , 0.63272579,\n",
       "        0.51887635, 0.5       ]])"
      ]
     },
     "execution_count": 19,
     "metadata": {},
     "output_type": "execute_result"
    }
   ],
   "source": [
    "# shows transpose of hiddenActv for use in next cell\n",
    "hiddenActv.T"
   ]
  },
  {
   "cell_type": "code",
   "execution_count": 21,
   "metadata": {},
   "outputs": [
    {
     "data": {
      "text/plain": [
       "array([[-0.09093874],\n",
       "       [-0.14936234],\n",
       "       [-0.13089933],\n",
       "       [-0.10107066]])"
      ]
     },
     "execution_count": 21,
     "metadata": {},
     "output_type": "execute_result"
    }
   ],
   "source": [
    "# shows adjustments to be added to the hidden weights\n",
    "hiddenActv.T.dot(outputDelta)"
   ]
  },
  {
   "cell_type": "code",
   "execution_count": 22,
   "metadata": {},
   "outputs": [
    {
     "data": {
      "text/plain": [
       "array([[-0.38140672],\n",
       "       [ 0.69070355],\n",
       "       [ 1.77215819],\n",
       "       [-0.24780804]])"
      ]
     },
     "execution_count": 22,
     "metadata": {},
     "output_type": "execute_result"
    }
   ],
   "source": [
    "# shows hidden weights\n",
    "hiddenWeights"
   ]
  },
  {
   "cell_type": "code",
   "execution_count": 23,
   "metadata": {},
   "outputs": [
    {
     "data": {
      "text/plain": [
       "array([[-0.47234546],\n",
       "       [ 0.54134121],\n",
       "       [ 1.64125886],\n",
       "       [-0.3488787 ]])"
      ]
     },
     "execution_count": 23,
     "metadata": {},
     "output_type": "execute_result"
    }
   ],
   "source": [
    "# value of new hidden weights\n",
    "hiddenWeightsNEW = hiddenWeights + hiddenActv.T.dot(outputDelta)\n",
    "hiddenWeightsNEW"
   ]
  },
  {
   "cell_type": "code",
   "execution_count": 24,
   "metadata": {},
   "outputs": [
    {
     "data": {
      "text/plain": [
       "array([[0., 0., 1., 0., 1., 1., 0.],\n",
       "       [0., 1., 0., 1., 0., 1., 0.],\n",
       "       [1., 1., 1., 0., 0., 1., 0.]])"
      ]
     },
     "execution_count": 24,
     "metadata": {},
     "output_type": "execute_result"
    }
   ],
   "source": [
    "# shows transpose of X\n",
    "X.T"
   ]
  },
  {
   "cell_type": "code",
   "execution_count": 25,
   "metadata": {},
   "outputs": [
    {
     "data": {
      "text/plain": [
       "array([[ 0.01253752, -0.0157483 , -0.05534844,  0.00807215],\n",
       "       [-0.00561799,  0.00713192,  0.02425081, -0.00346716],\n",
       "       [-0.00220641,  0.00353426,  0.00909458, -0.00156808],\n",
       "       [-0.00818275,  0.0149028 ,  0.02988799, -0.00524891],\n",
       "       [-0.003686  ,  0.00752715,  0.01822532, -0.00254741],\n",
       "       [ 0.01112478, -0.01897336, -0.06161941,  0.00860467],\n",
       "       [ 0.0138986 , -0.02516949, -0.0645781 ,  0.00903022]])"
      ]
     },
     "execution_count": 25,
     "metadata": {},
     "output_type": "execute_result"
    }
   ],
   "source": [
    "# shows z2 delta\n",
    "HiddenDelta"
   ]
  },
  {
   "cell_type": "code",
   "execution_count": 26,
   "metadata": {},
   "outputs": [
    {
     "data": {
      "text/plain": [
       "array([[ 0.00523237, -0.00791194, -0.0342995 ,  0.00448917],\n",
       "       [-0.00267596,  0.00306136, -0.00748061, -0.0001114 ],\n",
       "       [ 0.0158379 , -0.02405548, -0.08362245,  0.01164157]])"
      ]
     },
     "execution_count": 26,
     "metadata": {},
     "output_type": "execute_result"
    }
   ],
   "source": [
    "# takes dot product of the transpose of X and delta of the hidden layer\n",
    "X.T.dot(HiddenDelta)"
   ]
  },
  {
   "cell_type": "code",
   "execution_count": 27,
   "metadata": {},
   "outputs": [
    {
     "data": {
      "text/plain": [
       "array([[-0.74263146, -0.24268876,  0.54229065,  0.5439284 ],\n",
       "       [-0.15148208, -0.01477208, -1.01325626, -0.27265018],\n",
       "       [ 0.04328582,  1.24773111,  0.45641554, -0.19573693]])"
      ]
     },
     "execution_count": 27,
     "metadata": {},
     "output_type": "execute_result"
    }
   ],
   "source": [
    "# shows input weights\n",
    "inputWeights"
   ]
  },
  {
   "cell_type": "code",
   "execution_count": 28,
   "metadata": {},
   "outputs": [
    {
     "data": {
      "text/plain": [
       "array([[-0.73739909, -0.25060071,  0.50799115,  0.54841756],\n",
       "       [-0.15415804, -0.01171072, -1.02073686, -0.27276158],\n",
       "       [ 0.05912372,  1.22367563,  0.37279309, -0.18409536]])"
      ]
     },
     "execution_count": 28,
     "metadata": {},
     "output_type": "execute_result"
    }
   ],
   "source": [
    "# value of new input weights\n",
    "inputWeightsNEW = X.T.dot(HiddenDelta) + inputWeights\n",
    "inputWeightsNEW"
   ]
  },
  {
   "cell_type": "code",
   "execution_count": 63,
   "metadata": {},
   "outputs": [],
   "source": [
    "# neural network class\n",
    "\n",
    "class NeuralNetwork:\n",
    "    \n",
    "    def __init__(self, inputs, hiddenNodes, outputNodes=1):\n",
    "        # Set up number of nodes with user input\n",
    "        self.inputs = inputs\n",
    "        self.hiddenNodes =  hiddenNodes\n",
    "        self.outputNodes = outputNodes\n",
    "        \n",
    "        # set initial weights to random values in numpy array of correct shape\n",
    "        self.inputWeights = np.random.randn(self.inputs, self.hiddenNodes)\n",
    "        self.hiddenWeights = np.random.randn(self.hiddenNodes, self.outputNodes)\n",
    "        \n",
    "    def sigmoid(self, s):\n",
    "        return 1 / (1+np.exp(-s))\n",
    "        \n",
    "    def sigmoidPrime(self, s):\n",
    "        return s * (1-s)\n",
    "    \n",
    "    def feed_forward(self, X):\n",
    "        '''\n",
    "        the feed forward steps from earlier\n",
    "        '''\n",
    "\n",
    "        self.hiddenSum = np.dot(X, self.inputWeights)\n",
    "\n",
    "        self.hiddenActv = self.sigmoid(self.hiddenSum)\n",
    "\n",
    "        self.outputSum = np.dot(self.hiddenActv, self.hiddenWeights)\n",
    "\n",
    "        self.outputActv = self.sigmoid(self.outputSum)\n",
    "        \n",
    "        return(self.outputActv) # used as output for backward\n",
    "    \n",
    "    def backward(self, X, y, output, learning_rate=.1):\n",
    "        '''\n",
    "        backprop steps from earlier\n",
    "        '''\n",
    "        \n",
    "        self.outputError = y - output\n",
    "\n",
    "        self.outputDelta = learning_rate * (self.outputError * self.sigmoidPrime(output)) \n",
    "        \n",
    "        self.hiddenError = self.outputDelta.dot(self.hiddenWeights.T)\n",
    "        \n",
    "        self.hiddenDelta = self.hiddenError * self.sigmoidPrime(self.hiddenActv)\n",
    "        \n",
    "        self.hiddenWeights += self.hiddenActv.T.dot(self.outputDelta)\n",
    "\n",
    "        self.inputWeights += X.T.dot(self.hiddenDelta)\n",
    "        \n",
    "    def train(self, X, y, epochs=100, learning_rate=.1):\n",
    "        '''\n",
    "        runs feedforward then updates weights with backprop\n",
    "        '''\n",
    "        \n",
    "        for _ in range(epochs):\n",
    "            output = self.feed_forward(X)\n",
    "            self.backward(X, y, output, learning_rate=learning_rate)\n",
    "        self.loss = np.mean(np.square(y - self.feed_forward(X)))\n",
    "        return(f'Loss after {epochs} epochs was {self.loss}')\n",
    "    \n",
    "    def predict(self, X):\n",
    "        '''\n",
    "        creates a prediction vector to compare with y vector\n",
    "        '''\n",
    "        \n",
    "        output = self.feed_forward(X)\n",
    "        predictions = []\n",
    "        for i in output:\n",
    "            if i[0] >= 0.5:\n",
    "                predictions.append([1])\n",
    "            else:\n",
    "                predictions.append([0])\n",
    "        self.predictions = np.array(predictions)\n",
    "        \n",
    "    def check(self, y):\n",
    "        '''\n",
    "        checks the fraction of correct predictions\n",
    "        '''\n",
    "        \n",
    "        correct_predictions = np.sum(self.predictions == y)\n",
    "        total_predictions = len(self.predictions)\n",
    "        accuracy = correct_predictions / total_predictions\n",
    "        return(f'The model had a {accuracy} accuracy score')"
   ]
  },
  {
   "cell_type": "code",
   "execution_count": 68,
   "metadata": {},
   "outputs": [
    {
     "data": {
      "text/plain": [
       "'Loss after 10000 epochs was 0.0001318357155550651'"
      ]
     },
     "execution_count": 68,
     "metadata": {},
     "output_type": "execute_result"
    }
   ],
   "source": [
    "# trains neural network with 3 inputs and 4 nodes in the hidden layer\n",
    "nn = NeuralNetwork(3,4)\n",
    "nn.train(X, y, epochs=10000, learning_rate=1)"
   ]
  },
  {
   "cell_type": "code",
   "execution_count": 69,
   "metadata": {},
   "outputs": [
    {
     "data": {
      "text/plain": [
       "'The model had a 1.0 accuracy score'"
      ]
     },
     "execution_count": 69,
     "metadata": {},
     "output_type": "execute_result"
    }
   ],
   "source": [
    "# makes prediction using X values and checks the fraction of values it predicted correctly\n",
    "nn.predict(X)\n",
    "nn.check(y)"
   ]
  },
  {
   "cell_type": "markdown",
   "metadata": {
    "colab_type": "text",
    "id": "8b-r70o8p2Dm"
   },
   "source": [
    "## Try building/training a more complex MLP on a bigger dataset.\n",
    "\n",
    "Use the [MNIST dataset](http://yann.lecun.com/exdb/mnist/) to build the cannonical handwriting digit recognizer and see what kind of accuracy you can achieve. \n",
    "\n",
    "If you need inspiration, the internet is chalk-full of tutorials, but I want you to see how far you can get on your own first. I've linked to the original MNIST dataset above but it will probably be easier to download data through a neural network library. If you reference outside resources make sure you understand every line of code that you're using from other sources, and share with your fellow students helpful resources that you find.\n",
    "\n",
    "\n",
    "### Parts\n",
    "1. Gathering & Transforming the Data\n",
    "2. Making MNIST a Binary Problem\n",
    "3. Estimating your Neural Network (the part you focus on)"
   ]
  },
  {
   "cell_type": "markdown",
   "metadata": {},
   "source": [
    "### Gathering the Data \n",
    "\n",
    "`keras` has a handy method to pull the mnist dataset for you. You'll notice that each observation is a 28x28 arrary which represents an image. Although most Neural Network frameworks can handle higher dimensional data, that is more overhead than necessary for us. We need to flatten the image to one long row which will be 784 values (28X28). Basically, you will be appending each row to one another to make on really long row. "
   ]
  },
  {
   "cell_type": "code",
   "execution_count": 32,
   "metadata": {},
   "outputs": [
    {
     "data": {
      "text/plain": [
       "(60000, 784)"
      ]
     },
     "execution_count": 32,
     "metadata": {},
     "output_type": "execute_result"
    }
   ],
   "source": [
    "# input image dimensions\n",
    "img_rows, img_cols = 28, 28\n",
    "\n",
    "# the data, split between train and test sets\n",
    "(x_train, y_train), (x_test, y_test) = mnist.load_data()\n",
    "\n",
    "x_train = x_train.reshape(x_train.shape[0], img_rows * img_cols)\n",
    "x_test = x_test.reshape(x_test.shape[0], img_rows * img_cols)\n",
    "\n",
    "# Normalize Our Data\n",
    "x_train = x_train / 255\n",
    "x_test = x_test / 255\n",
    "\n",
    "# Now the data should be in a format you're more familiar with\n",
    "x_train.shape"
   ]
  },
  {
   "cell_type": "markdown",
   "metadata": {},
   "source": [
    "### Making MNIST a Binary Problem \n",
    "MNIST is multiclass classification problem; however we haven't covered all the necessary techniques to handle this yet. You would need to one-hot encode the target, use a different loss metric, and use softmax activations for the last layer. This is all stuff we'll cover later this week, but let us simply the problem for now: Zero or all else."
   ]
  },
  {
   "cell_type": "code",
   "execution_count": 58,
   "metadata": {},
   "outputs": [],
   "source": [
    "# reduces features to 1 or 0 to indicate if a value is 0(1) or not 0(0)\n",
    "y_temp = np.zeros(y_train.shape)\n",
    "y_temp[np.where(y_train == 0.0)[0]] = 1\n",
    "y_train = y_temp\n",
    "\n",
    "y_temp = np.zeros(y_test.shape)\n",
    "y_temp[np.where(y_test == 0.0)[0]] = 1\n",
    "y_test = y_temp\n",
    "\n",
    "# resize to work with previous class\n",
    "y_train.resize(60000,1)\n",
    "y_test.resize(10000,1)"
   ]
  },
  {
   "cell_type": "markdown",
   "metadata": {},
   "source": [
    "### Estimating Your `net"
   ]
  },
  {
   "cell_type": "code",
   "execution_count": 62,
   "metadata": {
    "colab": {},
    "colab_type": "code",
    "id": "5MOPtYdk1HgA"
   },
   "outputs": [
    {
     "ename": "TypeError",
     "evalue": "train() got an unexpected keyword argument 'lr'",
     "output_type": "error",
     "traceback": [
      "\u001b[0;31m---------------------------------------------------------------------------\u001b[0m",
      "\u001b[0;31mTypeError\u001b[0m                                 Traceback (most recent call last)",
      "\u001b[0;32m<ipython-input-62-f7b55b68ef50>\u001b[0m in \u001b[0;36m<module>\u001b[0;34m\u001b[0m\n\u001b[1;32m      3\u001b[0m \u001b[0;34m\u001b[0m\u001b[0m\n\u001b[1;32m      4\u001b[0m \u001b[0;31m# trains with full train dataset\u001b[0m\u001b[0;34m\u001b[0m\u001b[0;34m\u001b[0m\u001b[0;34m\u001b[0m\u001b[0m\n\u001b[0;32m----> 5\u001b[0;31m \u001b[0mnn2\u001b[0m\u001b[0;34m.\u001b[0m\u001b[0mtrain\u001b[0m\u001b[0;34m(\u001b[0m\u001b[0mx_train\u001b[0m\u001b[0;34m,\u001b[0m \u001b[0my_train\u001b[0m\u001b[0;34m,\u001b[0m \u001b[0mepochs\u001b[0m\u001b[0;34m=\u001b[0m\u001b[0;36m1000\u001b[0m\u001b[0;34m,\u001b[0m \u001b[0mlr\u001b[0m\u001b[0;34m=\u001b[0m\u001b[0;36m.1\u001b[0m\u001b[0;34m)\u001b[0m\u001b[0;34m\u001b[0m\u001b[0;34m\u001b[0m\u001b[0m\n\u001b[0m",
      "\u001b[0;31mTypeError\u001b[0m: train() got an unexpected keyword argument 'lr'"
     ]
    }
   ],
   "source": [
    "# use previous neural network class updated for new number of inputs and using 3 hidden nodes\n",
    "nn2 = NeuralNetwork(784, 3)\n",
    "\n",
    "# trains with full train dataset\n",
    "nn2.train(x_train, y_train, epochs=1000)"
   ]
  },
  {
   "cell_type": "code",
   "execution_count": 60,
   "metadata": {},
   "outputs": [],
   "source": [
    "# predicts values and checks what fraction of values are correct\n",
    "nn2.predict(x_test)\n",
    "nn2.check(y_test)"
   ]
  },
  {
   "cell_type": "markdown",
   "metadata": {
    "colab_type": "text",
    "id": "FwlRJSfBlCvy"
   },
   "source": [
    "## Stretch Goals: \n",
    "\n",
    "- Make MNIST a multiclass problem using cross entropy & soft-max\n",
    "- Implement Cross Validation model evaluation on your MNIST implementation \n",
    "- Research different [Gradient Descent Based Optimizers](https://keras.io/optimizers/)\n",
    " - [Siraj Raval the evolution of gradient descent](https://www.youtube.com/watch?v=nhqo0u1a6fw)\n",
    "- Build a housing price estimation model using a neural network. How does its accuracy compare with the regression models that we fit earlier on in class?"
   ]
  }
 ],
 "metadata": {
  "colab": {
   "name": "LS_DS_432_Backprop_Assignment.ipynb",
   "provenance": [],
   "version": "0.3.2"
  },
  "kernelspec": {
   "display_name": "Python 3",
   "language": "python",
   "name": "python3"
  },
  "language_info": {
   "codemirror_mode": {
    "name": "ipython",
    "version": 3
   },
   "file_extension": ".py",
   "mimetype": "text/x-python",
   "name": "python",
   "nbconvert_exporter": "python",
   "pygments_lexer": "ipython3",
   "version": "3.7.3"
  }
 },
 "nbformat": 4,
 "nbformat_minor": 2
}

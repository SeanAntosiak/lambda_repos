{
 "cells": [
  {
   "cell_type": "code",
   "execution_count": 11,
   "metadata": {},
   "outputs": [],
   "source": [
    "import numpy as np\n",
    "import pandas as pd\n",
    "import matplotlib.pyplot as plt\n",
    "import seaborn as sns\n",
    "from sklearn.model_selection import train_test_split as tts\n",
    "from sklearn.linear_model import LogisticRegression as LogReg\n",
    "from sklearn.ensemble import RandomForestClassifier\n",
    "from sklearn.preprocessing import MinMaxScaler\n",
    "from sklearn.impute import SimpleImputer\n",
    "from sklearn.pipeline import make_pipeline\n",
    "import category_encoders as ce"
   ]
  },
  {
   "cell_type": "code",
   "execution_count": 12,
   "metadata": {},
   "outputs": [],
   "source": [
    "# imports the csv from my github as a dataframe\n",
    "\n",
    "df0 = pd.read_csv('https://raw.githubusercontent.com/SeanAntosiak/LS-DS6-Unit-2-Project/master/SDSSdataset.csv')"
   ]
  },
  {
   "cell_type": "code",
   "execution_count": 14,
   "metadata": {},
   "outputs": [
    {
     "data": {
      "text/html": [
       "<div>\n",
       "<style scoped>\n",
       "    .dataframe tbody tr th:only-of-type {\n",
       "        vertical-align: middle;\n",
       "    }\n",
       "\n",
       "    .dataframe tbody tr th {\n",
       "        vertical-align: top;\n",
       "    }\n",
       "\n",
       "    .dataframe thead th {\n",
       "        text-align: right;\n",
       "    }\n",
       "</style>\n",
       "<table border=\"1\" class=\"dataframe\">\n",
       "  <thead>\n",
       "    <tr style=\"text-align: right;\">\n",
       "      <th></th>\n",
       "      <th>objid</th>\n",
       "      <th>ra</th>\n",
       "      <th>dec</th>\n",
       "      <th>u</th>\n",
       "      <th>g</th>\n",
       "      <th>r</th>\n",
       "      <th>i</th>\n",
       "      <th>z</th>\n",
       "      <th>run</th>\n",
       "      <th>rerun</th>\n",
       "      <th>camcol</th>\n",
       "      <th>field</th>\n",
       "      <th>specobjid</th>\n",
       "      <th>class</th>\n",
       "      <th>redshift</th>\n",
       "      <th>plate</th>\n",
       "      <th>mjd</th>\n",
       "      <th>fiberid</th>\n",
       "    </tr>\n",
       "  </thead>\n",
       "  <tbody>\n",
       "    <tr>\n",
       "      <th>0</th>\n",
       "      <td>1237663228535374206</td>\n",
       "      <td>300.841762</td>\n",
       "      <td>76.511282</td>\n",
       "      <td>19.19619</td>\n",
       "      <td>17.83329</td>\n",
       "      <td>17.52225</td>\n",
       "      <td>17.40237</td>\n",
       "      <td>17.35182</td>\n",
       "      <td>4134</td>\n",
       "      <td>301</td>\n",
       "      <td>1</td>\n",
       "      <td>106</td>\n",
       "      <td>1869067566828251136</td>\n",
       "      <td>STAR</td>\n",
       "      <td>-0.000220</td>\n",
       "      <td>1660</td>\n",
       "      <td>53230</td>\n",
       "      <td>268</td>\n",
       "    </tr>\n",
       "    <tr>\n",
       "      <th>1</th>\n",
       "      <td>1237663228535374382</td>\n",
       "      <td>300.730508</td>\n",
       "      <td>76.551731</td>\n",
       "      <td>21.65541</td>\n",
       "      <td>19.13715</td>\n",
       "      <td>17.92577</td>\n",
       "      <td>17.44741</td>\n",
       "      <td>17.15818</td>\n",
       "      <td>4134</td>\n",
       "      <td>301</td>\n",
       "      <td>1</td>\n",
       "      <td>106</td>\n",
       "      <td>1869069216095692800</td>\n",
       "      <td>STAR</td>\n",
       "      <td>-0.000008</td>\n",
       "      <td>1660</td>\n",
       "      <td>53230</td>\n",
       "      <td>274</td>\n",
       "    </tr>\n",
       "    <tr>\n",
       "      <th>2</th>\n",
       "      <td>1237663228535374435</td>\n",
       "      <td>300.871382</td>\n",
       "      <td>76.530570</td>\n",
       "      <td>20.70867</td>\n",
       "      <td>19.20954</td>\n",
       "      <td>18.55966</td>\n",
       "      <td>18.24395</td>\n",
       "      <td>18.10117</td>\n",
       "      <td>4134</td>\n",
       "      <td>301</td>\n",
       "      <td>1</td>\n",
       "      <td>106</td>\n",
       "      <td>1869067291950344192</td>\n",
       "      <td>STAR</td>\n",
       "      <td>0.000096</td>\n",
       "      <td>1660</td>\n",
       "      <td>53230</td>\n",
       "      <td>267</td>\n",
       "    </tr>\n",
       "    <tr>\n",
       "      <th>3</th>\n",
       "      <td>1237663228535374802</td>\n",
       "      <td>300.317409</td>\n",
       "      <td>76.374746</td>\n",
       "      <td>22.88806</td>\n",
       "      <td>21.20900</td>\n",
       "      <td>19.90560</td>\n",
       "      <td>19.33555</td>\n",
       "      <td>19.08966</td>\n",
       "      <td>4134</td>\n",
       "      <td>301</td>\n",
       "      <td>1</td>\n",
       "      <td>106</td>\n",
       "      <td>1870200338850539520</td>\n",
       "      <td>STAR</td>\n",
       "      <td>-0.000247</td>\n",
       "      <td>1661</td>\n",
       "      <td>53240</td>\n",
       "      <td>293</td>\n",
       "    </tr>\n",
       "    <tr>\n",
       "      <th>4</th>\n",
       "      <td>1237663228535439577</td>\n",
       "      <td>301.252332</td>\n",
       "      <td>76.319520</td>\n",
       "      <td>17.82932</td>\n",
       "      <td>16.11081</td>\n",
       "      <td>15.39808</td>\n",
       "      <td>15.13612</td>\n",
       "      <td>15.00507</td>\n",
       "      <td>4134</td>\n",
       "      <td>301</td>\n",
       "      <td>1</td>\n",
       "      <td>107</td>\n",
       "      <td>1869072789508483072</td>\n",
       "      <td>STAR</td>\n",
       "      <td>-0.000131</td>\n",
       "      <td>1660</td>\n",
       "      <td>53230</td>\n",
       "      <td>287</td>\n",
       "    </tr>\n",
       "  </tbody>\n",
       "</table>\n",
       "</div>"
      ],
      "text/plain": [
       "                 objid          ra        dec         u         g         r  \\\n",
       "0  1237663228535374206  300.841762  76.511282  19.19619  17.83329  17.52225   \n",
       "1  1237663228535374382  300.730508  76.551731  21.65541  19.13715  17.92577   \n",
       "2  1237663228535374435  300.871382  76.530570  20.70867  19.20954  18.55966   \n",
       "3  1237663228535374802  300.317409  76.374746  22.88806  21.20900  19.90560   \n",
       "4  1237663228535439577  301.252332  76.319520  17.82932  16.11081  15.39808   \n",
       "\n",
       "          i         z   run  rerun  camcol  field            specobjid class  \\\n",
       "0  17.40237  17.35182  4134    301       1    106  1869067566828251136  STAR   \n",
       "1  17.44741  17.15818  4134    301       1    106  1869069216095692800  STAR   \n",
       "2  18.24395  18.10117  4134    301       1    106  1869067291950344192  STAR   \n",
       "3  19.33555  19.08966  4134    301       1    106  1870200338850539520  STAR   \n",
       "4  15.13612  15.00507  4134    301       1    107  1869072789508483072  STAR   \n",
       "\n",
       "   redshift  plate    mjd  fiberid  \n",
       "0 -0.000220   1660  53230      268  \n",
       "1 -0.000008   1660  53230      274  \n",
       "2  0.000096   1660  53230      267  \n",
       "3 -0.000247   1661  53240      293  \n",
       "4 -0.000131   1660  53230      287  "
      ]
     },
     "execution_count": 14,
     "metadata": {},
     "output_type": "execute_result"
    }
   ],
   "source": [
    "# looks at dataframe\n",
    "\n",
    "df0.head()"
   ]
  },
  {
   "cell_type": "code",
   "execution_count": 15,
   "metadata": {},
   "outputs": [
    {
     "data": {
      "text/plain": [
       "Index(['objid', 'ra', 'dec', 'u', 'g', 'r', 'i', 'z', 'run', 'rerun', 'camcol',\n",
       "       'field', 'specobjid', 'class', 'redshift', 'plate', 'mjd', 'fiberid'],\n",
       "      dtype='object')"
      ]
     },
     "execution_count": 15,
     "metadata": {},
     "output_type": "execute_result"
    }
   ],
   "source": [
    "# looks at columns\n",
    "\n",
    "df0.columns"
   ]
  },
  {
   "cell_type": "code",
   "execution_count": 18,
   "metadata": {},
   "outputs": [],
   "source": [
    "# redshift values for QSO are much higher but intensity is similar\n",
    "# I will create features that tries to account for this\n",
    "\n",
    "cols = ['u','g','r','i','z']\n",
    "\n",
    "df1 = df0.copy()\n",
    "\n",
    "for col in cols:\n",
    "    df1[f'{col}RS']=(df1[col]*(df1['redshift']));"
   ]
  },
  {
   "cell_type": "code",
   "execution_count": 19,
   "metadata": {},
   "outputs": [
    {
     "data": {
      "text/html": [
       "<div>\n",
       "<style scoped>\n",
       "    .dataframe tbody tr th:only-of-type {\n",
       "        vertical-align: middle;\n",
       "    }\n",
       "\n",
       "    .dataframe tbody tr th {\n",
       "        vertical-align: top;\n",
       "    }\n",
       "\n",
       "    .dataframe thead th {\n",
       "        text-align: right;\n",
       "    }\n",
       "</style>\n",
       "<table border=\"1\" class=\"dataframe\">\n",
       "  <thead>\n",
       "    <tr style=\"text-align: right;\">\n",
       "      <th></th>\n",
       "      <th>objid</th>\n",
       "      <th>ra</th>\n",
       "      <th>dec</th>\n",
       "      <th>u</th>\n",
       "      <th>g</th>\n",
       "      <th>r</th>\n",
       "      <th>i</th>\n",
       "      <th>z</th>\n",
       "      <th>run</th>\n",
       "      <th>rerun</th>\n",
       "      <th>...</th>\n",
       "      <th>class</th>\n",
       "      <th>redshift</th>\n",
       "      <th>plate</th>\n",
       "      <th>mjd</th>\n",
       "      <th>fiberid</th>\n",
       "      <th>uRS</th>\n",
       "      <th>gRS</th>\n",
       "      <th>rRS</th>\n",
       "      <th>iRS</th>\n",
       "      <th>zRS</th>\n",
       "    </tr>\n",
       "  </thead>\n",
       "  <tbody>\n",
       "    <tr>\n",
       "      <th>0</th>\n",
       "      <td>1237663228535374206</td>\n",
       "      <td>300.841762</td>\n",
       "      <td>76.511282</td>\n",
       "      <td>19.19619</td>\n",
       "      <td>17.83329</td>\n",
       "      <td>17.52225</td>\n",
       "      <td>17.40237</td>\n",
       "      <td>17.35182</td>\n",
       "      <td>4134</td>\n",
       "      <td>301</td>\n",
       "      <td>...</td>\n",
       "      <td>STAR</td>\n",
       "      <td>-0.000220</td>\n",
       "      <td>1660</td>\n",
       "      <td>53230</td>\n",
       "      <td>268</td>\n",
       "      <td>-0.004214</td>\n",
       "      <td>-0.003915</td>\n",
       "      <td>-0.003846</td>\n",
       "      <td>-0.003820</td>\n",
       "      <td>-0.003809</td>\n",
       "    </tr>\n",
       "    <tr>\n",
       "      <th>1</th>\n",
       "      <td>1237663228535374382</td>\n",
       "      <td>300.730508</td>\n",
       "      <td>76.551731</td>\n",
       "      <td>21.65541</td>\n",
       "      <td>19.13715</td>\n",
       "      <td>17.92577</td>\n",
       "      <td>17.44741</td>\n",
       "      <td>17.15818</td>\n",
       "      <td>4134</td>\n",
       "      <td>301</td>\n",
       "      <td>...</td>\n",
       "      <td>STAR</td>\n",
       "      <td>-0.000008</td>\n",
       "      <td>1660</td>\n",
       "      <td>53230</td>\n",
       "      <td>274</td>\n",
       "      <td>-0.000181</td>\n",
       "      <td>-0.000160</td>\n",
       "      <td>-0.000150</td>\n",
       "      <td>-0.000146</td>\n",
       "      <td>-0.000143</td>\n",
       "    </tr>\n",
       "    <tr>\n",
       "      <th>2</th>\n",
       "      <td>1237663228535374435</td>\n",
       "      <td>300.871382</td>\n",
       "      <td>76.530570</td>\n",
       "      <td>20.70867</td>\n",
       "      <td>19.20954</td>\n",
       "      <td>18.55966</td>\n",
       "      <td>18.24395</td>\n",
       "      <td>18.10117</td>\n",
       "      <td>4134</td>\n",
       "      <td>301</td>\n",
       "      <td>...</td>\n",
       "      <td>STAR</td>\n",
       "      <td>0.000096</td>\n",
       "      <td>1660</td>\n",
       "      <td>53230</td>\n",
       "      <td>267</td>\n",
       "      <td>0.001987</td>\n",
       "      <td>0.001843</td>\n",
       "      <td>0.001780</td>\n",
       "      <td>0.001750</td>\n",
       "      <td>0.001736</td>\n",
       "    </tr>\n",
       "    <tr>\n",
       "      <th>3</th>\n",
       "      <td>1237663228535374802</td>\n",
       "      <td>300.317409</td>\n",
       "      <td>76.374746</td>\n",
       "      <td>22.88806</td>\n",
       "      <td>21.20900</td>\n",
       "      <td>19.90560</td>\n",
       "      <td>19.33555</td>\n",
       "      <td>19.08966</td>\n",
       "      <td>4134</td>\n",
       "      <td>301</td>\n",
       "      <td>...</td>\n",
       "      <td>STAR</td>\n",
       "      <td>-0.000247</td>\n",
       "      <td>1661</td>\n",
       "      <td>53240</td>\n",
       "      <td>293</td>\n",
       "      <td>-0.005659</td>\n",
       "      <td>-0.005244</td>\n",
       "      <td>-0.004922</td>\n",
       "      <td>-0.004781</td>\n",
       "      <td>-0.004720</td>\n",
       "    </tr>\n",
       "    <tr>\n",
       "      <th>4</th>\n",
       "      <td>1237663228535439577</td>\n",
       "      <td>301.252332</td>\n",
       "      <td>76.319520</td>\n",
       "      <td>17.82932</td>\n",
       "      <td>16.11081</td>\n",
       "      <td>15.39808</td>\n",
       "      <td>15.13612</td>\n",
       "      <td>15.00507</td>\n",
       "      <td>4134</td>\n",
       "      <td>301</td>\n",
       "      <td>...</td>\n",
       "      <td>STAR</td>\n",
       "      <td>-0.000131</td>\n",
       "      <td>1660</td>\n",
       "      <td>53230</td>\n",
       "      <td>287</td>\n",
       "      <td>-0.002344</td>\n",
       "      <td>-0.002119</td>\n",
       "      <td>-0.002025</td>\n",
       "      <td>-0.001990</td>\n",
       "      <td>-0.001973</td>\n",
       "    </tr>\n",
       "  </tbody>\n",
       "</table>\n",
       "<p>5 rows × 23 columns</p>\n",
       "</div>"
      ],
      "text/plain": [
       "                 objid          ra        dec         u         g         r  \\\n",
       "0  1237663228535374206  300.841762  76.511282  19.19619  17.83329  17.52225   \n",
       "1  1237663228535374382  300.730508  76.551731  21.65541  19.13715  17.92577   \n",
       "2  1237663228535374435  300.871382  76.530570  20.70867  19.20954  18.55966   \n",
       "3  1237663228535374802  300.317409  76.374746  22.88806  21.20900  19.90560   \n",
       "4  1237663228535439577  301.252332  76.319520  17.82932  16.11081  15.39808   \n",
       "\n",
       "          i         z   run  rerun  ...  class  redshift  plate    mjd  \\\n",
       "0  17.40237  17.35182  4134    301  ...   STAR -0.000220   1660  53230   \n",
       "1  17.44741  17.15818  4134    301  ...   STAR -0.000008   1660  53230   \n",
       "2  18.24395  18.10117  4134    301  ...   STAR  0.000096   1660  53230   \n",
       "3  19.33555  19.08966  4134    301  ...   STAR -0.000247   1661  53240   \n",
       "4  15.13612  15.00507  4134    301  ...   STAR -0.000131   1660  53230   \n",
       "\n",
       "   fiberid       uRS       gRS       rRS       iRS       zRS  \n",
       "0      268 -0.004214 -0.003915 -0.003846 -0.003820 -0.003809  \n",
       "1      274 -0.000181 -0.000160 -0.000150 -0.000146 -0.000143  \n",
       "2      267  0.001987  0.001843  0.001780  0.001750  0.001736  \n",
       "3      293 -0.005659 -0.005244 -0.004922 -0.004781 -0.004720  \n",
       "4      287 -0.002344 -0.002119 -0.002025 -0.001990 -0.001973  \n",
       "\n",
       "[5 rows x 23 columns]"
      ]
     },
     "execution_count": 19,
     "metadata": {},
     "output_type": "execute_result"
    }
   ],
   "source": [
    "# checking to make sure features were added correctly\n",
    "\n",
    "df1.head()"
   ]
  },
  {
   "cell_type": "code",
   "execution_count": 20,
   "metadata": {},
   "outputs": [],
   "source": [
    "# sets initinal X features and y lables \n",
    "# using intensity(brightness) and redshift(distance) colums as features\n",
    "\n",
    "X0 = df1[['u', 'g', 'r', 'i', 'z','uRS', 'gRS', 'rRS', 'iRS', 'zRS', 'redshift']]\n",
    "\n",
    "y0 = df1['class']"
   ]
  },
  {
   "cell_type": "code",
   "execution_count": 21,
   "metadata": {},
   "outputs": [],
   "source": [
    "# creating a train test split, and then again for a train validation split\n",
    "\n",
    "X0train, X0test, y0train, y0test = tts(X0,y0, train_size=0.90, test_size=0.10, random_state=8)\n",
    "\n",
    "X1train, X1val, y1train, y0val = tts(X0train,y0train, train_size=0.90, test_size=0.10, random_state=8)"
   ]
  },
  {
   "cell_type": "code",
   "execution_count": 22,
   "metadata": {},
   "outputs": [
    {
     "data": {
      "text/plain": [
       "GALAXY    0.618553\n",
       "STAR      0.226011\n",
       "QSO       0.155436\n",
       "Name: class, dtype: float64"
      ]
     },
     "execution_count": 22,
     "metadata": {},
     "output_type": "execute_result"
    }
   ],
   "source": [
    "# finding a baseline for majority class\n",
    "\n",
    "y0.value_counts(normalize=True)\n",
    "\n",
    "# predicting galaxy every time would result in an accuracy of almost 50%"
   ]
  },
  {
   "cell_type": "code",
   "execution_count": 23,
   "metadata": {},
   "outputs": [
    {
     "name": "stderr",
     "output_type": "stream",
     "text": [
      "/opt/anaconda/anaconda3/lib/python3.7/site-packages/sklearn/linear_model/logistic.py:758: ConvergenceWarning: lbfgs failed to converge. Increase the number of iterations.\n",
      "  \"of iterations.\", ConvergenceWarning)\n"
     ]
    },
    {
     "data": {
      "text/plain": [
       "0.9764572838490799"
      ]
     },
     "execution_count": 23,
     "metadata": {},
     "output_type": "execute_result"
    }
   ],
   "source": [
    "# settings a logistic regression model and scores it on test set\n",
    "\n",
    "mod0 = LogReg(solver='lbfgs', multi_class='auto', max_iter=1000) # keywords set to silence warnings\n",
    "mod0.fit(X1train,y1train)\n",
    "mod0.score(X1val, y0val)"
   ]
  },
  {
   "cell_type": "code",
   "execution_count": null,
   "metadata": {},
   "outputs": [],
   "source": [
    "# tries a basic RandomForestClassifier and scores it\n",
    "\n",
    "mod1 = RandomForestClassifier(max_depth=20, n_estimators=1000, n_jobs=-1) # keywords set to silence warnings\n",
    "mod1.fit(X1train,y1train)\n",
    "mod1.score(X1val, y0val)"
   ]
  },
  {
   "cell_type": "code",
   "execution_count": 25,
   "metadata": {},
   "outputs": [
    {
     "data": {
      "text/plain": [
       "u           0.004696\n",
       "g           0.003015\n",
       "r           0.004510\n",
       "i           0.008484\n",
       "z           0.009167\n",
       "uRS         0.138317\n",
       "gRS         0.155127\n",
       "rRS         0.172246\n",
       "iRS         0.159121\n",
       "zRS         0.115394\n",
       "redshift    0.229923\n",
       "dtype: float64"
      ]
     },
     "execution_count": 25,
     "metadata": {},
     "output_type": "execute_result"
    }
   ],
   "source": [
    "# checks importance values\n",
    "\n",
    "importance = mod1.feature_importances_\n",
    "pd.Series(importance, X1val.columns)"
   ]
  },
  {
   "cell_type": "code",
   "execution_count": 40,
   "metadata": {},
   "outputs": [],
   "source": [
    "# creating dataframes that seperate out each class for graphing purposes\n",
    "Star = df1[df1['class']=='STAR']\n",
    "Galaxy = df1[df1['class']=='GALAXY']\n",
    "QSO = df1[df1['class']=='QSO']"
   ]
  },
  {
   "cell_type": "code",
   "execution_count": null,
   "metadata": {},
   "outputs": [],
   "source": [
    "# ploting ultraviolet intensity against redshift\n",
    "\n",
    "plt.style.use('dark_background')\n",
    "\n",
    "fig = plt.figure()\n",
    "ax = plt.axes()\n",
    "\n",
    "plt.xlabel('Redshift')\n",
    "plt.ylabel('U Band Intesnsity')\n",
    "\n",
    "ax.scatter(Star['redshift'], Star['u'],color='yellow', label='Star')\n",
    "ax.scatter(Galaxy['redshift'], Galaxy['u'],color='red', label='Galaxy')\n",
    "ax.scatter(QSO['redshift'], QSO['u'], color='blue', label='QSO')\n",
    "\n",
    "ax.legend()\n",
    "\n",
    "plt.show"
   ]
  },
  {
   "cell_type": "code",
   "execution_count": 52,
   "metadata": {},
   "outputs": [
    {
     "data": {
      "text/plain": [
       "<function matplotlib.pyplot.show(*args, **kw)>"
      ]
     },
     "execution_count": 52,
     "metadata": {},
     "output_type": "execute_result"
    },
    {
     "data": {
      "image/png": "[encoded data removed]",
      "text/plain": [
       "<Figure size 432x288 with 1 Axes>"
      ]
     },
     "metadata": {},
     "output_type": "display_data"
    }
   ],
   "source": [
    "# ploting just QSO and stars\n",
    "\n",
    "plt.style.use('dark_background')\n",
    "\n",
    "fig = plt.figure()\n",
    "ax = plt.axes()\n",
    "\n",
    "plt.xlabel('Redshift')\n",
    "plt.ylabel('U Band Intesnsity')\n",
    "\n",
    "ax.scatter(Star['redshift'], Star['u'],color='yellow', label='Star')\n",
    "ax.scatter(QSO['redshift'], QSO['u'], color='blue', label='QSO')\n",
    "\n",
    "ax.legend()\n",
    "\n",
    "plt.show"
   ]
  },
  {
   "cell_type": "code",
   "execution_count": null,
   "metadata": {},
   "outputs": [],
   "source": [
    "# ploting just stars and regular galaxies\n",
    "\n",
    "plt.style.use('dark_background')\n",
    "\n",
    "fig = plt.figure()\n",
    "ax = plt.axes()\n",
    "\n",
    "plt.xlabel('Redshift')\n",
    "plt.ylabel('U Band Intesnsity')\n",
    "\n",
    "ax.scatter(Star['redshift'], Star['u'],color='yellow', label='Star')\n",
    "ax.scatter(Galaxy['redshift'], Galaxy['u'],color='red', label='Galaxy')\n",
    "\n",
    "ax.legend()\n",
    "\n",
    "plt.show"
   ]
  },
  {
   "cell_type": "code",
   "execution_count": null,
   "metadata": {},
   "outputs": [],
   "source": []
  }
 ],
 "metadata": {
  "kernelspec": {
   "display_name": "Python 3",
   "language": "python",
   "name": "python3"
  },
  "language_info": {
   "codemirror_mode": {
    "name": "ipython",
    "version": 3
   },
   "file_extension": ".py",
   "mimetype": "text/x-python",
   "name": "python",
   "nbconvert_exporter": "python",
   "pygments_lexer": "ipython3",
   "version": "3.7.3"
  }
 },
 "nbformat": 4,
 "nbformat_minor": 2
}

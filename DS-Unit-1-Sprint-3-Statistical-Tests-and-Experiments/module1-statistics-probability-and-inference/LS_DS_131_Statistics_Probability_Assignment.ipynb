{
  "nbformat": 4,
  "nbformat_minor": 0,
  "metadata": {
    "kernelspec": {
      "display_name": "Python 3",
      "language": "python",
      "name": "python3"
    },
    "language_info": {
      "codemirror_mode": {
        "name": "ipython",
        "version": 3
      },
      "file_extension": ".py",
      "mimetype": "text/x-python",
      "name": "python",
      "nbconvert_exporter": "python",
      "pygments_lexer": "ipython3",
      "version": "3.7.3"
    },
    "colab": {
      "name": "LS_DS_131_Statistics_Probability_Assignment.ipynb",
      "version": "0.3.2",
      "provenance": [],
      "include_colab_link": true
    }
  },
  "cells": [
    {
      "cell_type": "markdown",
      "metadata": {
        "id": "view-in-github",
        "colab_type": "text"
      },
      "source": [
        "<a href=\"https://colab.research.google.com/github/SeanAntosiak/DS-Unit-1-Sprint-3-Statistical-Tests-and-Experiments/blob/master/module1-statistics-probability-and-inference/LS_DS_131_Statistics_Probability_Assignment.ipynb\" target=\"_parent\"><img src=\"https://colab.research.google.com/assets/colab-badge.svg\" alt=\"Open In Colab\"/></a>"
      ]
    },
    {
      "cell_type": "markdown",
      "metadata": {
        "id": "iHxMHLIG3nEd",
        "colab_type": "text"
      },
      "source": [
        "<img align=\"left\" src=\"https://lever-client-logos.s3.amazonaws.com/864372b1-534c-480e-acd5-9711f850815c-1524247202159.png\" width=200>\n",
        "<br></br>\n",
        "<br></br>\n",
        "\n",
        "## *Data Science Unit 1 Sprint 3 Assignment 1*\n",
        "\n",
        "# Apply the t-test to real data\n",
        "\n",
        "Your assignment is to determine which issues have \"statistically significant\" differences between political parties in this [1980s congressional voting data](https://archive.ics.uci.edu/ml/datasets/Congressional+Voting+Records). The data consists of 435 instances (one for each congressperson), a class (democrat or republican), and 16 binary attributes (yes or no for voting for or against certain issues). Be aware - there are missing values!\n",
        "\n",
        "Your goals:\n",
        "\n",
        "1. Load and clean the data (or determine the best method to drop observations when running tests)\n",
        "2. Using hypothesis testing, find an issue that democrats support more than republicans with p < 0.01\n",
        "3. Using hypothesis testing, find an issue that republicans support more than democrats with p < 0.01\n",
        "4. Using hypothesis testing, find an issue where the difference between republicans and democrats has p > 0.1 (i.e. there may not be much of a difference)\n",
        "\n",
        "Note that this data will involve *2 sample* t-tests, because you're comparing averages across two groups (republicans and democrats) rather than a single group against a null hypothesis.\n",
        "\n",
        "Stretch goals:\n",
        "\n",
        "1. Refactor your code into functions so it's easy to rerun with arbitrary variables\n",
        "2. Apply hypothesis testing to your personal project data (for the purposes of this notebook you can type a summary of the hypothesis you formed and tested)"
      ]
    },
    {
      "cell_type": "code",
      "metadata": {
        "id": "xAdmgOdK3nEh",
        "colab_type": "code",
        "colab": {}
      },
      "source": [
        "import pandas as pd\n",
        "import numpy as np\n",
        "from scipy.stats import ttest_1samp as ttest1\n",
        "from scipy.stats import ttest_ind as ttest"
      ],
      "execution_count": 0,
      "outputs": []
    },
    {
      "cell_type": "code",
      "metadata": {
        "id": "bScTF4lUCdvf",
        "colab_type": "code",
        "colab": {
          "base_uri": "https://localhost:8080/",
          "height": 226
        },
        "outputId": "fc56d5f9-4f12-43ff-9d1d-78db5d7a726d"
      },
      "source": [
        "first = pd.read_csv('https://archive.ics.uci.edu/ml/machine-learning-databases/voting-records/house-votes-84.data', header=None)\n",
        "first.columns=['party', 'infants', 'water', 'budget', 'feefreeze', 'aidSal', 'religious', 'satban', 'aidNic', 'missile', 'immigration', 'synfuels', 'edu', 'superfund', 'crime', 'exports', 'africa' ]\n",
        "first.head()"
      ],
      "execution_count": 6,
      "outputs": [
        {
          "output_type": "execute_result",
          "data": {
            "text/html": [
              "<div>\n",
              "<style scoped>\n",
              "    .dataframe tbody tr th:only-of-type {\n",
              "        vertical-align: middle;\n",
              "    }\n",
              "\n",
              "    .dataframe tbody tr th {\n",
              "        vertical-align: top;\n",
              "    }\n",
              "\n",
              "    .dataframe thead th {\n",
              "        text-align: right;\n",
              "    }\n",
              "</style>\n",
              "<table border=\"1\" class=\"dataframe\">\n",
              "  <thead>\n",
              "    <tr style=\"text-align: right;\">\n",
              "      <th></th>\n",
              "      <th>party</th>\n",
              "      <th>infants</th>\n",
              "      <th>water</th>\n",
              "      <th>budget</th>\n",
              "      <th>feefreeze</th>\n",
              "      <th>aidSal</th>\n",
              "      <th>religious</th>\n",
              "      <th>satban</th>\n",
              "      <th>aidNic</th>\n",
              "      <th>missile</th>\n",
              "      <th>immigration</th>\n",
              "      <th>synfuels</th>\n",
              "      <th>edu</th>\n",
              "      <th>superfund</th>\n",
              "      <th>crime</th>\n",
              "      <th>exports</th>\n",
              "      <th>africa</th>\n",
              "    </tr>\n",
              "  </thead>\n",
              "  <tbody>\n",
              "    <tr>\n",
              "      <th>0</th>\n",
              "      <td>republican</td>\n",
              "      <td>n</td>\n",
              "      <td>y</td>\n",
              "      <td>n</td>\n",
              "      <td>y</td>\n",
              "      <td>y</td>\n",
              "      <td>y</td>\n",
              "      <td>n</td>\n",
              "      <td>n</td>\n",
              "      <td>n</td>\n",
              "      <td>y</td>\n",
              "      <td>?</td>\n",
              "      <td>y</td>\n",
              "      <td>y</td>\n",
              "      <td>y</td>\n",
              "      <td>n</td>\n",
              "      <td>y</td>\n",
              "    </tr>\n",
              "    <tr>\n",
              "      <th>1</th>\n",
              "      <td>republican</td>\n",
              "      <td>n</td>\n",
              "      <td>y</td>\n",
              "      <td>n</td>\n",
              "      <td>y</td>\n",
              "      <td>y</td>\n",
              "      <td>y</td>\n",
              "      <td>n</td>\n",
              "      <td>n</td>\n",
              "      <td>n</td>\n",
              "      <td>n</td>\n",
              "      <td>n</td>\n",
              "      <td>y</td>\n",
              "      <td>y</td>\n",
              "      <td>y</td>\n",
              "      <td>n</td>\n",
              "      <td>?</td>\n",
              "    </tr>\n",
              "    <tr>\n",
              "      <th>2</th>\n",
              "      <td>democrat</td>\n",
              "      <td>?</td>\n",
              "      <td>y</td>\n",
              "      <td>y</td>\n",
              "      <td>?</td>\n",
              "      <td>y</td>\n",
              "      <td>y</td>\n",
              "      <td>n</td>\n",
              "      <td>n</td>\n",
              "      <td>n</td>\n",
              "      <td>n</td>\n",
              "      <td>y</td>\n",
              "      <td>n</td>\n",
              "      <td>y</td>\n",
              "      <td>y</td>\n",
              "      <td>n</td>\n",
              "      <td>n</td>\n",
              "    </tr>\n",
              "    <tr>\n",
              "      <th>3</th>\n",
              "      <td>democrat</td>\n",
              "      <td>n</td>\n",
              "      <td>y</td>\n",
              "      <td>y</td>\n",
              "      <td>n</td>\n",
              "      <td>?</td>\n",
              "      <td>y</td>\n",
              "      <td>n</td>\n",
              "      <td>n</td>\n",
              "      <td>n</td>\n",
              "      <td>n</td>\n",
              "      <td>y</td>\n",
              "      <td>n</td>\n",
              "      <td>y</td>\n",
              "      <td>n</td>\n",
              "      <td>n</td>\n",
              "      <td>y</td>\n",
              "    </tr>\n",
              "    <tr>\n",
              "      <th>4</th>\n",
              "      <td>democrat</td>\n",
              "      <td>y</td>\n",
              "      <td>y</td>\n",
              "      <td>y</td>\n",
              "      <td>n</td>\n",
              "      <td>y</td>\n",
              "      <td>y</td>\n",
              "      <td>n</td>\n",
              "      <td>n</td>\n",
              "      <td>n</td>\n",
              "      <td>n</td>\n",
              "      <td>y</td>\n",
              "      <td>?</td>\n",
              "      <td>y</td>\n",
              "      <td>y</td>\n",
              "      <td>y</td>\n",
              "      <td>y</td>\n",
              "    </tr>\n",
              "  </tbody>\n",
              "</table>\n",
              "</div>"
            ],
            "text/plain": [
              "        party infants water budget feefreeze  ... edu superfund crime exports africa\n",
              "0  republican       n     y      n         y  ...   y         y     y       n      y\n",
              "1  republican       n     y      n         y  ...   y         y     y       n      ?\n",
              "2    democrat       ?     y      y         ?  ...   n         y     y       n      n\n",
              "3    democrat       n     y      y         n  ...   n         y     n       n      y\n",
              "4    democrat       y     y      y         n  ...   ?         y     y       y      y\n",
              "\n",
              "[5 rows x 17 columns]"
            ]
          },
          "metadata": {
            "tags": []
          },
          "execution_count": 6
        }
      ]
    },
    {
      "cell_type": "code",
      "metadata": {
        "id": "j7CMDZpxFtXl",
        "colab_type": "code",
        "colab": {}
      },
      "source": [
        "def toNum(val):\n",
        "  if val == 'n': return(0);\n",
        "  elif val== 'y': return(1);\n",
        "  elif val=='?': return(np.nan)\n",
        "  else: return(val);"
      ],
      "execution_count": 0,
      "outputs": []
    },
    {
      "cell_type": "code",
      "metadata": {
        "id": "PCWd88BXJy9l",
        "colab_type": "code",
        "colab": {
          "base_uri": "https://localhost:8080/",
          "height": 260
        },
        "outputId": "bba1a7fc-05c8-43dd-dae9-3e736d2ec4f4"
      },
      "source": [
        "vote1 = pd.DataFrame()\n",
        "vote1['party'] = first['party']\n",
        "vote1['infants'] = first['infants']\n",
        "vote1['infants'] = vote1['infants'].apply(toNum)\n",
        "vote1.dropna(inplace=True)\n",
        "print(vote1.head())\n",
        "\n",
        "vote1dem=vote1[vote1['party']=='democrat']\n",
        "vote1rep=vote1[vote1['party']=='republican']\n",
        "\n",
        "print('')\n",
        "\n",
        "print('dem support')\n",
        "print(vote1dem['infants'].mean())\n",
        "\n",
        "print('')\n",
        "\n",
        "print('rep support')\n",
        "print(vote1rep['infants'].mean())\n",
        "\n",
        "print('')\n",
        "\n",
        "ttest(vote1dem['infants'], vote1rep['infants'])"
      ],
      "execution_count": 67,
      "outputs": [
        {
          "output_type": "stream",
          "text": [
            "        party  infants\n",
            "0  republican      0.0\n",
            "1  republican      0.0\n",
            "3    democrat      0.0\n",
            "4    democrat      1.0\n",
            "5    democrat      0.0\n",
            "\n",
            "dem votes\n",
            "0.6046511627906976\n",
            "\n",
            "rep votes\n",
            "0.18787878787878787\n",
            "\n"
          ],
          "name": "stdout"
        },
        {
          "output_type": "execute_result",
          "data": {
            "text/plain": [
              "Ttest_indResult(statistic=9.205264294809222, pvalue=1.613440327936998e-18)"
            ]
          },
          "metadata": {
            "tags": []
          },
          "execution_count": 67
        }
      ]
    },
    {
      "cell_type": "markdown",
      "metadata": {
        "id": "hD_ChZz3Zh_Y",
        "colab_type": "text"
      },
      "source": [
        "On \"the handicapped-infants\" Bill the pvalue is much less than .01, and the dem support is much greater than the republican support."
      ]
    },
    {
      "cell_type": "code",
      "metadata": {
        "id": "FJQvYTH8T67D",
        "colab_type": "code",
        "colab": {
          "base_uri": "https://localhost:8080/",
          "height": 278
        },
        "outputId": "a0d48152-8ca9-457c-e369-7c7469cf6096"
      },
      "source": [
        "vote2 = pd.DataFrame()\n",
        "vote2['party'] = first['party']\n",
        "vote2['water'] = first['water']\n",
        "vote2['water'] = vote2['water'].apply(toNum)\n",
        "vote2.dropna(inplace=True)\n",
        "print(vote2.head())\n",
        "\n",
        "print('')\n",
        "\n",
        "vote2dem=vote2[vote2['party']=='democrat']\n",
        "vote2rep=vote2[vote2['party']=='republican']\n",
        "\n",
        "print('')\n",
        "\n",
        "print('dem support')\n",
        "print(vote2dem['water'].mean())\n",
        "\n",
        "print('')\n",
        "\n",
        "print('rep support')\n",
        "print(vote2rep['water'].mean())\n",
        "\n",
        "\n",
        "print('')\n",
        "\n",
        "ttest(vote2dem['water'], vote2rep['water'])"
      ],
      "execution_count": 68,
      "outputs": [
        {
          "output_type": "stream",
          "text": [
            "        party  water\n",
            "0  republican    1.0\n",
            "1  republican    1.0\n",
            "2    democrat    1.0\n",
            "3    democrat    1.0\n",
            "4    democrat    1.0\n",
            "\n",
            "\n",
            "dem support\n",
            "0.502092050209205\n",
            "\n",
            "rep support\n",
            "0.5067567567567568\n",
            "\n"
          ],
          "name": "stdout"
        },
        {
          "output_type": "execute_result",
          "data": {
            "text/plain": [
              "Ttest_indResult(statistic=-0.08896538137868286, pvalue=0.9291556823994811)"
            ]
          },
          "metadata": {
            "tags": []
          },
          "execution_count": 68
        }
      ]
    },
    {
      "cell_type": "markdown",
      "metadata": {
        "id": "9-FkrPBNZOL7",
        "colab_type": "text"
      },
      "source": [
        "On the \"water-project-cost-sharing\" Bill the p value is much larger than 0.1, there may not be much of a difference between dem and rep."
      ]
    },
    {
      "cell_type": "code",
      "metadata": {
        "id": "mAUMqV1XLAM_",
        "colab_type": "code",
        "colab": {
          "base_uri": "https://localhost:8080/",
          "height": 278
        },
        "outputId": "a50349b8-9244-46f4-edf2-6a8e7e2b62de"
      },
      "source": [
        "vote3 = pd.DataFrame()\n",
        "vote3['party'] = first['party']\n",
        "vote3['budget'] = first['budget']\n",
        "vote3['budget'] = vote3['budget'].apply(toNum)\n",
        "vote3.dropna(inplace=True)\n",
        "print(vote3.head())\n",
        "\n",
        "print('')\n",
        "\n",
        "\n",
        "vote3dem=vote3[vote3['party']=='democrat']\n",
        "vote3rep=vote3[vote3['party']=='republican']\n",
        "\n",
        "print('')\n",
        "\n",
        "print('dem support')\n",
        "print(vote3dem['budget'].mean())\n",
        "\n",
        "print('')\n",
        "\n",
        "print('rep support')\n",
        "print(vote3rep['budget'].mean())\n",
        "\n",
        "\n",
        "print('')\n",
        "\n",
        "ttest(vote3dem['budget'], vote3rep['budget'])"
      ],
      "execution_count": 69,
      "outputs": [
        {
          "output_type": "stream",
          "text": [
            "        party  budget\n",
            "0  republican     0.0\n",
            "1  republican     0.0\n",
            "2    democrat     1.0\n",
            "3    democrat     1.0\n",
            "4    democrat     1.0\n",
            "\n",
            "\n",
            "dem support\n",
            "0.8884615384615384\n",
            "\n",
            "rep support\n",
            "0.13414634146341464\n",
            "\n"
          ],
          "name": "stdout"
        },
        {
          "output_type": "execute_result",
          "data": {
            "text/plain": [
              "Ttest_indResult(statistic=23.21277691701378, pvalue=2.0703402795405602e-77)"
            ]
          },
          "metadata": {
            "tags": []
          },
          "execution_count": 69
        }
      ]
    },
    {
      "cell_type": "markdown",
      "metadata": {
        "id": "rigPSv_vZ5c_",
        "colab_type": "text"
      },
      "source": [
        "dem support is higher for the \"adoption-of-the-budget-resolution\" bill"
      ]
    },
    {
      "cell_type": "code",
      "metadata": {
        "id": "xoJYDqFIaE36",
        "colab_type": "code",
        "colab": {
          "base_uri": "https://localhost:8080/",
          "height": 278
        },
        "outputId": "913567fd-43c1-4275-91fd-558560714a09"
      },
      "source": [
        "vote4 = pd.DataFrame()\n",
        "vote4['party'] = first['party']\n",
        "vote4['religious'] = first['religious']\n",
        "vote4['religious'] = vote4['religious'].apply(toNum)\n",
        "vote4.dropna(inplace=True)\n",
        "print(vote4.head())\n",
        "\n",
        "print('')\n",
        "\n",
        "\n",
        "vote4dem=vote4[vote4['party']=='democrat']\n",
        "vote4rep=vote4[vote4['party']=='republican']\n",
        "\n",
        "print('')\n",
        "\n",
        "print('dem support')\n",
        "print(vote4dem['religious'].mean())\n",
        "\n",
        "print('')\n",
        "\n",
        "print('rep support')\n",
        "print(vote4rep['religious'].mean())\n",
        "\n",
        "\n",
        "print('')\n",
        "\n",
        "ttest(vote4dem['religious'], vote4rep['religious'])"
      ],
      "execution_count": 70,
      "outputs": [
        {
          "output_type": "stream",
          "text": [
            "        party  religious\n",
            "0  republican        1.0\n",
            "1  republican        1.0\n",
            "2    democrat        1.0\n",
            "3    democrat        1.0\n",
            "4    democrat        1.0\n",
            "\n",
            "\n",
            "dem support\n",
            "0.47674418604651164\n",
            "\n",
            "rep support\n",
            "0.8975903614457831\n",
            "\n"
          ],
          "name": "stdout"
        },
        {
          "output_type": "execute_result",
          "data": {
            "text/plain": [
              "Ttest_indResult(statistic=-9.737575825219457, pvalue=2.393672252059893e-20)"
            ]
          },
          "metadata": {
            "tags": []
          },
          "execution_count": 70
        }
      ]
    },
    {
      "cell_type": "markdown",
      "metadata": {
        "id": "tewpoxJEamSR",
        "colab_type": "text"
      },
      "source": [
        "On the \"religious-groups-in-schools\" bill,the pvalue was much less than .01, and rep support was higher than dem support. "
      ]
    }
  ]
}